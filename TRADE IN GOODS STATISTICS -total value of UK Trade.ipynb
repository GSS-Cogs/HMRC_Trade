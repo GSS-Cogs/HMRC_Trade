{
 "cells": [
  {
   "cell_type": "markdown",
   "metadata": {},
   "source": [
    "TRADE IN GOODS STATISTICS:Total value of UK Trade"
   ]
  },
  {
   "cell_type": "code",
   "execution_count": 1,
   "metadata": {},
   "outputs": [],
   "source": [
    "from databaker.framework import *\n",
    "import pandas as pd"
   ]
  },
  {
   "cell_type": "code",
   "execution_count": 2,
   "metadata": {},
   "outputs": [],
   "source": [
    "%run \"fetch_source.ipynb\""
   ]
  },
  {
   "cell_type": "code",
   "execution_count": 3,
   "metadata": {},
   "outputs": [
    {
     "name": "stdout",
     "output_type": "stream",
     "text": [
      "Loading in/idbr_ots_tables_2015.xls which has size 174080 bytes\n",
      "Table names: ['Notes and Contents', 'Industry Group', 'Age Group', 'Employee Size', 'Industry_Age', 'Industry_EmployeeSize', 'EmployeeSize_Age', 'Metadata']\n"
     ]
    }
   ],
   "source": [
    "tab = loadxlstabs(inputFile)"
   ]
  },
  {
   "cell_type": "code",
   "execution_count": 4,
   "metadata": {},
   "outputs": [],
   "source": [
    "tab = tab[4]"
   ]
  },
  {
   "cell_type": "code",
   "execution_count": 5,
   "metadata": {},
   "outputs": [
    {
     "data": {
      "text/html": [
       "<div id=\"injblock1001\">\n",
       "<style>\n",
       "table.ex, table.exkey { border: thin black solid }\n",
       "table.ex td, table.ex tr { border: none }\n",
       "table.ex td:hover { border: thin blue solid }\n",
       "table.ex td.excOBS:hover { border: thin red solid }\n",
       "table.ex td.selected { border: thick red solid }\n",
       "</style>\n",
       "\n",
       "\n",
       "\n",
       "<table class=\"ex\">\n",
       "<caption style=\"text-align:center; padding:0px; caption-side:bottom\">Industry_Age</caption>\n",
       "<tr><td style=\"font-weight:bold\" title=\"0 0\">TRADE IN GOODS STATISTICS MATCHED WITH REGISTERED BUSINESSES FROM THE INTER-DEPARTMENTAL BUSINESS REGISTER</td><td title=\"1 0\"></td><td title=\"2 0\"></td><td title=\"3 0\"></td><td title=\"4 0\"></td><td title=\"5 0\"></td><td title=\"6 0\"></td><td title=\"7 0\"></td><td title=\"8 0\"></td><td title=\"9 0\"></td><td title=\"10 0\"></td><td title=\"11 0\"></td><td title=\"12 0\"></td></tr>\n",
       "<tr><td title=\"0 1\"></td><td title=\"1 1\"></td><td title=\"2 1\"></td><td title=\"3 1\"></td><td title=\"4 1\"></td><td title=\"5 1\"></td><td title=\"6 1\"></td><td title=\"7 1\"></td><td title=\"8 1\"></td><td title=\"9 1\"></td><td title=\"10 1\"></td><td title=\"11 1\"></td><td title=\"12 1\"></td></tr>\n",
       "<tr><td style=\"font-weight:bold\" title=\"0 2\">Release Date 24/11/2016</td><td title=\"1 2\"></td><td title=\"2 2\"></td><td title=\"3 2\"></td><td title=\"4 2\"></td><td title=\"5 2\"></td><td title=\"6 2\"></td><td title=\"7 2\"></td><td title=\"8 2\"></td><td title=\"9 2\"></td><td title=\"10 2\"></td><td title=\"11 2\"></td><td title=\"12 2\"></td></tr>\n",
       "<tr><td title=\"0 3\"></td><td title=\"1 3\"></td><td title=\"2 3\"></td><td title=\"3 3\"></td><td title=\"4 3\"></td><td title=\"5 3\"></td><td title=\"6 3\"></td><td title=\"7 3\"></td><td title=\"8 3\"></td><td title=\"9 3\"></td><td title=\"10 3\"></td><td title=\"11 3\"></td><td title=\"12 3\"></td></tr>\n",
       "<tr><td style=\"font-weight:bold\" title=\"0 4\">Total value of UK Trade, Business count and Employee count, by Industry group and Age for Imports and Exports</td><td title=\"1 4\"></td><td title=\"2 4\"></td><td title=\"3 4\"></td><td title=\"4 4\"></td><td title=\"5 4\"></td><td title=\"6 4\"></td><td title=\"7 4\"></td><td title=\"8 4\"></td><td title=\"9 4\"></td><td title=\"10 4\"></td><td title=\"11 4\"></td><td title=\"12 4\"></td></tr>\n",
       "<tr><td title=\"0 5\"></td><td title=\"1 5\"></td><td title=\"2 5\"></td><td style=\"font-weight:bold\" title=\"3 5\">Exports</td><td style=\"font-weight:bold\" title=\"4 5\"></td><td style=\"font-weight:bold\" title=\"5 5\"></td><td title=\"6 5\"></td><td style=\"font-weight:bold\" title=\"7 5\">Imports</td><td style=\"font-weight:bold\" title=\"8 5\"></td><td style=\"font-weight:bold\" title=\"9 5\"></td><td title=\"10 5\"></td><td title=\"11 5\"></td><td title=\"12 5\"></td></tr>\n",
       "<tr><td title=\"0 6\"></td><td title=\"1 6\"></td><td title=\"2 6\"></td><td title=\"3 6\">2015.0</td><td title=\"4 6\"></td><td title=\"5 6\"></td><td title=\"6 6\"></td><td title=\"7 6\">2015.0</td><td title=\"8 6\"></td><td title=\"9 6\"></td><td title=\"10 6\"></td><td title=\"11 6\"></td><td title=\"12 6\"></td></tr>\n",
       "<tr><td style=\"font-weight:bold\" title=\"0 7\">Industry Group</td><td style=\"font-weight:bold\" title=\"1 7\">Age (years)</td><td style=\"font-weight:bold\" title=\"2 7\"></td><td title=\"3 7\">Value £ m</td><td title=\"4 7\">Business Count</td><td title=\"5 7\">Employee Count</td><td title=\"6 7\"></td><td title=\"7 7\">Value £ m</td><td title=\"8 7\">Business Count</td><td title=\"9 7\">Employee Count</td><td title=\"10 7\"></td><td title=\"11 7\"></td><td title=\"12 7\"></td></tr>\n",
       "<tr><td title=\"0 8\"></td><td title=\"1 8\"></td><td title=\"2 8\"></td><td title=\"3 8\"></td><td title=\"4 8\"></td><td title=\"5 8\"></td><td title=\"6 8\"></td><td title=\"7 8\"></td><td title=\"8 8\"></td><td title=\"9 8\"></td><td title=\"10 8\"></td><td title=\"11 8\"></td><td title=\"12 8\"></td></tr>\n",
       "<tr><td title=\"0 9\">Group 1 Agriculture and Food</td><td title=\"1 9\">0 to 1</td><td title=\"2 9\"></td><td title=\"3 9\">273.0</td><td title=\"4 9\">405.0</td><td title=\"5 9\">15729.0</td><td title=\"6 9\"></td><td title=\"7 9\">403.0</td><td title=\"8 9\">912.0</td><td title=\"9 9\">19523.0</td><td title=\"10 9\"></td><td title=\"11 9\"></td><td title=\"12 9\"></td></tr>\n",
       "<tr><td title=\"0 10\"></td><td title=\"1 10\">2 to 3</td><td title=\"2 10\"></td><td title=\"3 10\">315.0</td><td title=\"4 10\">518.0</td><td title=\"5 10\">22407.0</td><td title=\"6 10\"></td><td title=\"7 10\">871.0</td><td title=\"8 10\">870.0</td><td title=\"9 10\">22348.0</td><td title=\"10 10\"></td><td title=\"11 10\"></td><td title=\"12 10\"></td></tr>\n",
       "<tr><td title=\"0 11\"></td><td title=\"1 11\">4 to 5</td><td title=\"2 11\"></td><td title=\"3 11\">431.0</td><td title=\"4 11\">455.0</td><td title=\"5 11\">14568.0</td><td title=\"6 11\"></td><td title=\"7 11\">733.0</td><td title=\"8 11\">711.0</td><td title=\"9 11\">18509.0</td><td title=\"10 11\"></td><td title=\"11 11\"></td><td title=\"12 11\"></td></tr>\n",
       "<tr><td title=\"0 12\"></td><td title=\"1 12\">6 to 9 </td><td title=\"2 12\"></td><td title=\"3 12\">1071.0</td><td title=\"4 12\">802.0</td><td title=\"5 12\">36542.0</td><td title=\"6 12\"></td><td title=\"7 12\">1916.0</td><td title=\"8 12\">1164.0</td><td title=\"9 12\">55590.0</td><td title=\"10 12\"></td><td title=\"11 12\"></td><td title=\"12 12\"></td></tr>\n",
       "<tr><td title=\"0 13\"></td><td title=\"1 13\">10 to 20</td><td title=\"2 13\"></td><td title=\"3 13\">3626.0</td><td title=\"4 13\">1476.0</td><td title=\"5 13\">113803.0</td><td title=\"6 13\"></td><td title=\"7 13\">4369.0</td><td title=\"8 13\">2262.0</td><td title=\"9 13\">125097.0</td><td title=\"10 13\"></td><td title=\"11 13\"></td><td title=\"12 13\"></td></tr>\n",
       "<tr><td title=\"0 14\"></td><td title=\"1 14\">20 +</td><td title=\"2 14\"></td><td title=\"3 14\">9379.0</td><td title=\"4 14\">2979.0</td><td title=\"5 14\">280838.0</td><td title=\"6 14\"></td><td title=\"7 14\">9947.0</td><td title=\"8 14\">5145.0</td><td title=\"9 14\">316222.0</td><td title=\"10 14\"></td><td title=\"11 14\"></td><td title=\"12 14\"></td></tr>\n",
       "<tr><td title=\"0 15\"></td><td title=\"1 15\">Unknown</td><td title=\"2 15\"></td><td title=\"3 15\">83.0</td><td title=\"4 15\">212.0</td><td title=\"5 15\">779.0</td><td title=\"6 15\"></td><td title=\"7 15\">148.0</td><td title=\"8 15\">573.0</td><td title=\"9 15\">815.0</td><td title=\"10 15\"></td><td title=\"11 15\"></td><td title=\"12 15\"></td></tr>\n",
       "<tr><td title=\"0 16\"></td><td title=\"1 16\"></td><td title=\"2 16\"></td><td title=\"3 16\"></td><td title=\"4 16\"></td><td title=\"5 16\"></td><td title=\"6 16\"></td><td title=\"7 16\"></td><td title=\"8 16\"></td><td title=\"9 16\"></td><td title=\"10 16\"></td><td title=\"11 16\"></td><td title=\"12 16\"></td></tr>\n",
       "<tr><td title=\"0 17\">Group 2 Mining, Petroleum products and Waste</td><td title=\"1 17\">0 to 1</td><td title=\"2 17\"></td><td title=\"3 17\">S</td><td title=\"4 17\">S</td><td title=\"5 17\">S</td><td title=\"6 17\"></td><td title=\"7 17\">195.0</td><td title=\"8 17\">264.0</td><td title=\"9 17\">9251.0</td><td title=\"10 17\"></td><td title=\"11 17\"></td><td title=\"12 17\"></td></tr>\n",
       "<tr><td title=\"0 18\"></td><td title=\"1 18\">2 to 3</td><td title=\"2 18\"></td><td title=\"3 18\">478.0</td><td title=\"4 18\">186.0</td><td title=\"5 18\">5689.0</td><td title=\"6 18\"></td><td title=\"7 18\">299.0</td><td title=\"8 18\">275.0</td><td title=\"9 18\">6196.0</td><td title=\"10 18\"></td><td title=\"11 18\"></td><td title=\"12 18\"></td></tr>\n",
       "<tr><td title=\"0 19\"></td><td title=\"1 19\">4 to 5</td><td title=\"2 19\"></td><td title=\"3 19\">S</td><td title=\"4 19\">156.0</td><td title=\"5 19\">S</td><td title=\"6 19\"></td><td title=\"7 19\">954.0</td><td title=\"8 19\">188.0</td><td title=\"9 19\">42512.0</td><td title=\"10 19\"></td><td title=\"11 19\"></td><td title=\"12 19\"></td></tr>\n",
       "<tr><td title=\"0 20\"></td><td title=\"1 20\">6 to 9 </td><td title=\"2 20\"></td><td title=\"3 20\">1635.0</td><td title=\"4 20\">220.0</td><td title=\"5 20\">26206.0</td><td title=\"6 20\"></td><td title=\"7 20\">1091.0</td><td title=\"8 20\">250.0</td><td title=\"9 20\">47587.0</td><td title=\"10 20\"></td><td title=\"11 20\"></td><td title=\"12 20\"></td></tr>\n",
       "<tr><td title=\"0 21\"></td><td title=\"1 21\">10 to 20</td><td title=\"2 21\"></td><td title=\"3 21\">2579.0</td><td title=\"4 21\">363.0</td><td title=\"5 21\">76567.0</td><td title=\"6 21\"></td><td title=\"7 21\">2834.0</td><td title=\"8 21\">412.0</td><td title=\"9 21\">58101.0</td><td title=\"10 21\"></td><td title=\"11 21\"></td><td title=\"12 21\"></td></tr>\n",
       "<tr><td title=\"0 22\"></td><td title=\"1 22\">20 +</td><td title=\"2 22\"></td><td title=\"3 22\">S</td><td title=\"4 22\">583.0</td><td title=\"5 22\">180859.0</td><td title=\"6 22\"></td><td title=\"7 22\">16301.0</td><td title=\"8 22\">552.0</td><td title=\"9 22\">183871.0</td><td title=\"10 22\"></td><td title=\"11 22\"></td><td title=\"12 22\"></td></tr>\n",
       "<tr><td title=\"0 23\"></td><td title=\"1 23\">Unknown</td><td title=\"2 23\"></td><td title=\"3 23\">S</td><td title=\"4 23\">S</td><td title=\"5 23\">S</td><td title=\"6 23\"></td><td title=\"7 23\">1553.0</td><td title=\"8 23\">126.0</td><td title=\"9 23\">95.0</td><td title=\"10 23\"></td><td title=\"11 23\"></td><td title=\"12 23\"></td></tr>\n",
       "<tr><td title=\"0 24\"></td><td title=\"1 24\"></td><td title=\"2 24\"></td><td title=\"3 24\"></td><td title=\"4 24\"></td><td title=\"5 24\"></td><td title=\"6 24\"></td><td title=\"7 24\"></td><td title=\"8 24\"></td><td title=\"9 24\"></td><td title=\"10 24\"></td><td title=\"11 24\"></td><td title=\"12 24\"></td></tr>\n",
       "<tr><td title=\"0 25\">Group 3 Chemicals</td><td title=\"1 25\">0 to 1</td><td title=\"2 25\"></td><td title=\"3 25\">195.0</td><td title=\"4 25\">105.0</td><td title=\"5 25\">3718.0</td><td title=\"6 25\"></td><td title=\"7 25\">132.0</td><td title=\"8 25\">123.0</td><td title=\"9 25\">4270.0</td><td title=\"10 25\"></td><td title=\"11 25\"></td><td title=\"12 25\"></td></tr>\n",
       "<tr><td title=\"0 26\"></td><td title=\"1 26\">2 to 3</td><td title=\"2 26\"></td><td title=\"3 26\">581.0</td><td title=\"4 26\">107.0</td><td title=\"5 26\">3893.0</td><td title=\"6 26\"></td><td title=\"7 26\">369.0</td><td title=\"8 26\">117.0</td><td title=\"9 26\">4085.0</td><td title=\"10 26\"></td><td title=\"11 26\"></td><td title=\"12 26\"></td></tr>\n",
       "<tr><td title=\"0 27\"></td><td title=\"1 27\">4 to 5</td><td title=\"2 27\"></td><td title=\"3 27\">340.0</td><td title=\"4 27\">72.0</td><td title=\"5 27\">2034.0</td><td title=\"6 27\"></td><td title=\"7 27\">317.0</td><td title=\"8 27\">72.0</td><td title=\"9 27\">2377.0</td><td title=\"10 27\"></td><td title=\"11 27\"></td><td title=\"12 27\"></td></tr>\n",
       "<tr><td title=\"0 28\"></td><td title=\"1 28\">6 to 9 </td><td title=\"2 28\"></td><td title=\"3 28\">1001.0</td><td title=\"4 28\">169.0</td><td title=\"5 28\">10145.0</td><td title=\"6 28\"></td><td title=\"7 28\">566.0</td><td title=\"8 28\">161.0</td><td title=\"9 28\">10222.0</td><td title=\"10 28\"></td><td title=\"11 28\"></td><td title=\"12 28\"></td></tr>\n",
       "<tr><td title=\"0 29\"></td><td title=\"1 29\">10 to 20</td><td title=\"2 29\"></td><td title=\"3 29\">3193.0</td><td title=\"4 29\">339.0</td><td title=\"5 29\">22436.0</td><td title=\"6 29\"></td><td title=\"7 29\">2104.0</td><td title=\"8 29\">323.0</td><td title=\"9 29\">19229.0</td><td title=\"10 29\"></td><td title=\"11 29\"></td><td title=\"12 29\"></td></tr>\n",
       "<tr><td title=\"0 30\"></td><td title=\"1 30\">20 +</td><td title=\"2 30\"></td><td title=\"3 30\">8172.0</td><td title=\"4 30\">643.0</td><td title=\"5 30\">65082.0</td><td title=\"6 30\"></td><td title=\"7 30\">5918.0</td><td title=\"8 30\">605.0</td><td title=\"9 30\">67888.0</td><td title=\"10 30\"></td><td title=\"11 30\"></td><td title=\"12 30\"></td></tr>\n",
       "<tr><td title=\"0 31\"></td><td title=\"1 31\">Unknown</td><td title=\"2 31\"></td><td title=\"3 31\">81.0</td><td title=\"4 31\">56.0</td><td title=\"5 31\">304.0</td><td title=\"6 31\"></td><td title=\"7 31\">61.0</td><td title=\"8 31\">63.0</td><td title=\"9 31\">318.0</td><td title=\"10 31\"></td><td title=\"11 31\"></td><td title=\"12 31\"></td></tr>\n",
       "<tr><td title=\"0 32\"></td><td title=\"1 32\"></td><td title=\"2 32\"></td><td title=\"3 32\"></td><td title=\"4 32\"></td><td title=\"5 32\"></td><td title=\"6 32\"></td><td title=\"7 32\"></td><td title=\"8 32\"></td><td title=\"9 32\"></td><td title=\"10 32\"></td><td title=\"11 32\"></td><td title=\"12 32\"></td></tr>\n",
       "<tr><td title=\"0 33\">Group 4 Pharmaceuticals</td><td title=\"1 33\">0 to 1</td><td title=\"2 33\"></td><td title=\"3 33\">S</td><td title=\"4 33\">S</td><td title=\"5 33\">S</td><td title=\"6 33\"></td><td title=\"7 33\">116.0</td><td title=\"8 33\">39.0</td><td title=\"9 33\">1283.0</td><td title=\"10 33\"></td><td title=\"11 33\"></td><td title=\"12 33\"></td></tr>\n",
       "<tr><td title=\"0 34\"></td><td title=\"1 34\">2 to 3</td><td title=\"2 34\"></td><td title=\"3 34\">S</td><td title=\"4 34\">S</td><td title=\"5 34\">S</td><td title=\"6 34\"></td><td title=\"7 34\">S</td><td title=\"8 34\">S</td><td title=\"9 34\">S</td><td title=\"10 34\"></td><td title=\"11 34\"></td><td title=\"12 34\"></td></tr>\n",
       "<tr><td title=\"0 35\"></td><td title=\"1 35\">4 to 5</td><td title=\"2 35\"></td><td title=\"3 35\">S</td><td title=\"4 35\">S</td><td title=\"5 35\">S</td><td title=\"6 35\"></td><td title=\"7 35\">S</td><td title=\"8 35\">S</td><td title=\"9 35\">S</td><td title=\"10 35\"></td><td title=\"11 35\"></td><td title=\"12 35\"></td></tr>\n",
       "<tr><td title=\"0 36\"></td><td title=\"1 36\">6 to 9 </td><td title=\"2 36\"></td><td title=\"3 36\">S</td><td title=\"4 36\">S</td><td title=\"5 36\">S</td><td title=\"6 36\"></td><td title=\"7 36\">S</td><td title=\"8 36\">S</td><td title=\"9 36\">S</td><td title=\"10 36\"></td><td title=\"11 36\"></td><td title=\"12 36\"></td></tr>\n",
       "<tr><td title=\"0 37\"></td><td title=\"1 37\">10 to 20</td><td title=\"2 37\"></td><td title=\"3 37\">997.0</td><td title=\"4 37\">46.0</td><td title=\"5 37\">7883.0</td><td title=\"6 37\"></td><td title=\"7 37\">452.0</td><td title=\"8 37\">51.0</td><td title=\"9 37\">7995.0</td><td title=\"10 37\"></td><td title=\"11 37\"></td><td title=\"12 37\"></td></tr>\n",
       "<tr><td title=\"0 38\"></td><td title=\"1 38\">20 +</td><td title=\"2 38\"></td><td title=\"3 38\">6093.0</td><td title=\"4 38\">63.0</td><td title=\"5 38\">32227.0</td><td title=\"6 38\"></td><td title=\"7 38\">S</td><td title=\"8 38\">63.0</td><td title=\"9 38\">32263.0</td><td title=\"10 38\"></td><td title=\"11 38\"></td><td title=\"12 38\"></td></tr>\n",
       "<tr><td title=\"0 39\"></td><td title=\"1 39\">Unknown</td><td title=\"2 39\"></td><td title=\"3 39\">S</td><td title=\"4 39\">S</td><td title=\"5 39\">S</td><td title=\"6 39\"></td><td title=\"7 39\">S</td><td title=\"8 39\">S</td><td title=\"9 39\">S</td><td title=\"10 39\"></td><td title=\"11 39\"></td><td title=\"12 39\"></td></tr>\n",
       "<tr><td title=\"0 40\"></td><td title=\"1 40\"></td><td title=\"2 40\"></td><td title=\"3 40\"></td><td title=\"4 40\"></td><td title=\"5 40\"></td><td title=\"6 40\"></td><td title=\"7 40\"></td><td title=\"8 40\"></td><td title=\"9 40\"></td><td title=\"10 40\"></td><td title=\"11 40\"></td><td title=\"12 40\"></td></tr>\n",
       "<tr><td title=\"0 41\">Group 5 Electronic and Electrical equipment</td><td title=\"1 41\">0 to 1</td><td title=\"2 41\"></td><td title=\"3 41\">127.0</td><td title=\"4 41\">241.0</td><td title=\"5 41\">3324.0</td><td title=\"6 41\"></td><td title=\"7 41\">234.0</td><td title=\"8 41\">323.0</td><td title=\"9 41\">3687.0</td><td title=\"10 41\"></td><td title=\"11 41\"></td><td title=\"12 41\"></td></tr>\n",
       "<tr><td title=\"0 42\"></td><td title=\"1 42\">2 to 3</td><td title=\"2 42\"></td><td title=\"3 42\">396.0</td><td title=\"4 42\">281.0</td><td title=\"5 42\">5919.0</td><td title=\"6 42\"></td><td title=\"7 42\">S</td><td title=\"8 42\">318.0</td><td title=\"9 42\">10562.0</td><td title=\"10 42\"></td><td title=\"11 42\"></td><td title=\"12 42\"></td></tr>\n",
       "<tr><td title=\"0 43\"></td><td title=\"1 43\">4 to 5</td><td title=\"2 43\"></td><td title=\"3 43\">642.0</td><td title=\"4 43\">210.0</td><td title=\"5 43\">8708.0</td><td title=\"6 43\"></td><td title=\"7 43\">307.0</td><td title=\"8 43\">240.0</td><td title=\"9 43\">8934.0</td><td title=\"10 43\"></td><td title=\"11 43\"></td><td title=\"12 43\"></td></tr>\n",
       "<tr><td title=\"0 44\"></td><td title=\"1 44\">6 to 9 </td><td title=\"2 44\"></td><td title=\"3 44\">1182.0</td><td title=\"4 44\">418.0</td><td title=\"5 44\">14117.0</td><td title=\"6 44\"></td><td title=\"7 44\">506.0</td><td title=\"8 44\">428.0</td><td title=\"9 44\">13351.0</td><td title=\"10 44\"></td><td title=\"11 44\"></td><td title=\"12 44\"></td></tr>\n",
       "<tr><td title=\"0 45\"></td><td title=\"1 45\">10 to 20</td><td title=\"2 45\"></td><td title=\"3 45\">3787.0</td><td title=\"4 45\">1006.0</td><td title=\"5 45\">51502.0</td><td title=\"6 45\"></td><td title=\"7 45\">S</td><td title=\"8 45\">1047.0</td><td title=\"9 45\">52793.0</td><td title=\"10 45\"></td><td title=\"11 45\"></td><td title=\"12 45\"></td></tr>\n",
       "<tr><td title=\"0 46\"></td><td title=\"1 46\">20 +</td><td title=\"2 46\"></td><td title=\"3 46\">11503.0</td><td title=\"4 46\">1772.0</td><td title=\"5 46\">98627.0</td><td title=\"6 46\"></td><td title=\"7 46\">4483.0</td><td title=\"8 46\">1733.0</td><td title=\"9 46\">94395.0</td><td title=\"10 46\"></td><td title=\"11 46\"></td><td title=\"12 46\"></td></tr>\n",
       "<tr><td title=\"0 47\"></td><td title=\"1 47\">Unknown</td><td title=\"2 47\"></td><td title=\"3 47\">274.0</td><td title=\"4 47\">179.0</td><td title=\"5 47\">689.0</td><td title=\"6 47\"></td><td title=\"7 47\">111.0</td><td title=\"8 47\">200.0</td><td title=\"9 47\">684.0</td><td title=\"10 47\"></td><td title=\"11 47\"></td><td title=\"12 47\"></td></tr>\n",
       "<tr><td title=\"0 48\"></td><td title=\"1 48\"></td><td title=\"2 48\"></td><td title=\"3 48\"></td><td title=\"4 48\"></td><td title=\"5 48\"></td><td title=\"6 48\"></td><td title=\"7 48\"></td><td title=\"8 48\"></td><td title=\"9 48\"></td><td title=\"10 48\"></td><td title=\"11 48\"></td><td title=\"12 48\"></td></tr>\n",
       "<tr><td title=\"0 49\">Group 6 Machinery and equipment n.e.s</td><td title=\"1 49\">0 to 1</td><td title=\"2 49\"></td><td title=\"3 49\">776.0</td><td title=\"4 49\">151.0</td><td title=\"5 49\">3592.0</td><td title=\"6 49\"></td><td title=\"7 49\">S</td><td title=\"8 49\">194.0</td><td title=\"9 49\">3812.0</td><td title=\"10 49\"></td><td title=\"11 49\"></td><td title=\"12 49\"></td></tr>\n",
       "<tr><td title=\"0 50\"></td><td title=\"1 50\">2 to 3</td><td title=\"2 50\"></td><td title=\"3 50\">170.0</td><td title=\"4 50\">182.0</td><td title=\"5 50\">3578.0</td><td title=\"6 50\"></td><td title=\"7 50\">223.0</td><td title=\"8 50\">199.0</td><td title=\"9 50\">3678.0</td><td title=\"10 50\"></td><td title=\"11 50\"></td><td title=\"12 50\"></td></tr>\n",
       "<tr><td title=\"0 51\"></td><td title=\"1 51\">4 to 5</td><td title=\"2 51\"></td><td title=\"3 51\">246.0</td><td title=\"4 51\">165.0</td><td title=\"5 51\">3874.0</td><td title=\"6 51\"></td><td title=\"7 51\">82.0</td><td title=\"8 51\">166.0</td><td title=\"9 51\">3042.0</td><td title=\"10 51\"></td><td title=\"11 51\"></td><td title=\"12 51\"></td></tr>\n",
       "<tr><td title=\"0 52\"></td><td title=\"1 52\">6 to 9 </td><td title=\"2 52\"></td><td title=\"3 52\">1078.0</td><td title=\"4 52\">364.0</td><td title=\"5 52\">12622.0</td><td title=\"6 52\"></td><td title=\"7 52\">458.0</td><td title=\"8 52\">367.0</td><td title=\"9 52\">13133.0</td><td title=\"10 52\"></td><td title=\"11 52\"></td><td title=\"12 52\"></td></tr>\n",
       "<tr><td title=\"0 53\"></td><td title=\"1 53\">10 to 20</td><td title=\"2 53\"></td><td title=\"3 53\">5114.0</td><td title=\"4 53\">807.0</td><td title=\"5 53\">48915.0</td><td title=\"6 53\"></td><td title=\"7 53\">S</td><td title=\"8 53\">797.0</td><td title=\"9 53\">47641.0</td><td title=\"10 53\"></td><td title=\"11 53\"></td><td title=\"12 53\"></td></tr>\n",
       "<tr><td title=\"0 54\"></td><td title=\"1 54\">20 +</td><td title=\"2 54\"></td><td title=\"3 54\">8320.0</td><td title=\"4 54\">1621.0</td><td title=\"5 54\">89416.0</td><td title=\"6 54\"></td><td title=\"7 54\">3918.0</td><td title=\"8 54\">1500.0</td><td title=\"9 54\">91144.0</td><td title=\"10 54\"></td><td title=\"11 54\"></td><td title=\"12 54\"></td></tr>\n",
       "<tr><td title=\"0 55\"></td><td title=\"1 55\">Unknown</td><td title=\"2 55\"></td><td title=\"3 55\">232.0</td><td title=\"4 55\">101.0</td><td title=\"5 55\">296.0</td><td title=\"6 55\"></td><td title=\"7 55\">54.0</td><td title=\"8 55\">100.0</td><td title=\"9 55\">267.0</td><td title=\"10 55\"></td><td title=\"11 55\"></td><td title=\"12 55\"></td></tr>\n",
       "<tr><td title=\"0 56\"></td><td title=\"1 56\"></td><td title=\"2 56\"></td><td title=\"3 56\"></td><td title=\"4 56\"></td><td title=\"5 56\"></td><td title=\"6 56\"></td><td title=\"7 56\"></td><td title=\"8 56\"></td><td title=\"9 56\"></td><td title=\"10 56\"></td><td title=\"11 56\"></td><td title=\"12 56\"></td></tr>\n",
       "<tr><td title=\"0 57\">Group 7 Motor vehicles, transport equipment (excluding aerospace)</td><td title=\"1 57\">0 to 1</td><td title=\"2 57\"></td><td title=\"3 57\">S</td><td title=\"4 57\">78.0</td><td title=\"5 57\">1249.0</td><td title=\"6 57\"></td><td title=\"7 57\">S</td><td title=\"8 57\">S</td><td title=\"9 57\">S</td><td title=\"10 57\"></td><td title=\"11 57\"></td><td title=\"12 57\"></td></tr>\n",
       "<tr><td title=\"0 58\"></td><td title=\"1 58\">2 to 3</td><td title=\"2 58\"></td><td title=\"3 58\">81.0</td><td title=\"4 58\">102.0</td><td title=\"5 58\">3404.0</td><td title=\"6 58\"></td><td title=\"7 58\">202.0</td><td title=\"8 58\">109.0</td><td title=\"9 58\">3749.0</td><td title=\"10 58\"></td><td title=\"11 58\"></td><td title=\"12 58\"></td></tr>\n",
       "<tr><td title=\"0 59\"></td><td title=\"1 59\">4 to 5</td><td title=\"2 59\"></td><td title=\"3 59\">S</td><td title=\"4 59\">82.0</td><td title=\"5 59\">2560.0</td><td title=\"6 59\"></td><td title=\"7 59\">175.0</td><td title=\"8 59\">83.0</td><td title=\"9 59\">3417.0</td><td title=\"10 59\"></td><td title=\"11 59\"></td><td title=\"12 59\"></td></tr>\n",
       "<tr><td title=\"0 60\"></td><td title=\"1 60\">6 to 9 </td><td title=\"2 60\"></td><td title=\"3 60\">S</td><td title=\"4 60\">174.0</td><td title=\"5 60\">42122.0</td><td title=\"6 60\"></td><td title=\"7 60\">S</td><td title=\"8 60\">S</td><td title=\"9 60\">S</td><td title=\"10 60\"></td><td title=\"11 60\"></td><td title=\"12 60\"></td></tr>\n",
       "<tr><td title=\"0 61\"></td><td title=\"1 61\">10 to 20</td><td title=\"2 61\"></td><td title=\"3 61\">2188.0</td><td title=\"4 61\">310.0</td><td title=\"5 61\">27813.0</td><td title=\"6 61\"></td><td title=\"7 61\">S</td><td title=\"8 61\">324.0</td><td title=\"9 61\">29118.0</td><td title=\"10 61\"></td><td title=\"11 61\"></td><td title=\"12 61\"></td></tr>\n",
       "<tr><td title=\"0 62\"></td><td title=\"1 62\">20 +</td><td title=\"2 62\"></td><td title=\"3 62\">S</td><td title=\"4 62\">508.0</td><td title=\"5 62\">75418.0</td><td title=\"6 62\"></td><td title=\"7 62\">13801.0</td><td title=\"8 62\">499.0</td><td title=\"9 62\">74826.0</td><td title=\"10 62\"></td><td title=\"11 62\"></td><td title=\"12 62\"></td></tr>\n",
       "<tr><td title=\"0 63\"></td><td title=\"1 63\">Unknown</td><td title=\"2 63\"></td><td title=\"3 63\">9.0</td><td title=\"4 63\">44.0</td><td title=\"5 63\">16.0</td><td title=\"6 63\"></td><td title=\"7 63\">19.0</td><td title=\"8 63\">57.0</td><td title=\"9 63\">S</td><td title=\"10 63\"></td><td title=\"11 63\"></td><td title=\"12 63\"></td></tr>\n",
       "<tr><td title=\"0 64\"></td><td title=\"1 64\"></td><td title=\"2 64\"></td><td title=\"3 64\"></td><td title=\"4 64\"></td><td title=\"5 64\"></td><td title=\"6 64\"></td><td title=\"7 64\"></td><td title=\"8 64\"></td><td title=\"9 64\"></td><td title=\"10 64\"></td><td title=\"11 64\"></td><td title=\"12 64\"></td></tr>\n",
       "<tr><td title=\"0 65\">Group 8 Aerospace and related machinery</td><td title=\"1 65\">0 to 1</td><td title=\"2 65\"></td><td title=\"3 65\">S</td><td title=\"4 65\">S</td><td title=\"5 65\">S</td><td title=\"6 65\"></td><td title=\"7 65\">S</td><td title=\"8 65\">S</td><td title=\"9 65\">S</td><td title=\"10 65\"></td><td title=\"11 65\"></td><td title=\"12 65\"></td></tr>\n",
       "<tr><td title=\"0 66\"></td><td title=\"1 66\">2 to 3</td><td title=\"2 66\"></td><td title=\"3 66\">S</td><td title=\"4 66\">S</td><td title=\"5 66\">S</td><td title=\"6 66\"></td><td title=\"7 66\">S</td><td title=\"8 66\">S</td><td title=\"9 66\">S</td><td title=\"10 66\"></td><td title=\"11 66\"></td><td title=\"12 66\"></td></tr>\n",
       "<tr><td title=\"0 67\"></td><td title=\"1 67\">4 to 5</td><td title=\"2 67\"></td><td title=\"3 67\">S</td><td title=\"4 67\">S</td><td title=\"5 67\">S</td><td title=\"6 67\"></td><td title=\"7 67\">S</td><td title=\"8 67\">S</td><td title=\"9 67\">S</td><td title=\"10 67\"></td><td title=\"11 67\"></td><td title=\"12 67\"></td></tr>\n",
       "<tr><td title=\"0 68\"></td><td title=\"1 68\">6 to 9 </td><td title=\"2 68\"></td><td title=\"3 68\">S</td><td title=\"4 68\">S</td><td title=\"5 68\">S</td><td title=\"6 68\"></td><td title=\"7 68\">S</td><td title=\"8 68\">S</td><td title=\"9 68\">S</td><td title=\"10 68\"></td><td title=\"11 68\"></td><td title=\"12 68\"></td></tr>\n",
       "<tr><td title=\"0 69\"></td><td title=\"1 69\">10 to 20</td><td title=\"2 69\"></td><td title=\"3 69\">6940.0</td><td title=\"4 69\">43.0</td><td title=\"5 69\">21830.0</td><td title=\"6 69\"></td><td title=\"7 69\">1937.0</td><td title=\"8 69\">44.0</td><td title=\"9 69\">21789.0</td><td title=\"10 69\"></td><td title=\"11 69\"></td><td title=\"12 69\"></td></tr>\n",
       "<tr><td title=\"0 70\"></td><td title=\"1 70\">20 +</td><td title=\"2 70\"></td><td title=\"3 70\">6556.0</td><td title=\"4 70\">67.0</td><td title=\"5 70\">43673.0</td><td title=\"6 70\"></td><td title=\"7 70\">6184.0</td><td title=\"8 70\">69.0</td><td title=\"9 70\">67075.0</td><td title=\"10 70\"></td><td title=\"11 70\"></td><td title=\"12 70\"></td></tr>\n",
       "<tr><td title=\"0 71\"></td><td title=\"1 71\">Unknown</td><td title=\"2 71\"></td><td title=\"3 71\">S</td><td title=\"4 71\">S</td><td title=\"5 71\">S</td><td title=\"6 71\"></td><td title=\"7 71\">S</td><td title=\"8 71\">S</td><td title=\"9 71\">S</td><td title=\"10 71\"></td><td title=\"11 71\"></td><td title=\"12 71\"></td></tr>\n",
       "<tr><td title=\"0 72\"></td><td title=\"1 72\"></td><td title=\"2 72\"></td><td title=\"3 72\"></td><td title=\"4 72\"></td><td title=\"5 72\"></td><td title=\"6 72\"></td><td title=\"7 72\"></td><td title=\"8 72\"></td><td title=\"9 72\"></td><td title=\"10 72\"></td><td title=\"11 72\"></td><td title=\"12 72\"></td></tr>\n",
       "<tr><td title=\"0 73\">Group 9 Other manufacturing</td><td title=\"1 73\">0 to 1</td><td title=\"2 73\"></td><td title=\"3 73\">387.0</td><td title=\"4 73\">601.0</td><td title=\"5 73\">17006.0</td><td title=\"6 73\"></td><td title=\"7 73\">393.0</td><td title=\"8 73\">900.0</td><td title=\"9 73\">20323.0</td><td title=\"10 73\"></td><td title=\"11 73\"></td><td title=\"12 73\"></td></tr>\n",
       "<tr><td title=\"0 74\"></td><td title=\"1 74\">2 to 3</td><td title=\"2 74\"></td><td title=\"3 74\">638.0</td><td title=\"4 74\">803.0</td><td title=\"5 74\">23013.0</td><td title=\"6 74\"></td><td title=\"7 74\">496.0</td><td title=\"8 74\">956.0</td><td title=\"9 74\">24803.0</td><td title=\"10 74\"></td><td title=\"11 74\"></td><td title=\"12 74\"></td></tr>\n",
       "<tr><td title=\"0 75\"></td><td title=\"1 75\">4 to 5</td><td title=\"2 75\"></td><td title=\"3 75\">653.0</td><td title=\"4 75\">763.0</td><td title=\"5 75\">19573.0</td><td title=\"6 75\"></td><td title=\"7 75\">726.0</td><td title=\"8 75\">936.0</td><td title=\"9 75\">21514.0</td><td title=\"10 75\"></td><td title=\"11 75\"></td><td title=\"12 75\"></td></tr>\n",
       "<tr><td title=\"0 76\"></td><td title=\"1 76\">6 to 9 </td><td title=\"2 76\"></td><td title=\"3 76\">1616.0</td><td title=\"4 76\">1540.0</td><td title=\"5 76\">51137.0</td><td title=\"6 76\"></td><td title=\"7 76\">1485.0</td><td title=\"8 76\">1594.0</td><td title=\"9 76\">54106.0</td><td title=\"10 76\"></td><td title=\"11 76\"></td><td title=\"12 76\"></td></tr>\n",
       "<tr><td title=\"0 77\"></td><td title=\"1 77\">10 to 20</td><td title=\"2 77\"></td><td title=\"3 77\">3958.0</td><td title=\"4 77\">3348.0</td><td title=\"5 77\">127386.0</td><td title=\"6 77\"></td><td title=\"7 77\">3385.0</td><td title=\"8 77\">3533.0</td><td title=\"9 77\">134038.0</td><td title=\"10 77\"></td><td title=\"11 77\"></td><td title=\"12 77\"></td></tr>\n",
       "<tr><td title=\"0 78\"></td><td title=\"1 78\">20 +</td><td title=\"2 78\"></td><td title=\"3 78\">7427.0</td><td title=\"4 78\">5681.0</td><td title=\"5 78\">253500.0</td><td title=\"6 78\"></td><td title=\"7 78\">6042.0</td><td title=\"8 78\">5463.0</td><td title=\"9 78\">258754.0</td><td title=\"10 78\"></td><td title=\"11 78\"></td><td title=\"12 78\"></td></tr>\n",
       "<tr><td title=\"0 79\"></td><td title=\"1 79\">Unknown</td><td title=\"2 79\"></td><td title=\"3 79\">108.0</td><td title=\"4 79\">337.0</td><td title=\"5 79\">1129.0</td><td title=\"6 79\"></td><td title=\"7 79\">105.0</td><td title=\"8 79\">417.0</td><td title=\"9 79\">975.0</td><td title=\"10 79\"></td><td title=\"11 79\"></td><td title=\"12 79\"></td></tr>\n",
       "<tr><td title=\"0 80\"></td><td title=\"1 80\"></td><td title=\"2 80\"></td><td title=\"3 80\"></td><td title=\"4 80\"></td><td title=\"5 80\"></td><td title=\"6 80\"></td><td title=\"7 80\"></td><td title=\"8 80\"></td><td title=\"9 80\"></td><td title=\"10 80\"></td><td title=\"11 80\"></td><td title=\"12 80\"></td></tr>\n",
       "<tr><td title=\"0 81\">Group 10 Services</td><td title=\"1 81\">0 to 1</td><td title=\"2 81\"></td><td title=\"3 81\">3371.0</td><td title=\"4 81\">8772.0</td><td title=\"5 81\">231549.0</td><td title=\"6 81\"></td><td title=\"7 81\">11445.0</td><td title=\"8 81\">18658.0</td><td title=\"9 81\">390728.0</td><td title=\"10 81\"></td><td title=\"11 81\"></td><td title=\"12 81\"></td></tr>\n",
       "<tr><td title=\"0 82\"></td><td title=\"1 82\">2 to 3</td><td title=\"2 82\"></td><td title=\"3 82\">5214.0</td><td title=\"4 82\">11088.0</td><td title=\"5 82\">179549.0</td><td title=\"6 82\"></td><td title=\"7 82\">S</td><td title=\"8 82\">19149.0</td><td title=\"9 82\">323814.0</td><td title=\"10 82\"></td><td title=\"11 82\"></td><td title=\"12 82\"></td></tr>\n",
       "<tr><td title=\"0 83\"></td><td title=\"1 83\">4 to 5</td><td title=\"2 83\"></td><td title=\"3 83\">9184.0</td><td title=\"4 83\">10151.0</td><td title=\"5 83\">174203.0</td><td title=\"6 83\"></td><td title=\"7 83\">18146.0</td><td title=\"8 83\">15993.0</td><td title=\"9 83\">290398.0</td><td title=\"10 83\"></td><td title=\"11 83\"></td><td title=\"12 83\"></td></tr>\n",
       "<tr><td title=\"0 84\"></td><td title=\"1 84\">6 to 9 </td><td title=\"2 84\"></td><td title=\"3 84\">13640.0</td><td title=\"4 84\">16404.0</td><td title=\"5 84\">527321.0</td><td title=\"6 84\"></td><td title=\"7 84\">29842.0</td><td title=\"8 84\">24914.0</td><td title=\"9 84\">790649.0</td><td title=\"10 84\"></td><td title=\"11 84\"></td><td title=\"12 84\"></td></tr>\n",
       "<tr><td title=\"0 85\"></td><td title=\"1 85\">10 to 20</td><td title=\"2 85\"></td><td title=\"3 85\">32962.0</td><td title=\"4 85\">28554.0</td><td title=\"5 85\">1398979.0</td><td title=\"6 85\"></td><td title=\"7 85\">65384.0</td><td title=\"8 85\">40403.0</td><td title=\"9 85\">1955337.0</td><td title=\"10 85\"></td><td title=\"11 85\"></td><td title=\"12 85\"></td></tr>\n",
       "<tr><td title=\"0 86\"></td><td title=\"1 86\">20 +</td><td title=\"2 86\"></td><td title=\"3 86\">67362.0</td><td title=\"4 86\">26856.0</td><td title=\"5 86\">4959349.0</td><td title=\"6 86\"></td><td title=\"7 86\">S</td><td title=\"8 86\">38030.0</td><td title=\"9 86\">6334894.0</td><td title=\"10 86\"></td><td style=\"font-weight:bold\" title=\"11 86\"></td><td title=\"12 86\"></td></tr>\n",
       "<tr><td title=\"0 87\"></td><td title=\"1 87\">Unknown</td><td title=\"2 87\"></td><td title=\"3 87\">9786.0</td><td title=\"4 87\">3249.0</td><td title=\"5 87\">54514.0</td><td title=\"6 87\"></td><td title=\"7 87\">4977.0</td><td title=\"8 87\">7425.0</td><td title=\"9 87\">96077.0</td><td title=\"10 87\"></td><td title=\"11 87\"></td><td title=\"12 87\"></td></tr>\n",
       "<tr><td title=\"0 88\"></td><td title=\"1 88\"></td><td title=\"2 88\"></td><td title=\"3 88\"></td><td title=\"4 88\"></td><td title=\"5 88\"></td><td title=\"6 88\"></td><td title=\"7 88\"></td><td title=\"8 88\"></td><td title=\"9 88\"></td><td title=\"10 88\"></td><td title=\"11 88\"></td><td title=\"12 88\"></td></tr>\n",
       "<tr><td title=\"0 89\">Unknown</td><td title=\"1 89\">Unknown</td><td title=\"2 89\"></td><td title=\"3 89\">11160.0</td><td title=\"4 89\">5970.0</td><td title=\"5 89\">.</td><td title=\"6 89\"></td><td title=\"7 89\">6459.0</td><td title=\"8 89\">16316.0</td><td title=\"9 89\">.</td><td title=\"10 89\"></td><td title=\"11 89\"></td><td title=\"12 89\"></td></tr>\n",
       "<tr><td title=\"0 90\"></td><td title=\"1 90\"></td><td title=\"2 90\"></td><td title=\"3 90\"></td><td title=\"4 90\"></td><td title=\"5 90\"></td><td title=\"6 90\"></td><td title=\"7 90\"></td><td title=\"8 90\"></td><td title=\"9 90\"></td><td title=\"10 90\"></td><td title=\"11 90\"></td><td title=\"12 90\"></td></tr>\n",
       "<tr><td style=\"font-weight:bold\" title=\"0 91\">Grand Total8</td><td style=\"font-weight:bold\" title=\"1 91\"></td><td style=\"font-weight:bold\" title=\"2 91\"></td><td style=\"font-weight:bold\" title=\"3 91\">304768.0</td><td style=\"font-weight:bold\" title=\"4 91\">143358.0</td><td style=\"font-weight:bold\" title=\"5 91\">9553443.0</td><td title=\"6 91\"></td><td style=\"font-weight:bold\" title=\"7 91\">411033.0</td><td style=\"font-weight:bold\" title=\"8 91\">219302.0</td><td style=\"font-weight:bold\" title=\"9 91\">12354666.0</td><td title=\"10 91\"></td><td title=\"11 91\"></td><td title=\"12 91\"></td></tr>\n",
       "<tr><td title=\"0 92\"></td><td title=\"1 92\"></td><td title=\"2 92\"></td><td title=\"3 92\"></td><td title=\"4 92\"></td><td title=\"5 92\"></td><td title=\"6 92\"></td><td title=\"7 92\"></td><td title=\"8 92\"></td><td title=\"9 92\"></td><td title=\"10 92\"></td><td title=\"11 92\"></td><td title=\"12 92\"></td></tr>\n",
       "<tr><td title=\"0 93\"></td><td title=\"1 93\"></td><td title=\"2 93\"></td><td title=\"3 93\"></td><td title=\"4 93\"></td><td title=\"5 93\"></td><td title=\"6 93\"></td><td title=\"7 93\"></td><td title=\"8 93\"></td><td title=\"9 93\">Source: HMRC OTS and ONS IDBR data</td><td title=\"10 93\"></td><td title=\"11 93\"></td><td title=\"12 93\"></td></tr>\n",
       "<tr><td title=\"0 94\"></td><td title=\"1 94\"></td><td title=\"2 94\"></td><td title=\"3 94\"></td><td title=\"4 94\"></td><td title=\"5 94\"></td><td title=\"6 94\"></td><td title=\"7 94\"></td><td title=\"8 94\"></td><td title=\"9 94\"></td><td title=\"10 94\"></td><td title=\"11 94\"></td><td title=\"12 94\"></td></tr>\n",
       "<tr><td title=\"0 95\">Notes:</td><td title=\"1 95\"></td><td title=\"2 95\"></td><td title=\"3 95\"></td><td title=\"4 95\"></td><td title=\"5 95\"></td><td title=\"6 95\"></td><td title=\"7 95\"></td><td title=\"8 95\"></td><td title=\"9 95\"></td><td title=\"10 95\"></td><td title=\"11 95\"></td><td title=\"12 95\"></td></tr>\n",
       "<tr><td title=\"0 96\">1. These estimates are experimental official statistics. </td><td title=\"1 96\"></td><td title=\"2 96\"></td><td title=\"3 96\"></td><td title=\"4 96\"></td><td title=\"5 96\"></td><td title=\"6 96\"></td><td title=\"7 96\"></td><td title=\"8 96\"></td><td title=\"9 96\"></td><td title=\"10 96\"></td><td title=\"11 96\"></td><td title=\"12 96\"></td></tr>\n",
       "<tr><td title=\"0 97\">2. Registered businesses are those which are registered for VAT and or EORI</td><td title=\"1 97\"></td><td title=\"2 97\"></td><td title=\"3 97\"></td><td title=\"4 97\"></td><td title=\"5 97\"></td><td title=\"6 97\"></td><td title=\"7 97\"></td><td title=\"8 97\"></td><td title=\"9 97\"></td><td title=\"10 97\"></td><td title=\"11 97\"></td><td title=\"12 97\"></td></tr>\n",
       "<tr><td title=\"0 98\">3. Cells with:   S = Suppressed    .  = Not Applicable </td><td title=\"1 98\"></td><td title=\"2 98\"></td><td title=\"3 98\"></td><td title=\"4 98\"></td><td title=\"5 98\"></td><td title=\"6 98\"></td><td title=\"7 98\"></td><td title=\"8 98\"></td><td title=\"9 98\"></td><td title=\"10 98\"></td><td title=\"11 98\"></td><td title=\"12 98\"></td></tr>\n",
       "<tr><td title=\"0 99\">4. Value of trade are in £ millions</td><td title=\"1 99\"></td><td title=\"2 99\"></td><td title=\"3 99\"></td><td title=\"4 99\"></td><td title=\"5 99\"></td><td title=\"6 99\"></td><td title=\"7 99\"></td><td title=\"8 99\"></td><td title=\"9 99\"></td><td title=\"10 99\"></td><td title=\"11 99\"></td><td title=\"12 99\"></td></tr>\n",
       "<tr><td title=\"0 100\">5. Further details of Industry Group, Age and Employee size can be in the Metadata tab</td><td title=\"1 100\"></td><td title=\"2 100\"></td><td title=\"3 100\"></td><td title=\"4 100\"></td><td title=\"5 100\"></td><td title=\"6 100\"></td><td title=\"7 100\"></td><td title=\"8 100\"></td><td title=\"9 100\"></td><td title=\"10 100\"></td><td title=\"11 100\"></td><td title=\"12 100\"></td></tr>\n",
       "<tr><td title=\"0 101\">6. Employment sizebands are based on IDBR employment for all variables and represent the employment of the Business</td><td title=\"1 101\"></td><td title=\"2 101\"></td><td title=\"3 101\"></td><td title=\"4 101\"></td><td title=\"5 101\"></td><td title=\"6 101\"></td><td title=\"7 101\"></td><td title=\"8 101\"></td><td title=\"9 101\"></td><td title=\"10 101\"></td><td title=\"11 101\"></td><td title=\"12 101\"></td></tr>\n",
       "<tr><td title=\"0 102\">7. Age of a business is defined using the birth date, or registration date, of the business held within the IDBR. Mergers and other changes in structure may require re-registration and therefore affect the validity of this date.</td><td title=\"1 102\"></td><td title=\"2 102\"></td><td title=\"3 102\"></td><td title=\"4 102\"></td><td title=\"5 102\"></td><td title=\"6 102\"></td><td title=\"7 102\"></td><td title=\"8 102\"></td><td title=\"9 102\"></td><td title=\"10 102\"></td><td title=\"11 102\"></td><td title=\"12 102\"></td></tr>\n",
       "<tr><td title=\"0 103\">8. Employee count totals exclude businesses where employee count is unknown.</td><td title=\"1 103\"></td><td title=\"2 103\"></td><td title=\"3 103\"></td><td title=\"4 103\"></td><td title=\"5 103\"></td><td title=\"6 103\"></td><td title=\"7 103\"></td><td title=\"8 103\"></td><td title=\"9 103\"></td><td title=\"10 103\"></td><td title=\"11 103\"></td><td title=\"12 103\"></td></tr>\n",
       "</table>\n",
       "\n",
       "</div>\n"
      ],
      "text/plain": [
       "<IPython.core.display.HTML object>"
      ]
     },
     "metadata": {},
     "output_type": "display_data"
    }
   ],
   "source": [
    "savepreviewhtml(tab)"
   ]
  },
  {
   "cell_type": "code",
   "execution_count": 6,
   "metadata": {},
   "outputs": [],
   "source": [
    "observations = tab.excel_ref('D10').expand(DOWN).expand(RIGHT).is_not_blank() "
   ]
  },
  {
   "cell_type": "code",
   "execution_count": 7,
   "metadata": {},
   "outputs": [],
   "source": [
    "observations = observations - tab.excel_ref('E10').expand(DOWN).is_not_blank()"
   ]
  },
  {
   "cell_type": "code",
   "execution_count": 8,
   "metadata": {},
   "outputs": [],
   "source": [
    "observations = observations - tab.excel_ref('I10').expand(DOWN).is_not_blank()"
   ]
  },
  {
   "cell_type": "code",
   "execution_count": 9,
   "metadata": {},
   "outputs": [],
   "source": [
    "observations = observations - tab.excel_ref('F10').expand(DOWN).is_not_blank()"
   ]
  },
  {
   "cell_type": "code",
   "execution_count": 10,
   "metadata": {},
   "outputs": [],
   "source": [
    "observations = observations - tab.excel_ref('J10').expand(DOWN).is_not_blank()"
   ]
  },
  {
   "cell_type": "code",
   "execution_count": 11,
   "metadata": {},
   "outputs": [],
   "source": [
    "Industrygroup = tab.excel_ref('A10').expand(DOWN).is_not_blank()"
   ]
  },
  {
   "cell_type": "code",
   "execution_count": 12,
   "metadata": {},
   "outputs": [],
   "source": [
    "age = tab.excel_ref('B10').expand(DOWN)"
   ]
  },
  {
   "cell_type": "code",
   "execution_count": 13,
   "metadata": {},
   "outputs": [],
   "source": [
    "Flow = tab.excel_ref('D6').expand(RIGHT).is_not_blank()"
   ]
  },
  {
   "cell_type": "code",
   "execution_count": 14,
   "metadata": {},
   "outputs": [],
   "source": [
    "Dimensions = [\n",
    "            HDimConst('Geography', 'K02000001'),\n",
    "            HDimConst('Year','2015'),\n",
    "            HDimConst('Unit', '£ Million'), \n",
    "            HDimConst('Measure Type','Total Turnover'),            \n",
    "            HDim(Industrygroup, 'Services', CLOSEST, ABOVE),\n",
    "            HDim(Flow, 'Flow', CLOSEST, LEFT),\n",
    "            HDim(age, 'Age of Flow', DIRECTLY, LEFT)\n",
    "]"
   ]
  },
  {
   "cell_type": "code",
   "execution_count": 15,
   "metadata": {},
   "outputs": [],
   "source": [
    "c1 = ConversionSegment(observations, Dimensions, processTIMEUNIT=True)"
   ]
  },
  {
   "cell_type": "code",
   "execution_count": 16,
   "metadata": {},
   "outputs": [
    {
     "data": {
      "text/html": [
       "<div id=\"injblock1002\">\n",
       "<style>\n",
       "table.ex, table.exkey { border: thin black solid }\n",
       "table.ex td, table.ex tr { border: none }\n",
       "table.ex td:hover { border: thin blue solid }\n",
       "table.ex td.excOBS:hover { border: thin red solid }\n",
       "table.ex td.selected { border: thick red solid }\n",
       "</style>\n",
       "\n",
       "\n",
       "<table class=\"exkey\">\n",
       "<tr><td class=\"xc0\" style=\"background-color:Aqua\">OBS</td><td class=\"xc5\" style=\"background-color:Coral\">Services</td><td class=\"xc6\" style=\"background-color:Gold\">Flow</td><td class=\"xc7\" style=\"background-color:Lime\">Age of Flow</td></tr></table>\n",
       "\n",
       "<table class=\"ex\">\n",
       "<caption style=\"text-align:center; padding:0px; caption-side:bottom\">Industry_Age</caption>\n",
       "<tr><td style=\"font-weight:bold\" title=\"0 0\">TRADE IN GOODS STATISTICS MATCHED WITH REGISTERED BUSINESSES FROM THE INTER-DEPARTMENTAL BUSINESS REGISTER</td><td title=\"1 0\"></td><td title=\"2 0\"></td><td title=\"3 0\"></td><td title=\"4 0\"></td><td title=\"5 0\"></td><td title=\"6 0\"></td><td title=\"7 0\"></td><td title=\"8 0\"></td><td title=\"9 0\"></td><td title=\"10 0\"></td><td title=\"11 0\"></td><td title=\"12 0\"></td></tr>\n",
       "<tr><td title=\"0 1\"></td><td title=\"1 1\"></td><td title=\"2 1\"></td><td title=\"3 1\"></td><td title=\"4 1\"></td><td title=\"5 1\"></td><td title=\"6 1\"></td><td title=\"7 1\"></td><td title=\"8 1\"></td><td title=\"9 1\"></td><td title=\"10 1\"></td><td title=\"11 1\"></td><td title=\"12 1\"></td></tr>\n",
       "<tr><td style=\"font-weight:bold\" title=\"0 2\">Release Date 24/11/2016</td><td title=\"1 2\"></td><td title=\"2 2\"></td><td title=\"3 2\"></td><td title=\"4 2\"></td><td title=\"5 2\"></td><td title=\"6 2\"></td><td title=\"7 2\"></td><td title=\"8 2\"></td><td title=\"9 2\"></td><td title=\"10 2\"></td><td title=\"11 2\"></td><td title=\"12 2\"></td></tr>\n",
       "<tr><td title=\"0 3\"></td><td title=\"1 3\"></td><td title=\"2 3\"></td><td title=\"3 3\"></td><td title=\"4 3\"></td><td title=\"5 3\"></td><td title=\"6 3\"></td><td title=\"7 3\"></td><td title=\"8 3\"></td><td title=\"9 3\"></td><td title=\"10 3\"></td><td title=\"11 3\"></td><td title=\"12 3\"></td></tr>\n",
       "<tr><td style=\"font-weight:bold\" title=\"0 4\">Total value of UK Trade, Business count and Employee count, by Industry group and Age for Imports and Exports</td><td title=\"1 4\"></td><td title=\"2 4\"></td><td title=\"3 4\"></td><td title=\"4 4\"></td><td title=\"5 4\"></td><td title=\"6 4\"></td><td title=\"7 4\"></td><td title=\"8 4\"></td><td title=\"9 4\"></td><td title=\"10 4\"></td><td title=\"11 4\"></td><td title=\"12 4\"></td></tr>\n",
       "<tr><td title=\"0 5\"></td><td title=\"1 5\"></td><td title=\"2 5\"></td><td style=\"background-color:Gold;font-weight:bold\" title=\"3 5\">Exports</td><td style=\"font-weight:bold\" title=\"4 5\"></td><td style=\"font-weight:bold\" title=\"5 5\"></td><td title=\"6 5\"></td><td style=\"background-color:Gold;font-weight:bold\" title=\"7 5\">Imports</td><td style=\"font-weight:bold\" title=\"8 5\"></td><td style=\"font-weight:bold\" title=\"9 5\"></td><td title=\"10 5\"></td><td title=\"11 5\"></td><td title=\"12 5\"></td></tr>\n",
       "<tr><td title=\"0 6\"></td><td title=\"1 6\"></td><td title=\"2 6\"></td><td title=\"3 6\">2015.0</td><td title=\"4 6\"></td><td title=\"5 6\"></td><td title=\"6 6\"></td><td title=\"7 6\">2015.0</td><td title=\"8 6\"></td><td title=\"9 6\"></td><td title=\"10 6\"></td><td title=\"11 6\"></td><td title=\"12 6\"></td></tr>\n",
       "<tr><td style=\"font-weight:bold\" title=\"0 7\">Industry Group</td><td style=\"font-weight:bold\" title=\"1 7\">Age (years)</td><td style=\"font-weight:bold\" title=\"2 7\"></td><td title=\"3 7\">Value £ m</td><td title=\"4 7\">Business Count</td><td title=\"5 7\">Employee Count</td><td title=\"6 7\"></td><td title=\"7 7\">Value £ m</td><td title=\"8 7\">Business Count</td><td title=\"9 7\">Employee Count</td><td title=\"10 7\"></td><td title=\"11 7\"></td><td title=\"12 7\"></td></tr>\n",
       "<tr><td title=\"0 8\"></td><td title=\"1 8\"></td><td title=\"2 8\"></td><td title=\"3 8\"></td><td title=\"4 8\"></td><td title=\"5 8\"></td><td title=\"6 8\"></td><td title=\"7 8\"></td><td title=\"8 8\"></td><td title=\"9 8\"></td><td title=\"10 8\"></td><td title=\"11 8\"></td><td title=\"12 8\"></td></tr>\n",
       "<tr><td style=\"background-color:Coral\" title=\"0 9\">Group 1 Agriculture and Food</td><td style=\"background-color:Lime\" title=\"1 9\">0 to 1</td><td title=\"2 9\"></td><td style=\"background-color:Aqua\" title=\"3 9\">273.0</td><td title=\"4 9\">405.0</td><td title=\"5 9\">15729.0</td><td title=\"6 9\"></td><td style=\"background-color:Aqua\" title=\"7 9\">403.0</td><td title=\"8 9\">912.0</td><td title=\"9 9\">19523.0</td><td title=\"10 9\"></td><td title=\"11 9\"></td><td title=\"12 9\"></td></tr>\n",
       "<tr><td title=\"0 10\"></td><td style=\"background-color:Lime\" title=\"1 10\">2 to 3</td><td title=\"2 10\"></td><td style=\"background-color:Aqua\" title=\"3 10\">315.0</td><td title=\"4 10\">518.0</td><td title=\"5 10\">22407.0</td><td title=\"6 10\"></td><td style=\"background-color:Aqua\" title=\"7 10\">871.0</td><td title=\"8 10\">870.0</td><td title=\"9 10\">22348.0</td><td title=\"10 10\"></td><td title=\"11 10\"></td><td title=\"12 10\"></td></tr>\n",
       "<tr><td title=\"0 11\"></td><td style=\"background-color:Lime\" title=\"1 11\">4 to 5</td><td title=\"2 11\"></td><td style=\"background-color:Aqua\" title=\"3 11\">431.0</td><td title=\"4 11\">455.0</td><td title=\"5 11\">14568.0</td><td title=\"6 11\"></td><td style=\"background-color:Aqua\" title=\"7 11\">733.0</td><td title=\"8 11\">711.0</td><td title=\"9 11\">18509.0</td><td title=\"10 11\"></td><td title=\"11 11\"></td><td title=\"12 11\"></td></tr>\n",
       "<tr><td title=\"0 12\"></td><td style=\"background-color:Lime\" title=\"1 12\">6 to 9 </td><td title=\"2 12\"></td><td style=\"background-color:Aqua\" title=\"3 12\">1071.0</td><td title=\"4 12\">802.0</td><td title=\"5 12\">36542.0</td><td title=\"6 12\"></td><td style=\"background-color:Aqua\" title=\"7 12\">1916.0</td><td title=\"8 12\">1164.0</td><td title=\"9 12\">55590.0</td><td title=\"10 12\"></td><td title=\"11 12\"></td><td title=\"12 12\"></td></tr>\n",
       "<tr><td title=\"0 13\"></td><td style=\"background-color:Lime\" title=\"1 13\">10 to 20</td><td title=\"2 13\"></td><td style=\"background-color:Aqua\" title=\"3 13\">3626.0</td><td title=\"4 13\">1476.0</td><td title=\"5 13\">113803.0</td><td title=\"6 13\"></td><td style=\"background-color:Aqua\" title=\"7 13\">4369.0</td><td title=\"8 13\">2262.0</td><td title=\"9 13\">125097.0</td><td title=\"10 13\"></td><td title=\"11 13\"></td><td title=\"12 13\"></td></tr>\n",
       "<tr><td title=\"0 14\"></td><td style=\"background-color:Lime\" title=\"1 14\">20 +</td><td title=\"2 14\"></td><td style=\"background-color:Aqua\" title=\"3 14\">9379.0</td><td title=\"4 14\">2979.0</td><td title=\"5 14\">280838.0</td><td title=\"6 14\"></td><td style=\"background-color:Aqua\" title=\"7 14\">9947.0</td><td title=\"8 14\">5145.0</td><td title=\"9 14\">316222.0</td><td title=\"10 14\"></td><td title=\"11 14\"></td><td title=\"12 14\"></td></tr>\n",
       "<tr><td title=\"0 15\"></td><td style=\"background-color:Lime\" title=\"1 15\">Unknown</td><td title=\"2 15\"></td><td style=\"background-color:Aqua\" title=\"3 15\">83.0</td><td title=\"4 15\">212.0</td><td title=\"5 15\">779.0</td><td title=\"6 15\"></td><td style=\"background-color:Aqua\" title=\"7 15\">148.0</td><td title=\"8 15\">573.0</td><td title=\"9 15\">815.0</td><td title=\"10 15\"></td><td title=\"11 15\"></td><td title=\"12 15\"></td></tr>\n",
       "<tr><td title=\"0 16\"></td><td style=\"background-color:Lime\" title=\"1 16\"></td><td title=\"2 16\"></td><td title=\"3 16\"></td><td title=\"4 16\"></td><td title=\"5 16\"></td><td title=\"6 16\"></td><td title=\"7 16\"></td><td title=\"8 16\"></td><td title=\"9 16\"></td><td title=\"10 16\"></td><td title=\"11 16\"></td><td title=\"12 16\"></td></tr>\n",
       "<tr><td style=\"background-color:Coral\" title=\"0 17\">Group 2 Mining, Petroleum products and Waste</td><td style=\"background-color:Lime\" title=\"1 17\">0 to 1</td><td title=\"2 17\"></td><td style=\"background-color:Aqua\" title=\"3 17\">S</td><td title=\"4 17\">S</td><td title=\"5 17\">S</td><td title=\"6 17\"></td><td style=\"background-color:Aqua\" title=\"7 17\">195.0</td><td title=\"8 17\">264.0</td><td title=\"9 17\">9251.0</td><td title=\"10 17\"></td><td title=\"11 17\"></td><td title=\"12 17\"></td></tr>\n",
       "<tr><td title=\"0 18\"></td><td style=\"background-color:Lime\" title=\"1 18\">2 to 3</td><td title=\"2 18\"></td><td style=\"background-color:Aqua\" title=\"3 18\">478.0</td><td title=\"4 18\">186.0</td><td title=\"5 18\">5689.0</td><td title=\"6 18\"></td><td style=\"background-color:Aqua\" title=\"7 18\">299.0</td><td title=\"8 18\">275.0</td><td title=\"9 18\">6196.0</td><td title=\"10 18\"></td><td title=\"11 18\"></td><td title=\"12 18\"></td></tr>\n",
       "<tr><td title=\"0 19\"></td><td style=\"background-color:Lime\" title=\"1 19\">4 to 5</td><td title=\"2 19\"></td><td style=\"background-color:Aqua\" title=\"3 19\">S</td><td title=\"4 19\">156.0</td><td title=\"5 19\">S</td><td title=\"6 19\"></td><td style=\"background-color:Aqua\" title=\"7 19\">954.0</td><td title=\"8 19\">188.0</td><td title=\"9 19\">42512.0</td><td title=\"10 19\"></td><td title=\"11 19\"></td><td title=\"12 19\"></td></tr>\n",
       "<tr><td title=\"0 20\"></td><td style=\"background-color:Lime\" title=\"1 20\">6 to 9 </td><td title=\"2 20\"></td><td style=\"background-color:Aqua\" title=\"3 20\">1635.0</td><td title=\"4 20\">220.0</td><td title=\"5 20\">26206.0</td><td title=\"6 20\"></td><td style=\"background-color:Aqua\" title=\"7 20\">1091.0</td><td title=\"8 20\">250.0</td><td title=\"9 20\">47587.0</td><td title=\"10 20\"></td><td title=\"11 20\"></td><td title=\"12 20\"></td></tr>\n",
       "<tr><td title=\"0 21\"></td><td style=\"background-color:Lime\" title=\"1 21\">10 to 20</td><td title=\"2 21\"></td><td style=\"background-color:Aqua\" title=\"3 21\">2579.0</td><td title=\"4 21\">363.0</td><td title=\"5 21\">76567.0</td><td title=\"6 21\"></td><td style=\"background-color:Aqua\" title=\"7 21\">2834.0</td><td title=\"8 21\">412.0</td><td title=\"9 21\">58101.0</td><td title=\"10 21\"></td><td title=\"11 21\"></td><td title=\"12 21\"></td></tr>\n",
       "<tr><td title=\"0 22\"></td><td style=\"background-color:Lime\" title=\"1 22\">20 +</td><td title=\"2 22\"></td><td style=\"background-color:Aqua\" title=\"3 22\">S</td><td title=\"4 22\">583.0</td><td title=\"5 22\">180859.0</td><td title=\"6 22\"></td><td style=\"background-color:Aqua\" title=\"7 22\">16301.0</td><td title=\"8 22\">552.0</td><td title=\"9 22\">183871.0</td><td title=\"10 22\"></td><td title=\"11 22\"></td><td title=\"12 22\"></td></tr>\n",
       "<tr><td title=\"0 23\"></td><td style=\"background-color:Lime\" title=\"1 23\">Unknown</td><td title=\"2 23\"></td><td style=\"background-color:Aqua\" title=\"3 23\">S</td><td title=\"4 23\">S</td><td title=\"5 23\">S</td><td title=\"6 23\"></td><td style=\"background-color:Aqua\" title=\"7 23\">1553.0</td><td title=\"8 23\">126.0</td><td title=\"9 23\">95.0</td><td title=\"10 23\"></td><td title=\"11 23\"></td><td title=\"12 23\"></td></tr>\n",
       "<tr><td title=\"0 24\"></td><td style=\"background-color:Lime\" title=\"1 24\"></td><td title=\"2 24\"></td><td title=\"3 24\"></td><td title=\"4 24\"></td><td title=\"5 24\"></td><td title=\"6 24\"></td><td title=\"7 24\"></td><td title=\"8 24\"></td><td title=\"9 24\"></td><td title=\"10 24\"></td><td title=\"11 24\"></td><td title=\"12 24\"></td></tr>\n",
       "<tr><td style=\"background-color:Coral\" title=\"0 25\">Group 3 Chemicals</td><td style=\"background-color:Lime\" title=\"1 25\">0 to 1</td><td title=\"2 25\"></td><td style=\"background-color:Aqua\" title=\"3 25\">195.0</td><td title=\"4 25\">105.0</td><td title=\"5 25\">3718.0</td><td title=\"6 25\"></td><td style=\"background-color:Aqua\" title=\"7 25\">132.0</td><td title=\"8 25\">123.0</td><td title=\"9 25\">4270.0</td><td title=\"10 25\"></td><td title=\"11 25\"></td><td title=\"12 25\"></td></tr>\n",
       "<tr><td title=\"0 26\"></td><td style=\"background-color:Lime\" title=\"1 26\">2 to 3</td><td title=\"2 26\"></td><td style=\"background-color:Aqua\" title=\"3 26\">581.0</td><td title=\"4 26\">107.0</td><td title=\"5 26\">3893.0</td><td title=\"6 26\"></td><td style=\"background-color:Aqua\" title=\"7 26\">369.0</td><td title=\"8 26\">117.0</td><td title=\"9 26\">4085.0</td><td title=\"10 26\"></td><td title=\"11 26\"></td><td title=\"12 26\"></td></tr>\n",
       "<tr><td title=\"0 27\"></td><td style=\"background-color:Lime\" title=\"1 27\">4 to 5</td><td title=\"2 27\"></td><td style=\"background-color:Aqua\" title=\"3 27\">340.0</td><td title=\"4 27\">72.0</td><td title=\"5 27\">2034.0</td><td title=\"6 27\"></td><td style=\"background-color:Aqua\" title=\"7 27\">317.0</td><td title=\"8 27\">72.0</td><td title=\"9 27\">2377.0</td><td title=\"10 27\"></td><td title=\"11 27\"></td><td title=\"12 27\"></td></tr>\n",
       "<tr><td title=\"0 28\"></td><td style=\"background-color:Lime\" title=\"1 28\">6 to 9 </td><td title=\"2 28\"></td><td style=\"background-color:Aqua\" title=\"3 28\">1001.0</td><td title=\"4 28\">169.0</td><td title=\"5 28\">10145.0</td><td title=\"6 28\"></td><td style=\"background-color:Aqua\" title=\"7 28\">566.0</td><td title=\"8 28\">161.0</td><td title=\"9 28\">10222.0</td><td title=\"10 28\"></td><td title=\"11 28\"></td><td title=\"12 28\"></td></tr>\n",
       "<tr><td title=\"0 29\"></td><td style=\"background-color:Lime\" title=\"1 29\">10 to 20</td><td title=\"2 29\"></td><td style=\"background-color:Aqua\" title=\"3 29\">3193.0</td><td title=\"4 29\">339.0</td><td title=\"5 29\">22436.0</td><td title=\"6 29\"></td><td style=\"background-color:Aqua\" title=\"7 29\">2104.0</td><td title=\"8 29\">323.0</td><td title=\"9 29\">19229.0</td><td title=\"10 29\"></td><td title=\"11 29\"></td><td title=\"12 29\"></td></tr>\n",
       "<tr><td title=\"0 30\"></td><td style=\"background-color:Lime\" title=\"1 30\">20 +</td><td title=\"2 30\"></td><td style=\"background-color:Aqua\" title=\"3 30\">8172.0</td><td title=\"4 30\">643.0</td><td title=\"5 30\">65082.0</td><td title=\"6 30\"></td><td style=\"background-color:Aqua\" title=\"7 30\">5918.0</td><td title=\"8 30\">605.0</td><td title=\"9 30\">67888.0</td><td title=\"10 30\"></td><td title=\"11 30\"></td><td title=\"12 30\"></td></tr>\n",
       "<tr><td title=\"0 31\"></td><td style=\"background-color:Lime\" title=\"1 31\">Unknown</td><td title=\"2 31\"></td><td style=\"background-color:Aqua\" title=\"3 31\">81.0</td><td title=\"4 31\">56.0</td><td title=\"5 31\">304.0</td><td title=\"6 31\"></td><td style=\"background-color:Aqua\" title=\"7 31\">61.0</td><td title=\"8 31\">63.0</td><td title=\"9 31\">318.0</td><td title=\"10 31\"></td><td title=\"11 31\"></td><td title=\"12 31\"></td></tr>\n",
       "<tr><td title=\"0 32\"></td><td style=\"background-color:Lime\" title=\"1 32\"></td><td title=\"2 32\"></td><td title=\"3 32\"></td><td title=\"4 32\"></td><td title=\"5 32\"></td><td title=\"6 32\"></td><td title=\"7 32\"></td><td title=\"8 32\"></td><td title=\"9 32\"></td><td title=\"10 32\"></td><td title=\"11 32\"></td><td title=\"12 32\"></td></tr>\n",
       "<tr><td style=\"background-color:Coral\" title=\"0 33\">Group 4 Pharmaceuticals</td><td style=\"background-color:Lime\" title=\"1 33\">0 to 1</td><td title=\"2 33\"></td><td style=\"background-color:Aqua\" title=\"3 33\">S</td><td title=\"4 33\">S</td><td title=\"5 33\">S</td><td title=\"6 33\"></td><td style=\"background-color:Aqua\" title=\"7 33\">116.0</td><td title=\"8 33\">39.0</td><td title=\"9 33\">1283.0</td><td title=\"10 33\"></td><td title=\"11 33\"></td><td title=\"12 33\"></td></tr>\n",
       "<tr><td title=\"0 34\"></td><td style=\"background-color:Lime\" title=\"1 34\">2 to 3</td><td title=\"2 34\"></td><td style=\"background-color:Aqua\" title=\"3 34\">S</td><td title=\"4 34\">S</td><td title=\"5 34\">S</td><td title=\"6 34\"></td><td style=\"background-color:Aqua\" title=\"7 34\">S</td><td title=\"8 34\">S</td><td title=\"9 34\">S</td><td title=\"10 34\"></td><td title=\"11 34\"></td><td title=\"12 34\"></td></tr>\n",
       "<tr><td title=\"0 35\"></td><td style=\"background-color:Lime\" title=\"1 35\">4 to 5</td><td title=\"2 35\"></td><td style=\"background-color:Aqua\" title=\"3 35\">S</td><td title=\"4 35\">S</td><td title=\"5 35\">S</td><td title=\"6 35\"></td><td style=\"background-color:Aqua\" title=\"7 35\">S</td><td title=\"8 35\">S</td><td title=\"9 35\">S</td><td title=\"10 35\"></td><td title=\"11 35\"></td><td title=\"12 35\"></td></tr>\n",
       "<tr><td title=\"0 36\"></td><td style=\"background-color:Lime\" title=\"1 36\">6 to 9 </td><td title=\"2 36\"></td><td style=\"background-color:Aqua\" title=\"3 36\">S</td><td title=\"4 36\">S</td><td title=\"5 36\">S</td><td title=\"6 36\"></td><td style=\"background-color:Aqua\" title=\"7 36\">S</td><td title=\"8 36\">S</td><td title=\"9 36\">S</td><td title=\"10 36\"></td><td title=\"11 36\"></td><td title=\"12 36\"></td></tr>\n",
       "<tr><td title=\"0 37\"></td><td style=\"background-color:Lime\" title=\"1 37\">10 to 20</td><td title=\"2 37\"></td><td style=\"background-color:Aqua\" title=\"3 37\">997.0</td><td title=\"4 37\">46.0</td><td title=\"5 37\">7883.0</td><td title=\"6 37\"></td><td style=\"background-color:Aqua\" title=\"7 37\">452.0</td><td title=\"8 37\">51.0</td><td title=\"9 37\">7995.0</td><td title=\"10 37\"></td><td title=\"11 37\"></td><td title=\"12 37\"></td></tr>\n",
       "<tr><td title=\"0 38\"></td><td style=\"background-color:Lime\" title=\"1 38\">20 +</td><td title=\"2 38\"></td><td style=\"background-color:Aqua\" title=\"3 38\">6093.0</td><td title=\"4 38\">63.0</td><td title=\"5 38\">32227.0</td><td title=\"6 38\"></td><td style=\"background-color:Aqua\" title=\"7 38\">S</td><td title=\"8 38\">63.0</td><td title=\"9 38\">32263.0</td><td title=\"10 38\"></td><td title=\"11 38\"></td><td title=\"12 38\"></td></tr>\n",
       "<tr><td title=\"0 39\"></td><td style=\"background-color:Lime\" title=\"1 39\">Unknown</td><td title=\"2 39\"></td><td style=\"background-color:Aqua\" title=\"3 39\">S</td><td title=\"4 39\">S</td><td title=\"5 39\">S</td><td title=\"6 39\"></td><td style=\"background-color:Aqua\" title=\"7 39\">S</td><td title=\"8 39\">S</td><td title=\"9 39\">S</td><td title=\"10 39\"></td><td title=\"11 39\"></td><td title=\"12 39\"></td></tr>\n",
       "<tr><td title=\"0 40\"></td><td style=\"background-color:Lime\" title=\"1 40\"></td><td title=\"2 40\"></td><td title=\"3 40\"></td><td title=\"4 40\"></td><td title=\"5 40\"></td><td title=\"6 40\"></td><td title=\"7 40\"></td><td title=\"8 40\"></td><td title=\"9 40\"></td><td title=\"10 40\"></td><td title=\"11 40\"></td><td title=\"12 40\"></td></tr>\n",
       "<tr><td style=\"background-color:Coral\" title=\"0 41\">Group 5 Electronic and Electrical equipment</td><td style=\"background-color:Lime\" title=\"1 41\">0 to 1</td><td title=\"2 41\"></td><td style=\"background-color:Aqua\" title=\"3 41\">127.0</td><td title=\"4 41\">241.0</td><td title=\"5 41\">3324.0</td><td title=\"6 41\"></td><td style=\"background-color:Aqua\" title=\"7 41\">234.0</td><td title=\"8 41\">323.0</td><td title=\"9 41\">3687.0</td><td title=\"10 41\"></td><td title=\"11 41\"></td><td title=\"12 41\"></td></tr>\n",
       "<tr><td title=\"0 42\"></td><td style=\"background-color:Lime\" title=\"1 42\">2 to 3</td><td title=\"2 42\"></td><td style=\"background-color:Aqua\" title=\"3 42\">396.0</td><td title=\"4 42\">281.0</td><td title=\"5 42\">5919.0</td><td title=\"6 42\"></td><td style=\"background-color:Aqua\" title=\"7 42\">S</td><td title=\"8 42\">318.0</td><td title=\"9 42\">10562.0</td><td title=\"10 42\"></td><td title=\"11 42\"></td><td title=\"12 42\"></td></tr>\n",
       "<tr><td title=\"0 43\"></td><td style=\"background-color:Lime\" title=\"1 43\">4 to 5</td><td title=\"2 43\"></td><td style=\"background-color:Aqua\" title=\"3 43\">642.0</td><td title=\"4 43\">210.0</td><td title=\"5 43\">8708.0</td><td title=\"6 43\"></td><td style=\"background-color:Aqua\" title=\"7 43\">307.0</td><td title=\"8 43\">240.0</td><td title=\"9 43\">8934.0</td><td title=\"10 43\"></td><td title=\"11 43\"></td><td title=\"12 43\"></td></tr>\n",
       "<tr><td title=\"0 44\"></td><td style=\"background-color:Lime\" title=\"1 44\">6 to 9 </td><td title=\"2 44\"></td><td style=\"background-color:Aqua\" title=\"3 44\">1182.0</td><td title=\"4 44\">418.0</td><td title=\"5 44\">14117.0</td><td title=\"6 44\"></td><td style=\"background-color:Aqua\" title=\"7 44\">506.0</td><td title=\"8 44\">428.0</td><td title=\"9 44\">13351.0</td><td title=\"10 44\"></td><td title=\"11 44\"></td><td title=\"12 44\"></td></tr>\n",
       "<tr><td title=\"0 45\"></td><td style=\"background-color:Lime\" title=\"1 45\">10 to 20</td><td title=\"2 45\"></td><td style=\"background-color:Aqua\" title=\"3 45\">3787.0</td><td title=\"4 45\">1006.0</td><td title=\"5 45\">51502.0</td><td title=\"6 45\"></td><td style=\"background-color:Aqua\" title=\"7 45\">S</td><td title=\"8 45\">1047.0</td><td title=\"9 45\">52793.0</td><td title=\"10 45\"></td><td title=\"11 45\"></td><td title=\"12 45\"></td></tr>\n",
       "<tr><td title=\"0 46\"></td><td style=\"background-color:Lime\" title=\"1 46\">20 +</td><td title=\"2 46\"></td><td style=\"background-color:Aqua\" title=\"3 46\">11503.0</td><td title=\"4 46\">1772.0</td><td title=\"5 46\">98627.0</td><td title=\"6 46\"></td><td style=\"background-color:Aqua\" title=\"7 46\">4483.0</td><td title=\"8 46\">1733.0</td><td title=\"9 46\">94395.0</td><td title=\"10 46\"></td><td title=\"11 46\"></td><td title=\"12 46\"></td></tr>\n",
       "<tr><td title=\"0 47\"></td><td style=\"background-color:Lime\" title=\"1 47\">Unknown</td><td title=\"2 47\"></td><td style=\"background-color:Aqua\" title=\"3 47\">274.0</td><td title=\"4 47\">179.0</td><td title=\"5 47\">689.0</td><td title=\"6 47\"></td><td style=\"background-color:Aqua\" title=\"7 47\">111.0</td><td title=\"8 47\">200.0</td><td title=\"9 47\">684.0</td><td title=\"10 47\"></td><td title=\"11 47\"></td><td title=\"12 47\"></td></tr>\n",
       "<tr><td title=\"0 48\"></td><td style=\"background-color:Lime\" title=\"1 48\"></td><td title=\"2 48\"></td><td title=\"3 48\"></td><td title=\"4 48\"></td><td title=\"5 48\"></td><td title=\"6 48\"></td><td title=\"7 48\"></td><td title=\"8 48\"></td><td title=\"9 48\"></td><td title=\"10 48\"></td><td title=\"11 48\"></td><td title=\"12 48\"></td></tr>\n",
       "<tr><td style=\"background-color:Coral\" title=\"0 49\">Group 6 Machinery and equipment n.e.s</td><td style=\"background-color:Lime\" title=\"1 49\">0 to 1</td><td title=\"2 49\"></td><td style=\"background-color:Aqua\" title=\"3 49\">776.0</td><td title=\"4 49\">151.0</td><td title=\"5 49\">3592.0</td><td title=\"6 49\"></td><td style=\"background-color:Aqua\" title=\"7 49\">S</td><td title=\"8 49\">194.0</td><td title=\"9 49\">3812.0</td><td title=\"10 49\"></td><td title=\"11 49\"></td><td title=\"12 49\"></td></tr>\n",
       "<tr><td title=\"0 50\"></td><td style=\"background-color:Lime\" title=\"1 50\">2 to 3</td><td title=\"2 50\"></td><td style=\"background-color:Aqua\" title=\"3 50\">170.0</td><td title=\"4 50\">182.0</td><td title=\"5 50\">3578.0</td><td title=\"6 50\"></td><td style=\"background-color:Aqua\" title=\"7 50\">223.0</td><td title=\"8 50\">199.0</td><td title=\"9 50\">3678.0</td><td title=\"10 50\"></td><td title=\"11 50\"></td><td title=\"12 50\"></td></tr>\n",
       "<tr><td title=\"0 51\"></td><td style=\"background-color:Lime\" title=\"1 51\">4 to 5</td><td title=\"2 51\"></td><td style=\"background-color:Aqua\" title=\"3 51\">246.0</td><td title=\"4 51\">165.0</td><td title=\"5 51\">3874.0</td><td title=\"6 51\"></td><td style=\"background-color:Aqua\" title=\"7 51\">82.0</td><td title=\"8 51\">166.0</td><td title=\"9 51\">3042.0</td><td title=\"10 51\"></td><td title=\"11 51\"></td><td title=\"12 51\"></td></tr>\n",
       "<tr><td title=\"0 52\"></td><td style=\"background-color:Lime\" title=\"1 52\">6 to 9 </td><td title=\"2 52\"></td><td style=\"background-color:Aqua\" title=\"3 52\">1078.0</td><td title=\"4 52\">364.0</td><td title=\"5 52\">12622.0</td><td title=\"6 52\"></td><td style=\"background-color:Aqua\" title=\"7 52\">458.0</td><td title=\"8 52\">367.0</td><td title=\"9 52\">13133.0</td><td title=\"10 52\"></td><td title=\"11 52\"></td><td title=\"12 52\"></td></tr>\n",
       "<tr><td title=\"0 53\"></td><td style=\"background-color:Lime\" title=\"1 53\">10 to 20</td><td title=\"2 53\"></td><td style=\"background-color:Aqua\" title=\"3 53\">5114.0</td><td title=\"4 53\">807.0</td><td title=\"5 53\">48915.0</td><td title=\"6 53\"></td><td style=\"background-color:Aqua\" title=\"7 53\">S</td><td title=\"8 53\">797.0</td><td title=\"9 53\">47641.0</td><td title=\"10 53\"></td><td title=\"11 53\"></td><td title=\"12 53\"></td></tr>\n",
       "<tr><td title=\"0 54\"></td><td style=\"background-color:Lime\" title=\"1 54\">20 +</td><td title=\"2 54\"></td><td style=\"background-color:Aqua\" title=\"3 54\">8320.0</td><td title=\"4 54\">1621.0</td><td title=\"5 54\">89416.0</td><td title=\"6 54\"></td><td style=\"background-color:Aqua\" title=\"7 54\">3918.0</td><td title=\"8 54\">1500.0</td><td title=\"9 54\">91144.0</td><td title=\"10 54\"></td><td title=\"11 54\"></td><td title=\"12 54\"></td></tr>\n",
       "<tr><td title=\"0 55\"></td><td style=\"background-color:Lime\" title=\"1 55\">Unknown</td><td title=\"2 55\"></td><td style=\"background-color:Aqua\" title=\"3 55\">232.0</td><td title=\"4 55\">101.0</td><td title=\"5 55\">296.0</td><td title=\"6 55\"></td><td style=\"background-color:Aqua\" title=\"7 55\">54.0</td><td title=\"8 55\">100.0</td><td title=\"9 55\">267.0</td><td title=\"10 55\"></td><td title=\"11 55\"></td><td title=\"12 55\"></td></tr>\n",
       "<tr><td title=\"0 56\"></td><td style=\"background-color:Lime\" title=\"1 56\"></td><td title=\"2 56\"></td><td title=\"3 56\"></td><td title=\"4 56\"></td><td title=\"5 56\"></td><td title=\"6 56\"></td><td title=\"7 56\"></td><td title=\"8 56\"></td><td title=\"9 56\"></td><td title=\"10 56\"></td><td title=\"11 56\"></td><td title=\"12 56\"></td></tr>\n",
       "<tr><td style=\"background-color:Coral\" title=\"0 57\">Group 7 Motor vehicles, transport equipment (excluding aerospace)</td><td style=\"background-color:Lime\" title=\"1 57\">0 to 1</td><td title=\"2 57\"></td><td style=\"background-color:Aqua\" title=\"3 57\">S</td><td title=\"4 57\">78.0</td><td title=\"5 57\">1249.0</td><td title=\"6 57\"></td><td style=\"background-color:Aqua\" title=\"7 57\">S</td><td title=\"8 57\">S</td><td title=\"9 57\">S</td><td title=\"10 57\"></td><td title=\"11 57\"></td><td title=\"12 57\"></td></tr>\n",
       "<tr><td title=\"0 58\"></td><td style=\"background-color:Lime\" title=\"1 58\">2 to 3</td><td title=\"2 58\"></td><td style=\"background-color:Aqua\" title=\"3 58\">81.0</td><td title=\"4 58\">102.0</td><td title=\"5 58\">3404.0</td><td title=\"6 58\"></td><td style=\"background-color:Aqua\" title=\"7 58\">202.0</td><td title=\"8 58\">109.0</td><td title=\"9 58\">3749.0</td><td title=\"10 58\"></td><td title=\"11 58\"></td><td title=\"12 58\"></td></tr>\n",
       "<tr><td title=\"0 59\"></td><td style=\"background-color:Lime\" title=\"1 59\">4 to 5</td><td title=\"2 59\"></td><td style=\"background-color:Aqua\" title=\"3 59\">S</td><td title=\"4 59\">82.0</td><td title=\"5 59\">2560.0</td><td title=\"6 59\"></td><td style=\"background-color:Aqua\" title=\"7 59\">175.0</td><td title=\"8 59\">83.0</td><td title=\"9 59\">3417.0</td><td title=\"10 59\"></td><td title=\"11 59\"></td><td title=\"12 59\"></td></tr>\n",
       "<tr><td title=\"0 60\"></td><td style=\"background-color:Lime\" title=\"1 60\">6 to 9 </td><td title=\"2 60\"></td><td style=\"background-color:Aqua\" title=\"3 60\">S</td><td title=\"4 60\">174.0</td><td title=\"5 60\">42122.0</td><td title=\"6 60\"></td><td style=\"background-color:Aqua\" title=\"7 60\">S</td><td title=\"8 60\">S</td><td title=\"9 60\">S</td><td title=\"10 60\"></td><td title=\"11 60\"></td><td title=\"12 60\"></td></tr>\n",
       "<tr><td title=\"0 61\"></td><td style=\"background-color:Lime\" title=\"1 61\">10 to 20</td><td title=\"2 61\"></td><td style=\"background-color:Aqua\" title=\"3 61\">2188.0</td><td title=\"4 61\">310.0</td><td title=\"5 61\">27813.0</td><td title=\"6 61\"></td><td style=\"background-color:Aqua\" title=\"7 61\">S</td><td title=\"8 61\">324.0</td><td title=\"9 61\">29118.0</td><td title=\"10 61\"></td><td title=\"11 61\"></td><td title=\"12 61\"></td></tr>\n",
       "<tr><td title=\"0 62\"></td><td style=\"background-color:Lime\" title=\"1 62\">20 +</td><td title=\"2 62\"></td><td style=\"background-color:Aqua\" title=\"3 62\">S</td><td title=\"4 62\">508.0</td><td title=\"5 62\">75418.0</td><td title=\"6 62\"></td><td style=\"background-color:Aqua\" title=\"7 62\">13801.0</td><td title=\"8 62\">499.0</td><td title=\"9 62\">74826.0</td><td title=\"10 62\"></td><td title=\"11 62\"></td><td title=\"12 62\"></td></tr>\n",
       "<tr><td title=\"0 63\"></td><td style=\"background-color:Lime\" title=\"1 63\">Unknown</td><td title=\"2 63\"></td><td style=\"background-color:Aqua\" title=\"3 63\">9.0</td><td title=\"4 63\">44.0</td><td title=\"5 63\">16.0</td><td title=\"6 63\"></td><td style=\"background-color:Aqua\" title=\"7 63\">19.0</td><td title=\"8 63\">57.0</td><td title=\"9 63\">S</td><td title=\"10 63\"></td><td title=\"11 63\"></td><td title=\"12 63\"></td></tr>\n",
       "<tr><td title=\"0 64\"></td><td style=\"background-color:Lime\" title=\"1 64\"></td><td title=\"2 64\"></td><td title=\"3 64\"></td><td title=\"4 64\"></td><td title=\"5 64\"></td><td title=\"6 64\"></td><td title=\"7 64\"></td><td title=\"8 64\"></td><td title=\"9 64\"></td><td title=\"10 64\"></td><td title=\"11 64\"></td><td title=\"12 64\"></td></tr>\n",
       "<tr><td style=\"background-color:Coral\" title=\"0 65\">Group 8 Aerospace and related machinery</td><td style=\"background-color:Lime\" title=\"1 65\">0 to 1</td><td title=\"2 65\"></td><td style=\"background-color:Aqua\" title=\"3 65\">S</td><td title=\"4 65\">S</td><td title=\"5 65\">S</td><td title=\"6 65\"></td><td style=\"background-color:Aqua\" title=\"7 65\">S</td><td title=\"8 65\">S</td><td title=\"9 65\">S</td><td title=\"10 65\"></td><td title=\"11 65\"></td><td title=\"12 65\"></td></tr>\n",
       "<tr><td title=\"0 66\"></td><td style=\"background-color:Lime\" title=\"1 66\">2 to 3</td><td title=\"2 66\"></td><td style=\"background-color:Aqua\" title=\"3 66\">S</td><td title=\"4 66\">S</td><td title=\"5 66\">S</td><td title=\"6 66\"></td><td style=\"background-color:Aqua\" title=\"7 66\">S</td><td title=\"8 66\">S</td><td title=\"9 66\">S</td><td title=\"10 66\"></td><td title=\"11 66\"></td><td title=\"12 66\"></td></tr>\n",
       "<tr><td title=\"0 67\"></td><td style=\"background-color:Lime\" title=\"1 67\">4 to 5</td><td title=\"2 67\"></td><td style=\"background-color:Aqua\" title=\"3 67\">S</td><td title=\"4 67\">S</td><td title=\"5 67\">S</td><td title=\"6 67\"></td><td style=\"background-color:Aqua\" title=\"7 67\">S</td><td title=\"8 67\">S</td><td title=\"9 67\">S</td><td title=\"10 67\"></td><td title=\"11 67\"></td><td title=\"12 67\"></td></tr>\n",
       "<tr><td title=\"0 68\"></td><td style=\"background-color:Lime\" title=\"1 68\">6 to 9 </td><td title=\"2 68\"></td><td style=\"background-color:Aqua\" title=\"3 68\">S</td><td title=\"4 68\">S</td><td title=\"5 68\">S</td><td title=\"6 68\"></td><td style=\"background-color:Aqua\" title=\"7 68\">S</td><td title=\"8 68\">S</td><td title=\"9 68\">S</td><td title=\"10 68\"></td><td title=\"11 68\"></td><td title=\"12 68\"></td></tr>\n",
       "<tr><td title=\"0 69\"></td><td style=\"background-color:Lime\" title=\"1 69\">10 to 20</td><td title=\"2 69\"></td><td style=\"background-color:Aqua\" title=\"3 69\">6940.0</td><td title=\"4 69\">43.0</td><td title=\"5 69\">21830.0</td><td title=\"6 69\"></td><td style=\"background-color:Aqua\" title=\"7 69\">1937.0</td><td title=\"8 69\">44.0</td><td title=\"9 69\">21789.0</td><td title=\"10 69\"></td><td title=\"11 69\"></td><td title=\"12 69\"></td></tr>\n",
       "<tr><td title=\"0 70\"></td><td style=\"background-color:Lime\" title=\"1 70\">20 +</td><td title=\"2 70\"></td><td style=\"background-color:Aqua\" title=\"3 70\">6556.0</td><td title=\"4 70\">67.0</td><td title=\"5 70\">43673.0</td><td title=\"6 70\"></td><td style=\"background-color:Aqua\" title=\"7 70\">6184.0</td><td title=\"8 70\">69.0</td><td title=\"9 70\">67075.0</td><td title=\"10 70\"></td><td title=\"11 70\"></td><td title=\"12 70\"></td></tr>\n",
       "<tr><td title=\"0 71\"></td><td style=\"background-color:Lime\" title=\"1 71\">Unknown</td><td title=\"2 71\"></td><td style=\"background-color:Aqua\" title=\"3 71\">S</td><td title=\"4 71\">S</td><td title=\"5 71\">S</td><td title=\"6 71\"></td><td style=\"background-color:Aqua\" title=\"7 71\">S</td><td title=\"8 71\">S</td><td title=\"9 71\">S</td><td title=\"10 71\"></td><td title=\"11 71\"></td><td title=\"12 71\"></td></tr>\n",
       "<tr><td title=\"0 72\"></td><td style=\"background-color:Lime\" title=\"1 72\"></td><td title=\"2 72\"></td><td title=\"3 72\"></td><td title=\"4 72\"></td><td title=\"5 72\"></td><td title=\"6 72\"></td><td title=\"7 72\"></td><td title=\"8 72\"></td><td title=\"9 72\"></td><td title=\"10 72\"></td><td title=\"11 72\"></td><td title=\"12 72\"></td></tr>\n",
       "<tr><td style=\"background-color:Coral\" title=\"0 73\">Group 9 Other manufacturing</td><td style=\"background-color:Lime\" title=\"1 73\">0 to 1</td><td title=\"2 73\"></td><td style=\"background-color:Aqua\" title=\"3 73\">387.0</td><td title=\"4 73\">601.0</td><td title=\"5 73\">17006.0</td><td title=\"6 73\"></td><td style=\"background-color:Aqua\" title=\"7 73\">393.0</td><td title=\"8 73\">900.0</td><td title=\"9 73\">20323.0</td><td title=\"10 73\"></td><td title=\"11 73\"></td><td title=\"12 73\"></td></tr>\n",
       "<tr><td title=\"0 74\"></td><td style=\"background-color:Lime\" title=\"1 74\">2 to 3</td><td title=\"2 74\"></td><td style=\"background-color:Aqua\" title=\"3 74\">638.0</td><td title=\"4 74\">803.0</td><td title=\"5 74\">23013.0</td><td title=\"6 74\"></td><td style=\"background-color:Aqua\" title=\"7 74\">496.0</td><td title=\"8 74\">956.0</td><td title=\"9 74\">24803.0</td><td title=\"10 74\"></td><td title=\"11 74\"></td><td title=\"12 74\"></td></tr>\n",
       "<tr><td title=\"0 75\"></td><td style=\"background-color:Lime\" title=\"1 75\">4 to 5</td><td title=\"2 75\"></td><td style=\"background-color:Aqua\" title=\"3 75\">653.0</td><td title=\"4 75\">763.0</td><td title=\"5 75\">19573.0</td><td title=\"6 75\"></td><td style=\"background-color:Aqua\" title=\"7 75\">726.0</td><td title=\"8 75\">936.0</td><td title=\"9 75\">21514.0</td><td title=\"10 75\"></td><td title=\"11 75\"></td><td title=\"12 75\"></td></tr>\n",
       "<tr><td title=\"0 76\"></td><td style=\"background-color:Lime\" title=\"1 76\">6 to 9 </td><td title=\"2 76\"></td><td style=\"background-color:Aqua\" title=\"3 76\">1616.0</td><td title=\"4 76\">1540.0</td><td title=\"5 76\">51137.0</td><td title=\"6 76\"></td><td style=\"background-color:Aqua\" title=\"7 76\">1485.0</td><td title=\"8 76\">1594.0</td><td title=\"9 76\">54106.0</td><td title=\"10 76\"></td><td title=\"11 76\"></td><td title=\"12 76\"></td></tr>\n",
       "<tr><td title=\"0 77\"></td><td style=\"background-color:Lime\" title=\"1 77\">10 to 20</td><td title=\"2 77\"></td><td style=\"background-color:Aqua\" title=\"3 77\">3958.0</td><td title=\"4 77\">3348.0</td><td title=\"5 77\">127386.0</td><td title=\"6 77\"></td><td style=\"background-color:Aqua\" title=\"7 77\">3385.0</td><td title=\"8 77\">3533.0</td><td title=\"9 77\">134038.0</td><td title=\"10 77\"></td><td title=\"11 77\"></td><td title=\"12 77\"></td></tr>\n",
       "<tr><td title=\"0 78\"></td><td style=\"background-color:Lime\" title=\"1 78\">20 +</td><td title=\"2 78\"></td><td style=\"background-color:Aqua\" title=\"3 78\">7427.0</td><td title=\"4 78\">5681.0</td><td title=\"5 78\">253500.0</td><td title=\"6 78\"></td><td style=\"background-color:Aqua\" title=\"7 78\">6042.0</td><td title=\"8 78\">5463.0</td><td title=\"9 78\">258754.0</td><td title=\"10 78\"></td><td title=\"11 78\"></td><td title=\"12 78\"></td></tr>\n",
       "<tr><td title=\"0 79\"></td><td style=\"background-color:Lime\" title=\"1 79\">Unknown</td><td title=\"2 79\"></td><td style=\"background-color:Aqua\" title=\"3 79\">108.0</td><td title=\"4 79\">337.0</td><td title=\"5 79\">1129.0</td><td title=\"6 79\"></td><td style=\"background-color:Aqua\" title=\"7 79\">105.0</td><td title=\"8 79\">417.0</td><td title=\"9 79\">975.0</td><td title=\"10 79\"></td><td title=\"11 79\"></td><td title=\"12 79\"></td></tr>\n",
       "<tr><td title=\"0 80\"></td><td style=\"background-color:Lime\" title=\"1 80\"></td><td title=\"2 80\"></td><td title=\"3 80\"></td><td title=\"4 80\"></td><td title=\"5 80\"></td><td title=\"6 80\"></td><td title=\"7 80\"></td><td title=\"8 80\"></td><td title=\"9 80\"></td><td title=\"10 80\"></td><td title=\"11 80\"></td><td title=\"12 80\"></td></tr>\n",
       "<tr><td style=\"background-color:Coral\" title=\"0 81\">Group 10 Services</td><td style=\"background-color:Lime\" title=\"1 81\">0 to 1</td><td title=\"2 81\"></td><td style=\"background-color:Aqua\" title=\"3 81\">3371.0</td><td title=\"4 81\">8772.0</td><td title=\"5 81\">231549.0</td><td title=\"6 81\"></td><td style=\"background-color:Aqua\" title=\"7 81\">11445.0</td><td title=\"8 81\">18658.0</td><td title=\"9 81\">390728.0</td><td title=\"10 81\"></td><td title=\"11 81\"></td><td title=\"12 81\"></td></tr>\n",
       "<tr><td title=\"0 82\"></td><td style=\"background-color:Lime\" title=\"1 82\">2 to 3</td><td title=\"2 82\"></td><td style=\"background-color:Aqua\" title=\"3 82\">5214.0</td><td title=\"4 82\">11088.0</td><td title=\"5 82\">179549.0</td><td title=\"6 82\"></td><td style=\"background-color:Aqua\" title=\"7 82\">S</td><td title=\"8 82\">19149.0</td><td title=\"9 82\">323814.0</td><td title=\"10 82\"></td><td title=\"11 82\"></td><td title=\"12 82\"></td></tr>\n",
       "<tr><td title=\"0 83\"></td><td style=\"background-color:Lime\" title=\"1 83\">4 to 5</td><td title=\"2 83\"></td><td style=\"background-color:Aqua\" title=\"3 83\">9184.0</td><td title=\"4 83\">10151.0</td><td title=\"5 83\">174203.0</td><td title=\"6 83\"></td><td style=\"background-color:Aqua\" title=\"7 83\">18146.0</td><td title=\"8 83\">15993.0</td><td title=\"9 83\">290398.0</td><td title=\"10 83\"></td><td title=\"11 83\"></td><td title=\"12 83\"></td></tr>\n",
       "<tr><td title=\"0 84\"></td><td style=\"background-color:Lime\" title=\"1 84\">6 to 9 </td><td title=\"2 84\"></td><td style=\"background-color:Aqua\" title=\"3 84\">13640.0</td><td title=\"4 84\">16404.0</td><td title=\"5 84\">527321.0</td><td title=\"6 84\"></td><td style=\"background-color:Aqua\" title=\"7 84\">29842.0</td><td title=\"8 84\">24914.0</td><td title=\"9 84\">790649.0</td><td title=\"10 84\"></td><td title=\"11 84\"></td><td title=\"12 84\"></td></tr>\n",
       "<tr><td title=\"0 85\"></td><td style=\"background-color:Lime\" title=\"1 85\">10 to 20</td><td title=\"2 85\"></td><td style=\"background-color:Aqua\" title=\"3 85\">32962.0</td><td title=\"4 85\">28554.0</td><td title=\"5 85\">1398979.0</td><td title=\"6 85\"></td><td style=\"background-color:Aqua\" title=\"7 85\">65384.0</td><td title=\"8 85\">40403.0</td><td title=\"9 85\">1955337.0</td><td title=\"10 85\"></td><td title=\"11 85\"></td><td title=\"12 85\"></td></tr>\n",
       "<tr><td title=\"0 86\"></td><td style=\"background-color:Lime\" title=\"1 86\">20 +</td><td title=\"2 86\"></td><td style=\"background-color:Aqua\" title=\"3 86\">67362.0</td><td title=\"4 86\">26856.0</td><td title=\"5 86\">4959349.0</td><td title=\"6 86\"></td><td style=\"background-color:Aqua\" title=\"7 86\">S</td><td title=\"8 86\">38030.0</td><td title=\"9 86\">6334894.0</td><td title=\"10 86\"></td><td style=\"font-weight:bold\" title=\"11 86\"></td><td title=\"12 86\"></td></tr>\n",
       "<tr><td title=\"0 87\"></td><td style=\"background-color:Lime\" title=\"1 87\">Unknown</td><td title=\"2 87\"></td><td style=\"background-color:Aqua\" title=\"3 87\">9786.0</td><td title=\"4 87\">3249.0</td><td title=\"5 87\">54514.0</td><td title=\"6 87\"></td><td style=\"background-color:Aqua\" title=\"7 87\">4977.0</td><td title=\"8 87\">7425.0</td><td title=\"9 87\">96077.0</td><td title=\"10 87\"></td><td title=\"11 87\"></td><td title=\"12 87\"></td></tr>\n",
       "<tr><td title=\"0 88\"></td><td style=\"background-color:Lime\" title=\"1 88\"></td><td title=\"2 88\"></td><td title=\"3 88\"></td><td title=\"4 88\"></td><td title=\"5 88\"></td><td title=\"6 88\"></td><td title=\"7 88\"></td><td title=\"8 88\"></td><td title=\"9 88\"></td><td title=\"10 88\"></td><td title=\"11 88\"></td><td title=\"12 88\"></td></tr>\n",
       "<tr><td style=\"background-color:Coral\" title=\"0 89\">Unknown</td><td style=\"background-color:Lime\" title=\"1 89\">Unknown</td><td title=\"2 89\"></td><td style=\"background-color:Aqua\" title=\"3 89\">11160.0</td><td title=\"4 89\">5970.0</td><td title=\"5 89\">.</td><td title=\"6 89\"></td><td style=\"background-color:Aqua\" title=\"7 89\">6459.0</td><td title=\"8 89\">16316.0</td><td title=\"9 89\">.</td><td title=\"10 89\"></td><td title=\"11 89\"></td><td title=\"12 89\"></td></tr>\n",
       "<tr><td title=\"0 90\"></td><td style=\"background-color:Lime\" title=\"1 90\"></td><td title=\"2 90\"></td><td title=\"3 90\"></td><td title=\"4 90\"></td><td title=\"5 90\"></td><td title=\"6 90\"></td><td title=\"7 90\"></td><td title=\"8 90\"></td><td title=\"9 90\"></td><td title=\"10 90\"></td><td title=\"11 90\"></td><td title=\"12 90\"></td></tr>\n",
       "<tr><td style=\"background-color:Coral;font-weight:bold\" title=\"0 91\">Grand Total8</td><td style=\"background-color:Lime;font-weight:bold\" title=\"1 91\"></td><td style=\"font-weight:bold\" title=\"2 91\"></td><td style=\"background-color:Aqua;font-weight:bold\" title=\"3 91\">304768.0</td><td style=\"font-weight:bold\" title=\"4 91\">143358.0</td><td style=\"font-weight:bold\" title=\"5 91\">9553443.0</td><td title=\"6 91\"></td><td style=\"background-color:Aqua;font-weight:bold\" title=\"7 91\">411033.0</td><td style=\"font-weight:bold\" title=\"8 91\">219302.0</td><td style=\"font-weight:bold\" title=\"9 91\">12354666.0</td><td title=\"10 91\"></td><td title=\"11 91\"></td><td title=\"12 91\"></td></tr>\n",
       "<tr><td title=\"0 92\"></td><td style=\"background-color:Lime\" title=\"1 92\"></td><td title=\"2 92\"></td><td title=\"3 92\"></td><td title=\"4 92\"></td><td title=\"5 92\"></td><td title=\"6 92\"></td><td title=\"7 92\"></td><td title=\"8 92\"></td><td title=\"9 92\"></td><td title=\"10 92\"></td><td title=\"11 92\"></td><td title=\"12 92\"></td></tr>\n",
       "<tr><td title=\"0 93\"></td><td style=\"background-color:Lime\" title=\"1 93\"></td><td title=\"2 93\"></td><td title=\"3 93\"></td><td title=\"4 93\"></td><td title=\"5 93\"></td><td title=\"6 93\"></td><td title=\"7 93\"></td><td title=\"8 93\"></td><td title=\"9 93\">Source: HMRC OTS and ONS IDBR data</td><td title=\"10 93\"></td><td title=\"11 93\"></td><td title=\"12 93\"></td></tr>\n",
       "<tr><td title=\"0 94\"></td><td style=\"background-color:Lime\" title=\"1 94\"></td><td title=\"2 94\"></td><td title=\"3 94\"></td><td title=\"4 94\"></td><td title=\"5 94\"></td><td title=\"6 94\"></td><td title=\"7 94\"></td><td title=\"8 94\"></td><td title=\"9 94\"></td><td title=\"10 94\"></td><td title=\"11 94\"></td><td title=\"12 94\"></td></tr>\n",
       "<tr><td style=\"background-color:Coral\" title=\"0 95\">Notes:</td><td style=\"background-color:Lime\" title=\"1 95\"></td><td title=\"2 95\"></td><td title=\"3 95\"></td><td title=\"4 95\"></td><td title=\"5 95\"></td><td title=\"6 95\"></td><td title=\"7 95\"></td><td title=\"8 95\"></td><td title=\"9 95\"></td><td title=\"10 95\"></td><td title=\"11 95\"></td><td title=\"12 95\"></td></tr>\n",
       "<tr><td style=\"background-color:Coral\" title=\"0 96\">1. These estimates are experimental official statistics. </td><td style=\"background-color:Lime\" title=\"1 96\"></td><td title=\"2 96\"></td><td title=\"3 96\"></td><td title=\"4 96\"></td><td title=\"5 96\"></td><td title=\"6 96\"></td><td title=\"7 96\"></td><td title=\"8 96\"></td><td title=\"9 96\"></td><td title=\"10 96\"></td><td title=\"11 96\"></td><td title=\"12 96\"></td></tr>\n",
       "<tr><td style=\"background-color:Coral\" title=\"0 97\">2. Registered businesses are those which are registered for VAT and or EORI</td><td style=\"background-color:Lime\" title=\"1 97\"></td><td title=\"2 97\"></td><td title=\"3 97\"></td><td title=\"4 97\"></td><td title=\"5 97\"></td><td title=\"6 97\"></td><td title=\"7 97\"></td><td title=\"8 97\"></td><td title=\"9 97\"></td><td title=\"10 97\"></td><td title=\"11 97\"></td><td title=\"12 97\"></td></tr>\n",
       "<tr><td style=\"background-color:Coral\" title=\"0 98\">3. Cells with:   S = Suppressed    .  = Not Applicable </td><td style=\"background-color:Lime\" title=\"1 98\"></td><td title=\"2 98\"></td><td title=\"3 98\"></td><td title=\"4 98\"></td><td title=\"5 98\"></td><td title=\"6 98\"></td><td title=\"7 98\"></td><td title=\"8 98\"></td><td title=\"9 98\"></td><td title=\"10 98\"></td><td title=\"11 98\"></td><td title=\"12 98\"></td></tr>\n",
       "<tr><td style=\"background-color:Coral\" title=\"0 99\">4. Value of trade are in £ millions</td><td style=\"background-color:Lime\" title=\"1 99\"></td><td title=\"2 99\"></td><td title=\"3 99\"></td><td title=\"4 99\"></td><td title=\"5 99\"></td><td title=\"6 99\"></td><td title=\"7 99\"></td><td title=\"8 99\"></td><td title=\"9 99\"></td><td title=\"10 99\"></td><td title=\"11 99\"></td><td title=\"12 99\"></td></tr>\n",
       "<tr><td style=\"background-color:Coral\" title=\"0 100\">5. Further details of Industry Group, Age and Employee size can be in the Metadata tab</td><td style=\"background-color:Lime\" title=\"1 100\"></td><td title=\"2 100\"></td><td title=\"3 100\"></td><td title=\"4 100\"></td><td title=\"5 100\"></td><td title=\"6 100\"></td><td title=\"7 100\"></td><td title=\"8 100\"></td><td title=\"9 100\"></td><td title=\"10 100\"></td><td title=\"11 100\"></td><td title=\"12 100\"></td></tr>\n",
       "<tr><td style=\"background-color:Coral\" title=\"0 101\">6. Employment sizebands are based on IDBR employment for all variables and represent the employment of the Business</td><td style=\"background-color:Lime\" title=\"1 101\"></td><td title=\"2 101\"></td><td title=\"3 101\"></td><td title=\"4 101\"></td><td title=\"5 101\"></td><td title=\"6 101\"></td><td title=\"7 101\"></td><td title=\"8 101\"></td><td title=\"9 101\"></td><td title=\"10 101\"></td><td title=\"11 101\"></td><td title=\"12 101\"></td></tr>\n",
       "<tr><td style=\"background-color:Coral\" title=\"0 102\">7. Age of a business is defined using the birth date, or registration date, of the business held within the IDBR. Mergers and other changes in structure may require re-registration and therefore affect the validity of this date.</td><td style=\"background-color:Lime\" title=\"1 102\"></td><td title=\"2 102\"></td><td title=\"3 102\"></td><td title=\"4 102\"></td><td title=\"5 102\"></td><td title=\"6 102\"></td><td title=\"7 102\"></td><td title=\"8 102\"></td><td title=\"9 102\"></td><td title=\"10 102\"></td><td title=\"11 102\"></td><td title=\"12 102\"></td></tr>\n",
       "<tr><td style=\"background-color:Coral\" title=\"0 103\">8. Employee count totals exclude businesses where employee count is unknown.</td><td style=\"background-color:Lime\" title=\"1 103\"></td><td title=\"2 103\"></td><td title=\"3 103\"></td><td title=\"4 103\"></td><td title=\"5 103\"></td><td title=\"6 103\"></td><td title=\"7 103\"></td><td title=\"8 103\"></td><td title=\"9 103\"></td><td title=\"10 103\"></td><td title=\"11 103\"></td><td title=\"12 103\"></td></tr>\n",
       "</table>\n",
       "\n",
       "</div>\n",
       "\n",
       "<script>\n",
       "var jslookup = {\"7 9\":[0,9,7,5,1,9],\"3 42\":[0,41,3,5,1,42],\"3 74\":[0,73,3,5,1,74],\"3 68\":[0,65,3,5,1,68],\"7 76\":[0,73,7,5,1,76],\"7 43\":[0,41,7,5,1,43],\"7 27\":[0,25,7,5,1,27],\"3 20\":[0,17,3,5,1,20],\"7 31\":[0,25,7,5,1,31],\"3 76\":[0,73,3,5,1,76],\"7 51\":[0,49,7,5,1,51],\"7 86\":[0,81,7,5,1,86],\"7 89\":[0,89,7,5,1,89],\"7 73\":[0,73,7,5,1,73],\"7 22\":[0,17,7,5,1,22],\"3 36\":[0,33,3,5,1,36],\"7 53\":[0,49,7,5,1,53],\"3 31\":[0,25,3,5,1,31],\"7 54\":[0,49,7,5,1,54],\"7 15\":[0,9,7,5,1,15],\"3 81\":[0,81,3,5,1,81],\"3 53\":[0,49,3,5,1,53],\"3 78\":[0,73,3,5,1,78],\"3 17\":[0,17,3,5,1,17],\"3 11\":[0,9,3,5,1,11],\"7 71\":[0,65,7,5,1,71],\"3 23\":[0,17,3,5,1,23],\"7 58\":[0,57,7,5,1,58],\"3 55\":[0,49,3,5,1,55],\"3 75\":[0,73,3,5,1,75],\"3 14\":[0,9,3,5,1,14],\"3 46\":[0,41,3,5,1,46],\"3 26\":[0,25,3,5,1,26],\"7 29\":[0,25,7,5,1,29],\"7 47\":[0,41,7,5,1,47],\"7 65\":[0,65,7,5,1,65],\"7 39\":[0,33,7,5,1,39],\"3 87\":[0,81,3,5,1,87],\"7 68\":[0,65,7,5,1,68],\"7 42\":[0,41,7,5,1,42],\"3 77\":[0,73,3,5,1,77],\"7 25\":[0,25,7,5,1,25],\"3 54\":[0,49,3,5,1,54],\"3 79\":[0,73,3,5,1,79],\"3 18\":[0,17,3,5,1,18],\"7 66\":[0,65,7,5,1,66],\"7 77\":[0,73,7,5,1,77],\"3 27\":[0,25,3,5,1,27],\"3 49\":[0,49,3,5,1,49],\"3 62\":[0,57,3,5,1,62],\"3 30\":[0,25,3,5,1,30],\"7 14\":[0,9,7,5,1,14],\"7 36\":[0,33,7,5,1,36],\"3 29\":[0,25,3,5,1,29],\"7 34\":[0,33,7,5,1,34],\"3 84\":[0,81,3,5,1,84],\"3 38\":[0,33,3,5,1,38],\"3 47\":[0,41,3,5,1,47],\"3 83\":[0,81,3,5,1,83],\"3 25\":[0,25,3,5,1,25],\"7 81\":[0,81,7,5,1,81],\"7 13\":[0,9,7,5,1,13],\"3 12\":[0,9,3,5,1,12],\"3 91\":[0,91,3,5,1,91],\"7 78\":[0,73,7,5,1,78],\"7 79\":[0,73,7,5,1,79],\"3 66\":[0,65,3,5,1,66],\"3 15\":[0,9,3,5,1,15],\"7 84\":[0,81,7,5,1,84],\"7 46\":[0,41,7,5,1,46],\"7 87\":[0,81,7,5,1,87],\"3 21\":[0,17,3,5,1,21],\"7 11\":[0,9,7,5,1,11],\"7 20\":[0,17,7,5,1,20],\"7 33\":[0,33,7,5,1,33],\"3 34\":[0,33,3,5,1,34],\"7 55\":[0,49,7,5,1,55],\"7 59\":[0,57,7,5,1,59],\"7 23\":[0,17,7,5,1,23],\"3 37\":[0,33,3,5,1,37],\"3 65\":[0,65,3,5,1,65],\"7 62\":[0,57,7,5,1,62],\"7 60\":[0,57,7,5,1,60],\"3 70\":[0,65,3,5,1,70],\"3 58\":[0,57,3,5,1,58],\"3 71\":[0,65,3,5,1,71],\"7 82\":[0,81,7,5,1,82],\"7 21\":[0,17,7,5,1,21],\"7 70\":[0,65,7,5,1,70],\"3 33\":[0,33,3,5,1,33],\"3 63\":[0,57,3,5,1,63],\"3 39\":[0,33,3,5,1,39],\"7 17\":[0,17,7,5,1,17],\"3 43\":[0,41,3,5,1,43],\"7 91\":[0,91,7,5,1,91],\"7 19\":[0,17,7,5,1,19],\"7 57\":[0,57,7,5,1,57],\"3 9\":[0,9,3,5,1,9],\"3 52\":[0,49,3,5,1,52],\"3 89\":[0,89,3,5,1,89],\"3 22\":[0,17,3,5,1,22],\"7 49\":[0,49,7,5,1,49],\"3 19\":[0,17,3,5,1,19],\"7 38\":[0,33,7,5,1,38],\"7 69\":[0,65,7,5,1,69],\"7 18\":[0,17,7,5,1,18],\"7 45\":[0,41,7,5,1,45],\"7 52\":[0,49,7,5,1,52],\"3 59\":[0,57,3,5,1,59],\"3 45\":[0,41,3,5,1,45],\"3 69\":[0,65,3,5,1,69],\"3 44\":[0,41,3,5,1,44],\"7 37\":[0,33,7,5,1,37],\"3 57\":[0,57,3,5,1,57],\"7 67\":[0,65,7,5,1,67],\"3 61\":[0,57,3,5,1,61],\"3 86\":[0,81,3,5,1,86],\"7 26\":[0,25,7,5,1,26],\"3 13\":[0,9,3,5,1,13],\"7 30\":[0,25,7,5,1,30],\"3 85\":[0,81,3,5,1,85],\"7 28\":[0,25,7,5,1,28],\"7 35\":[0,33,7,5,1,35],\"3 50\":[0,49,3,5,1,50],\"3 51\":[0,49,3,5,1,51],\"7 50\":[0,49,7,5,1,50],\"3 10\":[0,9,3,5,1,10],\"7 63\":[0,57,7,5,1,63],\"3 60\":[0,57,3,5,1,60],\"3 41\":[0,41,3,5,1,41],\"7 41\":[0,41,7,5,1,41],\"3 82\":[0,81,3,5,1,82],\"7 85\":[0,81,7,5,1,85],\"3 73\":[0,73,3,5,1,73],\"7 44\":[0,41,7,5,1,44],\"3 67\":[0,65,3,5,1,67],\"7 74\":[0,73,7,5,1,74],\"7 12\":[0,9,7,5,1,12],\"7 83\":[0,81,7,5,1,83],\"3 35\":[0,33,3,5,1,35],\"7 75\":[0,73,7,5,1,75],\"3 28\":[0,25,3,5,1,28],\"7 10\":[0,9,7,5,1,10],\"7 61\":[0,57,7,5,1,61]}; \n",
       "var jdividNUM = \"injblock1002\"; \n",
       "var Dclickedcell = null; \n",
       "function clickedcell() \n",
       "{ \n",
       "    Dclickedcell = this; \n",
       "    console.log(\"jjjj\", this); \n",
       "    var rgc = new RegExp('(^|\\b)' + \"selected\".split(' ').join('|') + '(\\b|$)', 'gi'); \n",
       "    Array.prototype.forEach.call(document.querySelectorAll(\"div#\"+jdividNUM+\" table.ex td.selected\"), function(el, i) { \n",
       "        if (el.classList)  el.classList.remove(\"selected\");\n",
       "        else  el.className = el.className.replace(rgc, ' ');\n",
       "    }); \n",
       "    if (this.classList)  this.classList.add(\"selected\");\n",
       "    else this.className += ' ' + \"selected\";\n",
       "\n",
       "    var dimpairs = jslookup[this.title]; \n",
       "    if (dimpairs !== undefined) {\n",
       "        for (var i = 1; i < dimpairs.length; i += 2) {\n",
       "            var row = document.querySelectorAll(\"div#\"+jdividNUM+\" table.ex tr\")[dimpairs[i]]; \n",
       "            var el = row.querySelectorAll(\"td\")[dimpairs[i-1]]; \n",
       "            if (el.classList)  el.classList.add(\"selected\");\n",
       "            else el.className += ' ' + \"selected\";\n",
       "        }\n",
       "    }\n",
       "}\n",
       "Array.prototype.forEach.call(document.querySelectorAll(\"div#\"+jdividNUM+\" table.ex td\"), function(item, i) { item.onclick=clickedcell; }); \n",
       "</script>\n"
      ],
      "text/plain": [
       "<IPython.core.display.HTML object>"
      ]
     },
     "metadata": {},
     "output_type": "display_data"
    }
   ],
   "source": [
    "savepreviewhtml(c1)"
   ]
  },
  {
   "cell_type": "code",
   "execution_count": 17,
   "metadata": {},
   "outputs": [
    {
     "name": "stdout",
     "output_type": "stream",
     "text": [
      "\n"
     ]
    }
   ],
   "source": [
    "new_table = c1.topandas()"
   ]
  },
  {
   "cell_type": "code",
   "execution_count": 18,
   "metadata": {},
   "outputs": [],
   "source": [
    "new_table.rename(index= str, columns= {'OBS':'Value'}, inplace = True)"
   ]
  },
  {
   "cell_type": "code",
   "execution_count": 19,
   "metadata": {},
   "outputs": [],
   "source": [
    "# new_table['Services'] = new_table['Industry'].map(lambda x: str(x)[8:])"
   ]
  },
  {
   "cell_type": "code",
   "execution_count": 20,
   "metadata": {},
   "outputs": [],
   "source": [
    "# new_table['Product'] = new_table['Industry'].map(lambda x: str(x)[0:8])"
   ]
  },
  {
   "cell_type": "code",
   "execution_count": 21,
   "metadata": {},
   "outputs": [],
   "source": [
    "new_table['Services'] = new_table['Services'].map(lambda cell:cell.replace('Grand Total8', 'Grand Total'))"
   ]
  },
  {
   "cell_type": "code",
   "execution_count": 22,
   "metadata": {},
   "outputs": [],
   "source": [
    "new_table['Services'] = new_table['Services'].str.lstrip('Group 1234567890')"
   ]
  },
  {
   "cell_type": "code",
   "execution_count": 23,
   "metadata": {},
   "outputs": [],
   "source": [
    "new_table['Age of Flow'] = new_table['Age of Flow'].map(str) + ' years'"
   ]
  },
  {
   "cell_type": "code",
   "execution_count": 24,
   "metadata": {},
   "outputs": [],
   "source": [
    "new_table['Services'] = new_table['Services'].str.strip()\n",
    "# new_table['Product'] = new_table['Product'].str.strip()\n",
    "new_table['Year'] = new_table['Year'].str.strip()\n",
    "new_table['Flow'] = new_table['Flow'].str.strip()\n",
    "new_table['Unit'] = new_table['Unit'].str.strip()\n",
    "new_table['Measure Type'] = new_table['Measure Type'].str.strip()\n",
    "new_table['Geography'] = new_table['Geography'].str.strip()\n",
    "new_table['Age of Flow'] = new_table['Age of Flow'].str.strip()"
   ]
  },
  {
   "cell_type": "code",
   "execution_count": 25,
   "metadata": {},
   "outputs": [],
   "source": [
    "new_table = new_table[['Geography','Year','Services','Flow','Age of Flow','Measure Type','Value','Unit']]"
   ]
  },
  {
   "cell_type": "code",
   "execution_count": 26,
   "metadata": {},
   "outputs": [],
   "source": [
    "new_table = new_table[new_table['Value'] != '']"
   ]
  },
  {
   "cell_type": "code",
   "execution_count": 27,
   "metadata": {},
   "outputs": [],
   "source": [
    "new_table['Flow'] = new_table['Flow'].str.rstrip('s')\n",
    "new_table['Value'] = new_table['Value'].astype(int)\n"
   ]
  },
  {
   "cell_type": "code",
   "execution_count": 28,
   "metadata": {},
   "outputs": [],
   "source": [
    "new_table['Services'] = new_table['Services'].map(lambda cell: cell.replace('and', ''))"
   ]
  },
  {
   "cell_type": "code",
   "execution_count": 29,
   "metadata": {},
   "outputs": [],
   "source": [
    "# def user_perc(x):\n",
    "    \n",
    "#     if x.strip(' ') == '':\n",
    "#         return 'NA'\n",
    "#     else:\n",
    "#         return x\n",
    "    \n",
    "# new_table['Services'] = new_table.apply(lambda row: user_perc(row['Services']), axis = 1)\n",
    "# new_table['Business Age(Yrs)'] = new_table.apply(lambda row: user_perc(row['Business Age(Yrs)']), axis = 1)"
   ]
  },
  {
   "cell_type": "code",
   "execution_count": 30,
   "metadata": {
    "scrolled": true
   },
   "outputs": [
    {
     "data": {
      "text/html": [
       "<div>\n",
       "<style scoped>\n",
       "    .dataframe tbody tr th:only-of-type {\n",
       "        vertical-align: middle;\n",
       "    }\n",
       "\n",
       "    .dataframe tbody tr th {\n",
       "        vertical-align: top;\n",
       "    }\n",
       "\n",
       "    .dataframe thead th {\n",
       "        text-align: right;\n",
       "    }\n",
       "</style>\n",
       "<table border=\"1\" class=\"dataframe\">\n",
       "  <thead>\n",
       "    <tr style=\"text-align: right;\">\n",
       "      <th></th>\n",
       "      <th>Geography</th>\n",
       "      <th>Year</th>\n",
       "      <th>Services</th>\n",
       "      <th>Flow</th>\n",
       "      <th>Age of Flow</th>\n",
       "      <th>Measure Type</th>\n",
       "      <th>Value</th>\n",
       "      <th>Unit</th>\n",
       "    </tr>\n",
       "  </thead>\n",
       "  <tbody>\n",
       "    <tr>\n",
       "      <th>0</th>\n",
       "      <td>K02000001</td>\n",
       "      <td>2015</td>\n",
       "      <td>Agriculture  Food</td>\n",
       "      <td>Export</td>\n",
       "      <td>0 to 1 years</td>\n",
       "      <td>Total Turnover</td>\n",
       "      <td>273</td>\n",
       "      <td>£ Million</td>\n",
       "    </tr>\n",
       "    <tr>\n",
       "      <th>1</th>\n",
       "      <td>K02000001</td>\n",
       "      <td>2015</td>\n",
       "      <td>Agriculture  Food</td>\n",
       "      <td>Import</td>\n",
       "      <td>0 to 1 years</td>\n",
       "      <td>Total Turnover</td>\n",
       "      <td>403</td>\n",
       "      <td>£ Million</td>\n",
       "    </tr>\n",
       "    <tr>\n",
       "      <th>2</th>\n",
       "      <td>K02000001</td>\n",
       "      <td>2015</td>\n",
       "      <td>Agriculture  Food</td>\n",
       "      <td>Export</td>\n",
       "      <td>2 to 3 years</td>\n",
       "      <td>Total Turnover</td>\n",
       "      <td>315</td>\n",
       "      <td>£ Million</td>\n",
       "    </tr>\n",
       "    <tr>\n",
       "      <th>3</th>\n",
       "      <td>K02000001</td>\n",
       "      <td>2015</td>\n",
       "      <td>Agriculture  Food</td>\n",
       "      <td>Import</td>\n",
       "      <td>2 to 3 years</td>\n",
       "      <td>Total Turnover</td>\n",
       "      <td>871</td>\n",
       "      <td>£ Million</td>\n",
       "    </tr>\n",
       "  </tbody>\n",
       "</table>\n",
       "</div>"
      ],
      "text/plain": [
       "   Geography  Year           Services    Flow   Age of Flow    Measure Type  \\\n",
       "0  K02000001  2015  Agriculture  Food  Export  0 to 1 years  Total Turnover   \n",
       "1  K02000001  2015  Agriculture  Food  Import  0 to 1 years  Total Turnover   \n",
       "2  K02000001  2015  Agriculture  Food  Export  2 to 3 years  Total Turnover   \n",
       "3  K02000001  2015  Agriculture  Food  Import  2 to 3 years  Total Turnover   \n",
       "\n",
       "   Value       Unit  \n",
       "0    273  £ Million  \n",
       "1    403  £ Million  \n",
       "2    315  £ Million  \n",
       "3    871  £ Million  "
      ]
     },
     "execution_count": 30,
     "metadata": {},
     "output_type": "execute_result"
    }
   ],
   "source": [
    "new_table.head(4)"
   ]
  },
  {
   "cell_type": "code",
   "execution_count": 31,
   "metadata": {},
   "outputs": [
    {
     "data": {
      "text/html": [
       "<div>\n",
       "<style scoped>\n",
       "    .dataframe tbody tr th:only-of-type {\n",
       "        vertical-align: middle;\n",
       "    }\n",
       "\n",
       "    .dataframe tbody tr th {\n",
       "        vertical-align: top;\n",
       "    }\n",
       "\n",
       "    .dataframe thead th {\n",
       "        text-align: right;\n",
       "    }\n",
       "</style>\n",
       "<table border=\"1\" class=\"dataframe\">\n",
       "  <thead>\n",
       "    <tr style=\"text-align: right;\">\n",
       "      <th></th>\n",
       "      <th>Geography</th>\n",
       "      <th>Year</th>\n",
       "      <th>Services</th>\n",
       "      <th>Flow</th>\n",
       "      <th>Age of Flow</th>\n",
       "      <th>Measure Type</th>\n",
       "      <th>Value</th>\n",
       "      <th>Unit</th>\n",
       "    </tr>\n",
       "  </thead>\n",
       "  <tbody>\n",
       "    <tr>\n",
       "      <th>140</th>\n",
       "      <td>K02000001</td>\n",
       "      <td>2015</td>\n",
       "      <td>Unknown</td>\n",
       "      <td>Export</td>\n",
       "      <td>Unknown years</td>\n",
       "      <td>Total Turnover</td>\n",
       "      <td>11160</td>\n",
       "      <td>£ Million</td>\n",
       "    </tr>\n",
       "    <tr>\n",
       "      <th>141</th>\n",
       "      <td>K02000001</td>\n",
       "      <td>2015</td>\n",
       "      <td>Unknown</td>\n",
       "      <td>Import</td>\n",
       "      <td>Unknown years</td>\n",
       "      <td>Total Turnover</td>\n",
       "      <td>6459</td>\n",
       "      <td>£ Million</td>\n",
       "    </tr>\n",
       "    <tr>\n",
       "      <th>142</th>\n",
       "      <td>K02000001</td>\n",
       "      <td>2015</td>\n",
       "      <td>Total</td>\n",
       "      <td>Export</td>\n",
       "      <td>years</td>\n",
       "      <td>Total Turnover</td>\n",
       "      <td>304768</td>\n",
       "      <td>£ Million</td>\n",
       "    </tr>\n",
       "    <tr>\n",
       "      <th>143</th>\n",
       "      <td>K02000001</td>\n",
       "      <td>2015</td>\n",
       "      <td>Total</td>\n",
       "      <td>Import</td>\n",
       "      <td>years</td>\n",
       "      <td>Total Turnover</td>\n",
       "      <td>411033</td>\n",
       "      <td>£ Million</td>\n",
       "    </tr>\n",
       "  </tbody>\n",
       "</table>\n",
       "</div>"
      ],
      "text/plain": [
       "     Geography  Year Services    Flow    Age of Flow    Measure Type   Value  \\\n",
       "140  K02000001  2015  Unknown  Export  Unknown years  Total Turnover   11160   \n",
       "141  K02000001  2015  Unknown  Import  Unknown years  Total Turnover    6459   \n",
       "142  K02000001  2015    Total  Export          years  Total Turnover  304768   \n",
       "143  K02000001  2015    Total  Import          years  Total Turnover  411033   \n",
       "\n",
       "          Unit  \n",
       "140  £ Million  \n",
       "141  £ Million  \n",
       "142  £ Million  \n",
       "143  £ Million  "
      ]
     },
     "execution_count": 31,
     "metadata": {},
     "output_type": "execute_result"
    }
   ],
   "source": [
    "new_table.tail(4)"
   ]
  }
 ],
 "metadata": {
  "kernelspec": {
   "display_name": "Python 3",
   "language": "python",
   "name": "python3"
  },
  "language_info": {
   "codemirror_mode": {
    "name": "ipython",
    "version": 3
   },
   "file_extension": ".py",
   "mimetype": "text/x-python",
   "name": "python",
   "nbconvert_exporter": "python",
   "pygments_lexer": "ipython3",
   "version": "3.6.5"
  }
 },
 "nbformat": 4,
 "nbformat_minor": 2
}
