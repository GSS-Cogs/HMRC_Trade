{
 "cells": [
  {
   "cell_type": "markdown",
   "metadata": {},
   "source": [
    "Business count by Age of Business"
   ]
  },
  {
   "cell_type": "code",
   "execution_count": 1,
   "metadata": {
    "collapsed": true
   },
   "outputs": [],
   "source": [
    "from databaker.framework import *\n",
    "import pandas as pd"
   ]
  },
  {
   "cell_type": "code",
   "execution_count": 2,
   "metadata": {
    "collapsed": true
   },
   "outputs": [],
   "source": [
    "import requests\n",
    "from pathlib import Path\n",
    "\n",
    "sourceFolder = Path('in')\n",
    "sourceFolder.mkdir(exist_ok=True)\n",
    "\n",
    "inputURL = 'https://www.uktradeinfo.com/statistics/documents/idbr_ots_tables_2015.xls'\n",
    "inputFile = sourceFolder / 'idbr_ots_tables_2015.xls'\n",
    "if not(inputFile.exists() and inputFile.is_file()):\n",
    "    response = requests.get(inputURL)\n",
    "    with open(inputFile, 'wb') as f:\n",
    "        f.write(response.content)"
   ]
  },
  {
   "cell_type": "code",
   "execution_count": 3,
   "metadata": {},
   "outputs": [
    {
     "name": "stdout",
     "output_type": "stream",
     "text": [
      "Loading in\\idbr_ots_tables_2015.xls which has size 174080 bytes\n",
      "Table names: ['Notes and Contents', 'Industry Group', 'Age Group', 'Employee Size', 'Industry_Age', 'Industry_EmployeeSize', 'EmployeeSize_Age', 'Metadata']\n"
     ]
    }
   ],
   "source": [
    "tab = loadxlstabs(inputFile)"
   ]
  },
  {
   "cell_type": "code",
   "execution_count": 4,
   "metadata": {
    "collapsed": true
   },
   "outputs": [],
   "source": [
    "tab = tab[2]"
   ]
  },
  {
   "cell_type": "code",
   "execution_count": 5,
   "metadata": {
    "collapsed": true
   },
   "outputs": [
    {
     "data": {
      "text/html": [
       "<div id=\"injblock1001\">\n",
       "<style>\n",
       "table.ex, table.exkey { border: thin black solid }\n",
       "table.ex td, table.ex tr { border: none }\n",
       "table.ex td:hover { border: thin blue solid }\n",
       "table.ex td.excOBS:hover { border: thin red solid }\n",
       "table.ex td.selected { border: thick red solid }\n",
       "</style>\n",
       "\n",
       "\n",
       "\n",
       "<table class=\"ex\">\n",
       "<caption style=\"text-align:center; padding:0px; caption-side:bottom\">Age Group</caption>\n",
       "<tr><td style=\"font-weight:bold\" title=\"0 0\">TRADE IN GOODS STATISTICS MATCHED WITH REGISTERED BUSINESSES FROM THE INTER-DEPARTMENTAL BUSINESS REGISTER</td><td style=\"font-weight:bold\" title=\"1 0\"></td><td style=\"font-weight:bold\" title=\"2 0\"></td><td style=\"font-weight:bold\" title=\"3 0\"></td><td style=\"font-weight:bold\" title=\"4 0\"></td><td title=\"5 0\"></td><td title=\"6 0\"></td><td title=\"7 0\"></td><td title=\"8 0\"></td><td title=\"9 0\"></td><td title=\"10 0\"></td><td title=\"11 0\"></td><td title=\"12 0\"></td><td title=\"13 0\"></td><td title=\"14 0\"></td><td title=\"15 0\"></td><td title=\"16 0\"></td></tr>\n",
       "<tr><td style=\"font-weight:bold\" title=\"0 1\"></td><td style=\"font-weight:bold\" title=\"1 1\"></td><td style=\"font-weight:bold\" title=\"2 1\"></td><td style=\"font-weight:bold\" title=\"3 1\"></td><td style=\"font-weight:bold\" title=\"4 1\"></td><td title=\"5 1\"></td><td title=\"6 1\"></td><td title=\"7 1\"></td><td title=\"8 1\"></td><td title=\"9 1\"></td><td title=\"10 1\"></td><td title=\"11 1\"></td><td title=\"12 1\"></td><td title=\"13 1\"></td><td title=\"14 1\"></td><td title=\"15 1\"></td><td title=\"16 1\"></td></tr>\n",
       "<tr><td style=\"font-weight:bold\" title=\"0 2\">Release Date 24/11/2016</td><td style=\"font-weight:bold\" title=\"1 2\"></td><td title=\"2 2\"></td><td title=\"3 2\"></td><td title=\"4 2\"></td><td title=\"5 2\"></td><td title=\"6 2\"></td><td title=\"7 2\"></td><td title=\"8 2\"></td><td title=\"9 2\"></td><td title=\"10 2\"></td><td title=\"11 2\"></td><td title=\"12 2\"></td><td title=\"13 2\"></td><td title=\"14 2\"></td><td title=\"15 2\"></td><td title=\"16 2\"></td></tr>\n",
       "<tr><td title=\"0 3\"></td><td title=\"1 3\"></td><td title=\"2 3\"></td><td title=\"3 3\"></td><td title=\"4 3\"></td><td title=\"5 3\"></td><td title=\"6 3\"></td><td title=\"7 3\"></td><td title=\"8 3\"></td><td title=\"9 3\"></td><td title=\"10 3\"></td><td title=\"11 3\"></td><td title=\"12 3\"></td><td title=\"13 3\"></td><td title=\"14 3\"></td><td title=\"15 3\"></td><td title=\"16 3\"></td></tr>\n",
       "<tr><td title=\"0 4\"></td><td title=\"1 4\"></td><td title=\"2 4\"></td><td title=\"3 4\"></td><td title=\"4 4\"></td><td title=\"5 4\"></td><td title=\"6 4\"></td><td title=\"7 4\"></td><td title=\"8 4\"></td><td title=\"9 4\"></td><td title=\"10 4\"></td><td title=\"11 4\"></td><td title=\"12 4\"></td><td title=\"13 4\"></td><td title=\"14 4\"></td><td title=\"15 4\"></td><td title=\"16 4\"></td></tr>\n",
       "<tr><td style=\"font-weight:bold\" title=\"0 5\">Total value of UK trade by Age of Business</td><td style=\"font-weight:bold\" title=\"1 5\"></td><td title=\"2 5\"></td><td title=\"3 5\"></td><td title=\"4 5\">£ millions</td><td title=\"5 5\"></td><td title=\"6 5\"></td><td title=\"7 5\"></td><td title=\"8 5\"></td><td title=\"9 5\"></td><td title=\"10 5\"></td><td title=\"11 5\"></td><td title=\"12 5\"></td><td title=\"13 5\"></td><td title=\"14 5\"></td><td title=\"15 5\"></td><td title=\"16 5\"></td></tr>\n",
       "<tr><td title=\"0 6\"></td><td title=\"1 6\"></td><td style=\"font-weight:bold\" title=\"2 6\">Exports</td><td style=\"font-weight:bold\" title=\"3 6\"></td><td style=\"font-weight:bold\" title=\"4 6\">Imports</td><td title=\"5 6\"></td><td title=\"6 6\"></td><td title=\"7 6\"></td><td title=\"8 6\"></td><td title=\"9 6\"></td><td title=\"10 6\"></td><td title=\"11 6\"></td><td title=\"12 6\"></td><td title=\"13 6\"></td><td title=\"14 6\"></td><td title=\"15 6\"></td><td title=\"16 6\"></td></tr>\n",
       "<tr><td style=\"font-weight:bold\" title=\"0 7\">Age (years)</td><td style=\"font-weight:bold\" title=\"1 7\"></td><td title=\"2 7\">2015.0</td><td title=\"3 7\"></td><td title=\"4 7\">2015.0</td><td title=\"5 7\"></td><td title=\"6 7\"></td><td title=\"7 7\"></td><td title=\"8 7\"></td><td title=\"9 7\"></td><td title=\"10 7\"></td><td title=\"11 7\"></td><td title=\"12 7\"></td><td title=\"13 7\"></td><td title=\"14 7\"></td><td title=\"15 7\"></td><td title=\"16 7\"></td></tr>\n",
       "<tr><td style=\"font-weight:bold\" title=\"0 8\"></td><td style=\"font-weight:bold\" title=\"1 8\"></td><td style=\"font-weight:bold\" title=\"2 8\"></td><td style=\"font-weight:bold\" title=\"3 8\"></td><td style=\"font-weight:bold\" title=\"4 8\"></td><td title=\"5 8\"></td><td title=\"6 8\"></td><td title=\"7 8\"></td><td title=\"8 8\"></td><td title=\"9 8\"></td><td title=\"10 8\"></td><td title=\"11 8\"></td><td title=\"12 8\"></td><td title=\"13 8\"></td><td title=\"14 8\"></td><td title=\"15 8\"></td><td title=\"16 8\"></td></tr>\n",
       "<tr><td title=\"0 9\">0 to 1</td><td title=\"1 9\"></td><td title=\"2 9\">5820.0</td><td title=\"3 9\"></td><td title=\"4 9\">15381.0</td><td title=\"5 9\"></td><td title=\"6 9\"></td><td title=\"7 9\"></td><td title=\"8 9\"></td><td title=\"9 9\"></td><td title=\"10 9\"></td><td title=\"11 9\"></td><td title=\"12 9\"></td><td title=\"13 9\"></td><td title=\"14 9\"></td><td title=\"15 9\"></td><td title=\"16 9\"></td></tr>\n",
       "<tr><td title=\"0 10\">2 to 3</td><td title=\"1 10\"></td><td title=\"2 10\">8125.0</td><td title=\"3 10\"></td><td title=\"4 10\">20435.0</td><td title=\"5 10\"></td><td title=\"6 10\"></td><td title=\"7 10\"></td><td title=\"8 10\"></td><td title=\"9 10\"></td><td title=\"10 10\"></td><td title=\"11 10\"></td><td title=\"12 10\"></td><td title=\"13 10\"></td><td title=\"14 10\"></td><td title=\"15 10\"></td><td title=\"16 10\"></td></tr>\n",
       "<tr><td title=\"0 11\">4 to 5</td><td title=\"1 11\"></td><td title=\"2 11\">19237.0</td><td title=\"3 11\"></td><td title=\"4 11\">21748.0</td><td title=\"5 11\"></td><td title=\"6 11\"></td><td title=\"7 11\"></td><td title=\"8 11\"></td><td title=\"9 11\"></td><td title=\"10 11\"></td><td title=\"11 11\"></td><td title=\"12 11\"></td><td title=\"13 11\"></td><td title=\"14 11\"></td><td title=\"15 11\"></td><td title=\"16 11\"></td></tr>\n",
       "<tr><td title=\"0 12\">6 to 9 </td><td title=\"1 12\"></td><td title=\"2 12\">38488.0</td><td title=\"3 12\"></td><td title=\"4 12\">41095.0</td><td title=\"5 12\"></td><td title=\"6 12\"></td><td title=\"7 12\"></td><td title=\"8 12\"></td><td title=\"9 12\"></td><td title=\"10 12\"></td><td title=\"11 12\"></td><td title=\"12 12\"></td><td title=\"13 12\"></td><td title=\"14 12\"></td><td title=\"15 12\"></td><td title=\"16 12\"></td></tr>\n",
       "<tr><td title=\"0 13\">10 to 20</td><td title=\"1 13\"></td><td title=\"2 13\">65344.0</td><td title=\"3 13\"></td><td title=\"4 13\">89915.0</td><td title=\"5 13\"></td><td title=\"6 13\"></td><td title=\"7 13\"></td><td title=\"8 13\"></td><td title=\"9 13\"></td><td title=\"10 13\"></td><td title=\"11 13\"></td><td title=\"12 13\"></td><td title=\"13 13\"></td><td title=\"14 13\"></td><td title=\"15 13\"></td><td title=\"16 13\"></td></tr>\n",
       "<tr><td title=\"0 14\">20 +</td><td title=\"1 14\"></td><td title=\"2 14\">145434.0</td><td title=\"3 14\"></td><td title=\"4 14\">208908.0</td><td title=\"5 14\"></td><td title=\"6 14\"></td><td title=\"7 14\"></td><td title=\"8 14\"></td><td title=\"9 14\"></td><td title=\"10 14\"></td><td title=\"11 14\"></td><td title=\"12 14\"></td><td title=\"13 14\"></td><td title=\"14 14\"></td><td title=\"15 14\"></td><td title=\"16 14\"></td></tr>\n",
       "<tr><td title=\"0 15\">Unknown</td><td title=\"1 15\"></td><td title=\"2 15\">22321.0</td><td title=\"3 15\"></td><td title=\"4 15\">13551.0</td><td title=\"5 15\"></td><td title=\"6 15\"></td><td title=\"7 15\"></td><td title=\"8 15\"></td><td title=\"9 15\"></td><td title=\"10 15\"></td><td title=\"11 15\"></td><td title=\"12 15\"></td><td title=\"13 15\"></td><td title=\"14 15\"></td><td title=\"15 15\"></td><td title=\"16 15\"></td></tr>\n",
       "<tr><td title=\"0 16\"></td><td title=\"1 16\"></td><td title=\"2 16\"></td><td title=\"3 16\"></td><td title=\"4 16\"></td><td title=\"5 16\"></td><td title=\"6 16\"></td><td title=\"7 16\"></td><td title=\"8 16\"></td><td title=\"9 16\"></td><td title=\"10 16\"></td><td title=\"11 16\"></td><td title=\"12 16\"></td><td title=\"13 16\"></td><td title=\"14 16\"></td><td title=\"15 16\"></td><td title=\"16 16\"></td></tr>\n",
       "<tr><td style=\"font-weight:bold\" title=\"0 17\">Total</td><td style=\"font-weight:bold\" title=\"1 17\"></td><td style=\"font-weight:bold\" title=\"2 17\">304768.0</td><td style=\"font-weight:bold\" title=\"3 17\"></td><td style=\"font-weight:bold\" title=\"4 17\">411033.0</td><td title=\"5 17\"></td><td title=\"6 17\"></td><td title=\"7 17\"></td><td title=\"8 17\"></td><td title=\"9 17\"></td><td title=\"10 17\"></td><td title=\"11 17\"></td><td title=\"12 17\"></td><td title=\"13 17\"></td><td title=\"14 17\"></td><td title=\"15 17\"></td><td title=\"16 17\"></td></tr>\n",
       "<tr><td title=\"0 18\"></td><td title=\"1 18\"></td><td title=\"2 18\"></td><td title=\"3 18\"></td><td title=\"4 18\"></td><td title=\"5 18\"></td><td title=\"6 18\"></td><td title=\"7 18\"></td><td title=\"8 18\"></td><td title=\"9 18\"></td><td title=\"10 18\"></td><td title=\"11 18\"></td><td title=\"12 18\"></td><td title=\"13 18\"></td><td title=\"14 18\"></td><td title=\"15 18\"></td><td title=\"16 18\"></td></tr>\n",
       "<tr><td title=\"0 19\"></td><td title=\"1 19\"></td><td title=\"2 19\"></td><td title=\"3 19\"></td><td title=\"4 19\"></td><td title=\"5 19\"></td><td title=\"6 19\"></td><td title=\"7 19\"></td><td title=\"8 19\"></td><td title=\"9 19\"></td><td title=\"10 19\"></td><td title=\"11 19\"></td><td title=\"12 19\"></td><td title=\"13 19\"></td><td title=\"14 19\"></td><td title=\"15 19\"></td><td title=\"16 19\"></td></tr>\n",
       "<tr><td style=\"font-weight:bold\" title=\"0 20\">Business count by Age of Business</td><td style=\"font-weight:bold\" title=\"1 20\"></td><td title=\"2 20\"></td><td title=\"3 20\"></td><td title=\"4 20\">number</td><td title=\"5 20\"></td><td title=\"6 20\"></td><td title=\"7 20\"></td><td title=\"8 20\"></td><td title=\"9 20\"></td><td title=\"10 20\"></td><td title=\"11 20\"></td><td title=\"12 20\"></td><td title=\"13 20\"></td><td title=\"14 20\"></td><td title=\"15 20\"></td><td title=\"16 20\"></td></tr>\n",
       "<tr><td title=\"0 21\"></td><td title=\"1 21\"></td><td style=\"font-weight:bold\" title=\"2 21\">Exports</td><td style=\"font-weight:bold\" title=\"3 21\"></td><td style=\"font-weight:bold\" title=\"4 21\">Imports</td><td title=\"5 21\"></td><td title=\"6 21\"></td><td title=\"7 21\"></td><td title=\"8 21\"></td><td title=\"9 21\"></td><td title=\"10 21\"></td><td title=\"11 21\"></td><td title=\"12 21\"></td><td title=\"13 21\"></td><td title=\"14 21\"></td><td title=\"15 21\"></td><td title=\"16 21\"></td></tr>\n",
       "<tr><td style=\"font-weight:bold\" title=\"0 22\">Age (years)</td><td style=\"font-weight:bold\" title=\"1 22\"></td><td title=\"2 22\">2015.0</td><td title=\"3 22\"></td><td title=\"4 22\">2015.0</td><td title=\"5 22\"></td><td title=\"6 22\"></td><td title=\"7 22\"></td><td title=\"8 22\"></td><td title=\"9 22\"></td><td title=\"10 22\"></td><td title=\"11 22\"></td><td title=\"12 22\"></td><td title=\"13 22\"></td><td title=\"14 22\"></td><td title=\"15 22\"></td><td title=\"16 22\"></td></tr>\n",
       "<tr><td style=\"font-weight:bold\" title=\"0 23\"></td><td style=\"font-weight:bold\" title=\"1 23\"></td><td style=\"font-weight:bold\" title=\"2 23\"></td><td style=\"font-weight:bold\" title=\"3 23\"></td><td style=\"font-weight:bold\" title=\"4 23\"></td><td title=\"5 23\"></td><td title=\"6 23\"></td><td title=\"7 23\"></td><td title=\"8 23\"></td><td title=\"9 23\"></td><td title=\"10 23\"></td><td title=\"11 23\"></td><td title=\"12 23\"></td><td title=\"13 23\"></td><td title=\"14 23\"></td><td title=\"15 23\"></td><td title=\"16 23\"></td></tr>\n",
       "<tr><td title=\"0 24\">0 to 1</td><td title=\"1 24\"></td><td title=\"2 24\">10515.0</td><td title=\"3 24\"></td><td title=\"4 24\">21541.0</td><td title=\"5 24\"></td><td title=\"6 24\"></td><td title=\"7 24\"></td><td title=\"8 24\"></td><td title=\"9 24\"></td><td title=\"10 24\"></td><td title=\"11 24\"></td><td title=\"12 24\"></td><td title=\"13 24\"></td><td title=\"14 24\"></td><td title=\"15 24\"></td><td title=\"16 24\"></td></tr>\n",
       "<tr><td title=\"0 25\">2 to 3</td><td title=\"1 25\"></td><td title=\"2 25\">13308.0</td><td title=\"3 25\"></td><td title=\"4 25\">22043.0</td><td title=\"5 25\"></td><td title=\"6 25\"></td><td title=\"7 25\"></td><td title=\"8 25\"></td><td title=\"9 25\"></td><td title=\"10 25\"></td><td title=\"11 25\"></td><td title=\"12 25\"></td><td title=\"13 25\"></td><td title=\"14 25\"></td><td title=\"15 25\"></td><td title=\"16 25\"></td></tr>\n",
       "<tr><td title=\"0 26\">4 to 5</td><td title=\"1 26\"></td><td title=\"2 26\">12088.0</td><td title=\"3 26\"></td><td title=\"4 26\">18430.0</td><td title=\"5 26\"></td><td title=\"6 26\"></td><td title=\"7 26\"></td><td title=\"8 26\"></td><td title=\"9 26\"></td><td title=\"10 26\"></td><td title=\"11 26\"></td><td title=\"12 26\"></td><td title=\"13 26\"></td><td title=\"14 26\"></td><td title=\"15 26\"></td><td title=\"16 26\"></td></tr>\n",
       "<tr><td title=\"0 27\">6 to 9 </td><td title=\"1 27\"></td><td title=\"2 27\">20136.0</td><td title=\"3 27\"></td><td title=\"4 27\">29117.0</td><td title=\"5 27\"></td><td title=\"6 27\"></td><td title=\"7 27\"></td><td title=\"8 27\"></td><td title=\"9 27\"></td><td title=\"10 27\"></td><td title=\"11 27\"></td><td title=\"12 27\"></td><td title=\"13 27\"></td><td title=\"14 27\"></td><td title=\"15 27\"></td><td title=\"16 27\"></td></tr>\n",
       "<tr><td title=\"0 28\">10 to 20</td><td title=\"1 28\"></td><td title=\"2 28\">36292.0</td><td title=\"3 28\"></td><td title=\"4 28\">49196.0</td><td title=\"5 28\"></td><td title=\"6 28\"></td><td title=\"7 28\"></td><td title=\"8 28\"></td><td title=\"9 28\"></td><td title=\"10 28\"></td><td title=\"11 28\"></td><td title=\"12 28\"></td><td title=\"13 28\"></td><td title=\"14 28\"></td><td title=\"15 28\"></td><td title=\"16 28\"></td></tr>\n",
       "<tr><td title=\"0 29\">20 +</td><td title=\"1 29\"></td><td title=\"2 29\">40773.0</td><td title=\"3 29\"></td><td title=\"4 29\">53659.0</td><td title=\"5 29\"></td><td title=\"6 29\"></td><td title=\"7 29\"></td><td title=\"8 29\"></td><td title=\"9 29\"></td><td title=\"10 29\"></td><td title=\"11 29\"></td><td title=\"12 29\"></td><td title=\"13 29\"></td><td title=\"14 29\"></td><td title=\"15 29\"></td><td title=\"16 29\"></td></tr>\n",
       "<tr><td title=\"0 30\">Unknown</td><td title=\"1 30\"></td><td title=\"2 30\">10246.0</td><td title=\"3 30\"></td><td title=\"4 30\">25316.0</td><td title=\"5 30\"></td><td title=\"6 30\"></td><td title=\"7 30\"></td><td title=\"8 30\"></td><td title=\"9 30\"></td><td title=\"10 30\"></td><td title=\"11 30\"></td><td title=\"12 30\"></td><td title=\"13 30\"></td><td title=\"14 30\"></td><td title=\"15 30\"></td><td title=\"16 30\"></td></tr>\n",
       "<tr><td title=\"0 31\"></td><td title=\"1 31\"></td><td title=\"2 31\"></td><td title=\"3 31\"></td><td title=\"4 31\"></td><td title=\"5 31\"></td><td title=\"6 31\"></td><td title=\"7 31\"></td><td title=\"8 31\"></td><td title=\"9 31\"></td><td title=\"10 31\"></td><td title=\"11 31\"></td><td title=\"12 31\"></td><td title=\"13 31\"></td><td title=\"14 31\"></td><td title=\"15 31\"></td><td title=\"16 31\"></td></tr>\n",
       "<tr><td style=\"font-weight:bold\" title=\"0 32\">Total</td><td style=\"font-weight:bold\" title=\"1 32\"></td><td style=\"font-weight:bold\" title=\"2 32\">143358.0</td><td style=\"font-weight:bold\" title=\"3 32\"></td><td style=\"font-weight:bold\" title=\"4 32\">219302.0</td><td title=\"5 32\"></td><td title=\"6 32\"></td><td title=\"7 32\"></td><td title=\"8 32\"></td><td title=\"9 32\"></td><td title=\"10 32\"></td><td title=\"11 32\"></td><td title=\"12 32\"></td><td title=\"13 32\"></td><td title=\"14 32\"></td><td title=\"15 32\"></td><td title=\"16 32\"></td></tr>\n",
       "<tr><td title=\"0 33\"></td><td title=\"1 33\"></td><td title=\"2 33\"></td><td title=\"3 33\"></td><td title=\"4 33\"></td><td title=\"5 33\"></td><td title=\"6 33\"></td><td title=\"7 33\"></td><td title=\"8 33\"></td><td title=\"9 33\"></td><td title=\"10 33\"></td><td title=\"11 33\"></td><td title=\"12 33\"></td><td title=\"13 33\"></td><td title=\"14 33\"></td><td title=\"15 33\"></td><td title=\"16 33\"></td></tr>\n",
       "<tr><td title=\"0 34\"></td><td title=\"1 34\"></td><td title=\"2 34\"></td><td title=\"3 34\"></td><td title=\"4 34\"></td><td title=\"5 34\"></td><td title=\"6 34\"></td><td title=\"7 34\"></td><td title=\"8 34\"></td><td title=\"9 34\"></td><td title=\"10 34\"></td><td title=\"11 34\"></td><td title=\"12 34\"></td><td title=\"13 34\"></td><td title=\"14 34\"></td><td title=\"15 34\"></td><td title=\"16 34\"></td></tr>\n",
       "<tr><td style=\"font-weight:bold\" title=\"0 35\">Employee count for Businesses by Age of Business</td><td style=\"font-weight:bold\" title=\"1 35\"></td><td title=\"2 35\"></td><td title=\"3 35\"></td><td title=\"4 35\">number</td><td title=\"5 35\"></td><td title=\"6 35\"></td><td title=\"7 35\"></td><td title=\"8 35\"></td><td title=\"9 35\"></td><td title=\"10 35\"></td><td title=\"11 35\"></td><td title=\"12 35\"></td><td title=\"13 35\"></td><td title=\"14 35\"></td><td title=\"15 35\"></td><td title=\"16 35\"></td></tr>\n",
       "<tr><td title=\"0 36\"></td><td title=\"1 36\"></td><td style=\"font-weight:bold\" title=\"2 36\">Exports</td><td style=\"font-weight:bold\" title=\"3 36\"></td><td style=\"font-weight:bold\" title=\"4 36\">Imports</td><td title=\"5 36\"></td><td title=\"6 36\"></td><td title=\"7 36\"></td><td title=\"8 36\"></td><td title=\"9 36\"></td><td title=\"10 36\"></td><td title=\"11 36\"></td><td title=\"12 36\"></td><td title=\"13 36\"></td><td title=\"14 36\"></td><td title=\"15 36\"></td><td title=\"16 36\"></td></tr>\n",
       "<tr><td style=\"font-weight:bold\" title=\"0 37\">Age (years)</td><td style=\"font-weight:bold\" title=\"1 37\"></td><td title=\"2 37\">2015.0</td><td title=\"3 37\"></td><td title=\"4 37\">2015.0</td><td title=\"5 37\"></td><td title=\"6 37\"></td><td title=\"7 37\"></td><td title=\"8 37\"></td><td title=\"9 37\"></td><td title=\"10 37\"></td><td title=\"11 37\"></td><td title=\"12 37\"></td><td title=\"13 37\"></td><td title=\"14 37\"></td><td title=\"15 37\"></td><td title=\"16 37\"></td></tr>\n",
       "<tr><td style=\"font-weight:bold\" title=\"0 38\"></td><td style=\"font-weight:bold\" title=\"1 38\"></td><td style=\"font-weight:bold\" title=\"2 38\"></td><td style=\"font-weight:bold\" title=\"3 38\"></td><td style=\"font-weight:bold\" title=\"4 38\"></td><td title=\"5 38\"></td><td title=\"6 38\"></td><td title=\"7 38\"></td><td title=\"8 38\"></td><td title=\"9 38\"></td><td title=\"10 38\"></td><td title=\"11 38\"></td><td title=\"12 38\"></td><td title=\"13 38\"></td><td title=\"14 38\"></td><td title=\"15 38\"></td><td title=\"16 38\"></td></tr>\n",
       "<tr><td title=\"0 39\">0 to 1</td><td title=\"1 39\"></td><td title=\"2 39\">280014.0</td><td title=\"3 39\"></td><td title=\"4 39\">454907.0</td><td title=\"5 39\"></td><td title=\"6 39\"></td><td title=\"7 39\"></td><td title=\"8 39\"></td><td title=\"9 39\"></td><td title=\"10 39\"></td><td title=\"11 39\"></td><td title=\"12 39\"></td><td title=\"13 39\"></td><td title=\"14 39\"></td><td title=\"15 39\"></td><td title=\"16 39\"></td></tr>\n",
       "<tr><td title=\"0 40\">2 to 3</td><td title=\"1 40\"></td><td title=\"2 40\">250035.0</td><td title=\"3 40\"></td><td title=\"4 40\">401868.0</td><td title=\"5 40\"></td><td title=\"6 40\"></td><td title=\"7 40\"></td><td title=\"8 40\"></td><td title=\"9 40\"></td><td title=\"10 40\"></td><td title=\"11 40\"></td><td title=\"12 40\"></td><td title=\"13 40\"></td><td title=\"14 40\"></td><td title=\"15 40\"></td><td title=\"16 40\"></td></tr>\n",
       "<tr><td title=\"0 41\">4 to 5</td><td title=\"1 41\"></td><td title=\"2 41\">263538.0</td><td title=\"3 41\"></td><td title=\"4 41\">393081.0</td><td title=\"5 41\"></td><td title=\"6 41\"></td><td title=\"7 41\"></td><td title=\"8 41\"></td><td title=\"9 41\"></td><td title=\"10 41\"></td><td title=\"11 41\"></td><td title=\"12 41\"></td><td title=\"13 41\"></td><td title=\"14 41\"></td><td title=\"15 41\"></td><td title=\"16 41\"></td></tr>\n",
       "<tr><td title=\"0 42\">6 to 9 </td><td title=\"1 42\"></td><td title=\"2 42\">725644.0</td><td title=\"3 42\"></td><td title=\"4 42\">1032556.0</td><td title=\"5 42\"></td><td title=\"6 42\"></td><td title=\"7 42\"></td><td title=\"8 42\"></td><td title=\"9 42\"></td><td title=\"10 42\"></td><td title=\"11 42\"></td><td title=\"12 42\"></td><td title=\"13 42\"></td><td title=\"14 42\"></td><td title=\"15 42\"></td><td title=\"16 42\"></td></tr>\n",
       "<tr><td title=\"0 43\">10 to 20</td><td title=\"1 43\"></td><td title=\"2 43\">1897114.0</td><td title=\"3 43\"></td><td title=\"4 43\">2451138.0</td><td title=\"5 43\"></td><td title=\"6 43\"></td><td title=\"7 43\"></td><td title=\"8 43\"></td><td title=\"9 43\"></td><td title=\"10 43\"></td><td title=\"11 43\"></td><td title=\"12 43\"></td><td title=\"13 43\"></td><td title=\"14 43\"></td><td title=\"15 43\"></td><td title=\"16 43\"></td></tr>\n",
       "<tr><td title=\"0 44\">20 +</td><td title=\"1 44\"></td><td title=\"2 44\">6078989.0</td><td title=\"3 44\"></td><td title=\"4 44\">7521332.0</td><td title=\"5 44\"></td><td title=\"6 44\"></td><td title=\"7 44\"></td><td title=\"8 44\"></td><td title=\"9 44\"></td><td title=\"10 44\"></td><td title=\"11 44\"></td><td title=\"12 44\"></td><td title=\"13 44\"></td><td title=\"14 44\"></td><td title=\"15 44\"></td><td title=\"16 44\"></td></tr>\n",
       "<tr><td title=\"0 45\">Unknown8</td><td title=\"1 45\"></td><td title=\"2 45\">58109.0</td><td title=\"3 45\"></td><td title=\"4 45\">99784.0</td><td title=\"5 45\"></td><td title=\"6 45\"></td><td title=\"7 45\"></td><td title=\"8 45\"></td><td title=\"9 45\"></td><td title=\"10 45\"></td><td title=\"11 45\"></td><td title=\"12 45\"></td><td title=\"13 45\"></td><td title=\"14 45\"></td><td title=\"15 45\"></td><td title=\"16 45\"></td></tr>\n",
       "<tr><td title=\"0 46\"></td><td title=\"1 46\"></td><td title=\"2 46\"></td><td title=\"3 46\"></td><td title=\"4 46\"></td><td title=\"5 46\"></td><td title=\"6 46\"></td><td title=\"7 46\"></td><td title=\"8 46\"></td><td title=\"9 46\"></td><td title=\"10 46\"></td><td title=\"11 46\"></td><td title=\"12 46\"></td><td title=\"13 46\"></td><td title=\"14 46\"></td><td title=\"15 46\"></td><td title=\"16 46\"></td></tr>\n",
       "<tr><td style=\"font-weight:bold\" title=\"0 47\">Total9</td><td style=\"font-weight:bold\" title=\"1 47\"></td><td style=\"font-weight:bold\" title=\"2 47\">9553443.0</td><td style=\"font-weight:bold\" title=\"3 47\"></td><td style=\"font-weight:bold\" title=\"4 47\">12354666.0</td><td title=\"5 47\"></td><td title=\"6 47\"></td><td title=\"7 47\"></td><td title=\"8 47\"></td><td title=\"9 47\"></td><td title=\"10 47\"></td><td title=\"11 47\"></td><td title=\"12 47\"></td><td title=\"13 47\"></td><td title=\"14 47\"></td><td title=\"15 47\"></td><td title=\"16 47\"></td></tr>\n",
       "<tr><td title=\"0 48\"></td><td title=\"1 48\"></td><td title=\"2 48\"></td><td title=\"3 48\"></td><td title=\"4 48\"></td><td title=\"5 48\"></td><td title=\"6 48\"></td><td title=\"7 48\"></td><td title=\"8 48\"></td><td title=\"9 48\"></td><td title=\"10 48\"></td><td title=\"11 48\"></td><td title=\"12 48\"></td><td title=\"13 48\"></td><td title=\"14 48\"></td><td title=\"15 48\"></td><td title=\"16 48\"></td></tr>\n",
       "<tr><td title=\"0 49\"></td><td title=\"1 49\"></td><td title=\"2 49\"></td><td title=\"3 49\"></td><td title=\"4 49\">Source: HMRC OTS and ONS IDBR data</td><td title=\"5 49\"></td><td title=\"6 49\"></td><td title=\"7 49\"></td><td title=\"8 49\"></td><td title=\"9 49\"></td><td title=\"10 49\"></td><td title=\"11 49\"></td><td title=\"12 49\"></td><td title=\"13 49\"></td><td title=\"14 49\"></td><td title=\"15 49\"></td><td title=\"16 49\"></td></tr>\n",
       "<tr><td title=\"0 50\">Notes:</td><td title=\"1 50\"></td><td title=\"2 50\"></td><td title=\"3 50\"></td><td title=\"4 50\"></td><td title=\"5 50\"></td><td title=\"6 50\"></td><td title=\"7 50\"></td><td title=\"8 50\"></td><td title=\"9 50\"></td><td title=\"10 50\"></td><td title=\"11 50\"></td><td title=\"12 50\"></td><td title=\"13 50\"></td><td title=\"14 50\"></td><td title=\"15 50\"></td><td title=\"16 50\"></td></tr>\n",
       "<tr><td title=\"0 51\">1. These estimates are experimental official statistics. </td><td title=\"1 51\"></td><td title=\"2 51\"></td><td title=\"3 51\"></td><td title=\"4 51\"></td><td title=\"5 51\"></td><td title=\"6 51\"></td><td title=\"7 51\"></td><td title=\"8 51\"></td><td title=\"9 51\"></td><td title=\"10 51\"></td><td title=\"11 51\"></td><td title=\"12 51\"></td><td title=\"13 51\"></td><td title=\"14 51\"></td><td title=\"15 51\"></td><td title=\"16 51\"></td></tr>\n",
       "<tr><td title=\"0 52\">2. Registered businesses/enterprises are those which are registered for VAT and or EORI</td><td title=\"1 52\"></td><td title=\"2 52\"></td><td title=\"3 52\"></td><td title=\"4 52\"></td><td title=\"5 52\"></td><td title=\"6 52\"></td><td title=\"7 52\"></td><td title=\"8 52\"></td><td title=\"9 52\"></td><td title=\"10 52\"></td><td title=\"11 52\"></td><td title=\"12 52\"></td><td title=\"13 52\"></td><td title=\"14 52\"></td><td title=\"15 52\"></td><td title=\"16 52\"></td></tr>\n",
       "<tr><td title=\"0 53\">3. Cells with:      .  = Not Applicable </td><td title=\"1 53\"></td><td title=\"2 53\"></td><td title=\"3 53\"></td><td title=\"4 53\"></td><td title=\"5 53\"></td><td title=\"6 53\"></td><td title=\"7 53\"></td><td title=\"8 53\"></td><td title=\"9 53\"></td><td title=\"10 53\"></td><td title=\"11 53\"></td><td title=\"12 53\"></td><td title=\"13 53\"></td><td title=\"14 53\"></td><td title=\"15 53\"></td><td title=\"16 53\"></td></tr>\n",
       "<tr><td title=\"0 54\">4. Value of trade are in £ millions</td><td title=\"1 54\"></td><td title=\"2 54\"></td><td title=\"3 54\"></td><td title=\"4 54\"></td><td title=\"5 54\"></td><td title=\"6 54\"></td><td title=\"7 54\"></td><td title=\"8 54\"></td><td title=\"9 54\"></td><td title=\"10 54\"></td><td title=\"11 54\"></td><td title=\"12 54\"></td><td title=\"13 54\"></td><td title=\"14 54\"></td><td title=\"15 54\"></td><td title=\"16 54\"></td></tr>\n",
       "<tr><td title=\"0 55\">5. Further details of Industry Group, Age and Employee size can be in the Metadata tab</td><td title=\"1 55\"></td><td title=\"2 55\"></td><td title=\"3 55\"></td><td title=\"4 55\"></td><td title=\"5 55\"></td><td title=\"6 55\"></td><td title=\"7 55\"></td><td title=\"8 55\"></td><td title=\"9 55\"></td><td title=\"10 55\"></td><td title=\"11 55\"></td><td title=\"12 55\"></td><td title=\"13 55\"></td><td title=\"14 55\"></td><td title=\"15 55\"></td><td title=\"16 55\"></td></tr>\n",
       "<tr><td title=\"0 56\">6. Employment sizebands are based on IDBR employment for all variables and represent the employment of the Business</td><td title=\"1 56\"></td><td title=\"2 56\"></td><td title=\"3 56\"></td><td title=\"4 56\"></td><td title=\"5 56\"></td><td title=\"6 56\"></td><td title=\"7 56\"></td><td title=\"8 56\"></td><td title=\"9 56\"></td><td title=\"10 56\"></td><td title=\"11 56\"></td><td title=\"12 56\"></td><td title=\"13 56\"></td><td title=\"14 56\"></td><td title=\"15 56\"></td><td title=\"16 56\"></td></tr>\n",
       "<tr><td title=\"0 57\">7. Age of a business is defined using the birth date, or registration date, of the business held within the IDBR. Mergers and other changes in structure may require re-registration and therefore affect the validity of this date.</td><td title=\"1 57\"></td><td title=\"2 57\"></td><td title=\"3 57\"></td><td title=\"4 57\"></td><td title=\"5 57\"></td><td title=\"6 57\"></td><td title=\"7 57\"></td><td title=\"8 57\"></td><td title=\"9 57\"></td><td title=\"10 57\"></td><td title=\"11 57\"></td><td title=\"12 57\"></td><td title=\"13 57\"></td><td title=\"14 57\"></td><td title=\"15 57\"></td><td title=\"16 57\"></td></tr>\n",
       "<tr><td title=\"0 58\">8. Employee counts for the 'Unknown' age group exclude businesses where employee count is unknown. </td><td title=\"1 58\"></td><td title=\"2 58\"></td><td title=\"3 58\"></td><td title=\"4 58\"></td><td title=\"5 58\"></td><td title=\"6 58\"></td><td title=\"7 58\"></td><td title=\"8 58\"></td><td title=\"9 58\"></td><td title=\"10 58\"></td><td title=\"11 58\"></td><td title=\"12 58\"></td><td title=\"13 58\"></td><td title=\"14 58\"></td><td title=\"15 58\"></td><td title=\"16 58\"></td></tr>\n",
       "<tr><td title=\"0 59\">9. Employee count totals exclude businesses where employee count is unknown.</td><td title=\"1 59\"></td><td title=\"2 59\"></td><td title=\"3 59\"></td><td title=\"4 59\"></td><td title=\"5 59\"></td><td title=\"6 59\"></td><td title=\"7 59\"></td><td title=\"8 59\"></td><td title=\"9 59\"></td><td title=\"10 59\"></td><td title=\"11 59\"></td><td title=\"12 59\"></td><td title=\"13 59\"></td><td title=\"14 59\"></td><td title=\"15 59\"></td><td title=\"16 59\"></td></tr>\n",
       "</table>\n",
       "\n",
       "</div>\n"
      ],
      "text/plain": [
       "<IPython.core.display.HTML object>"
      ]
     },
     "metadata": {},
     "output_type": "display_data"
    }
   ],
   "source": [
    "savepreviewhtml(tab)"
   ]
  },
  {
   "cell_type": "code",
   "execution_count": 6,
   "metadata": {
    "collapsed": true
   },
   "outputs": [],
   "source": [
    "observations = tab.excel_ref('C25').expand(DOWN).expand(RIGHT).is_not_blank()-tab.excel_ref('C24').expand(UP)"
   ]
  },
  {
   "cell_type": "code",
   "execution_count": 7,
   "metadata": {
    "collapsed": true
   },
   "outputs": [],
   "source": [
    "observations = observations - tab.excel_ref('C34').expand(DOWN).expand(RIGHT)"
   ]
  },
  {
   "cell_type": "code",
   "execution_count": 8,
   "metadata": {
    "collapsed": true
   },
   "outputs": [],
   "source": [
    "Businessage = tab.excel_ref('A').expand(DOWN)"
   ]
  },
  {
   "cell_type": "code",
   "execution_count": 13,
   "metadata": {
    "collapsed": true
   },
   "outputs": [],
   "source": [
    "Flow = tab.excel_ref('C5').expand(RIGHT)"
   ]
  },
  {
   "cell_type": "code",
   "execution_count": 19,
   "metadata": {
    "collapsed": true
   },
   "outputs": [],
   "source": [
    "Dimensions = [\n",
    "            HDimConst('Geography', 'K02000001'),\n",
    "            HDimConst('Year','2015'),\n",
    "            HDimConst('Unit', 'Count'), \n",
    "            HDimConst('Measure Type','Business'),            \n",
    "            HDim(Businessage, 'Business Age(Yrs)', DIRECTLY, LEFT),\n",
    "            HDim(Flow, 'Flow', CLOSEST, LEFT)    \n",
    "]"
   ]
  },
  {
   "cell_type": "code",
   "execution_count": 20,
   "metadata": {
    "collapsed": true
   },
   "outputs": [],
   "source": [
    "c1 = ConversionSegment(observations, Dimensions, processTIMEUNIT=True)"
   ]
  },
  {
   "cell_type": "code",
   "execution_count": 21,
   "metadata": {
    "collapsed": true
   },
   "outputs": [
    {
     "data": {
      "text/html": [
       "<div id=\"injblock1004\">\n",
       "<style>\n",
       "table.ex, table.exkey { border: thin black solid }\n",
       "table.ex td, table.ex tr { border: none }\n",
       "table.ex td:hover { border: thin blue solid }\n",
       "table.ex td.excOBS:hover { border: thin red solid }\n",
       "table.ex td.selected { border: thick red solid }\n",
       "</style>\n",
       "\n",
       "\n",
       "<table class=\"exkey\">\n",
       "<tr><td class=\"xc0\" style=\"background-color:Aqua\">OBS</td><td class=\"xc5\" style=\"background-color:Coral\">Business Age(Yrs)</td><td class=\"xc6\" style=\"background-color:Gold\">Flow</td></tr></table>\n",
       "\n",
       "<table class=\"ex\">\n",
       "<caption style=\"text-align:center; padding:0px; caption-side:bottom\">Age Group</caption>\n",
       "<tr><td style=\"background-color:Coral;font-weight:bold\" title=\"0 0\">TRADE IN GOODS STATISTICS MATCHED WITH REGISTERED BUSINESSES FROM THE INTER-DEPARTMENTAL BUSINESS REGISTER</td><td style=\"font-weight:bold\" title=\"1 0\"></td><td style=\"font-weight:bold\" title=\"2 0\"></td><td style=\"font-weight:bold\" title=\"3 0\"></td><td style=\"font-weight:bold\" title=\"4 0\"></td><td title=\"5 0\"></td><td title=\"6 0\"></td><td title=\"7 0\"></td><td title=\"8 0\"></td><td title=\"9 0\"></td><td title=\"10 0\"></td><td title=\"11 0\"></td><td title=\"12 0\"></td><td title=\"13 0\"></td><td title=\"14 0\"></td><td title=\"15 0\"></td><td title=\"16 0\"></td></tr>\n",
       "<tr><td style=\"background-color:Coral;font-weight:bold\" title=\"0 1\"></td><td style=\"font-weight:bold\" title=\"1 1\"></td><td style=\"font-weight:bold\" title=\"2 1\"></td><td style=\"font-weight:bold\" title=\"3 1\"></td><td style=\"font-weight:bold\" title=\"4 1\"></td><td title=\"5 1\"></td><td title=\"6 1\"></td><td title=\"7 1\"></td><td title=\"8 1\"></td><td title=\"9 1\"></td><td title=\"10 1\"></td><td title=\"11 1\"></td><td title=\"12 1\"></td><td title=\"13 1\"></td><td title=\"14 1\"></td><td title=\"15 1\"></td><td title=\"16 1\"></td></tr>\n",
       "<tr><td style=\"background-color:Coral;font-weight:bold\" title=\"0 2\">Release Date 24/11/2016</td><td style=\"font-weight:bold\" title=\"1 2\"></td><td title=\"2 2\"></td><td title=\"3 2\"></td><td title=\"4 2\"></td><td title=\"5 2\"></td><td title=\"6 2\"></td><td title=\"7 2\"></td><td title=\"8 2\"></td><td title=\"9 2\"></td><td title=\"10 2\"></td><td title=\"11 2\"></td><td title=\"12 2\"></td><td title=\"13 2\"></td><td title=\"14 2\"></td><td title=\"15 2\"></td><td title=\"16 2\"></td></tr>\n",
       "<tr><td style=\"background-color:Coral\" title=\"0 3\"></td><td title=\"1 3\"></td><td title=\"2 3\"></td><td title=\"3 3\"></td><td title=\"4 3\"></td><td title=\"5 3\"></td><td title=\"6 3\"></td><td title=\"7 3\"></td><td title=\"8 3\"></td><td title=\"9 3\"></td><td title=\"10 3\"></td><td title=\"11 3\"></td><td title=\"12 3\"></td><td title=\"13 3\"></td><td title=\"14 3\"></td><td title=\"15 3\"></td><td title=\"16 3\"></td></tr>\n",
       "<tr><td style=\"background-color:Coral\" title=\"0 4\"></td><td title=\"1 4\"></td><td style=\"background-color:Gold\" title=\"2 4\"></td><td style=\"background-color:Gold\" title=\"3 4\"></td><td style=\"background-color:Gold\" title=\"4 4\"></td><td style=\"background-color:Gold\" title=\"5 4\"></td><td style=\"background-color:Gold\" title=\"6 4\"></td><td style=\"background-color:Gold\" title=\"7 4\"></td><td style=\"background-color:Gold\" title=\"8 4\"></td><td style=\"background-color:Gold\" title=\"9 4\"></td><td style=\"background-color:Gold\" title=\"10 4\"></td><td style=\"background-color:Gold\" title=\"11 4\"></td><td style=\"background-color:Gold\" title=\"12 4\"></td><td style=\"background-color:Gold\" title=\"13 4\"></td><td style=\"background-color:Gold\" title=\"14 4\"></td><td style=\"background-color:Gold\" title=\"15 4\"></td><td style=\"background-color:Gold\" title=\"16 4\"></td></tr>\n",
       "<tr><td style=\"background-color:Coral;font-weight:bold\" title=\"0 5\">Total value of UK trade by Age of Business</td><td style=\"font-weight:bold\" title=\"1 5\"></td><td title=\"2 5\"></td><td title=\"3 5\"></td><td title=\"4 5\">£ millions</td><td title=\"5 5\"></td><td title=\"6 5\"></td><td title=\"7 5\"></td><td title=\"8 5\"></td><td title=\"9 5\"></td><td title=\"10 5\"></td><td title=\"11 5\"></td><td title=\"12 5\"></td><td title=\"13 5\"></td><td title=\"14 5\"></td><td title=\"15 5\"></td><td title=\"16 5\"></td></tr>\n",
       "<tr><td style=\"background-color:Coral\" title=\"0 6\"></td><td title=\"1 6\"></td><td style=\"font-weight:bold\" title=\"2 6\">Exports</td><td style=\"font-weight:bold\" title=\"3 6\"></td><td style=\"font-weight:bold\" title=\"4 6\">Imports</td><td title=\"5 6\"></td><td title=\"6 6\"></td><td title=\"7 6\"></td><td title=\"8 6\"></td><td title=\"9 6\"></td><td title=\"10 6\"></td><td title=\"11 6\"></td><td title=\"12 6\"></td><td title=\"13 6\"></td><td title=\"14 6\"></td><td title=\"15 6\"></td><td title=\"16 6\"></td></tr>\n",
       "<tr><td style=\"background-color:Coral;font-weight:bold\" title=\"0 7\">Age (years)</td><td style=\"font-weight:bold\" title=\"1 7\"></td><td title=\"2 7\">2015.0</td><td title=\"3 7\"></td><td title=\"4 7\">2015.0</td><td title=\"5 7\"></td><td title=\"6 7\"></td><td title=\"7 7\"></td><td title=\"8 7\"></td><td title=\"9 7\"></td><td title=\"10 7\"></td><td title=\"11 7\"></td><td title=\"12 7\"></td><td title=\"13 7\"></td><td title=\"14 7\"></td><td title=\"15 7\"></td><td title=\"16 7\"></td></tr>\n",
       "<tr><td style=\"background-color:Coral;font-weight:bold\" title=\"0 8\"></td><td style=\"font-weight:bold\" title=\"1 8\"></td><td style=\"font-weight:bold\" title=\"2 8\"></td><td style=\"font-weight:bold\" title=\"3 8\"></td><td style=\"font-weight:bold\" title=\"4 8\"></td><td title=\"5 8\"></td><td title=\"6 8\"></td><td title=\"7 8\"></td><td title=\"8 8\"></td><td title=\"9 8\"></td><td title=\"10 8\"></td><td title=\"11 8\"></td><td title=\"12 8\"></td><td title=\"13 8\"></td><td title=\"14 8\"></td><td title=\"15 8\"></td><td title=\"16 8\"></td></tr>\n",
       "<tr><td style=\"background-color:Coral\" title=\"0 9\">0 to 1</td><td title=\"1 9\"></td><td title=\"2 9\">5820.0</td><td title=\"3 9\"></td><td title=\"4 9\">15381.0</td><td title=\"5 9\"></td><td title=\"6 9\"></td><td title=\"7 9\"></td><td title=\"8 9\"></td><td title=\"9 9\"></td><td title=\"10 9\"></td><td title=\"11 9\"></td><td title=\"12 9\"></td><td title=\"13 9\"></td><td title=\"14 9\"></td><td title=\"15 9\"></td><td title=\"16 9\"></td></tr>\n",
       "<tr><td style=\"background-color:Coral\" title=\"0 10\">2 to 3</td><td title=\"1 10\"></td><td title=\"2 10\">8125.0</td><td title=\"3 10\"></td><td title=\"4 10\">20435.0</td><td title=\"5 10\"></td><td title=\"6 10\"></td><td title=\"7 10\"></td><td title=\"8 10\"></td><td title=\"9 10\"></td><td title=\"10 10\"></td><td title=\"11 10\"></td><td title=\"12 10\"></td><td title=\"13 10\"></td><td title=\"14 10\"></td><td title=\"15 10\"></td><td title=\"16 10\"></td></tr>\n",
       "<tr><td style=\"background-color:Coral\" title=\"0 11\">4 to 5</td><td title=\"1 11\"></td><td title=\"2 11\">19237.0</td><td title=\"3 11\"></td><td title=\"4 11\">21748.0</td><td title=\"5 11\"></td><td title=\"6 11\"></td><td title=\"7 11\"></td><td title=\"8 11\"></td><td title=\"9 11\"></td><td title=\"10 11\"></td><td title=\"11 11\"></td><td title=\"12 11\"></td><td title=\"13 11\"></td><td title=\"14 11\"></td><td title=\"15 11\"></td><td title=\"16 11\"></td></tr>\n",
       "<tr><td style=\"background-color:Coral\" title=\"0 12\">6 to 9 </td><td title=\"1 12\"></td><td title=\"2 12\">38488.0</td><td title=\"3 12\"></td><td title=\"4 12\">41095.0</td><td title=\"5 12\"></td><td title=\"6 12\"></td><td title=\"7 12\"></td><td title=\"8 12\"></td><td title=\"9 12\"></td><td title=\"10 12\"></td><td title=\"11 12\"></td><td title=\"12 12\"></td><td title=\"13 12\"></td><td title=\"14 12\"></td><td title=\"15 12\"></td><td title=\"16 12\"></td></tr>\n",
       "<tr><td style=\"background-color:Coral\" title=\"0 13\">10 to 20</td><td title=\"1 13\"></td><td title=\"2 13\">65344.0</td><td title=\"3 13\"></td><td title=\"4 13\">89915.0</td><td title=\"5 13\"></td><td title=\"6 13\"></td><td title=\"7 13\"></td><td title=\"8 13\"></td><td title=\"9 13\"></td><td title=\"10 13\"></td><td title=\"11 13\"></td><td title=\"12 13\"></td><td title=\"13 13\"></td><td title=\"14 13\"></td><td title=\"15 13\"></td><td title=\"16 13\"></td></tr>\n",
       "<tr><td style=\"background-color:Coral\" title=\"0 14\">20 +</td><td title=\"1 14\"></td><td title=\"2 14\">145434.0</td><td title=\"3 14\"></td><td title=\"4 14\">208908.0</td><td title=\"5 14\"></td><td title=\"6 14\"></td><td title=\"7 14\"></td><td title=\"8 14\"></td><td title=\"9 14\"></td><td title=\"10 14\"></td><td title=\"11 14\"></td><td title=\"12 14\"></td><td title=\"13 14\"></td><td title=\"14 14\"></td><td title=\"15 14\"></td><td title=\"16 14\"></td></tr>\n",
       "<tr><td style=\"background-color:Coral\" title=\"0 15\">Unknown</td><td title=\"1 15\"></td><td title=\"2 15\">22321.0</td><td title=\"3 15\"></td><td title=\"4 15\">13551.0</td><td title=\"5 15\"></td><td title=\"6 15\"></td><td title=\"7 15\"></td><td title=\"8 15\"></td><td title=\"9 15\"></td><td title=\"10 15\"></td><td title=\"11 15\"></td><td title=\"12 15\"></td><td title=\"13 15\"></td><td title=\"14 15\"></td><td title=\"15 15\"></td><td title=\"16 15\"></td></tr>\n",
       "<tr><td style=\"background-color:Coral\" title=\"0 16\"></td><td title=\"1 16\"></td><td title=\"2 16\"></td><td title=\"3 16\"></td><td title=\"4 16\"></td><td title=\"5 16\"></td><td title=\"6 16\"></td><td title=\"7 16\"></td><td title=\"8 16\"></td><td title=\"9 16\"></td><td title=\"10 16\"></td><td title=\"11 16\"></td><td title=\"12 16\"></td><td title=\"13 16\"></td><td title=\"14 16\"></td><td title=\"15 16\"></td><td title=\"16 16\"></td></tr>\n",
       "<tr><td style=\"background-color:Coral;font-weight:bold\" title=\"0 17\">Total</td><td style=\"font-weight:bold\" title=\"1 17\"></td><td style=\"font-weight:bold\" title=\"2 17\">304768.0</td><td style=\"font-weight:bold\" title=\"3 17\"></td><td style=\"font-weight:bold\" title=\"4 17\">411033.0</td><td title=\"5 17\"></td><td title=\"6 17\"></td><td title=\"7 17\"></td><td title=\"8 17\"></td><td title=\"9 17\"></td><td title=\"10 17\"></td><td title=\"11 17\"></td><td title=\"12 17\"></td><td title=\"13 17\"></td><td title=\"14 17\"></td><td title=\"15 17\"></td><td title=\"16 17\"></td></tr>\n",
       "<tr><td style=\"background-color:Coral\" title=\"0 18\"></td><td title=\"1 18\"></td><td title=\"2 18\"></td><td title=\"3 18\"></td><td title=\"4 18\"></td><td title=\"5 18\"></td><td title=\"6 18\"></td><td title=\"7 18\"></td><td title=\"8 18\"></td><td title=\"9 18\"></td><td title=\"10 18\"></td><td title=\"11 18\"></td><td title=\"12 18\"></td><td title=\"13 18\"></td><td title=\"14 18\"></td><td title=\"15 18\"></td><td title=\"16 18\"></td></tr>\n",
       "<tr><td style=\"background-color:Coral\" title=\"0 19\"></td><td title=\"1 19\"></td><td title=\"2 19\"></td><td title=\"3 19\"></td><td title=\"4 19\"></td><td title=\"5 19\"></td><td title=\"6 19\"></td><td title=\"7 19\"></td><td title=\"8 19\"></td><td title=\"9 19\"></td><td title=\"10 19\"></td><td title=\"11 19\"></td><td title=\"12 19\"></td><td title=\"13 19\"></td><td title=\"14 19\"></td><td title=\"15 19\"></td><td title=\"16 19\"></td></tr>\n",
       "<tr><td style=\"background-color:Coral;font-weight:bold\" title=\"0 20\">Business count by Age of Business</td><td style=\"font-weight:bold\" title=\"1 20\"></td><td title=\"2 20\"></td><td title=\"3 20\"></td><td title=\"4 20\">number</td><td title=\"5 20\"></td><td title=\"6 20\"></td><td title=\"7 20\"></td><td title=\"8 20\"></td><td title=\"9 20\"></td><td title=\"10 20\"></td><td title=\"11 20\"></td><td title=\"12 20\"></td><td title=\"13 20\"></td><td title=\"14 20\"></td><td title=\"15 20\"></td><td title=\"16 20\"></td></tr>\n",
       "<tr><td style=\"background-color:Coral\" title=\"0 21\"></td><td title=\"1 21\"></td><td style=\"font-weight:bold\" title=\"2 21\">Exports</td><td style=\"font-weight:bold\" title=\"3 21\"></td><td style=\"font-weight:bold\" title=\"4 21\">Imports</td><td title=\"5 21\"></td><td title=\"6 21\"></td><td title=\"7 21\"></td><td title=\"8 21\"></td><td title=\"9 21\"></td><td title=\"10 21\"></td><td title=\"11 21\"></td><td title=\"12 21\"></td><td title=\"13 21\"></td><td title=\"14 21\"></td><td title=\"15 21\"></td><td title=\"16 21\"></td></tr>\n",
       "<tr><td style=\"background-color:Coral;font-weight:bold\" title=\"0 22\">Age (years)</td><td style=\"font-weight:bold\" title=\"1 22\"></td><td title=\"2 22\">2015.0</td><td title=\"3 22\"></td><td title=\"4 22\">2015.0</td><td title=\"5 22\"></td><td title=\"6 22\"></td><td title=\"7 22\"></td><td title=\"8 22\"></td><td title=\"9 22\"></td><td title=\"10 22\"></td><td title=\"11 22\"></td><td title=\"12 22\"></td><td title=\"13 22\"></td><td title=\"14 22\"></td><td title=\"15 22\"></td><td title=\"16 22\"></td></tr>\n",
       "<tr><td style=\"background-color:Coral;font-weight:bold\" title=\"0 23\"></td><td style=\"font-weight:bold\" title=\"1 23\"></td><td style=\"font-weight:bold\" title=\"2 23\"></td><td style=\"font-weight:bold\" title=\"3 23\"></td><td style=\"font-weight:bold\" title=\"4 23\"></td><td title=\"5 23\"></td><td title=\"6 23\"></td><td title=\"7 23\"></td><td title=\"8 23\"></td><td title=\"9 23\"></td><td title=\"10 23\"></td><td title=\"11 23\"></td><td title=\"12 23\"></td><td title=\"13 23\"></td><td title=\"14 23\"></td><td title=\"15 23\"></td><td title=\"16 23\"></td></tr>\n",
       "<tr><td style=\"background-color:Coral\" title=\"0 24\">0 to 1</td><td title=\"1 24\"></td><td style=\"background-color:Aqua\" title=\"2 24\">10515.0</td><td title=\"3 24\"></td><td style=\"background-color:Aqua\" title=\"4 24\">21541.0</td><td title=\"5 24\"></td><td title=\"6 24\"></td><td title=\"7 24\"></td><td title=\"8 24\"></td><td title=\"9 24\"></td><td title=\"10 24\"></td><td title=\"11 24\"></td><td title=\"12 24\"></td><td title=\"13 24\"></td><td title=\"14 24\"></td><td title=\"15 24\"></td><td title=\"16 24\"></td></tr>\n",
       "<tr><td style=\"background-color:Coral\" title=\"0 25\">2 to 3</td><td title=\"1 25\"></td><td style=\"background-color:Aqua\" title=\"2 25\">13308.0</td><td title=\"3 25\"></td><td style=\"background-color:Aqua\" title=\"4 25\">22043.0</td><td title=\"5 25\"></td><td title=\"6 25\"></td><td title=\"7 25\"></td><td title=\"8 25\"></td><td title=\"9 25\"></td><td title=\"10 25\"></td><td title=\"11 25\"></td><td title=\"12 25\"></td><td title=\"13 25\"></td><td title=\"14 25\"></td><td title=\"15 25\"></td><td title=\"16 25\"></td></tr>\n",
       "<tr><td style=\"background-color:Coral\" title=\"0 26\">4 to 5</td><td title=\"1 26\"></td><td style=\"background-color:Aqua\" title=\"2 26\">12088.0</td><td title=\"3 26\"></td><td style=\"background-color:Aqua\" title=\"4 26\">18430.0</td><td title=\"5 26\"></td><td title=\"6 26\"></td><td title=\"7 26\"></td><td title=\"8 26\"></td><td title=\"9 26\"></td><td title=\"10 26\"></td><td title=\"11 26\"></td><td title=\"12 26\"></td><td title=\"13 26\"></td><td title=\"14 26\"></td><td title=\"15 26\"></td><td title=\"16 26\"></td></tr>\n",
       "<tr><td style=\"background-color:Coral\" title=\"0 27\">6 to 9 </td><td title=\"1 27\"></td><td style=\"background-color:Aqua\" title=\"2 27\">20136.0</td><td title=\"3 27\"></td><td style=\"background-color:Aqua\" title=\"4 27\">29117.0</td><td title=\"5 27\"></td><td title=\"6 27\"></td><td title=\"7 27\"></td><td title=\"8 27\"></td><td title=\"9 27\"></td><td title=\"10 27\"></td><td title=\"11 27\"></td><td title=\"12 27\"></td><td title=\"13 27\"></td><td title=\"14 27\"></td><td title=\"15 27\"></td><td title=\"16 27\"></td></tr>\n",
       "<tr><td style=\"background-color:Coral\" title=\"0 28\">10 to 20</td><td title=\"1 28\"></td><td style=\"background-color:Aqua\" title=\"2 28\">36292.0</td><td title=\"3 28\"></td><td style=\"background-color:Aqua\" title=\"4 28\">49196.0</td><td title=\"5 28\"></td><td title=\"6 28\"></td><td title=\"7 28\"></td><td title=\"8 28\"></td><td title=\"9 28\"></td><td title=\"10 28\"></td><td title=\"11 28\"></td><td title=\"12 28\"></td><td title=\"13 28\"></td><td title=\"14 28\"></td><td title=\"15 28\"></td><td title=\"16 28\"></td></tr>\n",
       "<tr><td style=\"background-color:Coral\" title=\"0 29\">20 +</td><td title=\"1 29\"></td><td style=\"background-color:Aqua\" title=\"2 29\">40773.0</td><td title=\"3 29\"></td><td style=\"background-color:Aqua\" title=\"4 29\">53659.0</td><td title=\"5 29\"></td><td title=\"6 29\"></td><td title=\"7 29\"></td><td title=\"8 29\"></td><td title=\"9 29\"></td><td title=\"10 29\"></td><td title=\"11 29\"></td><td title=\"12 29\"></td><td title=\"13 29\"></td><td title=\"14 29\"></td><td title=\"15 29\"></td><td title=\"16 29\"></td></tr>\n",
       "<tr><td style=\"background-color:Coral\" title=\"0 30\">Unknown</td><td title=\"1 30\"></td><td style=\"background-color:Aqua\" title=\"2 30\">10246.0</td><td title=\"3 30\"></td><td style=\"background-color:Aqua\" title=\"4 30\">25316.0</td><td title=\"5 30\"></td><td title=\"6 30\"></td><td title=\"7 30\"></td><td title=\"8 30\"></td><td title=\"9 30\"></td><td title=\"10 30\"></td><td title=\"11 30\"></td><td title=\"12 30\"></td><td title=\"13 30\"></td><td title=\"14 30\"></td><td title=\"15 30\"></td><td title=\"16 30\"></td></tr>\n",
       "<tr><td style=\"background-color:Coral\" title=\"0 31\"></td><td title=\"1 31\"></td><td title=\"2 31\"></td><td title=\"3 31\"></td><td title=\"4 31\"></td><td title=\"5 31\"></td><td title=\"6 31\"></td><td title=\"7 31\"></td><td title=\"8 31\"></td><td title=\"9 31\"></td><td title=\"10 31\"></td><td title=\"11 31\"></td><td title=\"12 31\"></td><td title=\"13 31\"></td><td title=\"14 31\"></td><td title=\"15 31\"></td><td title=\"16 31\"></td></tr>\n",
       "<tr><td style=\"background-color:Coral;font-weight:bold\" title=\"0 32\">Total</td><td style=\"font-weight:bold\" title=\"1 32\"></td><td style=\"background-color:Aqua;font-weight:bold\" title=\"2 32\">143358.0</td><td style=\"font-weight:bold\" title=\"3 32\"></td><td style=\"background-color:Aqua;font-weight:bold\" title=\"4 32\">219302.0</td><td title=\"5 32\"></td><td title=\"6 32\"></td><td title=\"7 32\"></td><td title=\"8 32\"></td><td title=\"9 32\"></td><td title=\"10 32\"></td><td title=\"11 32\"></td><td title=\"12 32\"></td><td title=\"13 32\"></td><td title=\"14 32\"></td><td title=\"15 32\"></td><td title=\"16 32\"></td></tr>\n",
       "<tr><td style=\"background-color:Coral\" title=\"0 33\"></td><td title=\"1 33\"></td><td title=\"2 33\"></td><td title=\"3 33\"></td><td title=\"4 33\"></td><td title=\"5 33\"></td><td title=\"6 33\"></td><td title=\"7 33\"></td><td title=\"8 33\"></td><td title=\"9 33\"></td><td title=\"10 33\"></td><td title=\"11 33\"></td><td title=\"12 33\"></td><td title=\"13 33\"></td><td title=\"14 33\"></td><td title=\"15 33\"></td><td title=\"16 33\"></td></tr>\n",
       "<tr><td style=\"background-color:Coral\" title=\"0 34\"></td><td title=\"1 34\"></td><td title=\"2 34\"></td><td title=\"3 34\"></td><td title=\"4 34\"></td><td title=\"5 34\"></td><td title=\"6 34\"></td><td title=\"7 34\"></td><td title=\"8 34\"></td><td title=\"9 34\"></td><td title=\"10 34\"></td><td title=\"11 34\"></td><td title=\"12 34\"></td><td title=\"13 34\"></td><td title=\"14 34\"></td><td title=\"15 34\"></td><td title=\"16 34\"></td></tr>\n",
       "<tr><td style=\"background-color:Coral;font-weight:bold\" title=\"0 35\">Employee count for Businesses by Age of Business</td><td style=\"font-weight:bold\" title=\"1 35\"></td><td title=\"2 35\"></td><td title=\"3 35\"></td><td title=\"4 35\">number</td><td title=\"5 35\"></td><td title=\"6 35\"></td><td title=\"7 35\"></td><td title=\"8 35\"></td><td title=\"9 35\"></td><td title=\"10 35\"></td><td title=\"11 35\"></td><td title=\"12 35\"></td><td title=\"13 35\"></td><td title=\"14 35\"></td><td title=\"15 35\"></td><td title=\"16 35\"></td></tr>\n",
       "<tr><td style=\"background-color:Coral\" title=\"0 36\"></td><td title=\"1 36\"></td><td style=\"font-weight:bold\" title=\"2 36\">Exports</td><td style=\"font-weight:bold\" title=\"3 36\"></td><td style=\"font-weight:bold\" title=\"4 36\">Imports</td><td title=\"5 36\"></td><td title=\"6 36\"></td><td title=\"7 36\"></td><td title=\"8 36\"></td><td title=\"9 36\"></td><td title=\"10 36\"></td><td title=\"11 36\"></td><td title=\"12 36\"></td><td title=\"13 36\"></td><td title=\"14 36\"></td><td title=\"15 36\"></td><td title=\"16 36\"></td></tr>\n",
       "<tr><td style=\"background-color:Coral;font-weight:bold\" title=\"0 37\">Age (years)</td><td style=\"font-weight:bold\" title=\"1 37\"></td><td title=\"2 37\">2015.0</td><td title=\"3 37\"></td><td title=\"4 37\">2015.0</td><td title=\"5 37\"></td><td title=\"6 37\"></td><td title=\"7 37\"></td><td title=\"8 37\"></td><td title=\"9 37\"></td><td title=\"10 37\"></td><td title=\"11 37\"></td><td title=\"12 37\"></td><td title=\"13 37\"></td><td title=\"14 37\"></td><td title=\"15 37\"></td><td title=\"16 37\"></td></tr>\n",
       "<tr><td style=\"background-color:Coral;font-weight:bold\" title=\"0 38\"></td><td style=\"font-weight:bold\" title=\"1 38\"></td><td style=\"font-weight:bold\" title=\"2 38\"></td><td style=\"font-weight:bold\" title=\"3 38\"></td><td style=\"font-weight:bold\" title=\"4 38\"></td><td title=\"5 38\"></td><td title=\"6 38\"></td><td title=\"7 38\"></td><td title=\"8 38\"></td><td title=\"9 38\"></td><td title=\"10 38\"></td><td title=\"11 38\"></td><td title=\"12 38\"></td><td title=\"13 38\"></td><td title=\"14 38\"></td><td title=\"15 38\"></td><td title=\"16 38\"></td></tr>\n",
       "<tr><td style=\"background-color:Coral\" title=\"0 39\">0 to 1</td><td title=\"1 39\"></td><td title=\"2 39\">280014.0</td><td title=\"3 39\"></td><td title=\"4 39\">454907.0</td><td title=\"5 39\"></td><td title=\"6 39\"></td><td title=\"7 39\"></td><td title=\"8 39\"></td><td title=\"9 39\"></td><td title=\"10 39\"></td><td title=\"11 39\"></td><td title=\"12 39\"></td><td title=\"13 39\"></td><td title=\"14 39\"></td><td title=\"15 39\"></td><td title=\"16 39\"></td></tr>\n",
       "<tr><td style=\"background-color:Coral\" title=\"0 40\">2 to 3</td><td title=\"1 40\"></td><td title=\"2 40\">250035.0</td><td title=\"3 40\"></td><td title=\"4 40\">401868.0</td><td title=\"5 40\"></td><td title=\"6 40\"></td><td title=\"7 40\"></td><td title=\"8 40\"></td><td title=\"9 40\"></td><td title=\"10 40\"></td><td title=\"11 40\"></td><td title=\"12 40\"></td><td title=\"13 40\"></td><td title=\"14 40\"></td><td title=\"15 40\"></td><td title=\"16 40\"></td></tr>\n",
       "<tr><td style=\"background-color:Coral\" title=\"0 41\">4 to 5</td><td title=\"1 41\"></td><td title=\"2 41\">263538.0</td><td title=\"3 41\"></td><td title=\"4 41\">393081.0</td><td title=\"5 41\"></td><td title=\"6 41\"></td><td title=\"7 41\"></td><td title=\"8 41\"></td><td title=\"9 41\"></td><td title=\"10 41\"></td><td title=\"11 41\"></td><td title=\"12 41\"></td><td title=\"13 41\"></td><td title=\"14 41\"></td><td title=\"15 41\"></td><td title=\"16 41\"></td></tr>\n",
       "<tr><td style=\"background-color:Coral\" title=\"0 42\">6 to 9 </td><td title=\"1 42\"></td><td title=\"2 42\">725644.0</td><td title=\"3 42\"></td><td title=\"4 42\">1032556.0</td><td title=\"5 42\"></td><td title=\"6 42\"></td><td title=\"7 42\"></td><td title=\"8 42\"></td><td title=\"9 42\"></td><td title=\"10 42\"></td><td title=\"11 42\"></td><td title=\"12 42\"></td><td title=\"13 42\"></td><td title=\"14 42\"></td><td title=\"15 42\"></td><td title=\"16 42\"></td></tr>\n",
       "<tr><td style=\"background-color:Coral\" title=\"0 43\">10 to 20</td><td title=\"1 43\"></td><td title=\"2 43\">1897114.0</td><td title=\"3 43\"></td><td title=\"4 43\">2451138.0</td><td title=\"5 43\"></td><td title=\"6 43\"></td><td title=\"7 43\"></td><td title=\"8 43\"></td><td title=\"9 43\"></td><td title=\"10 43\"></td><td title=\"11 43\"></td><td title=\"12 43\"></td><td title=\"13 43\"></td><td title=\"14 43\"></td><td title=\"15 43\"></td><td title=\"16 43\"></td></tr>\n",
       "<tr><td style=\"background-color:Coral\" title=\"0 44\">20 +</td><td title=\"1 44\"></td><td title=\"2 44\">6078989.0</td><td title=\"3 44\"></td><td title=\"4 44\">7521332.0</td><td title=\"5 44\"></td><td title=\"6 44\"></td><td title=\"7 44\"></td><td title=\"8 44\"></td><td title=\"9 44\"></td><td title=\"10 44\"></td><td title=\"11 44\"></td><td title=\"12 44\"></td><td title=\"13 44\"></td><td title=\"14 44\"></td><td title=\"15 44\"></td><td title=\"16 44\"></td></tr>\n",
       "<tr><td style=\"background-color:Coral\" title=\"0 45\">Unknown8</td><td title=\"1 45\"></td><td title=\"2 45\">58109.0</td><td title=\"3 45\"></td><td title=\"4 45\">99784.0</td><td title=\"5 45\"></td><td title=\"6 45\"></td><td title=\"7 45\"></td><td title=\"8 45\"></td><td title=\"9 45\"></td><td title=\"10 45\"></td><td title=\"11 45\"></td><td title=\"12 45\"></td><td title=\"13 45\"></td><td title=\"14 45\"></td><td title=\"15 45\"></td><td title=\"16 45\"></td></tr>\n",
       "<tr><td style=\"background-color:Coral\" title=\"0 46\"></td><td title=\"1 46\"></td><td title=\"2 46\"></td><td title=\"3 46\"></td><td title=\"4 46\"></td><td title=\"5 46\"></td><td title=\"6 46\"></td><td title=\"7 46\"></td><td title=\"8 46\"></td><td title=\"9 46\"></td><td title=\"10 46\"></td><td title=\"11 46\"></td><td title=\"12 46\"></td><td title=\"13 46\"></td><td title=\"14 46\"></td><td title=\"15 46\"></td><td title=\"16 46\"></td></tr>\n",
       "<tr><td style=\"background-color:Coral;font-weight:bold\" title=\"0 47\">Total9</td><td style=\"font-weight:bold\" title=\"1 47\"></td><td style=\"font-weight:bold\" title=\"2 47\">9553443.0</td><td style=\"font-weight:bold\" title=\"3 47\"></td><td style=\"font-weight:bold\" title=\"4 47\">12354666.0</td><td title=\"5 47\"></td><td title=\"6 47\"></td><td title=\"7 47\"></td><td title=\"8 47\"></td><td title=\"9 47\"></td><td title=\"10 47\"></td><td title=\"11 47\"></td><td title=\"12 47\"></td><td title=\"13 47\"></td><td title=\"14 47\"></td><td title=\"15 47\"></td><td title=\"16 47\"></td></tr>\n",
       "<tr><td style=\"background-color:Coral\" title=\"0 48\"></td><td title=\"1 48\"></td><td title=\"2 48\"></td><td title=\"3 48\"></td><td title=\"4 48\"></td><td title=\"5 48\"></td><td title=\"6 48\"></td><td title=\"7 48\"></td><td title=\"8 48\"></td><td title=\"9 48\"></td><td title=\"10 48\"></td><td title=\"11 48\"></td><td title=\"12 48\"></td><td title=\"13 48\"></td><td title=\"14 48\"></td><td title=\"15 48\"></td><td title=\"16 48\"></td></tr>\n",
       "<tr><td style=\"background-color:Coral\" title=\"0 49\"></td><td title=\"1 49\"></td><td title=\"2 49\"></td><td title=\"3 49\"></td><td title=\"4 49\">Source: HMRC OTS and ONS IDBR data</td><td title=\"5 49\"></td><td title=\"6 49\"></td><td title=\"7 49\"></td><td title=\"8 49\"></td><td title=\"9 49\"></td><td title=\"10 49\"></td><td title=\"11 49\"></td><td title=\"12 49\"></td><td title=\"13 49\"></td><td title=\"14 49\"></td><td title=\"15 49\"></td><td title=\"16 49\"></td></tr>\n",
       "<tr><td style=\"background-color:Coral\" title=\"0 50\">Notes:</td><td title=\"1 50\"></td><td title=\"2 50\"></td><td title=\"3 50\"></td><td title=\"4 50\"></td><td title=\"5 50\"></td><td title=\"6 50\"></td><td title=\"7 50\"></td><td title=\"8 50\"></td><td title=\"9 50\"></td><td title=\"10 50\"></td><td title=\"11 50\"></td><td title=\"12 50\"></td><td title=\"13 50\"></td><td title=\"14 50\"></td><td title=\"15 50\"></td><td title=\"16 50\"></td></tr>\n",
       "<tr><td style=\"background-color:Coral\" title=\"0 51\">1. These estimates are experimental official statistics. </td><td title=\"1 51\"></td><td title=\"2 51\"></td><td title=\"3 51\"></td><td title=\"4 51\"></td><td title=\"5 51\"></td><td title=\"6 51\"></td><td title=\"7 51\"></td><td title=\"8 51\"></td><td title=\"9 51\"></td><td title=\"10 51\"></td><td title=\"11 51\"></td><td title=\"12 51\"></td><td title=\"13 51\"></td><td title=\"14 51\"></td><td title=\"15 51\"></td><td title=\"16 51\"></td></tr>\n",
       "<tr><td style=\"background-color:Coral\" title=\"0 52\">2. Registered businesses/enterprises are those which are registered for VAT and or EORI</td><td title=\"1 52\"></td><td title=\"2 52\"></td><td title=\"3 52\"></td><td title=\"4 52\"></td><td title=\"5 52\"></td><td title=\"6 52\"></td><td title=\"7 52\"></td><td title=\"8 52\"></td><td title=\"9 52\"></td><td title=\"10 52\"></td><td title=\"11 52\"></td><td title=\"12 52\"></td><td title=\"13 52\"></td><td title=\"14 52\"></td><td title=\"15 52\"></td><td title=\"16 52\"></td></tr>\n",
       "<tr><td style=\"background-color:Coral\" title=\"0 53\">3. Cells with:      .  = Not Applicable </td><td title=\"1 53\"></td><td title=\"2 53\"></td><td title=\"3 53\"></td><td title=\"4 53\"></td><td title=\"5 53\"></td><td title=\"6 53\"></td><td title=\"7 53\"></td><td title=\"8 53\"></td><td title=\"9 53\"></td><td title=\"10 53\"></td><td title=\"11 53\"></td><td title=\"12 53\"></td><td title=\"13 53\"></td><td title=\"14 53\"></td><td title=\"15 53\"></td><td title=\"16 53\"></td></tr>\n",
       "<tr><td style=\"background-color:Coral\" title=\"0 54\">4. Value of trade are in £ millions</td><td title=\"1 54\"></td><td title=\"2 54\"></td><td title=\"3 54\"></td><td title=\"4 54\"></td><td title=\"5 54\"></td><td title=\"6 54\"></td><td title=\"7 54\"></td><td title=\"8 54\"></td><td title=\"9 54\"></td><td title=\"10 54\"></td><td title=\"11 54\"></td><td title=\"12 54\"></td><td title=\"13 54\"></td><td title=\"14 54\"></td><td title=\"15 54\"></td><td title=\"16 54\"></td></tr>\n",
       "<tr><td style=\"background-color:Coral\" title=\"0 55\">5. Further details of Industry Group, Age and Employee size can be in the Metadata tab</td><td title=\"1 55\"></td><td title=\"2 55\"></td><td title=\"3 55\"></td><td title=\"4 55\"></td><td title=\"5 55\"></td><td title=\"6 55\"></td><td title=\"7 55\"></td><td title=\"8 55\"></td><td title=\"9 55\"></td><td title=\"10 55\"></td><td title=\"11 55\"></td><td title=\"12 55\"></td><td title=\"13 55\"></td><td title=\"14 55\"></td><td title=\"15 55\"></td><td title=\"16 55\"></td></tr>\n",
       "<tr><td style=\"background-color:Coral\" title=\"0 56\">6. Employment sizebands are based on IDBR employment for all variables and represent the employment of the Business</td><td title=\"1 56\"></td><td title=\"2 56\"></td><td title=\"3 56\"></td><td title=\"4 56\"></td><td title=\"5 56\"></td><td title=\"6 56\"></td><td title=\"7 56\"></td><td title=\"8 56\"></td><td title=\"9 56\"></td><td title=\"10 56\"></td><td title=\"11 56\"></td><td title=\"12 56\"></td><td title=\"13 56\"></td><td title=\"14 56\"></td><td title=\"15 56\"></td><td title=\"16 56\"></td></tr>\n",
       "<tr><td style=\"background-color:Coral\" title=\"0 57\">7. Age of a business is defined using the birth date, or registration date, of the business held within the IDBR. Mergers and other changes in structure may require re-registration and therefore affect the validity of this date.</td><td title=\"1 57\"></td><td title=\"2 57\"></td><td title=\"3 57\"></td><td title=\"4 57\"></td><td title=\"5 57\"></td><td title=\"6 57\"></td><td title=\"7 57\"></td><td title=\"8 57\"></td><td title=\"9 57\"></td><td title=\"10 57\"></td><td title=\"11 57\"></td><td title=\"12 57\"></td><td title=\"13 57\"></td><td title=\"14 57\"></td><td title=\"15 57\"></td><td title=\"16 57\"></td></tr>\n",
       "<tr><td style=\"background-color:Coral\" title=\"0 58\">8. Employee counts for the 'Unknown' age group exclude businesses where employee count is unknown. </td><td title=\"1 58\"></td><td title=\"2 58\"></td><td title=\"3 58\"></td><td title=\"4 58\"></td><td title=\"5 58\"></td><td title=\"6 58\"></td><td title=\"7 58\"></td><td title=\"8 58\"></td><td title=\"9 58\"></td><td title=\"10 58\"></td><td title=\"11 58\"></td><td title=\"12 58\"></td><td title=\"13 58\"></td><td title=\"14 58\"></td><td title=\"15 58\"></td><td title=\"16 58\"></td></tr>\n",
       "<tr><td style=\"background-color:Coral\" title=\"0 59\">9. Employee count totals exclude businesses where employee count is unknown.</td><td title=\"1 59\"></td><td title=\"2 59\"></td><td title=\"3 59\"></td><td title=\"4 59\"></td><td title=\"5 59\"></td><td title=\"6 59\"></td><td title=\"7 59\"></td><td title=\"8 59\"></td><td title=\"9 59\"></td><td title=\"10 59\"></td><td title=\"11 59\"></td><td title=\"12 59\"></td><td title=\"13 59\"></td><td title=\"14 59\"></td><td title=\"15 59\"></td><td title=\"16 59\"></td></tr>\n",
       "</table>\n",
       "\n",
       "</div>\n",
       "\n",
       "<script>\n",
       "var jslookup = {\"2 25\":[0,25,2,4],\"2 29\":[0,29,2,4],\"2 24\":[0,24,2,4],\"4 32\":[0,32,4,4],\"4 28\":[0,28,4,4],\"2 28\":[0,28,2,4],\"4 27\":[0,27,4,4],\"2 32\":[0,32,2,4],\"2 30\":[0,30,2,4],\"2 27\":[0,27,2,4],\"4 26\":[0,26,4,4],\"4 29\":[0,29,4,4],\"2 26\":[0,26,2,4],\"4 24\":[0,24,4,4],\"4 30\":[0,30,4,4],\"4 25\":[0,25,4,4]}; \n",
       "var jdividNUM = \"injblock1004\"; \n",
       "var Dclickedcell = null; \n",
       "function clickedcell() \n",
       "{ \n",
       "    Dclickedcell = this; \n",
       "    console.log(\"jjjj\", this); \n",
       "    var rgc = new RegExp('(^|\\b)' + \"selected\".split(' ').join('|') + '(\\b|$)', 'gi'); \n",
       "    Array.prototype.forEach.call(document.querySelectorAll(\"div#\"+jdividNUM+\" table.ex td.selected\"), function(el, i) { \n",
       "        if (el.classList)  el.classList.remove(\"selected\");\n",
       "        else  el.className = el.className.replace(rgc, ' ');\n",
       "    }); \n",
       "    if (this.classList)  this.classList.add(\"selected\");\n",
       "    else this.className += ' ' + \"selected\";\n",
       "\n",
       "    var dimpairs = jslookup[this.title]; \n",
       "    if (dimpairs !== undefined) {\n",
       "        for (var i = 1; i < dimpairs.length; i += 2) {\n",
       "            var row = document.querySelectorAll(\"div#\"+jdividNUM+\" table.ex tr\")[dimpairs[i]]; \n",
       "            var el = row.querySelectorAll(\"td\")[dimpairs[i-1]]; \n",
       "            if (el.classList)  el.classList.add(\"selected\");\n",
       "            else el.className += ' ' + \"selected\";\n",
       "        }\n",
       "    }\n",
       "}\n",
       "Array.prototype.forEach.call(document.querySelectorAll(\"div#\"+jdividNUM+\" table.ex td\"), function(item, i) { item.onclick=clickedcell; }); \n",
       "</script>\n"
      ],
      "text/plain": [
       "<IPython.core.display.HTML object>"
      ]
     },
     "metadata": {},
     "output_type": "display_data"
    }
   ],
   "source": [
    "savepreviewhtml(c1)"
   ]
  },
  {
   "cell_type": "code",
   "execution_count": 22,
   "metadata": {},
   "outputs": [
    {
     "name": "stdout",
     "output_type": "stream",
     "text": [
      "\n"
     ]
    }
   ],
   "source": [
    "new_table = c1.topandas()"
   ]
  },
  {
   "cell_type": "code",
   "execution_count": 23,
   "metadata": {
    "collapsed": true
   },
   "outputs": [],
   "source": [
    "new_table.rename(index= str, columns= {'OBS':'Value'}, inplace = True)"
   ]
  },
  {
   "cell_type": "code",
   "execution_count": 29,
   "metadata": {
    "collapsed": true
   },
   "outputs": [],
   "source": [
    "new_table['Value'] = new_table['Value'].astype('int', copy=False)"
   ]
  },
  {
   "cell_type": "code",
   "execution_count": 30,
   "metadata": {},
   "outputs": [],
   "source": [
    "new_table['Business Age(Yrs)'] = new_table['Business Age(Yrs)'].str.strip()\n",
    "new_table['Year'] = new_table['Year'].str.strip()\n",
    "new_table['Flow'] = new_table['Flow'].str.strip()\n",
    "new_table['Unit'] = new_table['Unit'].str.strip()\n",
    "new_table['Measure Type'] = new_table['Measure Type'].str.strip()\n",
    "new_table['Geography'] = new_table['Geography'].str.strip()"
   ]
  },
  {
   "cell_type": "code",
   "execution_count": 31,
   "metadata": {
    "collapsed": true
   },
   "outputs": [],
   "source": [
    "new_table = new_table[['Geography','Year','Business Age(Yrs)','Flow','Measure Type','Value','Unit']]"
   ]
  },
  {
   "cell_type": "code",
   "execution_count": 32,
   "metadata": {
    "scrolled": true
   },
   "outputs": [
    {
     "data": {
      "text/html": [
       "<div>\n",
       "<style scoped>\n",
       "    .dataframe tbody tr th:only-of-type {\n",
       "        vertical-align: middle;\n",
       "    }\n",
       "\n",
       "    .dataframe tbody tr th {\n",
       "        vertical-align: top;\n",
       "    }\n",
       "\n",
       "    .dataframe thead th {\n",
       "        text-align: right;\n",
       "    }\n",
       "</style>\n",
       "<table border=\"1\" class=\"dataframe\">\n",
       "  <thead>\n",
       "    <tr style=\"text-align: right;\">\n",
       "      <th></th>\n",
       "      <th>Geography</th>\n",
       "      <th>Year</th>\n",
       "      <th>Business Age(Yrs)</th>\n",
       "      <th>Flow</th>\n",
       "      <th>Measure Type</th>\n",
       "      <th>Value</th>\n",
       "      <th>Unit</th>\n",
       "    </tr>\n",
       "  </thead>\n",
       "  <tbody>\n",
       "    <tr>\n",
       "      <th>0</th>\n",
       "      <td>K02000001</td>\n",
       "      <td>2015</td>\n",
       "      <td>0 to 1</td>\n",
       "      <td></td>\n",
       "      <td>Business</td>\n",
       "      <td>10515</td>\n",
       "      <td>Count</td>\n",
       "    </tr>\n",
       "    <tr>\n",
       "      <th>1</th>\n",
       "      <td>K02000001</td>\n",
       "      <td>2015</td>\n",
       "      <td>0 to 1</td>\n",
       "      <td></td>\n",
       "      <td>Business</td>\n",
       "      <td>21541</td>\n",
       "      <td>Count</td>\n",
       "    </tr>\n",
       "    <tr>\n",
       "      <th>2</th>\n",
       "      <td>K02000001</td>\n",
       "      <td>2015</td>\n",
       "      <td>2 to 3</td>\n",
       "      <td></td>\n",
       "      <td>Business</td>\n",
       "      <td>13308</td>\n",
       "      <td>Count</td>\n",
       "    </tr>\n",
       "    <tr>\n",
       "      <th>3</th>\n",
       "      <td>K02000001</td>\n",
       "      <td>2015</td>\n",
       "      <td>2 to 3</td>\n",
       "      <td></td>\n",
       "      <td>Business</td>\n",
       "      <td>22043</td>\n",
       "      <td>Count</td>\n",
       "    </tr>\n",
       "  </tbody>\n",
       "</table>\n",
       "</div>"
      ],
      "text/plain": [
       "   Geography  Year Business Age(Yrs) Flow Measure Type  Value   Unit\n",
       "0  K02000001  2015            0 to 1          Business  10515  Count\n",
       "1  K02000001  2015            0 to 1          Business  21541  Count\n",
       "2  K02000001  2015            2 to 3          Business  13308  Count\n",
       "3  K02000001  2015            2 to 3          Business  22043  Count"
      ]
     },
     "execution_count": 32,
     "metadata": {},
     "output_type": "execute_result"
    }
   ],
   "source": [
    "new_table.head(4)"
   ]
  },
  {
   "cell_type": "code",
   "execution_count": 33,
   "metadata": {},
   "outputs": [
    {
     "data": {
      "text/html": [
       "<div>\n",
       "<style scoped>\n",
       "    .dataframe tbody tr th:only-of-type {\n",
       "        vertical-align: middle;\n",
       "    }\n",
       "\n",
       "    .dataframe tbody tr th {\n",
       "        vertical-align: top;\n",
       "    }\n",
       "\n",
       "    .dataframe thead th {\n",
       "        text-align: right;\n",
       "    }\n",
       "</style>\n",
       "<table border=\"1\" class=\"dataframe\">\n",
       "  <thead>\n",
       "    <tr style=\"text-align: right;\">\n",
       "      <th></th>\n",
       "      <th>Geography</th>\n",
       "      <th>Year</th>\n",
       "      <th>Business Age(Yrs)</th>\n",
       "      <th>Flow</th>\n",
       "      <th>Measure Type</th>\n",
       "      <th>Value</th>\n",
       "      <th>Unit</th>\n",
       "    </tr>\n",
       "  </thead>\n",
       "  <tbody>\n",
       "    <tr>\n",
       "      <th>12</th>\n",
       "      <td>K02000001</td>\n",
       "      <td>2015</td>\n",
       "      <td>Unknown</td>\n",
       "      <td></td>\n",
       "      <td>Business</td>\n",
       "      <td>10246</td>\n",
       "      <td>Count</td>\n",
       "    </tr>\n",
       "    <tr>\n",
       "      <th>13</th>\n",
       "      <td>K02000001</td>\n",
       "      <td>2015</td>\n",
       "      <td>Unknown</td>\n",
       "      <td></td>\n",
       "      <td>Business</td>\n",
       "      <td>25316</td>\n",
       "      <td>Count</td>\n",
       "    </tr>\n",
       "    <tr>\n",
       "      <th>14</th>\n",
       "      <td>K02000001</td>\n",
       "      <td>2015</td>\n",
       "      <td>Total</td>\n",
       "      <td></td>\n",
       "      <td>Business</td>\n",
       "      <td>143358</td>\n",
       "      <td>Count</td>\n",
       "    </tr>\n",
       "    <tr>\n",
       "      <th>15</th>\n",
       "      <td>K02000001</td>\n",
       "      <td>2015</td>\n",
       "      <td>Total</td>\n",
       "      <td></td>\n",
       "      <td>Business</td>\n",
       "      <td>219302</td>\n",
       "      <td>Count</td>\n",
       "    </tr>\n",
       "  </tbody>\n",
       "</table>\n",
       "</div>"
      ],
      "text/plain": [
       "    Geography  Year Business Age(Yrs) Flow Measure Type   Value   Unit\n",
       "12  K02000001  2015           Unknown          Business   10246  Count\n",
       "13  K02000001  2015           Unknown          Business   25316  Count\n",
       "14  K02000001  2015             Total          Business  143358  Count\n",
       "15  K02000001  2015             Total          Business  219302  Count"
      ]
     },
     "execution_count": 33,
     "metadata": {},
     "output_type": "execute_result"
    }
   ],
   "source": [
    "new_table.tail(4)"
   ]
  },
  {
   "cell_type": "code",
   "execution_count": 34,
   "metadata": {
    "collapsed": true
   },
   "outputs": [],
   "source": [
    "out = Path('out')\n",
    "out.mkdir(exist_ok=True)\n",
    "new_table.to_csv(out / 'BusinesscountbyAgeofBusiness.csv', index = False)"
   ]
  },
  {
   "cell_type": "code",
   "execution_count": null,
   "metadata": {
    "collapsed": true
   },
   "outputs": [],
   "source": []
  }
 ],
 "metadata": {
  "kernelspec": {
   "display_name": "Python 3",
   "language": "python",
   "name": "python3"
  },
  "language_info": {
   "codemirror_mode": {
    "name": "ipython",
    "version": 3
   },
   "file_extension": ".py",
   "mimetype": "text/x-python",
   "name": "python",
   "nbconvert_exporter": "python",
   "pygments_lexer": "ipython3",
   "version": "3.6.3"
  }
 },
 "nbformat": 4,
 "nbformat_minor": 2
}
