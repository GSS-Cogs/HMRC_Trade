{
 "cells": [
  {
   "cell_type": "markdown",
   "metadata": {},
   "source": [
    "TRADE IN GOODS STATISTICS:Employee size_Businesses"
   ]
  },
  {
   "cell_type": "code",
   "execution_count": 1,
   "metadata": {
    "collapsed": true
   },
   "outputs": [],
   "source": [
    "from databaker.framework import *\n",
    "import pandas as pd"
   ]
  },
  {
   "cell_type": "code",
   "execution_count": 2,
   "metadata": {
    "collapsed": true
   },
   "outputs": [],
   "source": [
    "import requests\n",
    "from pathlib import Path\n",
    "\n",
    "sourceFolder = Path('in')\n",
    "sourceFolder.mkdir(exist_ok=True)\n",
    "\n",
    "inputURL = 'https://www.uktradeinfo.com/statistics/documents/idbr_ots_tables_2015.xls'\n",
    "inputFile = sourceFolder / 'idbr_ots_tables_2015.xls'\n",
    "if not(inputFile.exists() and inputFile.is_file()):\n",
    "    response = requests.get(inputURL)\n",
    "    with open(inputFile, 'wb') as f:\n",
    "        f.write(response.content)"
   ]
  },
  {
   "cell_type": "code",
   "execution_count": 3,
   "metadata": {},
   "outputs": [
    {
     "name": "stdout",
     "output_type": "stream",
     "text": [
      "Loading in\\idbr_ots_tables_2015.xls which has size 174080 bytes\n",
      "Table names: ['Notes and Contents', 'Industry Group', 'Age Group', 'Employee Size', 'Industry_Age', 'Industry_EmployeeSize', 'EmployeeSize_Age', 'Metadata']\n"
     ]
    }
   ],
   "source": [
    "tab = loadxlstabs(inputFile)"
   ]
  },
  {
   "cell_type": "code",
   "execution_count": 4,
   "metadata": {
    "collapsed": true
   },
   "outputs": [],
   "source": [
    "tab = tab[5]"
   ]
  },
  {
   "cell_type": "code",
   "execution_count": 5,
   "metadata": {
    "collapsed": true
   },
   "outputs": [
    {
     "data": {
      "text/html": [
       "<div id=\"injblock1001\">\n",
       "<style>\n",
       "table.ex, table.exkey { border: thin black solid }\n",
       "table.ex td, table.ex tr { border: none }\n",
       "table.ex td:hover { border: thin blue solid }\n",
       "table.ex td.excOBS:hover { border: thin red solid }\n",
       "table.ex td.selected { border: thick red solid }\n",
       "</style>\n",
       "\n",
       "\n",
       "\n",
       "<table class=\"ex\">\n",
       "<caption style=\"text-align:center; padding:0px; caption-side:bottom\">Industry_EmployeeSize</caption>\n",
       "<tr><td style=\"font-weight:bold\" title=\"0 0\">TRADE IN GOODS STATISTICS MATCHED WITH REGISTERED BUSINESSES FROM THE INTER-DEPARTMENTAL BUSINESS REGISTER</td><td title=\"1 0\"></td><td title=\"2 0\"></td><td title=\"3 0\"></td><td title=\"4 0\"></td><td title=\"5 0\"></td><td title=\"6 0\"></td><td title=\"7 0\"></td><td title=\"8 0\"></td><td title=\"9 0\"></td><td title=\"10 0\"></td><td title=\"11 0\"></td><td title=\"12 0\"></td><td title=\"13 0\"></td></tr>\n",
       "<tr><td title=\"0 1\"></td><td title=\"1 1\"></td><td title=\"2 1\"></td><td title=\"3 1\"></td><td title=\"4 1\"></td><td title=\"5 1\"></td><td title=\"6 1\"></td><td title=\"7 1\"></td><td title=\"8 1\"></td><td title=\"9 1\"></td><td title=\"10 1\"></td><td title=\"11 1\"></td><td title=\"12 1\"></td><td title=\"13 1\"></td></tr>\n",
       "<tr><td style=\"font-weight:bold\" title=\"0 2\">Release Date 24/11/2016</td><td title=\"1 2\"></td><td title=\"2 2\"></td><td title=\"3 2\"></td><td title=\"4 2\"></td><td title=\"5 2\"></td><td title=\"6 2\"></td><td title=\"7 2\"></td><td title=\"8 2\"></td><td title=\"9 2\"></td><td title=\"10 2\"></td><td title=\"11 2\"></td><td title=\"12 2\"></td><td title=\"13 2\"></td></tr>\n",
       "<tr><td title=\"0 3\"></td><td title=\"1 3\"></td><td title=\"2 3\"></td><td title=\"3 3\"></td><td title=\"4 3\"></td><td title=\"5 3\"></td><td title=\"6 3\"></td><td title=\"7 3\"></td><td title=\"8 3\"></td><td title=\"9 3\"></td><td title=\"10 3\"></td><td title=\"11 3\"></td><td title=\"12 3\"></td><td title=\"13 3\"></td></tr>\n",
       "<tr><td style=\"font-weight:bold\" title=\"0 4\">Total value of UK Trade, Business count and Employee count, by Industry group and Employee Size group for Imports and Exports</td><td title=\"1 4\"></td><td title=\"2 4\"></td><td title=\"3 4\"></td><td title=\"4 4\"></td><td title=\"5 4\"></td><td title=\"6 4\"></td><td title=\"7 4\"></td><td title=\"8 4\"></td><td title=\"9 4\"></td><td title=\"10 4\"></td><td title=\"11 4\"></td><td title=\"12 4\"></td><td title=\"13 4\"></td></tr>\n",
       "<tr><td title=\"0 5\"></td><td title=\"1 5\"></td><td title=\"2 5\"></td><td style=\"font-weight:bold\" title=\"3 5\">Exports</td><td style=\"font-weight:bold\" title=\"4 5\"></td><td style=\"font-weight:bold\" title=\"5 5\"></td><td title=\"6 5\"></td><td style=\"font-weight:bold\" title=\"7 5\">Imports</td><td style=\"font-weight:bold\" title=\"8 5\"></td><td style=\"font-weight:bold\" title=\"9 5\"></td><td title=\"10 5\"></td><td title=\"11 5\"></td><td title=\"12 5\"></td><td title=\"13 5\"></td></tr>\n",
       "<tr><td title=\"0 6\"></td><td title=\"1 6\"></td><td title=\"2 6\"></td><td title=\"3 6\">2015.0</td><td title=\"4 6\"></td><td title=\"5 6\"></td><td title=\"6 6\"></td><td title=\"7 6\">2015.0</td><td title=\"8 6\"></td><td title=\"9 6\"></td><td title=\"10 6\"></td><td title=\"11 6\"></td><td title=\"12 6\"></td><td title=\"13 6\"></td></tr>\n",
       "<tr><td style=\"font-weight:bold\" title=\"0 7\">Industry Group</td><td style=\"font-weight:bold\" title=\"1 7\">Employees</td><td title=\"2 7\"></td><td title=\"3 7\">Value £ m</td><td title=\"4 7\">Business Count</td><td title=\"5 7\">Employee Count</td><td title=\"6 7\"></td><td title=\"7 7\">Value £ m</td><td title=\"8 7\">Business Count</td><td title=\"9 7\">Employee Count</td><td title=\"10 7\"></td><td title=\"11 7\"></td><td title=\"12 7\"></td><td title=\"13 7\"></td></tr>\n",
       "<tr><td style=\"font-weight:bold\" title=\"0 8\"></td><td style=\"font-weight:bold\" title=\"1 8\"></td><td title=\"2 8\"></td><td title=\"3 8\"></td><td title=\"4 8\"></td><td title=\"5 8\"></td><td title=\"6 8\"></td><td title=\"7 8\"></td><td title=\"8 8\"></td><td title=\"9 8\"></td><td title=\"10 8\"></td><td title=\"11 8\"></td><td title=\"12 8\"></td><td title=\"13 8\"></td></tr>\n",
       "<tr><td title=\"0 9\">Group 1 Agriculture and Food</td><td title=\"1 9\">0.0</td><td title=\"2 9\"></td><td title=\"3 9\">121.0</td><td title=\"4 9\">647.0</td><td title=\"5 9\">0.0</td><td title=\"6 9\"></td><td title=\"7 9\">588.0</td><td title=\"8 9\">1841.0</td><td title=\"9 9\">0.0</td><td title=\"10 9\"></td><td title=\"11 9\"></td><td title=\"12 9\"></td><td title=\"13 9\"></td></tr>\n",
       "<tr><td title=\"0 10\"></td><td title=\"1 10\">1 to 9</td><td title=\"2 10\"></td><td title=\"3 10\">439.0</td><td title=\"4 10\">2725.0</td><td title=\"5 10\">10464.0</td><td title=\"6 10\"></td><td title=\"7 10\">594.0</td><td title=\"8 10\">4846.0</td><td title=\"9 10\">17472.0</td><td title=\"10 10\"></td><td title=\"11 10\"></td><td title=\"12 10\"></td><td title=\"13 10\"></td></tr>\n",
       "<tr><td title=\"0 11\"></td><td title=\"1 11\">10 to 49</td><td title=\"2 11\"></td><td title=\"3 11\">1081.0</td><td title=\"4 11\">1991.0</td><td title=\"5 11\">46627.0</td><td title=\"6 11\"></td><td title=\"7 11\">1605.0</td><td title=\"8 11\">2832.0</td><td title=\"9 11\">65295.0</td><td title=\"10 11\"></td><td title=\"11 11\"></td><td title=\"12 11\"></td><td title=\"13 11\"></td></tr>\n",
       "<tr><td title=\"0 12\"></td><td title=\"1 12\">50 to 249</td><td title=\"2 12\"></td><td title=\"3 12\">3954.0</td><td title=\"4 12\">997.0</td><td title=\"5 12\">107057.0</td><td title=\"6 12\"></td><td title=\"7 12\">4264.0</td><td title=\"8 12\">1269.0</td><td title=\"9 12\">135248.0</td><td title=\"10 12\"></td><td title=\"11 12\"></td><td title=\"12 12\"></td><td title=\"13 12\"></td></tr>\n",
       "<tr><td title=\"0 13\"></td><td title=\"1 13\">250 +</td><td title=\"2 13\"></td><td title=\"3 13\">9550.0</td><td title=\"4 13\">295.0</td><td title=\"5 13\">320518.0</td><td title=\"6 13\"></td><td title=\"7 13\">11247.0</td><td title=\"8 13\">331.0</td><td title=\"9 13\">340089.0</td><td title=\"10 13\"></td><td title=\"11 13\"></td><td title=\"12 13\"></td><td title=\"13 13\"></td></tr>\n",
       "<tr><td title=\"0 14\"></td><td title=\"1 14\">Unknown</td><td title=\"2 14\"></td><td title=\"3 14\">33.0</td><td title=\"4 14\">192.0</td><td title=\"5 14\">.</td><td title=\"6 14\"></td><td title=\"7 14\">89.0</td><td title=\"8 14\">518.0</td><td title=\"9 14\">.</td><td title=\"10 14\"></td><td title=\"11 14\"></td><td title=\"12 14\"></td><td title=\"13 14\"></td></tr>\n",
       "<tr><td title=\"0 15\"></td><td title=\"1 15\"></td><td title=\"2 15\"></td><td title=\"3 15\"></td><td title=\"4 15\"></td><td title=\"5 15\"></td><td title=\"6 15\"></td><td title=\"7 15\"></td><td title=\"8 15\"></td><td title=\"9 15\"></td><td title=\"10 15\"></td><td title=\"11 15\"></td><td title=\"12 15\"></td><td title=\"13 15\"></td></tr>\n",
       "<tr><td title=\"0 16\">Group 2 Mining, Petroleum products and Waste</td><td title=\"1 16\">0.0</td><td title=\"2 16\"></td><td title=\"3 16\">S</td><td title=\"4 16\">S</td><td title=\"5 16\">0.0</td><td title=\"6 16\"></td><td title=\"7 16\">386.0</td><td title=\"8 16\">45.0</td><td title=\"9 16\">0.0</td><td title=\"10 16\"></td><td title=\"11 16\"></td><td title=\"12 16\"></td><td title=\"13 16\"></td></tr>\n",
       "<tr><td title=\"0 17\"></td><td title=\"1 17\">1 to 9</td><td title=\"2 17\"></td><td title=\"3 17\">227.0</td><td title=\"4 17\">619.0</td><td title=\"5 17\">2362.0</td><td title=\"6 17\"></td><td title=\"7 17\">325.0</td><td title=\"8 17\">827.0</td><td title=\"9 17\">2840.0</td><td title=\"10 17\"></td><td title=\"11 17\"></td><td title=\"12 17\"></td><td title=\"13 17\"></td></tr>\n",
       "<tr><td title=\"0 18\"></td><td title=\"1 18\">10 to 49</td><td title=\"2 18\"></td><td title=\"3 18\">758.0</td><td title=\"4 18\">583.0</td><td title=\"5 18\">14282.0</td><td title=\"6 18\"></td><td title=\"7 18\">458.0</td><td title=\"8 18\">601.0</td><td title=\"9 18\">14326.0</td><td title=\"10 18\"></td><td title=\"11 18\"></td><td title=\"12 18\"></td><td title=\"13 18\"></td></tr>\n",
       "<tr><td title=\"0 19\"></td><td title=\"1 19\">50 to 249</td><td title=\"2 19\"></td><td title=\"3 19\">2037.0</td><td title=\"4 19\">275.0</td><td title=\"5 19\">28235.0</td><td title=\"6 19\"></td><td title=\"7 19\">1742.0</td><td title=\"8 19\">319.0</td><td title=\"9 19\">33361.0</td><td title=\"10 19\"></td><td title=\"11 19\"></td><td title=\"12 19\"></td><td title=\"13 19\"></td></tr>\n",
       "<tr><td title=\"0 20\"></td><td title=\"1 20\">250 +</td><td title=\"2 20\"></td><td title=\"3 20\">14245.0</td><td title=\"4 20\">129.0</td><td title=\"5 20\">259023.0</td><td title=\"6 20\"></td><td title=\"7 20\">18768.0</td><td title=\"8 20\">155.0</td><td title=\"9 20\">297086.0</td><td title=\"10 20\"></td><td title=\"11 20\"></td><td title=\"12 20\"></td><td title=\"13 20\"></td></tr>\n",
       "<tr><td title=\"0 21\"></td><td title=\"1 21\">Unknown</td><td title=\"2 21\"></td><td title=\"3 21\">S</td><td title=\"4 21\">S</td><td title=\"5 21\">.</td><td title=\"6 21\"></td><td title=\"7 21\">1547.0</td><td title=\"8 21\">120.0</td><td title=\"9 21\">.</td><td title=\"10 21\"></td><td title=\"11 21\"></td><td title=\"12 21\"></td><td title=\"13 21\"></td></tr>\n",
       "<tr><td title=\"0 22\"></td><td title=\"1 22\"></td><td title=\"2 22\"></td><td title=\"3 22\"></td><td title=\"4 22\"></td><td title=\"5 22\"></td><td title=\"6 22\"></td><td title=\"7 22\"></td><td title=\"8 22\"></td><td title=\"9 22\"></td><td title=\"10 22\"></td><td title=\"11 22\"></td><td title=\"12 22\"></td><td title=\"13 22\"></td></tr>\n",
       "<tr><td title=\"0 23\">Group 3 Chemicals</td><td title=\"1 23\">0.0</td><td title=\"2 23\"></td><td title=\"3 23\">507.0</td><td title=\"4 23\">62.0</td><td title=\"5 23\">0.0</td><td title=\"6 23\"></td><td title=\"7 23\">776.0</td><td title=\"8 23\">79.0</td><td title=\"9 23\">0.0</td><td title=\"10 23\"></td><td title=\"11 23\"></td><td title=\"12 23\"></td><td title=\"13 23\"></td></tr>\n",
       "<tr><td title=\"0 24\"></td><td title=\"1 24\">1 to 9</td><td title=\"2 24\"></td><td title=\"3 24\">188.0</td><td title=\"4 24\">533.0</td><td title=\"5 24\">2168.0</td><td title=\"6 24\"></td><td title=\"7 24\">118.0</td><td title=\"8 24\">495.0</td><td title=\"9 24\">2004.0</td><td title=\"10 24\"></td><td title=\"11 24\"></td><td title=\"12 24\"></td><td title=\"13 24\"></td></tr>\n",
       "<tr><td title=\"0 25\"></td><td title=\"1 25\">10 to 49</td><td title=\"2 25\"></td><td title=\"3 25\">799.0</td><td title=\"4 25\">496.0</td><td title=\"5 25\">12005.0</td><td title=\"6 25\"></td><td title=\"7 25\">477.0</td><td title=\"8 25\">483.0</td><td title=\"9 25\">11751.0</td><td title=\"10 25\"></td><td title=\"11 25\"></td><td title=\"12 25\"></td><td title=\"13 25\"></td></tr>\n",
       "<tr><td title=\"0 26\"></td><td title=\"1 26\">50 to 249</td><td title=\"2 26\"></td><td title=\"3 26\">3817.0</td><td title=\"4 26\">280.0</td><td title=\"5 26\">29461.0</td><td title=\"6 26\"></td><td title=\"7 26\">2246.0</td><td title=\"8 26\">286.0</td><td title=\"9 26\">30130.0</td><td title=\"10 26\"></td><td title=\"11 26\"></td><td title=\"12 26\"></td><td title=\"13 26\"></td></tr>\n",
       "<tr><td title=\"0 27\"></td><td title=\"1 27\">250 +</td><td title=\"2 27\"></td><td title=\"3 27\">8203.0</td><td title=\"4 27\">69.0</td><td title=\"5 27\">63978.0</td><td title=\"6 27\"></td><td title=\"7 27\">5799.0</td><td title=\"8 27\">70.0</td><td title=\"9 27\">64504.0</td><td title=\"10 27\"></td><td title=\"11 27\"></td><td title=\"12 27\"></td><td title=\"13 27\"></td></tr>\n",
       "<tr><td title=\"0 28\"></td><td title=\"1 28\">Unknown</td><td title=\"2 28\"></td><td title=\"3 28\">50.0</td><td title=\"4 28\">51.0</td><td title=\"5 28\">.</td><td title=\"6 28\"></td><td title=\"7 28\">50.0</td><td title=\"8 28\">51.0</td><td title=\"9 28\">.</td><td title=\"10 28\"></td><td title=\"11 28\"></td><td title=\"12 28\"></td><td title=\"13 28\"></td></tr>\n",
       "<tr><td title=\"0 29\"></td><td title=\"1 29\"></td><td title=\"2 29\"></td><td title=\"3 29\"></td><td title=\"4 29\"></td><td title=\"5 29\"></td><td title=\"6 29\"></td><td title=\"7 29\"></td><td title=\"8 29\"></td><td title=\"9 29\"></td><td title=\"10 29\"></td><td title=\"11 29\"></td><td title=\"12 29\"></td><td title=\"13 29\"></td></tr>\n",
       "<tr><td title=\"0 30\">Group 4 Pharmaceuticals</td><td title=\"1 30\">0.0</td><td title=\"2 30\"></td><td title=\"3 30\">S</td><td title=\"4 30\">S</td><td title=\"5 30\">0.0</td><td title=\"6 30\"></td><td title=\"7 30\">S</td><td title=\"8 30\">S</td><td title=\"9 30\">0.0</td><td title=\"10 30\"></td><td title=\"11 30\"></td><td title=\"12 30\"></td><td title=\"13 30\"></td></tr>\n",
       "<tr><td title=\"0 31\"></td><td title=\"1 31\">1 to 9</td><td title=\"2 31\"></td><td title=\"3 31\">S</td><td title=\"4 31\">S</td><td title=\"5 31\">259.0</td><td title=\"6 31\"></td><td title=\"7 31\">S</td><td title=\"8 31\">S</td><td title=\"9 31\">342.0</td><td title=\"10 31\"></td><td title=\"11 31\"></td><td title=\"12 31\"></td><td title=\"13 31\"></td></tr>\n",
       "<tr><td title=\"0 32\"></td><td title=\"1 32\">10 to 49</td><td title=\"2 32\"></td><td title=\"3 32\">76.0</td><td title=\"4 32\">49.0</td><td title=\"5 32\">1282.0</td><td title=\"6 32\"></td><td title=\"7 32\">68.0</td><td title=\"8 32\">55.0</td><td title=\"9 32\">1376.0</td><td title=\"10 32\"></td><td title=\"11 32\"></td><td title=\"12 32\"></td><td title=\"13 32\"></td></tr>\n",
       "<tr><td title=\"0 33\"></td><td title=\"1 33\">50 to 249</td><td title=\"2 33\"></td><td title=\"3 33\">343.0</td><td title=\"4 33\">39.0</td><td title=\"5 33\">4978.0</td><td title=\"6 33\"></td><td title=\"7 33\">153.0</td><td title=\"8 33\">41.0</td><td title=\"9 33\">5273.0</td><td title=\"10 33\"></td><td title=\"11 33\"></td><td title=\"12 33\"></td><td title=\"13 33\"></td></tr>\n",
       "<tr><td title=\"0 34\"></td><td title=\"1 34\">250 +</td><td title=\"2 34\"></td><td title=\"3 34\">9084.0</td><td title=\"4 34\">38.0</td><td title=\"5 34\">38513.0</td><td title=\"6 34\"></td><td title=\"7 34\">2705.0</td><td title=\"8 34\">38.0</td><td title=\"9 34\">38513.0</td><td title=\"10 34\"></td><td title=\"11 34\"></td><td title=\"12 34\"></td><td title=\"13 34\"></td></tr>\n",
       "<tr><td title=\"0 35\"></td><td title=\"1 35\">Unknown</td><td title=\"2 35\"></td><td title=\"3 35\">S</td><td title=\"4 35\">S</td><td title=\"5 35\">.</td><td title=\"6 35\"></td><td title=\"7 35\">S</td><td title=\"8 35\">S</td><td title=\"9 35\">.</td><td title=\"10 35\"></td><td title=\"11 35\"></td><td title=\"12 35\"></td><td title=\"13 35\"></td></tr>\n",
       "<tr><td title=\"0 36\"></td><td title=\"1 36\"></td><td title=\"2 36\"></td><td title=\"3 36\"></td><td title=\"4 36\"></td><td title=\"5 36\"></td><td title=\"6 36\"></td><td title=\"7 36\"></td><td title=\"8 36\"></td><td title=\"9 36\"></td><td title=\"10 36\"></td><td title=\"11 36\"></td><td title=\"12 36\"></td><td title=\"13 36\"></td></tr>\n",
       "<tr><td title=\"0 37\">Group 5 Electronic and Electrical equipment</td><td title=\"1 37\">0.0</td><td title=\"2 37\"></td><td title=\"3 37\">247.0</td><td title=\"4 37\">136.0</td><td title=\"5 37\">0.0</td><td title=\"6 37\"></td><td title=\"7 37\">400.0</td><td title=\"8 37\">135.0</td><td title=\"9 37\">0.0</td><td title=\"10 37\"></td><td title=\"11 37\"></td><td title=\"12 37\"></td><td title=\"13 37\"></td></tr>\n",
       "<tr><td title=\"0 38\"></td><td title=\"1 38\">1 to 9</td><td title=\"2 38\"></td><td title=\"3 38\">308.0</td><td title=\"4 38\">1717.0</td><td title=\"5 38\">6560.0</td><td title=\"6 38\"></td><td title=\"7 38\">216.0</td><td title=\"8 38\">1821.0</td><td title=\"9 38\">6755.0</td><td title=\"10 38\"></td><td title=\"11 38\"></td><td title=\"12 38\"></td><td title=\"13 38\"></td></tr>\n",
       "<tr><td title=\"0 39\"></td><td title=\"1 39\">10 to 49</td><td title=\"2 39\"></td><td title=\"3 39\">1603.0</td><td title=\"4 39\">1434.0</td><td title=\"5 39\">33535.0</td><td title=\"6 39\"></td><td title=\"7 39\">961.0</td><td title=\"8 39\">1486.0</td><td title=\"9 39\">34571.0</td><td title=\"10 39\"></td><td title=\"11 39\"></td><td title=\"12 39\"></td><td title=\"13 39\"></td></tr>\n",
       "<tr><td title=\"0 40\"></td><td title=\"1 40\">50 to 249</td><td title=\"2 40\"></td><td title=\"3 40\">3921.0</td><td title=\"4 40\">559.0</td><td title=\"5 40\">58303.0</td><td title=\"6 40\"></td><td title=\"7 40\">2022.0</td><td title=\"8 40\">573.0</td><td title=\"9 40\">59528.0</td><td title=\"10 40\"></td><td title=\"11 40\"></td><td title=\"12 40\"></td><td title=\"13 40\"></td></tr>\n",
       "<tr><td title=\"0 41\"></td><td title=\"1 41\">250 +</td><td title=\"2 41\"></td><td title=\"3 41\">11596.0</td><td title=\"4 41\">111.0</td><td title=\"5 41\">84488.0</td><td title=\"6 41\"></td><td title=\"7 41\">9997.0</td><td title=\"8 41\">111.0</td><td title=\"9 41\">83552.0</td><td title=\"10 41\"></td><td title=\"11 41\"></td><td title=\"12 41\"></td><td title=\"13 41\"></td></tr>\n",
       "<tr><td title=\"0 42\"></td><td title=\"1 42\">Unknown</td><td title=\"2 42\"></td><td title=\"3 42\">236.0</td><td title=\"4 42\">150.0</td><td title=\"5 42\">.</td><td title=\"6 42\"></td><td title=\"7 42\">99.0</td><td title=\"8 42\">163.0</td><td title=\"9 42\">.</td><td title=\"10 42\"></td><td title=\"11 42\"></td><td title=\"12 42\"></td><td title=\"13 42\"></td></tr>\n",
       "<tr><td title=\"0 43\"></td><td title=\"1 43\"></td><td title=\"2 43\"></td><td title=\"3 43\"></td><td title=\"4 43\"></td><td title=\"5 43\"></td><td title=\"6 43\"></td><td title=\"7 43\"></td><td title=\"8 43\"></td><td title=\"9 43\"></td><td title=\"10 43\"></td><td title=\"11 43\"></td><td title=\"12 43\"></td><td title=\"13 43\"></td></tr>\n",
       "<tr><td title=\"0 44\">Group 6 Machinery and equipment n.e.s</td><td title=\"1 44\">0.0</td><td title=\"2 44\"></td><td title=\"3 44\">233.0</td><td title=\"4 44\">75.0</td><td title=\"5 44\">0.0</td><td title=\"6 44\"></td><td title=\"7 44\">143.0</td><td title=\"8 44\">82.0</td><td title=\"9 44\">0.0</td><td title=\"10 44\"></td><td title=\"11 44\"></td><td title=\"12 44\"></td><td title=\"13 44\"></td></tr>\n",
       "<tr><td title=\"0 45\"></td><td title=\"1 45\">1 to 9</td><td title=\"2 45\"></td><td title=\"3 45\">216.0</td><td title=\"4 45\">1371.0</td><td title=\"5 45\">5669.0</td><td title=\"6 45\"></td><td title=\"7 45\">172.0</td><td title=\"8 45\">1340.0</td><td title=\"9 45\">5507.0</td><td title=\"10 45\"></td><td title=\"11 45\"></td><td title=\"12 45\"></td><td title=\"13 45\"></td></tr>\n",
       "<tr><td title=\"0 46\"></td><td title=\"1 46\">10 to 49</td><td title=\"2 46\"></td><td title=\"3 46\">1211.0</td><td title=\"4 46\">1264.0</td><td title=\"5 46\">30340.0</td><td title=\"6 46\"></td><td title=\"7 46\">503.0</td><td title=\"8 46\">1214.0</td><td title=\"9 46\">29461.0</td><td title=\"10 46\"></td><td title=\"11 46\"></td><td title=\"12 46\"></td><td title=\"13 46\"></td></tr>\n",
       "<tr><td title=\"0 47\"></td><td title=\"1 47\">50 to 249</td><td title=\"2 47\"></td><td title=\"3 47\">3431.0</td><td title=\"4 47\">494.0</td><td title=\"5 47\">51204.0</td><td title=\"6 47\"></td><td title=\"7 47\">1331.0</td><td title=\"8 47\">506.0</td><td title=\"9 47\">52293.0</td><td title=\"10 47\"></td><td title=\"11 47\"></td><td title=\"12 47\"></td><td title=\"13 47\"></td></tr>\n",
       "<tr><td title=\"0 48\"></td><td title=\"1 48\">250 +</td><td title=\"2 48\"></td><td title=\"3 48\">10634.0</td><td title=\"4 48\">90.0</td><td title=\"5 48\">75080.0</td><td title=\"6 48\"></td><td title=\"7 48\">5952.0</td><td title=\"8 48\">91.0</td><td title=\"9 48\">75456.0</td><td title=\"10 48\"></td><td title=\"11 48\"></td><td title=\"12 48\"></td><td title=\"13 48\"></td></tr>\n",
       "<tr><td title=\"0 49\"></td><td title=\"1 49\">Unknown</td><td title=\"2 49\"></td><td title=\"3 49\">211.0</td><td title=\"4 49\">97.0</td><td title=\"5 49\">.</td><td title=\"6 49\"></td><td title=\"7 49\">52.0</td><td title=\"8 49\">90.0</td><td title=\"9 49\">.</td><td title=\"10 49\"></td><td title=\"11 49\"></td><td title=\"12 49\"></td><td title=\"13 49\"></td></tr>\n",
       "<tr><td title=\"0 50\"></td><td title=\"1 50\"></td><td title=\"2 50\"></td><td title=\"3 50\"></td><td title=\"4 50\"></td><td title=\"5 50\"></td><td title=\"6 50\"></td><td title=\"7 50\"></td><td title=\"8 50\"></td><td title=\"9 50\"></td><td title=\"10 50\"></td><td title=\"11 50\"></td><td title=\"12 50\"></td><td title=\"13 50\"></td></tr>\n",
       "<tr><td title=\"0 51\">Group 7 Motor vehicles, transport equipment (excluding aerospace)</td><td title=\"1 51\">0.0</td><td title=\"2 51\"></td><td title=\"3 51\">S</td><td title=\"4 51\">34.0</td><td title=\"5 51\">0.0</td><td title=\"6 51\"></td><td title=\"7 51\">S</td><td title=\"8 51\">S</td><td title=\"9 51\">0.0</td><td title=\"10 51\"></td><td title=\"11 51\"></td><td title=\"12 51\"></td><td title=\"13 51\"></td></tr>\n",
       "<tr><td title=\"0 52\"></td><td title=\"1 52\">1 to 9</td><td title=\"2 52\"></td><td title=\"3 52\">61.0</td><td title=\"4 52\">533.0</td><td title=\"5 52\">2027.0</td><td title=\"6 52\"></td><td title=\"7 52\">84.0</td><td title=\"8 52\">548.0</td><td title=\"9 52\">1981.0</td><td title=\"10 52\"></td><td title=\"11 52\"></td><td title=\"12 52\"></td><td title=\"13 52\"></td></tr>\n",
       "<tr><td title=\"0 53\"></td><td title=\"1 53\">10 to 49</td><td title=\"2 53\"></td><td title=\"3 53\">459.0</td><td title=\"4 53\">361.0</td><td title=\"5 53\">8273.0</td><td title=\"6 53\"></td><td title=\"7 53\">S</td><td title=\"8 53\">S</td><td title=\"9 53\">8833.0</td><td title=\"10 53\"></td><td title=\"11 53\"></td><td title=\"12 53\"></td><td title=\"13 53\"></td></tr>\n",
       "<tr><td title=\"0 54\"></td><td title=\"1 54\">50 to 249</td><td title=\"2 54\"></td><td title=\"3 54\">1090.0</td><td title=\"4 54\">234.0</td><td title=\"5 54\">25416.0</td><td title=\"6 54\"></td><td title=\"7 54\">1287.0</td><td title=\"8 54\">249.0</td><td title=\"9 54\">26905.0</td><td title=\"10 54\"></td><td title=\"11 54\"></td><td title=\"12 54\"></td><td title=\"13 54\"></td></tr>\n",
       "<tr><td title=\"0 55\"></td><td title=\"1 55\">250 +</td><td title=\"2 55\"></td><td title=\"3 55\">24879.0</td><td title=\"4 55\">96.0</td><td title=\"5 55\">116866.0</td><td title=\"6 55\"></td><td title=\"7 55\">20840.0</td><td title=\"8 55\">98.0</td><td title=\"9 55\">117602.0</td><td title=\"10 55\"></td><td title=\"11 55\"></td><td title=\"12 55\"></td><td title=\"13 55\"></td></tr>\n",
       "<tr><td title=\"0 56\"></td><td title=\"1 56\">Unknown</td><td title=\"2 56\"></td><td title=\"3 56\">S</td><td title=\"4 56\">40.0</td><td title=\"5 56\">.</td><td title=\"6 56\"></td><td title=\"7 56\">16.0</td><td title=\"8 56\">49.0</td><td title=\"9 56\">.</td><td title=\"10 56\"></td><td title=\"11 56\"></td><td title=\"12 56\"></td><td title=\"13 56\"></td></tr>\n",
       "<tr><td title=\"0 57\"></td><td title=\"1 57\"></td><td title=\"2 57\"></td><td title=\"3 57\"></td><td title=\"4 57\"></td><td title=\"5 57\"></td><td title=\"6 57\"></td><td title=\"7 57\"></td><td title=\"8 57\"></td><td title=\"9 57\"></td><td title=\"10 57\"></td><td title=\"11 57\"></td><td title=\"12 57\"></td><td title=\"13 57\"></td></tr>\n",
       "<tr><td title=\"0 58\">Group 8 Aerospace and related machinery</td><td title=\"1 58\">0.0</td><td title=\"2 58\"></td><td title=\"3 58\">S</td><td title=\"4 58\">S</td><td title=\"5 58\">0.0</td><td title=\"6 58\"></td><td title=\"7 58\">S</td><td title=\"8 58\">S</td><td title=\"9 58\">0.0</td><td title=\"10 58\"></td><td title=\"11 58\"></td><td title=\"12 58\"></td><td title=\"13 58\"></td></tr>\n",
       "<tr><td title=\"0 59\"></td><td title=\"1 59\">1 to 9</td><td title=\"2 59\"></td><td title=\"3 59\">S</td><td title=\"4 59\">S</td><td title=\"5 59\">135.0</td><td title=\"6 59\"></td><td title=\"7 59\">S</td><td title=\"8 59\">S</td><td title=\"9 59\">157.0</td><td title=\"10 59\"></td><td title=\"11 59\"></td><td title=\"12 59\"></td><td title=\"13 59\"></td></tr>\n",
       "<tr><td title=\"0 60\"></td><td title=\"1 60\">10 to 49</td><td title=\"2 60\"></td><td title=\"3 60\">64.0</td><td title=\"4 60\">35.0</td><td title=\"5 60\">871.0</td><td title=\"6 60\"></td><td title=\"7 60\">S</td><td title=\"8 60\">S</td><td title=\"9 60\">840.0</td><td title=\"10 60\"></td><td title=\"11 60\"></td><td title=\"12 60\"></td><td title=\"13 60\"></td></tr>\n",
       "<tr><td title=\"0 61\"></td><td title=\"1 61\">50 to 249</td><td title=\"2 61\"></td><td title=\"3 61\">333.0</td><td title=\"4 61\">53.0</td><td title=\"5 61\">6346.0</td><td title=\"6 61\"></td><td title=\"7 61\">165.0</td><td title=\"8 61\">52.0</td><td title=\"9 61\">6295.0</td><td title=\"10 61\"></td><td title=\"11 61\"></td><td title=\"12 61\"></td><td title=\"13 61\"></td></tr>\n",
       "<tr><td title=\"0 62\"></td><td title=\"1 62\">250 +</td><td title=\"2 62\"></td><td title=\"3 62\">19537.0</td><td title=\"4 62\">42.0</td><td title=\"5 62\">88910.0</td><td title=\"6 62\"></td><td title=\"7 62\">8192.0</td><td title=\"8 62\">42.0</td><td title=\"9 62\">88910.0</td><td title=\"10 62\"></td><td title=\"11 62\"></td><td title=\"12 62\"></td><td title=\"13 62\"></td></tr>\n",
       "<tr><td title=\"0 63\"></td><td title=\"1 63\">Unknown</td><td title=\"2 63\"></td><td title=\"3 63\">S</td><td title=\"4 63\">S</td><td title=\"5 63\">.</td><td title=\"6 63\"></td><td title=\"7 63\">S</td><td title=\"8 63\">S</td><td title=\"9 63\">.</td><td title=\"10 63\"></td><td title=\"11 63\"></td><td title=\"12 63\"></td><td title=\"13 63\"></td></tr>\n",
       "<tr><td title=\"0 64\"></td><td title=\"1 64\"></td><td title=\"2 64\"></td><td title=\"3 64\"></td><td title=\"4 64\"></td><td title=\"5 64\"></td><td title=\"6 64\"></td><td title=\"7 64\"></td><td title=\"8 64\"></td><td title=\"9 64\"></td><td title=\"10 64\"></td><td title=\"11 64\"></td><td title=\"12 64\"></td><td title=\"13 64\"></td></tr>\n",
       "<tr><td title=\"0 65\">Group 9 Other manufacturing</td><td title=\"1 65\">0.0</td><td title=\"2 65\"></td><td title=\"3 65\">289.0</td><td title=\"4 65\">504.0</td><td title=\"5 65\">0.0</td><td title=\"6 65\"></td><td title=\"7 65\">646.0</td><td title=\"8 65\">541.0</td><td title=\"9 65\">0.0</td><td title=\"10 65\"></td><td title=\"11 65\"></td><td title=\"12 65\"></td><td title=\"13 65\"></td></tr>\n",
       "<tr><td title=\"0 66\"></td><td title=\"1 66\">1 to 9</td><td title=\"2 66\"></td><td title=\"3 66\">707.0</td><td title=\"4 66\">5464.0</td><td title=\"5 66\">21925.0</td><td title=\"6 66\"></td><td title=\"7 66\">779.0</td><td title=\"8 66\">5994.0</td><td title=\"9 66\">23265.0</td><td title=\"10 66\"></td><td title=\"11 66\"></td><td title=\"12 66\"></td><td title=\"13 66\"></td></tr>\n",
       "<tr><td title=\"0 67\"></td><td title=\"1 67\">10 to 49</td><td title=\"2 67\"></td><td title=\"3 67\">2175.0</td><td title=\"4 67\">4705.0</td><td title=\"5 67\">108053.0</td><td title=\"6 67\"></td><td title=\"7 67\">1838.0</td><td title=\"8 67\">4676.0</td><td title=\"9 67\">108232.0</td><td title=\"10 67\"></td><td title=\"11 67\"></td><td title=\"12 67\"></td><td title=\"13 67\"></td></tr>\n",
       "<tr><td title=\"0 68\"></td><td title=\"1 68\">50 to 249</td><td title=\"2 68\"></td><td title=\"3 68\">5421.0</td><td title=\"4 68\">1809.0</td><td title=\"5 68\">182130.0</td><td title=\"6 68\"></td><td title=\"7 68\">3845.0</td><td title=\"8 68\">1927.0</td><td title=\"9 68\">193943.0</td><td title=\"10 68\"></td><td title=\"11 68\"></td><td title=\"12 68\"></td><td title=\"13 68\"></td></tr>\n",
       "<tr><td title=\"0 69\"></td><td title=\"1 69\">250 +</td><td title=\"2 69\"></td><td title=\"3 69\">6096.0</td><td title=\"4 69\">292.0</td><td title=\"5 69\">180636.0</td><td title=\"6 69\"></td><td title=\"7 69\">5424.0</td><td title=\"8 69\">309.0</td><td title=\"9 69\">189073.0</td><td title=\"10 69\"></td><td title=\"11 69\"></td><td title=\"12 69\"></td><td title=\"13 69\"></td></tr>\n",
       "<tr><td title=\"0 70\"></td><td title=\"1 70\">Unknown</td><td title=\"2 70\"></td><td title=\"3 70\">100.0</td><td title=\"4 70\">299.0</td><td title=\"5 70\">.</td><td title=\"6 70\"></td><td title=\"7 70\">99.0</td><td title=\"8 70\">352.0</td><td title=\"9 70\">.</td><td title=\"10 70\"></td><td title=\"11 70\"></td><td title=\"12 70\"></td><td title=\"13 70\"></td></tr>\n",
       "<tr><td title=\"0 71\"></td><td title=\"1 71\"></td><td title=\"2 71\"></td><td title=\"3 71\"></td><td title=\"4 71\"></td><td title=\"5 71\"></td><td title=\"6 71\"></td><td title=\"7 71\"></td><td title=\"8 71\"></td><td title=\"9 71\"></td><td title=\"10 71\"></td><td title=\"11 71\"></td><td title=\"12 71\"></td><td title=\"13 71\"></td></tr>\n",
       "<tr><td title=\"0 72\">Group 10 Services</td><td title=\"1 72\">0.0</td><td title=\"2 72\"></td><td title=\"3 72\">25234.0</td><td title=\"4 72\">7660.0</td><td title=\"5 72\">0.0</td><td title=\"6 72\"></td><td title=\"7 72\">40980.0</td><td title=\"8 72\">12193.0</td><td title=\"9 72\">0.0</td><td title=\"10 72\"></td><td title=\"11 72\"></td><td title=\"12 72\"></td><td title=\"13 72\"></td></tr>\n",
       "<tr><td title=\"0 73\"></td><td title=\"1 73\">1 to 9</td><td title=\"2 73\"></td><td title=\"3 73\">13577.0</td><td title=\"4 73\">64205.0</td><td title=\"5 73\">203932.0</td><td title=\"6 73\"></td><td title=\"7 73\">24047.0</td><td title=\"8 73\">101860.0</td><td title=\"9 73\">329982.0</td><td title=\"10 73\"></td><td title=\"11 73\"></td><td title=\"12 73\"></td><td title=\"13 73\"></td></tr>\n",
       "<tr><td title=\"0 74\"></td><td title=\"1 74\">10 to 49</td><td title=\"2 74\"></td><td title=\"3 74\">16038.0</td><td title=\"4 74\">22210.0</td><td title=\"5 74\">459152.0</td><td title=\"6 74\"></td><td title=\"7 74\">40321.0</td><td title=\"8 74\">33331.0</td><td title=\"9 74\">684270.0</td><td title=\"10 74\"></td><td title=\"11 74\"></td><td title=\"12 74\"></td><td title=\"13 74\"></td></tr>\n",
       "<tr><td title=\"0 75\"></td><td title=\"1 75\">50 to 249</td><td title=\"2 75\"></td><td title=\"3 75\">17950.0</td><td title=\"4 75\">5839.0</td><td title=\"5 75\">602627.0</td><td title=\"6 75\"></td><td title=\"7 75\">48139.0</td><td title=\"8 75\">8344.0</td><td title=\"9 75\">851022.0</td><td title=\"10 75\"></td><td title=\"11 75\"></td><td title=\"12 75\"></td><td title=\"13 75\"></td></tr>\n",
       "<tr><td title=\"0 76\"></td><td title=\"1 76\">250 +</td><td title=\"2 76\"></td><td title=\"3 76\">59178.0</td><td title=\"4 76\">2306.0</td><td title=\"5 76\">6259753.0</td><td title=\"6 76\"></td><td title=\"7 76\">124350.0</td><td title=\"8 76\">3201.0</td><td title=\"9 76\">8316623.0</td><td title=\"10 76\"></td><td title=\"11 76\"></td><td title=\"12 76\"></td><td title=\"13 76\"></td></tr>\n",
       "<tr><td title=\"0 77\"></td><td title=\"1 77\">Unknown</td><td title=\"2 77\"></td><td title=\"3 77\">9542.0</td><td title=\"4 77\">2854.0</td><td title=\"5 77\">.</td><td title=\"6 77\"></td><td title=\"7 77\">4288.0</td><td title=\"8 77\">5643.0</td><td title=\"9 77\">.</td><td title=\"10 77\"></td><td title=\"11 77\"></td><td title=\"12 77\"></td><td title=\"13 77\"></td></tr>\n",
       "<tr><td title=\"0 78\"></td><td title=\"1 78\"></td><td title=\"2 78\"></td><td title=\"3 78\"></td><td title=\"4 78\"></td><td title=\"5 78\"></td><td title=\"6 78\"></td><td title=\"7 78\"></td><td title=\"8 78\"></td><td title=\"9 78\"></td><td title=\"10 78\"></td><td title=\"11 78\"></td><td title=\"12 78\"></td><td title=\"13 78\"></td></tr>\n",
       "<tr><td title=\"0 79\">Unknown</td><td title=\"1 79\">Unknown</td><td title=\"2 79\"></td><td title=\"3 79\">11160.0</td><td title=\"4 79\">5970.0</td><td title=\"5 79\">.</td><td title=\"6 79\"></td><td title=\"7 79\">6459.0</td><td title=\"8 79\">16316.0</td><td title=\"9 79\">.</td><td title=\"10 79\"></td><td title=\"11 79\"></td><td title=\"12 79\"></td><td title=\"13 79\"></td></tr>\n",
       "<tr><td title=\"0 80\"></td><td title=\"1 80\"></td><td title=\"2 80\"></td><td title=\"3 80\"></td><td title=\"4 80\"></td><td title=\"5 80\"></td><td title=\"6 80\"></td><td title=\"7 80\"></td><td title=\"8 80\"></td><td title=\"9 80\"></td><td title=\"10 80\"></td><td title=\"11 80\"></td><td title=\"12 80\"></td><td title=\"13 80\"></td></tr>\n",
       "<tr><td style=\"font-weight:bold\" title=\"0 81\">Grand Total9</td><td style=\"font-weight:bold\" title=\"1 81\"></td><td style=\"font-weight:bold\" title=\"2 81\"></td><td style=\"font-weight:bold\" title=\"3 81\">304768.0</td><td style=\"font-weight:bold\" title=\"4 81\">143358.0</td><td style=\"font-weight:bold\" title=\"5 81\">9553443.0</td><td title=\"6 81\"></td><td style=\"font-weight:bold\" title=\"7 81\">411033.0</td><td style=\"font-weight:bold\" title=\"8 81\">219302.0</td><td style=\"font-weight:bold\" title=\"9 81\">12354666.0</td><td title=\"10 81\"></td><td title=\"11 81\"></td><td title=\"12 81\"></td><td title=\"13 81\"></td></tr>\n",
       "<tr><td title=\"0 82\"></td><td title=\"1 82\"></td><td title=\"2 82\"></td><td title=\"3 82\"></td><td title=\"4 82\"></td><td title=\"5 82\"></td><td title=\"6 82\"></td><td title=\"7 82\"></td><td title=\"8 82\"></td><td title=\"9 82\"></td><td title=\"10 82\"></td><td title=\"11 82\"></td><td title=\"12 82\"></td><td title=\"13 82\"></td></tr>\n",
       "<tr><td title=\"0 83\"></td><td title=\"1 83\"></td><td title=\"2 83\"></td><td title=\"3 83\"></td><td title=\"4 83\"></td><td title=\"5 83\"></td><td title=\"6 83\"></td><td title=\"7 83\"></td><td title=\"8 83\"></td><td title=\"9 83\">Source: HMRC OTS and ONS IDBR data</td><td title=\"10 83\"></td><td title=\"11 83\"></td><td title=\"12 83\"></td><td title=\"13 83\"></td></tr>\n",
       "<tr><td title=\"0 84\"></td><td title=\"1 84\"></td><td title=\"2 84\"></td><td title=\"3 84\"></td><td title=\"4 84\"></td><td title=\"5 84\"></td><td title=\"6 84\"></td><td title=\"7 84\"></td><td title=\"8 84\"></td><td title=\"9 84\"></td><td title=\"10 84\"></td><td title=\"11 84\"></td><td title=\"12 84\"></td><td title=\"13 84\"></td></tr>\n",
       "<tr><td title=\"0 85\">Notes:</td><td title=\"1 85\"></td><td title=\"2 85\"></td><td title=\"3 85\"></td><td title=\"4 85\"></td><td title=\"5 85\"></td><td title=\"6 85\"></td><td title=\"7 85\"></td><td title=\"8 85\"></td><td title=\"9 85\"></td><td title=\"10 85\"></td><td title=\"11 85\"></td><td title=\"12 85\"></td><td title=\"13 85\"></td></tr>\n",
       "<tr><td title=\"0 86\">1. These estimates are experimental official statistics. </td><td title=\"1 86\"></td><td title=\"2 86\"></td><td title=\"3 86\"></td><td title=\"4 86\"></td><td title=\"5 86\"></td><td title=\"6 86\"></td><td title=\"7 86\"></td><td title=\"8 86\"></td><td title=\"9 86\"></td><td title=\"10 86\"></td><td title=\"11 86\"></td><td title=\"12 86\"></td><td title=\"13 86\"></td></tr>\n",
       "<tr><td title=\"0 87\">2. Registered businesses are those which are registered for VAT and or EORI</td><td title=\"1 87\"></td><td title=\"2 87\"></td><td title=\"3 87\"></td><td title=\"4 87\"></td><td title=\"5 87\"></td><td title=\"6 87\"></td><td title=\"7 87\"></td><td title=\"8 87\"></td><td title=\"9 87\"></td><td title=\"10 87\"></td><td title=\"11 87\"></td><td title=\"12 87\"></td><td title=\"13 87\"></td></tr>\n",
       "<tr><td title=\"0 88\">3. Cells with:   S = Suppressed    .  = Not Applicable </td><td title=\"1 88\"></td><td title=\"2 88\"></td><td title=\"3 88\"></td><td title=\"4 88\"></td><td title=\"5 88\"></td><td title=\"6 88\"></td><td title=\"7 88\"></td><td title=\"8 88\"></td><td title=\"9 88\"></td><td title=\"10 88\"></td><td title=\"11 88\"></td><td title=\"12 88\"></td><td title=\"13 88\"></td></tr>\n",
       "<tr><td title=\"0 89\">4. Value of trade are in £ millions</td><td title=\"1 89\"></td><td title=\"2 89\"></td><td title=\"3 89\"></td><td title=\"4 89\"></td><td title=\"5 89\"></td><td title=\"6 89\"></td><td title=\"7 89\"></td><td title=\"8 89\"></td><td title=\"9 89\"></td><td title=\"10 89\"></td><td title=\"11 89\"></td><td title=\"12 89\"></td><td title=\"13 89\"></td></tr>\n",
       "<tr><td title=\"0 90\">5. Further details of Industry Group, Age and Employee size can be in the Metadata tab</td><td title=\"1 90\"></td><td title=\"2 90\"></td><td title=\"3 90\"></td><td title=\"4 90\"></td><td title=\"5 90\"></td><td title=\"6 90\"></td><td title=\"7 90\"></td><td title=\"8 90\"></td><td title=\"9 90\"></td><td title=\"10 90\"></td><td title=\"11 90\"></td><td title=\"12 90\"></td><td title=\"13 90\"></td></tr>\n",
       "<tr><td title=\"0 91\">6. Employment sizebands are based on IDBR employment for all variables and represent the employment of the Business</td><td title=\"1 91\"></td><td title=\"2 91\"></td><td title=\"3 91\"></td><td title=\"4 91\"></td><td title=\"5 91\"></td><td title=\"6 91\"></td><td title=\"7 91\"></td><td title=\"8 91\"></td><td title=\"9 91\"></td><td title=\"10 91\"></td><td title=\"11 91\"></td><td title=\"12 91\"></td><td title=\"13 91\"></td></tr>\n",
       "<tr><td title=\"0 92\">7. Age of a business is defined using the birth date, or registration date, of the business held within the IDBR. Mergers and other changes in structure may require re-registration and therefore affect the validity of this date.</td><td title=\"1 92\"></td><td title=\"2 92\"></td><td title=\"3 92\"></td><td title=\"4 92\"></td><td title=\"5 92\"></td><td title=\"6 92\"></td><td title=\"7 92\"></td><td title=\"8 92\"></td><td title=\"9 92\"></td><td title=\"10 92\"></td><td title=\"11 92\"></td><td title=\"12 92\"></td><td title=\"13 92\"></td></tr>\n",
       "<tr><td title=\"0 93\">8. The zero employees group can include sole traders and businesses who are required to register for UK VAT due to distance selling regulations.</td><td title=\"1 93\"></td><td title=\"2 93\"></td><td title=\"3 93\"></td><td title=\"4 93\"></td><td title=\"5 93\"></td><td title=\"6 93\"></td><td title=\"7 93\"></td><td title=\"8 93\"></td><td title=\"9 93\"></td><td title=\"10 93\"></td><td title=\"11 93\"></td><td title=\"12 93\"></td><td title=\"13 93\"></td></tr>\n",
       "<tr><td title=\"0 94\">9. Employee count totals exclude businesses where employee count is unknown.</td><td title=\"1 94\"></td><td title=\"2 94\"></td><td title=\"3 94\"></td><td title=\"4 94\"></td><td title=\"5 94\"></td><td title=\"6 94\"></td><td title=\"7 94\"></td><td title=\"8 94\"></td><td title=\"9 94\"></td><td title=\"10 94\"></td><td title=\"11 94\"></td><td title=\"12 94\"></td><td title=\"13 94\"></td></tr>\n",
       "</table>\n",
       "\n",
       "</div>\n"
      ],
      "text/plain": [
       "<IPython.core.display.HTML object>"
      ]
     },
     "metadata": {},
     "output_type": "display_data"
    }
   ],
   "source": [
    "savepreviewhtml(tab)"
   ]
  },
  {
   "cell_type": "code",
   "execution_count": 6,
   "metadata": {
    "collapsed": true
   },
   "outputs": [],
   "source": [
    "observations = tab.excel_ref('E10').expand(DOWN).expand(RIGHT).is_not_blank() "
   ]
  },
  {
   "cell_type": "code",
   "execution_count": 7,
   "metadata": {
    "collapsed": true
   },
   "outputs": [],
   "source": [
    "observations = observations - tab.excel_ref('H10').expand(DOWN).is_not_blank()"
   ]
  },
  {
   "cell_type": "code",
   "execution_count": 8,
   "metadata": {
    "collapsed": true
   },
   "outputs": [],
   "source": [
    "observations = observations - tab.excel_ref('F10').expand(DOWN).is_not_blank()"
   ]
  },
  {
   "cell_type": "code",
   "execution_count": 9,
   "metadata": {
    "collapsed": true
   },
   "outputs": [],
   "source": [
    "observations = observations - tab.excel_ref('J10').expand(DOWN).is_not_blank()"
   ]
  },
  {
   "cell_type": "code",
   "execution_count": 10,
   "metadata": {
    "collapsed": true
   },
   "outputs": [],
   "source": [
    "Industrygroup = tab.excel_ref('A10').expand(DOWN).is_not_blank()"
   ]
  },
  {
   "cell_type": "code",
   "execution_count": 11,
   "metadata": {
    "collapsed": true
   },
   "outputs": [],
   "source": [
    "employees = tab.excel_ref('B10').expand(DOWN)"
   ]
  },
  {
   "cell_type": "code",
   "execution_count": 12,
   "metadata": {
    "collapsed": true
   },
   "outputs": [],
   "source": [
    "Flow = tab.excel_ref('D6').expand(RIGHT).is_not_blank()"
   ]
  },
  {
   "cell_type": "code",
   "execution_count": 13,
   "metadata": {
    "collapsed": true
   },
   "outputs": [],
   "source": [
    "Dimensions = [\n",
    "            HDimConst('Geography', 'K02000001'),\n",
    "            HDimConst('Year','2015'),\n",
    "            HDimConst('Unit', 'Counts'), \n",
    "            HDimConst('Measure Type','Employees'),            \n",
    "            HDim(Industrygroup, 'Industry', CLOSEST, ABOVE),\n",
    "            HDim(Flow, 'Flow', CLOSEST, LEFT),\n",
    "            HDim(employees, 'Total Employees', DIRECTLY, LEFT)\n",
    "]"
   ]
  },
  {
   "cell_type": "code",
   "execution_count": 14,
   "metadata": {
    "collapsed": true
   },
   "outputs": [],
   "source": [
    "c1 = ConversionSegment(observations, Dimensions, processTIMEUNIT=True)"
   ]
  },
  {
   "cell_type": "code",
   "execution_count": 15,
   "metadata": {
    "collapsed": true
   },
   "outputs": [
    {
     "data": {
      "text/html": [
       "<div id=\"injblock1002\">\n",
       "<style>\n",
       "table.ex, table.exkey { border: thin black solid }\n",
       "table.ex td, table.ex tr { border: none }\n",
       "table.ex td:hover { border: thin blue solid }\n",
       "table.ex td.excOBS:hover { border: thin red solid }\n",
       "table.ex td.selected { border: thick red solid }\n",
       "</style>\n",
       "\n",
       "\n",
       "<table class=\"exkey\">\n",
       "<tr><td class=\"xc0\" style=\"background-color:Aqua\">OBS</td><td class=\"xc5\" style=\"background-color:Coral\">Industry</td><td class=\"xc6\" style=\"background-color:Gold\">Flow</td><td class=\"xc7\" style=\"background-color:Lime\">Total Employees</td></tr></table>\n",
       "\n",
       "<table class=\"ex\">\n",
       "<caption style=\"text-align:center; padding:0px; caption-side:bottom\">Industry_EmployeeSize</caption>\n",
       "<tr><td style=\"font-weight:bold\" title=\"0 0\">TRADE IN GOODS STATISTICS MATCHED WITH REGISTERED BUSINESSES FROM THE INTER-DEPARTMENTAL BUSINESS REGISTER</td><td title=\"1 0\"></td><td title=\"2 0\"></td><td title=\"3 0\"></td><td title=\"4 0\"></td><td title=\"5 0\"></td><td title=\"6 0\"></td><td title=\"7 0\"></td><td title=\"8 0\"></td><td title=\"9 0\"></td><td title=\"10 0\"></td><td title=\"11 0\"></td><td title=\"12 0\"></td><td title=\"13 0\"></td></tr>\n",
       "<tr><td title=\"0 1\"></td><td title=\"1 1\"></td><td title=\"2 1\"></td><td title=\"3 1\"></td><td title=\"4 1\"></td><td title=\"5 1\"></td><td title=\"6 1\"></td><td title=\"7 1\"></td><td title=\"8 1\"></td><td title=\"9 1\"></td><td title=\"10 1\"></td><td title=\"11 1\"></td><td title=\"12 1\"></td><td title=\"13 1\"></td></tr>\n",
       "<tr><td style=\"font-weight:bold\" title=\"0 2\">Release Date 24/11/2016</td><td title=\"1 2\"></td><td title=\"2 2\"></td><td title=\"3 2\"></td><td title=\"4 2\"></td><td title=\"5 2\"></td><td title=\"6 2\"></td><td title=\"7 2\"></td><td title=\"8 2\"></td><td title=\"9 2\"></td><td title=\"10 2\"></td><td title=\"11 2\"></td><td title=\"12 2\"></td><td title=\"13 2\"></td></tr>\n",
       "<tr><td title=\"0 3\"></td><td title=\"1 3\"></td><td title=\"2 3\"></td><td title=\"3 3\"></td><td title=\"4 3\"></td><td title=\"5 3\"></td><td title=\"6 3\"></td><td title=\"7 3\"></td><td title=\"8 3\"></td><td title=\"9 3\"></td><td title=\"10 3\"></td><td title=\"11 3\"></td><td title=\"12 3\"></td><td title=\"13 3\"></td></tr>\n",
       "<tr><td style=\"font-weight:bold\" title=\"0 4\">Total value of UK Trade, Business count and Employee count, by Industry group and Employee Size group for Imports and Exports</td><td title=\"1 4\"></td><td title=\"2 4\"></td><td title=\"3 4\"></td><td title=\"4 4\"></td><td title=\"5 4\"></td><td title=\"6 4\"></td><td title=\"7 4\"></td><td title=\"8 4\"></td><td title=\"9 4\"></td><td title=\"10 4\"></td><td title=\"11 4\"></td><td title=\"12 4\"></td><td title=\"13 4\"></td></tr>\n",
       "<tr><td title=\"0 5\"></td><td title=\"1 5\"></td><td title=\"2 5\"></td><td style=\"background-color:Gold;font-weight:bold\" title=\"3 5\">Exports</td><td style=\"font-weight:bold\" title=\"4 5\"></td><td style=\"font-weight:bold\" title=\"5 5\"></td><td title=\"6 5\"></td><td style=\"background-color:Gold;font-weight:bold\" title=\"7 5\">Imports</td><td style=\"font-weight:bold\" title=\"8 5\"></td><td style=\"font-weight:bold\" title=\"9 5\"></td><td title=\"10 5\"></td><td title=\"11 5\"></td><td title=\"12 5\"></td><td title=\"13 5\"></td></tr>\n",
       "<tr><td title=\"0 6\"></td><td title=\"1 6\"></td><td title=\"2 6\"></td><td title=\"3 6\">2015.0</td><td title=\"4 6\"></td><td title=\"5 6\"></td><td title=\"6 6\"></td><td title=\"7 6\">2015.0</td><td title=\"8 6\"></td><td title=\"9 6\"></td><td title=\"10 6\"></td><td title=\"11 6\"></td><td title=\"12 6\"></td><td title=\"13 6\"></td></tr>\n",
       "<tr><td style=\"font-weight:bold\" title=\"0 7\">Industry Group</td><td style=\"font-weight:bold\" title=\"1 7\">Employees</td><td title=\"2 7\"></td><td title=\"3 7\">Value £ m</td><td title=\"4 7\">Business Count</td><td title=\"5 7\">Employee Count</td><td title=\"6 7\"></td><td title=\"7 7\">Value £ m</td><td title=\"8 7\">Business Count</td><td title=\"9 7\">Employee Count</td><td title=\"10 7\"></td><td title=\"11 7\"></td><td title=\"12 7\"></td><td title=\"13 7\"></td></tr>\n",
       "<tr><td style=\"font-weight:bold\" title=\"0 8\"></td><td style=\"font-weight:bold\" title=\"1 8\"></td><td title=\"2 8\"></td><td title=\"3 8\"></td><td title=\"4 8\"></td><td title=\"5 8\"></td><td title=\"6 8\"></td><td title=\"7 8\"></td><td title=\"8 8\"></td><td title=\"9 8\"></td><td title=\"10 8\"></td><td title=\"11 8\"></td><td title=\"12 8\"></td><td title=\"13 8\"></td></tr>\n",
       "<tr><td style=\"background-color:Coral\" title=\"0 9\">Group 1 Agriculture and Food</td><td style=\"background-color:Lime\" title=\"1 9\">0.0</td><td title=\"2 9\"></td><td title=\"3 9\">121.0</td><td style=\"background-color:Aqua\" title=\"4 9\">647.0</td><td title=\"5 9\">0.0</td><td title=\"6 9\"></td><td title=\"7 9\">588.0</td><td style=\"background-color:Aqua\" title=\"8 9\">1841.0</td><td title=\"9 9\">0.0</td><td title=\"10 9\"></td><td title=\"11 9\"></td><td title=\"12 9\"></td><td title=\"13 9\"></td></tr>\n",
       "<tr><td title=\"0 10\"></td><td style=\"background-color:Lime\" title=\"1 10\">1 to 9</td><td title=\"2 10\"></td><td title=\"3 10\">439.0</td><td style=\"background-color:Aqua\" title=\"4 10\">2725.0</td><td title=\"5 10\">10464.0</td><td title=\"6 10\"></td><td title=\"7 10\">594.0</td><td style=\"background-color:Aqua\" title=\"8 10\">4846.0</td><td title=\"9 10\">17472.0</td><td title=\"10 10\"></td><td title=\"11 10\"></td><td title=\"12 10\"></td><td title=\"13 10\"></td></tr>\n",
       "<tr><td title=\"0 11\"></td><td style=\"background-color:Lime\" title=\"1 11\">10 to 49</td><td title=\"2 11\"></td><td title=\"3 11\">1081.0</td><td style=\"background-color:Aqua\" title=\"4 11\">1991.0</td><td title=\"5 11\">46627.0</td><td title=\"6 11\"></td><td title=\"7 11\">1605.0</td><td style=\"background-color:Aqua\" title=\"8 11\">2832.0</td><td title=\"9 11\">65295.0</td><td title=\"10 11\"></td><td title=\"11 11\"></td><td title=\"12 11\"></td><td title=\"13 11\"></td></tr>\n",
       "<tr><td title=\"0 12\"></td><td style=\"background-color:Lime\" title=\"1 12\">50 to 249</td><td title=\"2 12\"></td><td title=\"3 12\">3954.0</td><td style=\"background-color:Aqua\" title=\"4 12\">997.0</td><td title=\"5 12\">107057.0</td><td title=\"6 12\"></td><td title=\"7 12\">4264.0</td><td style=\"background-color:Aqua\" title=\"8 12\">1269.0</td><td title=\"9 12\">135248.0</td><td title=\"10 12\"></td><td title=\"11 12\"></td><td title=\"12 12\"></td><td title=\"13 12\"></td></tr>\n",
       "<tr><td title=\"0 13\"></td><td style=\"background-color:Lime\" title=\"1 13\">250 +</td><td title=\"2 13\"></td><td title=\"3 13\">9550.0</td><td style=\"background-color:Aqua\" title=\"4 13\">295.0</td><td title=\"5 13\">320518.0</td><td title=\"6 13\"></td><td title=\"7 13\">11247.0</td><td style=\"background-color:Aqua\" title=\"8 13\">331.0</td><td title=\"9 13\">340089.0</td><td title=\"10 13\"></td><td title=\"11 13\"></td><td title=\"12 13\"></td><td title=\"13 13\"></td></tr>\n",
       "<tr><td title=\"0 14\"></td><td style=\"background-color:Lime\" title=\"1 14\">Unknown</td><td title=\"2 14\"></td><td title=\"3 14\">33.0</td><td style=\"background-color:Aqua\" title=\"4 14\">192.0</td><td title=\"5 14\">.</td><td title=\"6 14\"></td><td title=\"7 14\">89.0</td><td style=\"background-color:Aqua\" title=\"8 14\">518.0</td><td title=\"9 14\">.</td><td title=\"10 14\"></td><td title=\"11 14\"></td><td title=\"12 14\"></td><td title=\"13 14\"></td></tr>\n",
       "<tr><td title=\"0 15\"></td><td style=\"background-color:Lime\" title=\"1 15\"></td><td title=\"2 15\"></td><td title=\"3 15\"></td><td title=\"4 15\"></td><td title=\"5 15\"></td><td title=\"6 15\"></td><td title=\"7 15\"></td><td title=\"8 15\"></td><td title=\"9 15\"></td><td title=\"10 15\"></td><td title=\"11 15\"></td><td title=\"12 15\"></td><td title=\"13 15\"></td></tr>\n",
       "<tr><td style=\"background-color:Coral\" title=\"0 16\">Group 2 Mining, Petroleum products and Waste</td><td style=\"background-color:Lime\" title=\"1 16\">0.0</td><td title=\"2 16\"></td><td title=\"3 16\">S</td><td style=\"background-color:Aqua\" title=\"4 16\">S</td><td title=\"5 16\">0.0</td><td title=\"6 16\"></td><td title=\"7 16\">386.0</td><td style=\"background-color:Aqua\" title=\"8 16\">45.0</td><td title=\"9 16\">0.0</td><td title=\"10 16\"></td><td title=\"11 16\"></td><td title=\"12 16\"></td><td title=\"13 16\"></td></tr>\n",
       "<tr><td title=\"0 17\"></td><td style=\"background-color:Lime\" title=\"1 17\">1 to 9</td><td title=\"2 17\"></td><td title=\"3 17\">227.0</td><td style=\"background-color:Aqua\" title=\"4 17\">619.0</td><td title=\"5 17\">2362.0</td><td title=\"6 17\"></td><td title=\"7 17\">325.0</td><td style=\"background-color:Aqua\" title=\"8 17\">827.0</td><td title=\"9 17\">2840.0</td><td title=\"10 17\"></td><td title=\"11 17\"></td><td title=\"12 17\"></td><td title=\"13 17\"></td></tr>\n",
       "<tr><td title=\"0 18\"></td><td style=\"background-color:Lime\" title=\"1 18\">10 to 49</td><td title=\"2 18\"></td><td title=\"3 18\">758.0</td><td style=\"background-color:Aqua\" title=\"4 18\">583.0</td><td title=\"5 18\">14282.0</td><td title=\"6 18\"></td><td title=\"7 18\">458.0</td><td style=\"background-color:Aqua\" title=\"8 18\">601.0</td><td title=\"9 18\">14326.0</td><td title=\"10 18\"></td><td title=\"11 18\"></td><td title=\"12 18\"></td><td title=\"13 18\"></td></tr>\n",
       "<tr><td title=\"0 19\"></td><td style=\"background-color:Lime\" title=\"1 19\">50 to 249</td><td title=\"2 19\"></td><td title=\"3 19\">2037.0</td><td style=\"background-color:Aqua\" title=\"4 19\">275.0</td><td title=\"5 19\">28235.0</td><td title=\"6 19\"></td><td title=\"7 19\">1742.0</td><td style=\"background-color:Aqua\" title=\"8 19\">319.0</td><td title=\"9 19\">33361.0</td><td title=\"10 19\"></td><td title=\"11 19\"></td><td title=\"12 19\"></td><td title=\"13 19\"></td></tr>\n",
       "<tr><td title=\"0 20\"></td><td style=\"background-color:Lime\" title=\"1 20\">250 +</td><td title=\"2 20\"></td><td title=\"3 20\">14245.0</td><td style=\"background-color:Aqua\" title=\"4 20\">129.0</td><td title=\"5 20\">259023.0</td><td title=\"6 20\"></td><td title=\"7 20\">18768.0</td><td style=\"background-color:Aqua\" title=\"8 20\">155.0</td><td title=\"9 20\">297086.0</td><td title=\"10 20\"></td><td title=\"11 20\"></td><td title=\"12 20\"></td><td title=\"13 20\"></td></tr>\n",
       "<tr><td title=\"0 21\"></td><td style=\"background-color:Lime\" title=\"1 21\">Unknown</td><td title=\"2 21\"></td><td title=\"3 21\">S</td><td style=\"background-color:Aqua\" title=\"4 21\">S</td><td title=\"5 21\">.</td><td title=\"6 21\"></td><td title=\"7 21\">1547.0</td><td style=\"background-color:Aqua\" title=\"8 21\">120.0</td><td title=\"9 21\">.</td><td title=\"10 21\"></td><td title=\"11 21\"></td><td title=\"12 21\"></td><td title=\"13 21\"></td></tr>\n",
       "<tr><td title=\"0 22\"></td><td style=\"background-color:Lime\" title=\"1 22\"></td><td title=\"2 22\"></td><td title=\"3 22\"></td><td title=\"4 22\"></td><td title=\"5 22\"></td><td title=\"6 22\"></td><td title=\"7 22\"></td><td title=\"8 22\"></td><td title=\"9 22\"></td><td title=\"10 22\"></td><td title=\"11 22\"></td><td title=\"12 22\"></td><td title=\"13 22\"></td></tr>\n",
       "<tr><td style=\"background-color:Coral\" title=\"0 23\">Group 3 Chemicals</td><td style=\"background-color:Lime\" title=\"1 23\">0.0</td><td title=\"2 23\"></td><td title=\"3 23\">507.0</td><td style=\"background-color:Aqua\" title=\"4 23\">62.0</td><td title=\"5 23\">0.0</td><td title=\"6 23\"></td><td title=\"7 23\">776.0</td><td style=\"background-color:Aqua\" title=\"8 23\">79.0</td><td title=\"9 23\">0.0</td><td title=\"10 23\"></td><td title=\"11 23\"></td><td title=\"12 23\"></td><td title=\"13 23\"></td></tr>\n",
       "<tr><td title=\"0 24\"></td><td style=\"background-color:Lime\" title=\"1 24\">1 to 9</td><td title=\"2 24\"></td><td title=\"3 24\">188.0</td><td style=\"background-color:Aqua\" title=\"4 24\">533.0</td><td title=\"5 24\">2168.0</td><td title=\"6 24\"></td><td title=\"7 24\">118.0</td><td style=\"background-color:Aqua\" title=\"8 24\">495.0</td><td title=\"9 24\">2004.0</td><td title=\"10 24\"></td><td title=\"11 24\"></td><td title=\"12 24\"></td><td title=\"13 24\"></td></tr>\n",
       "<tr><td title=\"0 25\"></td><td style=\"background-color:Lime\" title=\"1 25\">10 to 49</td><td title=\"2 25\"></td><td title=\"3 25\">799.0</td><td style=\"background-color:Aqua\" title=\"4 25\">496.0</td><td title=\"5 25\">12005.0</td><td title=\"6 25\"></td><td title=\"7 25\">477.0</td><td style=\"background-color:Aqua\" title=\"8 25\">483.0</td><td title=\"9 25\">11751.0</td><td title=\"10 25\"></td><td title=\"11 25\"></td><td title=\"12 25\"></td><td title=\"13 25\"></td></tr>\n",
       "<tr><td title=\"0 26\"></td><td style=\"background-color:Lime\" title=\"1 26\">50 to 249</td><td title=\"2 26\"></td><td title=\"3 26\">3817.0</td><td style=\"background-color:Aqua\" title=\"4 26\">280.0</td><td title=\"5 26\">29461.0</td><td title=\"6 26\"></td><td title=\"7 26\">2246.0</td><td style=\"background-color:Aqua\" title=\"8 26\">286.0</td><td title=\"9 26\">30130.0</td><td title=\"10 26\"></td><td title=\"11 26\"></td><td title=\"12 26\"></td><td title=\"13 26\"></td></tr>\n",
       "<tr><td title=\"0 27\"></td><td style=\"background-color:Lime\" title=\"1 27\">250 +</td><td title=\"2 27\"></td><td title=\"3 27\">8203.0</td><td style=\"background-color:Aqua\" title=\"4 27\">69.0</td><td title=\"5 27\">63978.0</td><td title=\"6 27\"></td><td title=\"7 27\">5799.0</td><td style=\"background-color:Aqua\" title=\"8 27\">70.0</td><td title=\"9 27\">64504.0</td><td title=\"10 27\"></td><td title=\"11 27\"></td><td title=\"12 27\"></td><td title=\"13 27\"></td></tr>\n",
       "<tr><td title=\"0 28\"></td><td style=\"background-color:Lime\" title=\"1 28\">Unknown</td><td title=\"2 28\"></td><td title=\"3 28\">50.0</td><td style=\"background-color:Aqua\" title=\"4 28\">51.0</td><td title=\"5 28\">.</td><td title=\"6 28\"></td><td title=\"7 28\">50.0</td><td style=\"background-color:Aqua\" title=\"8 28\">51.0</td><td title=\"9 28\">.</td><td title=\"10 28\"></td><td title=\"11 28\"></td><td title=\"12 28\"></td><td title=\"13 28\"></td></tr>\n",
       "<tr><td title=\"0 29\"></td><td style=\"background-color:Lime\" title=\"1 29\"></td><td title=\"2 29\"></td><td title=\"3 29\"></td><td title=\"4 29\"></td><td title=\"5 29\"></td><td title=\"6 29\"></td><td title=\"7 29\"></td><td title=\"8 29\"></td><td title=\"9 29\"></td><td title=\"10 29\"></td><td title=\"11 29\"></td><td title=\"12 29\"></td><td title=\"13 29\"></td></tr>\n",
       "<tr><td style=\"background-color:Coral\" title=\"0 30\">Group 4 Pharmaceuticals</td><td style=\"background-color:Lime\" title=\"1 30\">0.0</td><td title=\"2 30\"></td><td title=\"3 30\">S</td><td style=\"background-color:Aqua\" title=\"4 30\">S</td><td title=\"5 30\">0.0</td><td title=\"6 30\"></td><td title=\"7 30\">S</td><td style=\"background-color:Aqua\" title=\"8 30\">S</td><td title=\"9 30\">0.0</td><td title=\"10 30\"></td><td title=\"11 30\"></td><td title=\"12 30\"></td><td title=\"13 30\"></td></tr>\n",
       "<tr><td title=\"0 31\"></td><td style=\"background-color:Lime\" title=\"1 31\">1 to 9</td><td title=\"2 31\"></td><td title=\"3 31\">S</td><td style=\"background-color:Aqua\" title=\"4 31\">S</td><td title=\"5 31\">259.0</td><td title=\"6 31\"></td><td title=\"7 31\">S</td><td style=\"background-color:Aqua\" title=\"8 31\">S</td><td title=\"9 31\">342.0</td><td title=\"10 31\"></td><td title=\"11 31\"></td><td title=\"12 31\"></td><td title=\"13 31\"></td></tr>\n",
       "<tr><td title=\"0 32\"></td><td style=\"background-color:Lime\" title=\"1 32\">10 to 49</td><td title=\"2 32\"></td><td title=\"3 32\">76.0</td><td style=\"background-color:Aqua\" title=\"4 32\">49.0</td><td title=\"5 32\">1282.0</td><td title=\"6 32\"></td><td title=\"7 32\">68.0</td><td style=\"background-color:Aqua\" title=\"8 32\">55.0</td><td title=\"9 32\">1376.0</td><td title=\"10 32\"></td><td title=\"11 32\"></td><td title=\"12 32\"></td><td title=\"13 32\"></td></tr>\n",
       "<tr><td title=\"0 33\"></td><td style=\"background-color:Lime\" title=\"1 33\">50 to 249</td><td title=\"2 33\"></td><td title=\"3 33\">343.0</td><td style=\"background-color:Aqua\" title=\"4 33\">39.0</td><td title=\"5 33\">4978.0</td><td title=\"6 33\"></td><td title=\"7 33\">153.0</td><td style=\"background-color:Aqua\" title=\"8 33\">41.0</td><td title=\"9 33\">5273.0</td><td title=\"10 33\"></td><td title=\"11 33\"></td><td title=\"12 33\"></td><td title=\"13 33\"></td></tr>\n",
       "<tr><td title=\"0 34\"></td><td style=\"background-color:Lime\" title=\"1 34\">250 +</td><td title=\"2 34\"></td><td title=\"3 34\">9084.0</td><td style=\"background-color:Aqua\" title=\"4 34\">38.0</td><td title=\"5 34\">38513.0</td><td title=\"6 34\"></td><td title=\"7 34\">2705.0</td><td style=\"background-color:Aqua\" title=\"8 34\">38.0</td><td title=\"9 34\">38513.0</td><td title=\"10 34\"></td><td title=\"11 34\"></td><td title=\"12 34\"></td><td title=\"13 34\"></td></tr>\n",
       "<tr><td title=\"0 35\"></td><td style=\"background-color:Lime\" title=\"1 35\">Unknown</td><td title=\"2 35\"></td><td title=\"3 35\">S</td><td style=\"background-color:Aqua\" title=\"4 35\">S</td><td title=\"5 35\">.</td><td title=\"6 35\"></td><td title=\"7 35\">S</td><td style=\"background-color:Aqua\" title=\"8 35\">S</td><td title=\"9 35\">.</td><td title=\"10 35\"></td><td title=\"11 35\"></td><td title=\"12 35\"></td><td title=\"13 35\"></td></tr>\n",
       "<tr><td title=\"0 36\"></td><td style=\"background-color:Lime\" title=\"1 36\"></td><td title=\"2 36\"></td><td title=\"3 36\"></td><td title=\"4 36\"></td><td title=\"5 36\"></td><td title=\"6 36\"></td><td title=\"7 36\"></td><td title=\"8 36\"></td><td title=\"9 36\"></td><td title=\"10 36\"></td><td title=\"11 36\"></td><td title=\"12 36\"></td><td title=\"13 36\"></td></tr>\n",
       "<tr><td style=\"background-color:Coral\" title=\"0 37\">Group 5 Electronic and Electrical equipment</td><td style=\"background-color:Lime\" title=\"1 37\">0.0</td><td title=\"2 37\"></td><td title=\"3 37\">247.0</td><td style=\"background-color:Aqua\" title=\"4 37\">136.0</td><td title=\"5 37\">0.0</td><td title=\"6 37\"></td><td title=\"7 37\">400.0</td><td style=\"background-color:Aqua\" title=\"8 37\">135.0</td><td title=\"9 37\">0.0</td><td title=\"10 37\"></td><td title=\"11 37\"></td><td title=\"12 37\"></td><td title=\"13 37\"></td></tr>\n",
       "<tr><td title=\"0 38\"></td><td style=\"background-color:Lime\" title=\"1 38\">1 to 9</td><td title=\"2 38\"></td><td title=\"3 38\">308.0</td><td style=\"background-color:Aqua\" title=\"4 38\">1717.0</td><td title=\"5 38\">6560.0</td><td title=\"6 38\"></td><td title=\"7 38\">216.0</td><td style=\"background-color:Aqua\" title=\"8 38\">1821.0</td><td title=\"9 38\">6755.0</td><td title=\"10 38\"></td><td title=\"11 38\"></td><td title=\"12 38\"></td><td title=\"13 38\"></td></tr>\n",
       "<tr><td title=\"0 39\"></td><td style=\"background-color:Lime\" title=\"1 39\">10 to 49</td><td title=\"2 39\"></td><td title=\"3 39\">1603.0</td><td style=\"background-color:Aqua\" title=\"4 39\">1434.0</td><td title=\"5 39\">33535.0</td><td title=\"6 39\"></td><td title=\"7 39\">961.0</td><td style=\"background-color:Aqua\" title=\"8 39\">1486.0</td><td title=\"9 39\">34571.0</td><td title=\"10 39\"></td><td title=\"11 39\"></td><td title=\"12 39\"></td><td title=\"13 39\"></td></tr>\n",
       "<tr><td title=\"0 40\"></td><td style=\"background-color:Lime\" title=\"1 40\">50 to 249</td><td title=\"2 40\"></td><td title=\"3 40\">3921.0</td><td style=\"background-color:Aqua\" title=\"4 40\">559.0</td><td title=\"5 40\">58303.0</td><td title=\"6 40\"></td><td title=\"7 40\">2022.0</td><td style=\"background-color:Aqua\" title=\"8 40\">573.0</td><td title=\"9 40\">59528.0</td><td title=\"10 40\"></td><td title=\"11 40\"></td><td title=\"12 40\"></td><td title=\"13 40\"></td></tr>\n",
       "<tr><td title=\"0 41\"></td><td style=\"background-color:Lime\" title=\"1 41\">250 +</td><td title=\"2 41\"></td><td title=\"3 41\">11596.0</td><td style=\"background-color:Aqua\" title=\"4 41\">111.0</td><td title=\"5 41\">84488.0</td><td title=\"6 41\"></td><td title=\"7 41\">9997.0</td><td style=\"background-color:Aqua\" title=\"8 41\">111.0</td><td title=\"9 41\">83552.0</td><td title=\"10 41\"></td><td title=\"11 41\"></td><td title=\"12 41\"></td><td title=\"13 41\"></td></tr>\n",
       "<tr><td title=\"0 42\"></td><td style=\"background-color:Lime\" title=\"1 42\">Unknown</td><td title=\"2 42\"></td><td title=\"3 42\">236.0</td><td style=\"background-color:Aqua\" title=\"4 42\">150.0</td><td title=\"5 42\">.</td><td title=\"6 42\"></td><td title=\"7 42\">99.0</td><td style=\"background-color:Aqua\" title=\"8 42\">163.0</td><td title=\"9 42\">.</td><td title=\"10 42\"></td><td title=\"11 42\"></td><td title=\"12 42\"></td><td title=\"13 42\"></td></tr>\n",
       "<tr><td title=\"0 43\"></td><td style=\"background-color:Lime\" title=\"1 43\"></td><td title=\"2 43\"></td><td title=\"3 43\"></td><td title=\"4 43\"></td><td title=\"5 43\"></td><td title=\"6 43\"></td><td title=\"7 43\"></td><td title=\"8 43\"></td><td title=\"9 43\"></td><td title=\"10 43\"></td><td title=\"11 43\"></td><td title=\"12 43\"></td><td title=\"13 43\"></td></tr>\n",
       "<tr><td style=\"background-color:Coral\" title=\"0 44\">Group 6 Machinery and equipment n.e.s</td><td style=\"background-color:Lime\" title=\"1 44\">0.0</td><td title=\"2 44\"></td><td title=\"3 44\">233.0</td><td style=\"background-color:Aqua\" title=\"4 44\">75.0</td><td title=\"5 44\">0.0</td><td title=\"6 44\"></td><td title=\"7 44\">143.0</td><td style=\"background-color:Aqua\" title=\"8 44\">82.0</td><td title=\"9 44\">0.0</td><td title=\"10 44\"></td><td title=\"11 44\"></td><td title=\"12 44\"></td><td title=\"13 44\"></td></tr>\n",
       "<tr><td title=\"0 45\"></td><td style=\"background-color:Lime\" title=\"1 45\">1 to 9</td><td title=\"2 45\"></td><td title=\"3 45\">216.0</td><td style=\"background-color:Aqua\" title=\"4 45\">1371.0</td><td title=\"5 45\">5669.0</td><td title=\"6 45\"></td><td title=\"7 45\">172.0</td><td style=\"background-color:Aqua\" title=\"8 45\">1340.0</td><td title=\"9 45\">5507.0</td><td title=\"10 45\"></td><td title=\"11 45\"></td><td title=\"12 45\"></td><td title=\"13 45\"></td></tr>\n",
       "<tr><td title=\"0 46\"></td><td style=\"background-color:Lime\" title=\"1 46\">10 to 49</td><td title=\"2 46\"></td><td title=\"3 46\">1211.0</td><td style=\"background-color:Aqua\" title=\"4 46\">1264.0</td><td title=\"5 46\">30340.0</td><td title=\"6 46\"></td><td title=\"7 46\">503.0</td><td style=\"background-color:Aqua\" title=\"8 46\">1214.0</td><td title=\"9 46\">29461.0</td><td title=\"10 46\"></td><td title=\"11 46\"></td><td title=\"12 46\"></td><td title=\"13 46\"></td></tr>\n",
       "<tr><td title=\"0 47\"></td><td style=\"background-color:Lime\" title=\"1 47\">50 to 249</td><td title=\"2 47\"></td><td title=\"3 47\">3431.0</td><td style=\"background-color:Aqua\" title=\"4 47\">494.0</td><td title=\"5 47\">51204.0</td><td title=\"6 47\"></td><td title=\"7 47\">1331.0</td><td style=\"background-color:Aqua\" title=\"8 47\">506.0</td><td title=\"9 47\">52293.0</td><td title=\"10 47\"></td><td title=\"11 47\"></td><td title=\"12 47\"></td><td title=\"13 47\"></td></tr>\n",
       "<tr><td title=\"0 48\"></td><td style=\"background-color:Lime\" title=\"1 48\">250 +</td><td title=\"2 48\"></td><td title=\"3 48\">10634.0</td><td style=\"background-color:Aqua\" title=\"4 48\">90.0</td><td title=\"5 48\">75080.0</td><td title=\"6 48\"></td><td title=\"7 48\">5952.0</td><td style=\"background-color:Aqua\" title=\"8 48\">91.0</td><td title=\"9 48\">75456.0</td><td title=\"10 48\"></td><td title=\"11 48\"></td><td title=\"12 48\"></td><td title=\"13 48\"></td></tr>\n",
       "<tr><td title=\"0 49\"></td><td style=\"background-color:Lime\" title=\"1 49\">Unknown</td><td title=\"2 49\"></td><td title=\"3 49\">211.0</td><td style=\"background-color:Aqua\" title=\"4 49\">97.0</td><td title=\"5 49\">.</td><td title=\"6 49\"></td><td title=\"7 49\">52.0</td><td style=\"background-color:Aqua\" title=\"8 49\">90.0</td><td title=\"9 49\">.</td><td title=\"10 49\"></td><td title=\"11 49\"></td><td title=\"12 49\"></td><td title=\"13 49\"></td></tr>\n",
       "<tr><td title=\"0 50\"></td><td style=\"background-color:Lime\" title=\"1 50\"></td><td title=\"2 50\"></td><td title=\"3 50\"></td><td title=\"4 50\"></td><td title=\"5 50\"></td><td title=\"6 50\"></td><td title=\"7 50\"></td><td title=\"8 50\"></td><td title=\"9 50\"></td><td title=\"10 50\"></td><td title=\"11 50\"></td><td title=\"12 50\"></td><td title=\"13 50\"></td></tr>\n",
       "<tr><td style=\"background-color:Coral\" title=\"0 51\">Group 7 Motor vehicles, transport equipment (excluding aerospace)</td><td style=\"background-color:Lime\" title=\"1 51\">0.0</td><td title=\"2 51\"></td><td title=\"3 51\">S</td><td style=\"background-color:Aqua\" title=\"4 51\">34.0</td><td title=\"5 51\">0.0</td><td title=\"6 51\"></td><td title=\"7 51\">S</td><td style=\"background-color:Aqua\" title=\"8 51\">S</td><td title=\"9 51\">0.0</td><td title=\"10 51\"></td><td title=\"11 51\"></td><td title=\"12 51\"></td><td title=\"13 51\"></td></tr>\n",
       "<tr><td title=\"0 52\"></td><td style=\"background-color:Lime\" title=\"1 52\">1 to 9</td><td title=\"2 52\"></td><td title=\"3 52\">61.0</td><td style=\"background-color:Aqua\" title=\"4 52\">533.0</td><td title=\"5 52\">2027.0</td><td title=\"6 52\"></td><td title=\"7 52\">84.0</td><td style=\"background-color:Aqua\" title=\"8 52\">548.0</td><td title=\"9 52\">1981.0</td><td title=\"10 52\"></td><td title=\"11 52\"></td><td title=\"12 52\"></td><td title=\"13 52\"></td></tr>\n",
       "<tr><td title=\"0 53\"></td><td style=\"background-color:Lime\" title=\"1 53\">10 to 49</td><td title=\"2 53\"></td><td title=\"3 53\">459.0</td><td style=\"background-color:Aqua\" title=\"4 53\">361.0</td><td title=\"5 53\">8273.0</td><td title=\"6 53\"></td><td title=\"7 53\">S</td><td style=\"background-color:Aqua\" title=\"8 53\">S</td><td title=\"9 53\">8833.0</td><td title=\"10 53\"></td><td title=\"11 53\"></td><td title=\"12 53\"></td><td title=\"13 53\"></td></tr>\n",
       "<tr><td title=\"0 54\"></td><td style=\"background-color:Lime\" title=\"1 54\">50 to 249</td><td title=\"2 54\"></td><td title=\"3 54\">1090.0</td><td style=\"background-color:Aqua\" title=\"4 54\">234.0</td><td title=\"5 54\">25416.0</td><td title=\"6 54\"></td><td title=\"7 54\">1287.0</td><td style=\"background-color:Aqua\" title=\"8 54\">249.0</td><td title=\"9 54\">26905.0</td><td title=\"10 54\"></td><td title=\"11 54\"></td><td title=\"12 54\"></td><td title=\"13 54\"></td></tr>\n",
       "<tr><td title=\"0 55\"></td><td style=\"background-color:Lime\" title=\"1 55\">250 +</td><td title=\"2 55\"></td><td title=\"3 55\">24879.0</td><td style=\"background-color:Aqua\" title=\"4 55\">96.0</td><td title=\"5 55\">116866.0</td><td title=\"6 55\"></td><td title=\"7 55\">20840.0</td><td style=\"background-color:Aqua\" title=\"8 55\">98.0</td><td title=\"9 55\">117602.0</td><td title=\"10 55\"></td><td title=\"11 55\"></td><td title=\"12 55\"></td><td title=\"13 55\"></td></tr>\n",
       "<tr><td title=\"0 56\"></td><td style=\"background-color:Lime\" title=\"1 56\">Unknown</td><td title=\"2 56\"></td><td title=\"3 56\">S</td><td style=\"background-color:Aqua\" title=\"4 56\">40.0</td><td title=\"5 56\">.</td><td title=\"6 56\"></td><td title=\"7 56\">16.0</td><td style=\"background-color:Aqua\" title=\"8 56\">49.0</td><td title=\"9 56\">.</td><td title=\"10 56\"></td><td title=\"11 56\"></td><td title=\"12 56\"></td><td title=\"13 56\"></td></tr>\n",
       "<tr><td title=\"0 57\"></td><td style=\"background-color:Lime\" title=\"1 57\"></td><td title=\"2 57\"></td><td title=\"3 57\"></td><td title=\"4 57\"></td><td title=\"5 57\"></td><td title=\"6 57\"></td><td title=\"7 57\"></td><td title=\"8 57\"></td><td title=\"9 57\"></td><td title=\"10 57\"></td><td title=\"11 57\"></td><td title=\"12 57\"></td><td title=\"13 57\"></td></tr>\n",
       "<tr><td style=\"background-color:Coral\" title=\"0 58\">Group 8 Aerospace and related machinery</td><td style=\"background-color:Lime\" title=\"1 58\">0.0</td><td title=\"2 58\"></td><td title=\"3 58\">S</td><td style=\"background-color:Aqua\" title=\"4 58\">S</td><td title=\"5 58\">0.0</td><td title=\"6 58\"></td><td title=\"7 58\">S</td><td style=\"background-color:Aqua\" title=\"8 58\">S</td><td title=\"9 58\">0.0</td><td title=\"10 58\"></td><td title=\"11 58\"></td><td title=\"12 58\"></td><td title=\"13 58\"></td></tr>\n",
       "<tr><td title=\"0 59\"></td><td style=\"background-color:Lime\" title=\"1 59\">1 to 9</td><td title=\"2 59\"></td><td title=\"3 59\">S</td><td style=\"background-color:Aqua\" title=\"4 59\">S</td><td title=\"5 59\">135.0</td><td title=\"6 59\"></td><td title=\"7 59\">S</td><td style=\"background-color:Aqua\" title=\"8 59\">S</td><td title=\"9 59\">157.0</td><td title=\"10 59\"></td><td title=\"11 59\"></td><td title=\"12 59\"></td><td title=\"13 59\"></td></tr>\n",
       "<tr><td title=\"0 60\"></td><td style=\"background-color:Lime\" title=\"1 60\">10 to 49</td><td title=\"2 60\"></td><td title=\"3 60\">64.0</td><td style=\"background-color:Aqua\" title=\"4 60\">35.0</td><td title=\"5 60\">871.0</td><td title=\"6 60\"></td><td title=\"7 60\">S</td><td style=\"background-color:Aqua\" title=\"8 60\">S</td><td title=\"9 60\">840.0</td><td title=\"10 60\"></td><td title=\"11 60\"></td><td title=\"12 60\"></td><td title=\"13 60\"></td></tr>\n",
       "<tr><td title=\"0 61\"></td><td style=\"background-color:Lime\" title=\"1 61\">50 to 249</td><td title=\"2 61\"></td><td title=\"3 61\">333.0</td><td style=\"background-color:Aqua\" title=\"4 61\">53.0</td><td title=\"5 61\">6346.0</td><td title=\"6 61\"></td><td title=\"7 61\">165.0</td><td style=\"background-color:Aqua\" title=\"8 61\">52.0</td><td title=\"9 61\">6295.0</td><td title=\"10 61\"></td><td title=\"11 61\"></td><td title=\"12 61\"></td><td title=\"13 61\"></td></tr>\n",
       "<tr><td title=\"0 62\"></td><td style=\"background-color:Lime\" title=\"1 62\">250 +</td><td title=\"2 62\"></td><td title=\"3 62\">19537.0</td><td style=\"background-color:Aqua\" title=\"4 62\">42.0</td><td title=\"5 62\">88910.0</td><td title=\"6 62\"></td><td title=\"7 62\">8192.0</td><td style=\"background-color:Aqua\" title=\"8 62\">42.0</td><td title=\"9 62\">88910.0</td><td title=\"10 62\"></td><td title=\"11 62\"></td><td title=\"12 62\"></td><td title=\"13 62\"></td></tr>\n",
       "<tr><td title=\"0 63\"></td><td style=\"background-color:Lime\" title=\"1 63\">Unknown</td><td title=\"2 63\"></td><td title=\"3 63\">S</td><td style=\"background-color:Aqua\" title=\"4 63\">S</td><td title=\"5 63\">.</td><td title=\"6 63\"></td><td title=\"7 63\">S</td><td style=\"background-color:Aqua\" title=\"8 63\">S</td><td title=\"9 63\">.</td><td title=\"10 63\"></td><td title=\"11 63\"></td><td title=\"12 63\"></td><td title=\"13 63\"></td></tr>\n",
       "<tr><td title=\"0 64\"></td><td style=\"background-color:Lime\" title=\"1 64\"></td><td title=\"2 64\"></td><td title=\"3 64\"></td><td title=\"4 64\"></td><td title=\"5 64\"></td><td title=\"6 64\"></td><td title=\"7 64\"></td><td title=\"8 64\"></td><td title=\"9 64\"></td><td title=\"10 64\"></td><td title=\"11 64\"></td><td title=\"12 64\"></td><td title=\"13 64\"></td></tr>\n",
       "<tr><td style=\"background-color:Coral\" title=\"0 65\">Group 9 Other manufacturing</td><td style=\"background-color:Lime\" title=\"1 65\">0.0</td><td title=\"2 65\"></td><td title=\"3 65\">289.0</td><td style=\"background-color:Aqua\" title=\"4 65\">504.0</td><td title=\"5 65\">0.0</td><td title=\"6 65\"></td><td title=\"7 65\">646.0</td><td style=\"background-color:Aqua\" title=\"8 65\">541.0</td><td title=\"9 65\">0.0</td><td title=\"10 65\"></td><td title=\"11 65\"></td><td title=\"12 65\"></td><td title=\"13 65\"></td></tr>\n",
       "<tr><td title=\"0 66\"></td><td style=\"background-color:Lime\" title=\"1 66\">1 to 9</td><td title=\"2 66\"></td><td title=\"3 66\">707.0</td><td style=\"background-color:Aqua\" title=\"4 66\">5464.0</td><td title=\"5 66\">21925.0</td><td title=\"6 66\"></td><td title=\"7 66\">779.0</td><td style=\"background-color:Aqua\" title=\"8 66\">5994.0</td><td title=\"9 66\">23265.0</td><td title=\"10 66\"></td><td title=\"11 66\"></td><td title=\"12 66\"></td><td title=\"13 66\"></td></tr>\n",
       "<tr><td title=\"0 67\"></td><td style=\"background-color:Lime\" title=\"1 67\">10 to 49</td><td title=\"2 67\"></td><td title=\"3 67\">2175.0</td><td style=\"background-color:Aqua\" title=\"4 67\">4705.0</td><td title=\"5 67\">108053.0</td><td title=\"6 67\"></td><td title=\"7 67\">1838.0</td><td style=\"background-color:Aqua\" title=\"8 67\">4676.0</td><td title=\"9 67\">108232.0</td><td title=\"10 67\"></td><td title=\"11 67\"></td><td title=\"12 67\"></td><td title=\"13 67\"></td></tr>\n",
       "<tr><td title=\"0 68\"></td><td style=\"background-color:Lime\" title=\"1 68\">50 to 249</td><td title=\"2 68\"></td><td title=\"3 68\">5421.0</td><td style=\"background-color:Aqua\" title=\"4 68\">1809.0</td><td title=\"5 68\">182130.0</td><td title=\"6 68\"></td><td title=\"7 68\">3845.0</td><td style=\"background-color:Aqua\" title=\"8 68\">1927.0</td><td title=\"9 68\">193943.0</td><td title=\"10 68\"></td><td title=\"11 68\"></td><td title=\"12 68\"></td><td title=\"13 68\"></td></tr>\n",
       "<tr><td title=\"0 69\"></td><td style=\"background-color:Lime\" title=\"1 69\">250 +</td><td title=\"2 69\"></td><td title=\"3 69\">6096.0</td><td style=\"background-color:Aqua\" title=\"4 69\">292.0</td><td title=\"5 69\">180636.0</td><td title=\"6 69\"></td><td title=\"7 69\">5424.0</td><td style=\"background-color:Aqua\" title=\"8 69\">309.0</td><td title=\"9 69\">189073.0</td><td title=\"10 69\"></td><td title=\"11 69\"></td><td title=\"12 69\"></td><td title=\"13 69\"></td></tr>\n",
       "<tr><td title=\"0 70\"></td><td style=\"background-color:Lime\" title=\"1 70\">Unknown</td><td title=\"2 70\"></td><td title=\"3 70\">100.0</td><td style=\"background-color:Aqua\" title=\"4 70\">299.0</td><td title=\"5 70\">.</td><td title=\"6 70\"></td><td title=\"7 70\">99.0</td><td style=\"background-color:Aqua\" title=\"8 70\">352.0</td><td title=\"9 70\">.</td><td title=\"10 70\"></td><td title=\"11 70\"></td><td title=\"12 70\"></td><td title=\"13 70\"></td></tr>\n",
       "<tr><td title=\"0 71\"></td><td style=\"background-color:Lime\" title=\"1 71\"></td><td title=\"2 71\"></td><td title=\"3 71\"></td><td title=\"4 71\"></td><td title=\"5 71\"></td><td title=\"6 71\"></td><td title=\"7 71\"></td><td title=\"8 71\"></td><td title=\"9 71\"></td><td title=\"10 71\"></td><td title=\"11 71\"></td><td title=\"12 71\"></td><td title=\"13 71\"></td></tr>\n",
       "<tr><td style=\"background-color:Coral\" title=\"0 72\">Group 10 Services</td><td style=\"background-color:Lime\" title=\"1 72\">0.0</td><td title=\"2 72\"></td><td title=\"3 72\">25234.0</td><td style=\"background-color:Aqua\" title=\"4 72\">7660.0</td><td title=\"5 72\">0.0</td><td title=\"6 72\"></td><td title=\"7 72\">40980.0</td><td style=\"background-color:Aqua\" title=\"8 72\">12193.0</td><td title=\"9 72\">0.0</td><td title=\"10 72\"></td><td title=\"11 72\"></td><td title=\"12 72\"></td><td title=\"13 72\"></td></tr>\n",
       "<tr><td title=\"0 73\"></td><td style=\"background-color:Lime\" title=\"1 73\">1 to 9</td><td title=\"2 73\"></td><td title=\"3 73\">13577.0</td><td style=\"background-color:Aqua\" title=\"4 73\">64205.0</td><td title=\"5 73\">203932.0</td><td title=\"6 73\"></td><td title=\"7 73\">24047.0</td><td style=\"background-color:Aqua\" title=\"8 73\">101860.0</td><td title=\"9 73\">329982.0</td><td title=\"10 73\"></td><td title=\"11 73\"></td><td title=\"12 73\"></td><td title=\"13 73\"></td></tr>\n",
       "<tr><td title=\"0 74\"></td><td style=\"background-color:Lime\" title=\"1 74\">10 to 49</td><td title=\"2 74\"></td><td title=\"3 74\">16038.0</td><td style=\"background-color:Aqua\" title=\"4 74\">22210.0</td><td title=\"5 74\">459152.0</td><td title=\"6 74\"></td><td title=\"7 74\">40321.0</td><td style=\"background-color:Aqua\" title=\"8 74\">33331.0</td><td title=\"9 74\">684270.0</td><td title=\"10 74\"></td><td title=\"11 74\"></td><td title=\"12 74\"></td><td title=\"13 74\"></td></tr>\n",
       "<tr><td title=\"0 75\"></td><td style=\"background-color:Lime\" title=\"1 75\">50 to 249</td><td title=\"2 75\"></td><td title=\"3 75\">17950.0</td><td style=\"background-color:Aqua\" title=\"4 75\">5839.0</td><td title=\"5 75\">602627.0</td><td title=\"6 75\"></td><td title=\"7 75\">48139.0</td><td style=\"background-color:Aqua\" title=\"8 75\">8344.0</td><td title=\"9 75\">851022.0</td><td title=\"10 75\"></td><td title=\"11 75\"></td><td title=\"12 75\"></td><td title=\"13 75\"></td></tr>\n",
       "<tr><td title=\"0 76\"></td><td style=\"background-color:Lime\" title=\"1 76\">250 +</td><td title=\"2 76\"></td><td title=\"3 76\">59178.0</td><td style=\"background-color:Aqua\" title=\"4 76\">2306.0</td><td title=\"5 76\">6259753.0</td><td title=\"6 76\"></td><td title=\"7 76\">124350.0</td><td style=\"background-color:Aqua\" title=\"8 76\">3201.0</td><td title=\"9 76\">8316623.0</td><td title=\"10 76\"></td><td title=\"11 76\"></td><td title=\"12 76\"></td><td title=\"13 76\"></td></tr>\n",
       "<tr><td title=\"0 77\"></td><td style=\"background-color:Lime\" title=\"1 77\">Unknown</td><td title=\"2 77\"></td><td title=\"3 77\">9542.0</td><td style=\"background-color:Aqua\" title=\"4 77\">2854.0</td><td title=\"5 77\">.</td><td title=\"6 77\"></td><td title=\"7 77\">4288.0</td><td style=\"background-color:Aqua\" title=\"8 77\">5643.0</td><td title=\"9 77\">.</td><td title=\"10 77\"></td><td title=\"11 77\"></td><td title=\"12 77\"></td><td title=\"13 77\"></td></tr>\n",
       "<tr><td title=\"0 78\"></td><td style=\"background-color:Lime\" title=\"1 78\"></td><td title=\"2 78\"></td><td title=\"3 78\"></td><td title=\"4 78\"></td><td title=\"5 78\"></td><td title=\"6 78\"></td><td title=\"7 78\"></td><td title=\"8 78\"></td><td title=\"9 78\"></td><td title=\"10 78\"></td><td title=\"11 78\"></td><td title=\"12 78\"></td><td title=\"13 78\"></td></tr>\n",
       "<tr><td style=\"background-color:Coral\" title=\"0 79\">Unknown</td><td style=\"background-color:Lime\" title=\"1 79\">Unknown</td><td title=\"2 79\"></td><td title=\"3 79\">11160.0</td><td style=\"background-color:Aqua\" title=\"4 79\">5970.0</td><td title=\"5 79\">.</td><td title=\"6 79\"></td><td title=\"7 79\">6459.0</td><td style=\"background-color:Aqua\" title=\"8 79\">16316.0</td><td title=\"9 79\">.</td><td title=\"10 79\"></td><td title=\"11 79\"></td><td title=\"12 79\"></td><td title=\"13 79\"></td></tr>\n",
       "<tr><td title=\"0 80\"></td><td style=\"background-color:Lime\" title=\"1 80\"></td><td title=\"2 80\"></td><td title=\"3 80\"></td><td title=\"4 80\"></td><td title=\"5 80\"></td><td title=\"6 80\"></td><td title=\"7 80\"></td><td title=\"8 80\"></td><td title=\"9 80\"></td><td title=\"10 80\"></td><td title=\"11 80\"></td><td title=\"12 80\"></td><td title=\"13 80\"></td></tr>\n",
       "<tr><td style=\"background-color:Coral;font-weight:bold\" title=\"0 81\">Grand Total9</td><td style=\"background-color:Lime;font-weight:bold\" title=\"1 81\"></td><td style=\"font-weight:bold\" title=\"2 81\"></td><td style=\"font-weight:bold\" title=\"3 81\">304768.0</td><td style=\"background-color:Aqua;font-weight:bold\" title=\"4 81\">143358.0</td><td style=\"font-weight:bold\" title=\"5 81\">9553443.0</td><td title=\"6 81\"></td><td style=\"font-weight:bold\" title=\"7 81\">411033.0</td><td style=\"background-color:Aqua;font-weight:bold\" title=\"8 81\">219302.0</td><td style=\"font-weight:bold\" title=\"9 81\">12354666.0</td><td title=\"10 81\"></td><td title=\"11 81\"></td><td title=\"12 81\"></td><td title=\"13 81\"></td></tr>\n",
       "<tr><td title=\"0 82\"></td><td style=\"background-color:Lime\" title=\"1 82\"></td><td title=\"2 82\"></td><td title=\"3 82\"></td><td title=\"4 82\"></td><td title=\"5 82\"></td><td title=\"6 82\"></td><td title=\"7 82\"></td><td title=\"8 82\"></td><td title=\"9 82\"></td><td title=\"10 82\"></td><td title=\"11 82\"></td><td title=\"12 82\"></td><td title=\"13 82\"></td></tr>\n",
       "<tr><td title=\"0 83\"></td><td style=\"background-color:Lime\" title=\"1 83\"></td><td title=\"2 83\"></td><td title=\"3 83\"></td><td title=\"4 83\"></td><td title=\"5 83\"></td><td title=\"6 83\"></td><td title=\"7 83\"></td><td title=\"8 83\"></td><td title=\"9 83\">Source: HMRC OTS and ONS IDBR data</td><td title=\"10 83\"></td><td title=\"11 83\"></td><td title=\"12 83\"></td><td title=\"13 83\"></td></tr>\n",
       "<tr><td title=\"0 84\"></td><td style=\"background-color:Lime\" title=\"1 84\"></td><td title=\"2 84\"></td><td title=\"3 84\"></td><td title=\"4 84\"></td><td title=\"5 84\"></td><td title=\"6 84\"></td><td title=\"7 84\"></td><td title=\"8 84\"></td><td title=\"9 84\"></td><td title=\"10 84\"></td><td title=\"11 84\"></td><td title=\"12 84\"></td><td title=\"13 84\"></td></tr>\n",
       "<tr><td style=\"background-color:Coral\" title=\"0 85\">Notes:</td><td style=\"background-color:Lime\" title=\"1 85\"></td><td title=\"2 85\"></td><td title=\"3 85\"></td><td title=\"4 85\"></td><td title=\"5 85\"></td><td title=\"6 85\"></td><td title=\"7 85\"></td><td title=\"8 85\"></td><td title=\"9 85\"></td><td title=\"10 85\"></td><td title=\"11 85\"></td><td title=\"12 85\"></td><td title=\"13 85\"></td></tr>\n",
       "<tr><td style=\"background-color:Coral\" title=\"0 86\">1. These estimates are experimental official statistics. </td><td style=\"background-color:Lime\" title=\"1 86\"></td><td title=\"2 86\"></td><td title=\"3 86\"></td><td title=\"4 86\"></td><td title=\"5 86\"></td><td title=\"6 86\"></td><td title=\"7 86\"></td><td title=\"8 86\"></td><td title=\"9 86\"></td><td title=\"10 86\"></td><td title=\"11 86\"></td><td title=\"12 86\"></td><td title=\"13 86\"></td></tr>\n",
       "<tr><td style=\"background-color:Coral\" title=\"0 87\">2. Registered businesses are those which are registered for VAT and or EORI</td><td style=\"background-color:Lime\" title=\"1 87\"></td><td title=\"2 87\"></td><td title=\"3 87\"></td><td title=\"4 87\"></td><td title=\"5 87\"></td><td title=\"6 87\"></td><td title=\"7 87\"></td><td title=\"8 87\"></td><td title=\"9 87\"></td><td title=\"10 87\"></td><td title=\"11 87\"></td><td title=\"12 87\"></td><td title=\"13 87\"></td></tr>\n",
       "<tr><td style=\"background-color:Coral\" title=\"0 88\">3. Cells with:   S = Suppressed    .  = Not Applicable </td><td style=\"background-color:Lime\" title=\"1 88\"></td><td title=\"2 88\"></td><td title=\"3 88\"></td><td title=\"4 88\"></td><td title=\"5 88\"></td><td title=\"6 88\"></td><td title=\"7 88\"></td><td title=\"8 88\"></td><td title=\"9 88\"></td><td title=\"10 88\"></td><td title=\"11 88\"></td><td title=\"12 88\"></td><td title=\"13 88\"></td></tr>\n",
       "<tr><td style=\"background-color:Coral\" title=\"0 89\">4. Value of trade are in £ millions</td><td style=\"background-color:Lime\" title=\"1 89\"></td><td title=\"2 89\"></td><td title=\"3 89\"></td><td title=\"4 89\"></td><td title=\"5 89\"></td><td title=\"6 89\"></td><td title=\"7 89\"></td><td title=\"8 89\"></td><td title=\"9 89\"></td><td title=\"10 89\"></td><td title=\"11 89\"></td><td title=\"12 89\"></td><td title=\"13 89\"></td></tr>\n",
       "<tr><td style=\"background-color:Coral\" title=\"0 90\">5. Further details of Industry Group, Age and Employee size can be in the Metadata tab</td><td style=\"background-color:Lime\" title=\"1 90\"></td><td title=\"2 90\"></td><td title=\"3 90\"></td><td title=\"4 90\"></td><td title=\"5 90\"></td><td title=\"6 90\"></td><td title=\"7 90\"></td><td title=\"8 90\"></td><td title=\"9 90\"></td><td title=\"10 90\"></td><td title=\"11 90\"></td><td title=\"12 90\"></td><td title=\"13 90\"></td></tr>\n",
       "<tr><td style=\"background-color:Coral\" title=\"0 91\">6. Employment sizebands are based on IDBR employment for all variables and represent the employment of the Business</td><td style=\"background-color:Lime\" title=\"1 91\"></td><td title=\"2 91\"></td><td title=\"3 91\"></td><td title=\"4 91\"></td><td title=\"5 91\"></td><td title=\"6 91\"></td><td title=\"7 91\"></td><td title=\"8 91\"></td><td title=\"9 91\"></td><td title=\"10 91\"></td><td title=\"11 91\"></td><td title=\"12 91\"></td><td title=\"13 91\"></td></tr>\n",
       "<tr><td style=\"background-color:Coral\" title=\"0 92\">7. Age of a business is defined using the birth date, or registration date, of the business held within the IDBR. Mergers and other changes in structure may require re-registration and therefore affect the validity of this date.</td><td style=\"background-color:Lime\" title=\"1 92\"></td><td title=\"2 92\"></td><td title=\"3 92\"></td><td title=\"4 92\"></td><td title=\"5 92\"></td><td title=\"6 92\"></td><td title=\"7 92\"></td><td title=\"8 92\"></td><td title=\"9 92\"></td><td title=\"10 92\"></td><td title=\"11 92\"></td><td title=\"12 92\"></td><td title=\"13 92\"></td></tr>\n",
       "<tr><td style=\"background-color:Coral\" title=\"0 93\">8. The zero employees group can include sole traders and businesses who are required to register for UK VAT due to distance selling regulations.</td><td style=\"background-color:Lime\" title=\"1 93\"></td><td title=\"2 93\"></td><td title=\"3 93\"></td><td title=\"4 93\"></td><td title=\"5 93\"></td><td title=\"6 93\"></td><td title=\"7 93\"></td><td title=\"8 93\"></td><td title=\"9 93\"></td><td title=\"10 93\"></td><td title=\"11 93\"></td><td title=\"12 93\"></td><td title=\"13 93\"></td></tr>\n",
       "<tr><td style=\"background-color:Coral\" title=\"0 94\">9. Employee count totals exclude businesses where employee count is unknown.</td><td style=\"background-color:Lime\" title=\"1 94\"></td><td title=\"2 94\"></td><td title=\"3 94\"></td><td title=\"4 94\"></td><td title=\"5 94\"></td><td title=\"6 94\"></td><td title=\"7 94\"></td><td title=\"8 94\"></td><td title=\"9 94\"></td><td title=\"10 94\"></td><td title=\"11 94\"></td><td title=\"12 94\"></td><td title=\"13 94\"></td></tr>\n",
       "</table>\n",
       "\n",
       "</div>\n",
       "\n",
       "<script>\n",
       "var jslookup = {\"8 16\":[0,16,7,5,1,16],\"4 21\":[0,16,3,5,1,21],\"8 46\":[0,44,7,5,1,46],\"8 35\":[0,30,7,5,1,35],\"8 63\":[0,58,7,5,1,63],\"4 68\":[0,65,3,5,1,68],\"4 17\":[0,16,3,5,1,17],\"4 18\":[0,16,3,5,1,18],\"8 66\":[0,65,7,5,1,66],\"8 14\":[0,9,7,5,1,14],\"4 32\":[0,30,3,5,1,32],\"8 53\":[0,51,7,5,1,53],\"4 27\":[0,23,3,5,1,27],\"4 54\":[0,51,3,5,1,54],\"8 12\":[0,9,7,5,1,12],\"8 62\":[0,58,7,5,1,62],\"4 19\":[0,16,3,5,1,19],\"8 32\":[0,30,7,5,1,32],\"8 75\":[0,72,7,5,1,75],\"4 76\":[0,72,3,5,1,76],\"4 56\":[0,51,3,5,1,56],\"8 73\":[0,72,7,5,1,73],\"8 48\":[0,44,7,5,1,48],\"8 9\":[0,9,7,5,1,9],\"4 31\":[0,30,3,5,1,31],\"8 70\":[0,65,7,5,1,70],\"4 47\":[0,44,3,5,1,47],\"4 11\":[0,9,3,5,1,11],\"8 24\":[0,23,7,5,1,24],\"8 72\":[0,72,7,5,1,72],\"8 21\":[0,16,7,5,1,21],\"8 52\":[0,51,7,5,1,52],\"4 23\":[0,23,3,5,1,23],\"4 42\":[0,37,3,5,1,42],\"4 75\":[0,72,3,5,1,75],\"8 69\":[0,65,7,5,1,69],\"4 66\":[0,65,3,5,1,66],\"4 62\":[0,58,3,5,1,62],\"8 28\":[0,23,7,5,1,28],\"4 69\":[0,65,3,5,1,69],\"8 19\":[0,16,7,5,1,19],\"4 14\":[0,9,3,5,1,14],\"4 58\":[0,58,3,5,1,58],\"4 9\":[0,9,3,5,1,9],\"8 27\":[0,23,7,5,1,27],\"8 45\":[0,44,7,5,1,45],\"8 76\":[0,72,7,5,1,76],\"8 59\":[0,58,7,5,1,59],\"8 10\":[0,9,7,5,1,10],\"8 37\":[0,37,7,5,1,37],\"8 34\":[0,30,7,5,1,34],\"4 73\":[0,72,3,5,1,73],\"4 37\":[0,37,3,5,1,37],\"4 52\":[0,51,3,5,1,52],\"8 25\":[0,23,7,5,1,25],\"4 41\":[0,37,3,5,1,41],\"8 47\":[0,44,7,5,1,47],\"8 41\":[0,37,7,5,1,41],\"4 81\":[0,81,3,5,1,81],\"8 38\":[0,37,7,5,1,38],\"8 81\":[0,81,7,5,1,81],\"8 74\":[0,72,7,5,1,74],\"8 65\":[0,65,7,5,1,65],\"4 48\":[0,44,3,5,1,48],\"8 54\":[0,51,7,5,1,54],\"4 38\":[0,37,3,5,1,38],\"4 70\":[0,65,3,5,1,70],\"4 26\":[0,23,3,5,1,26],\"4 20\":[0,16,3,5,1,20],\"4 63\":[0,58,3,5,1,63],\"8 17\":[0,16,7,5,1,17],\"4 40\":[0,37,3,5,1,40],\"8 55\":[0,51,7,5,1,55],\"4 45\":[0,44,3,5,1,45],\"8 42\":[0,37,7,5,1,42],\"4 10\":[0,9,3,5,1,10],\"4 65\":[0,65,3,5,1,65],\"4 39\":[0,37,3,5,1,39],\"8 11\":[0,9,7,5,1,11],\"4 67\":[0,65,3,5,1,67],\"4 79\":[0,79,3,5,1,79],\"4 44\":[0,44,3,5,1,44],\"8 61\":[0,58,7,5,1,61],\"4 13\":[0,9,3,5,1,13],\"4 12\":[0,9,3,5,1,12],\"8 20\":[0,16,7,5,1,20],\"4 59\":[0,58,3,5,1,59],\"4 74\":[0,72,3,5,1,74],\"4 77\":[0,72,3,5,1,77],\"4 51\":[0,51,3,5,1,51],\"4 34\":[0,30,3,5,1,34],\"8 49\":[0,44,7,5,1,49],\"4 30\":[0,30,3,5,1,30],\"8 31\":[0,30,7,5,1,31],\"4 24\":[0,23,3,5,1,24],\"8 68\":[0,65,7,5,1,68],\"8 23\":[0,23,7,5,1,23],\"8 44\":[0,44,7,5,1,44],\"8 18\":[0,16,7,5,1,18],\"4 61\":[0,58,3,5,1,61],\"8 51\":[0,51,7,5,1,51],\"4 60\":[0,58,3,5,1,60],\"4 46\":[0,44,3,5,1,46],\"8 79\":[0,79,7,5,1,79],\"4 16\":[0,16,3,5,1,16],\"8 33\":[0,30,7,5,1,33],\"8 26\":[0,23,7,5,1,26],\"4 49\":[0,44,3,5,1,49],\"8 58\":[0,58,7,5,1,58],\"8 77\":[0,72,7,5,1,77],\"8 40\":[0,37,7,5,1,40],\"4 35\":[0,30,3,5,1,35],\"8 60\":[0,58,7,5,1,60],\"4 28\":[0,23,3,5,1,28],\"8 67\":[0,65,7,5,1,67],\"8 39\":[0,37,7,5,1,39],\"4 72\":[0,72,3,5,1,72],\"8 30\":[0,30,7,5,1,30],\"4 33\":[0,30,3,5,1,33],\"8 56\":[0,51,7,5,1,56],\"8 13\":[0,9,7,5,1,13],\"4 53\":[0,51,3,5,1,53],\"4 25\":[0,23,3,5,1,25],\"4 55\":[0,51,3,5,1,55]}; \n",
       "var jdividNUM = \"injblock1002\"; \n",
       "var Dclickedcell = null; \n",
       "function clickedcell() \n",
       "{ \n",
       "    Dclickedcell = this; \n",
       "    console.log(\"jjjj\", this); \n",
       "    var rgc = new RegExp('(^|\\b)' + \"selected\".split(' ').join('|') + '(\\b|$)', 'gi'); \n",
       "    Array.prototype.forEach.call(document.querySelectorAll(\"div#\"+jdividNUM+\" table.ex td.selected\"), function(el, i) { \n",
       "        if (el.classList)  el.classList.remove(\"selected\");\n",
       "        else  el.className = el.className.replace(rgc, ' ');\n",
       "    }); \n",
       "    if (this.classList)  this.classList.add(\"selected\");\n",
       "    else this.className += ' ' + \"selected\";\n",
       "\n",
       "    var dimpairs = jslookup[this.title]; \n",
       "    if (dimpairs !== undefined) {\n",
       "        for (var i = 1; i < dimpairs.length; i += 2) {\n",
       "            var row = document.querySelectorAll(\"div#\"+jdividNUM+\" table.ex tr\")[dimpairs[i]]; \n",
       "            var el = row.querySelectorAll(\"td\")[dimpairs[i-1]]; \n",
       "            if (el.classList)  el.classList.add(\"selected\");\n",
       "            else el.className += ' ' + \"selected\";\n",
       "        }\n",
       "    }\n",
       "}\n",
       "Array.prototype.forEach.call(document.querySelectorAll(\"div#\"+jdividNUM+\" table.ex td\"), function(item, i) { item.onclick=clickedcell; }); \n",
       "</script>\n"
      ],
      "text/plain": [
       "<IPython.core.display.HTML object>"
      ]
     },
     "metadata": {},
     "output_type": "display_data"
    }
   ],
   "source": [
    "savepreviewhtml(c1)"
   ]
  },
  {
   "cell_type": "code",
   "execution_count": 16,
   "metadata": {},
   "outputs": [
    {
     "name": "stdout",
     "output_type": "stream",
     "text": [
      "\n"
     ]
    }
   ],
   "source": [
    "new_table = c1.topandas()"
   ]
  },
  {
   "cell_type": "code",
   "execution_count": 17,
   "metadata": {
    "collapsed": true
   },
   "outputs": [],
   "source": [
    "new_table.rename(index= str, columns= {'OBS':'Value'}, inplace = True)"
   ]
  },
  {
   "cell_type": "code",
   "execution_count": 18,
   "metadata": {
    "collapsed": true
   },
   "outputs": [],
   "source": [
    "new_table['Services'] = new_table['Industry'].map(lambda x: str(x)[8:])"
   ]
  },
  {
   "cell_type": "code",
   "execution_count": 19,
   "metadata": {
    "collapsed": true
   },
   "outputs": [],
   "source": [
    "new_table['Product'] = new_table['Industry'].map(lambda x: str(x)[0:8])"
   ]
  },
  {
   "cell_type": "code",
   "execution_count": 20,
   "metadata": {
    "collapsed": true
   },
   "outputs": [],
   "source": [
    "new_table['Services'] = new_table['Services'].str.strip()\n",
    "new_table['Product'] = new_table['Product'].str.strip()\n",
    "new_table['Year'] = new_table['Year'].str.strip()\n",
    "new_table['Flow'] = new_table['Flow'].str.strip()\n",
    "new_table['Unit'] = new_table['Unit'].str.strip()\n",
    "new_table['Measure Type'] = new_table['Measure Type'].str.strip()\n",
    "new_table['Geography'] = new_table['Geography'].str.strip()\n",
    "new_table['Total Employees'] = new_table['Total Employees'].str.strip()"
   ]
  },
  {
   "cell_type": "code",
   "execution_count": 21,
   "metadata": {
    "collapsed": true
   },
   "outputs": [],
   "source": [
    "new_table = new_table[['Geography','Year','Product','Services','Flow','Total Employees','Measure Type','Value','Unit']]"
   ]
  },
  {
   "cell_type": "code",
   "execution_count": 22,
   "metadata": {
    "collapsed": true
   },
   "outputs": [],
   "source": [
    "new_table['Product'] = new_table['Product'].map(lambda cell:cell.replace('Grand To', 'Grand Total'))\n",
    "new_table['Services'] = new_table['Services'].map(lambda cell:cell.replace('tal9', 'NA'))"
   ]
  },
  {
   "cell_type": "code",
   "execution_count": 23,
   "metadata": {
    "collapsed": true
   },
   "outputs": [],
   "source": [
    "def user_perc(x):\n",
    "    \n",
    "    if x.strip(' ') == '':\n",
    "        return 'NA'\n",
    "    else:\n",
    "        return x\n",
    "    \n",
    "new_table['Services'] = new_table.apply(lambda row: user_perc(row['Services']), axis = 1)\n",
    "new_table['Total Employees'] = new_table.apply(lambda row: user_perc(row['Total Employees']), axis = 1)"
   ]
  },
  {
   "cell_type": "code",
   "execution_count": 24,
   "metadata": {
    "collapsed": true
   },
   "outputs": [],
   "source": [
    "new_table = new_table[new_table['Value'] != '']"
   ]
  },
  {
   "cell_type": "code",
   "execution_count": 25,
   "metadata": {
    "collapsed": true
   },
   "outputs": [],
   "source": [
    "new_table = new_table[new_table['Value'] != 'S']"
   ]
  },
  {
   "cell_type": "code",
   "execution_count": 26,
   "metadata": {
    "scrolled": true
   },
   "outputs": [
    {
     "data": {
      "text/html": [
       "<div>\n",
       "<style scoped>\n",
       "    .dataframe tbody tr th:only-of-type {\n",
       "        vertical-align: middle;\n",
       "    }\n",
       "\n",
       "    .dataframe tbody tr th {\n",
       "        vertical-align: top;\n",
       "    }\n",
       "\n",
       "    .dataframe thead th {\n",
       "        text-align: right;\n",
       "    }\n",
       "</style>\n",
       "<table border=\"1\" class=\"dataframe\">\n",
       "  <thead>\n",
       "    <tr style=\"text-align: right;\">\n",
       "      <th></th>\n",
       "      <th>Geography</th>\n",
       "      <th>Year</th>\n",
       "      <th>Product</th>\n",
       "      <th>Services</th>\n",
       "      <th>Flow</th>\n",
       "      <th>Total Employees</th>\n",
       "      <th>Measure Type</th>\n",
       "      <th>Value</th>\n",
       "      <th>Unit</th>\n",
       "    </tr>\n",
       "  </thead>\n",
       "  <tbody>\n",
       "    <tr>\n",
       "      <th>0</th>\n",
       "      <td>K02000001</td>\n",
       "      <td>2015</td>\n",
       "      <td>Group 1</td>\n",
       "      <td>Agriculture and Food</td>\n",
       "      <td>Exports</td>\n",
       "      <td>0.0</td>\n",
       "      <td>Employees</td>\n",
       "      <td>647</td>\n",
       "      <td>Counts</td>\n",
       "    </tr>\n",
       "    <tr>\n",
       "      <th>1</th>\n",
       "      <td>K02000001</td>\n",
       "      <td>2015</td>\n",
       "      <td>Group 1</td>\n",
       "      <td>Agriculture and Food</td>\n",
       "      <td>Imports</td>\n",
       "      <td>0.0</td>\n",
       "      <td>Employees</td>\n",
       "      <td>1841</td>\n",
       "      <td>Counts</td>\n",
       "    </tr>\n",
       "    <tr>\n",
       "      <th>2</th>\n",
       "      <td>K02000001</td>\n",
       "      <td>2015</td>\n",
       "      <td>Group 1</td>\n",
       "      <td>Agriculture and Food</td>\n",
       "      <td>Exports</td>\n",
       "      <td>1 to 9</td>\n",
       "      <td>Employees</td>\n",
       "      <td>2725</td>\n",
       "      <td>Counts</td>\n",
       "    </tr>\n",
       "    <tr>\n",
       "      <th>3</th>\n",
       "      <td>K02000001</td>\n",
       "      <td>2015</td>\n",
       "      <td>Group 1</td>\n",
       "      <td>Agriculture and Food</td>\n",
       "      <td>Imports</td>\n",
       "      <td>1 to 9</td>\n",
       "      <td>Employees</td>\n",
       "      <td>4846</td>\n",
       "      <td>Counts</td>\n",
       "    </tr>\n",
       "  </tbody>\n",
       "</table>\n",
       "</div>"
      ],
      "text/plain": [
       "   Geography  Year  Product              Services     Flow Total Employees  \\\n",
       "0  K02000001  2015  Group 1  Agriculture and Food  Exports             0.0   \n",
       "1  K02000001  2015  Group 1  Agriculture and Food  Imports             0.0   \n",
       "2  K02000001  2015  Group 1  Agriculture and Food  Exports          1 to 9   \n",
       "3  K02000001  2015  Group 1  Agriculture and Food  Imports          1 to 9   \n",
       "\n",
       "  Measure Type Value    Unit  \n",
       "0    Employees   647  Counts  \n",
       "1    Employees  1841  Counts  \n",
       "2    Employees  2725  Counts  \n",
       "3    Employees  4846  Counts  "
      ]
     },
     "execution_count": 26,
     "metadata": {},
     "output_type": "execute_result"
    }
   ],
   "source": [
    "new_table.head(4)"
   ]
  },
  {
   "cell_type": "code",
   "execution_count": 27,
   "metadata": {},
   "outputs": [
    {
     "data": {
      "text/html": [
       "<div>\n",
       "<style scoped>\n",
       "    .dataframe tbody tr th:only-of-type {\n",
       "        vertical-align: middle;\n",
       "    }\n",
       "\n",
       "    .dataframe tbody tr th {\n",
       "        vertical-align: top;\n",
       "    }\n",
       "\n",
       "    .dataframe thead th {\n",
       "        text-align: right;\n",
       "    }\n",
       "</style>\n",
       "<table border=\"1\" class=\"dataframe\">\n",
       "  <thead>\n",
       "    <tr style=\"text-align: right;\">\n",
       "      <th></th>\n",
       "      <th>Geography</th>\n",
       "      <th>Year</th>\n",
       "      <th>Product</th>\n",
       "      <th>Services</th>\n",
       "      <th>Flow</th>\n",
       "      <th>Total Employees</th>\n",
       "      <th>Measure Type</th>\n",
       "      <th>Value</th>\n",
       "      <th>Unit</th>\n",
       "    </tr>\n",
       "  </thead>\n",
       "  <tbody>\n",
       "    <tr>\n",
       "      <th>120</th>\n",
       "      <td>K02000001</td>\n",
       "      <td>2015</td>\n",
       "      <td>Unknown</td>\n",
       "      <td>NA</td>\n",
       "      <td>Exports</td>\n",
       "      <td>Unknown</td>\n",
       "      <td>Employees</td>\n",
       "      <td>5970</td>\n",
       "      <td>Counts</td>\n",
       "    </tr>\n",
       "    <tr>\n",
       "      <th>121</th>\n",
       "      <td>K02000001</td>\n",
       "      <td>2015</td>\n",
       "      <td>Unknown</td>\n",
       "      <td>NA</td>\n",
       "      <td>Imports</td>\n",
       "      <td>Unknown</td>\n",
       "      <td>Employees</td>\n",
       "      <td>16316</td>\n",
       "      <td>Counts</td>\n",
       "    </tr>\n",
       "    <tr>\n",
       "      <th>122</th>\n",
       "      <td>K02000001</td>\n",
       "      <td>2015</td>\n",
       "      <td>Grand Total</td>\n",
       "      <td>NA</td>\n",
       "      <td>Exports</td>\n",
       "      <td>NA</td>\n",
       "      <td>Employees</td>\n",
       "      <td>143358</td>\n",
       "      <td>Counts</td>\n",
       "    </tr>\n",
       "    <tr>\n",
       "      <th>123</th>\n",
       "      <td>K02000001</td>\n",
       "      <td>2015</td>\n",
       "      <td>Grand Total</td>\n",
       "      <td>NA</td>\n",
       "      <td>Imports</td>\n",
       "      <td>NA</td>\n",
       "      <td>Employees</td>\n",
       "      <td>219302</td>\n",
       "      <td>Counts</td>\n",
       "    </tr>\n",
       "  </tbody>\n",
       "</table>\n",
       "</div>"
      ],
      "text/plain": [
       "     Geography  Year      Product Services     Flow Total Employees  \\\n",
       "120  K02000001  2015      Unknown       NA  Exports         Unknown   \n",
       "121  K02000001  2015      Unknown       NA  Imports         Unknown   \n",
       "122  K02000001  2015  Grand Total       NA  Exports              NA   \n",
       "123  K02000001  2015  Grand Total       NA  Imports              NA   \n",
       "\n",
       "    Measure Type   Value    Unit  \n",
       "120    Employees    5970  Counts  \n",
       "121    Employees   16316  Counts  \n",
       "122    Employees  143358  Counts  \n",
       "123    Employees  219302  Counts  "
      ]
     },
     "execution_count": 27,
     "metadata": {},
     "output_type": "execute_result"
    }
   ],
   "source": [
    "new_table.tail(4)"
   ]
  },
  {
   "cell_type": "code",
   "execution_count": 28,
   "metadata": {
    "collapsed": true
   },
   "outputs": [],
   "source": [
    "out = Path('out')\n",
    "out.mkdir(exist_ok=True)\n",
    "new_table.to_csv(out / 'employeessizebusinesses.csv', index = False)"
   ]
  },
  {
   "cell_type": "code",
   "execution_count": null,
   "metadata": {
    "collapsed": true
   },
   "outputs": [],
   "source": []
  }
 ],
 "metadata": {
  "kernelspec": {
   "display_name": "Python 3",
   "language": "python",
   "name": "python3"
  },
  "language_info": {
   "codemirror_mode": {
    "name": "ipython",
    "version": 3
   },
   "file_extension": ".py",
   "mimetype": "text/x-python",
   "name": "python",
   "nbconvert_exporter": "python",
   "pygments_lexer": "ipython3",
   "version": "3.6.3"
  }
 },
 "nbformat": 4,
 "nbformat_minor": 2
}
