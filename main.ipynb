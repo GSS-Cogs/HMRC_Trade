{
 "cells": [
  {
   "cell_type": "code",
   "execution_count": 1,
   "metadata": {},
   "outputs": [
    {
     "name": "stderr",
     "output_type": "stream",
     "text": [
      "WARNING:Dataset is published at gov.uk, see https://www.gov.uk/government/statistics/uk-trade-in-goods-by-business-characteristics-2017\n",
      "WARNING:Unable to parse published date ('String does not contain a date:', '')\n",
      "WARNING:Dataset is published at gov.uk, see https://www.gov.uk/government/statistics/2017-uk-vat-registered-importer-and-exporter-population\n",
      "WARNING:Dataset is published at gov.uk, see https://www.gov.uk/government/statistics/2016-uk-vat-registered-importer-and-exporter-population\n"
     ]
    },
    {
     "data": {
      "text/markdown": [
       "## HM Revenue & Customs uktradeinfo - OTS Reports\n",
       "\n",
       "This is a catalog of datasets; choose one from the following:\n",
       "\n",
       "* Midlands Regional Trade Statistics data 2014-2016\n",
       "* 2015 UK VAT Registered Importer and Exporter Population\n",
       "* Overseas Trade Statistics broken down by English Growth Hub areas - EU and non-EU Exports 2015\n",
       "* UK Trade in Goods by Business Characteristics - Experimental Statistics\n",
       "* 2010 Quinquennial Review of the UK Ancillary Cost Survey (ACS) full report\n",
       "* Quality Report\n",
       "* UK Statistics article\n",
       "* 2009 Intrastat Triennial Final Report\n",
       "* EDICOM Technical Implementation Report\n",
       "* 2005 Intrastat Triennial Review V2.0\n",
       "* EDICOM Report\n",
       "* EDICOM Report"
      ],
      "text/plain": [
       "<gssutils.scrape.Scraper at 0x7f6cec4f7978>"
      ]
     },
     "execution_count": 1,
     "metadata": {},
     "output_type": "execute_result"
    }
   ],
   "source": [
    "from gssutils import *\n",
    "\n",
    "scraper = Scraper('https://www.uktradeinfo.com/Statistics/OverseasTradeStatistics/AboutOverseastradeStatistics/Pages/OTSReports.aspx')\n",
    "scraper"
   ]
  },
  {
   "cell_type": "code",
   "execution_count": 2,
   "metadata": {},
   "outputs": [
    {
     "data": {
      "text/markdown": [
       "## UK Trade in Goods by Business Characteristics - Experimental Statistics\n",
       "\n",
       "### Distributions\n",
       "\n",
       "1. UK Trade in Goods by Business Characteristics - Experimental Statistics ([application/pdf](https://www.uktradeinfo.com/Statistics/Documents/Reports/IDBR_OTS_2015.pdf))\n",
       "1. IDBR OTS tables 2015 ([MS Excel Spreadsheet](https://www.uktradeinfo.com/Statistics/Documents/Reports/IDBR_OTS_tables_2015.xls))\n",
       "1. IDBR OTS Country data (expert users) 2015 ([MS Excel Spreadsheet](https://www.uktradeinfo.com/Statistics/Documents/Reports/IDBR_OTS_%20Country_data_expert_2015.xls))\n",
       "1. UK Trade in Goods by Business Characteristics - Experimental Statistics ([application/pdf](https://www.uktradeinfo.com/Statistics/Documents/Reports/IDBR_OTS_2014.pdf))\n",
       "1. IDBR OTS tables 2014 ([MS Excel Spreadsheet](https://www.uktradeinfo.com/Statistics/Documents/Reports/IDBR_OTS_tables_2014.xls))\n",
       "1. IDBR OTS Country data (expert users) 2014 ([MS Excel Spreadsheet](https://www.uktradeinfo.com/Statistics/Documents/Reports/IDBR_OTS_%20Country_data_expert_2014.xls))\n",
       "1. UK Trade in Goods by Business Characteristics - Experimental Statistics ([application/pdf](https://www.uktradeinfo.com/Statistics/Documents/Reports/IDBR_OTS_2013.pdf))\n",
       "1. IDBR OTS tables 2013 ([MS Excel Spreadsheet](https://www.uktradeinfo.com/Statistics/Documents/Reports/IDBR_OTS_tables_2013.xls))\n",
       "1. IDBR OTS Country data (expert users) 2013 ([MS Excel Spreadsheet](https://www.uktradeinfo.com/Statistics/Documents/Reports/IDBR_OTS_Country_data%20_expert_2013.xls))\n",
       "1. UK Trade in Goods by Business Characteristics - Experimental Statistics ([application/pdf](https://www.uktradeinfo.com/Statistics/OverseasTradeStatistics/AboutOverseastradeStatistics/Documents/IDBR_OTS_2012.pdf))\n",
       "1. IDBR OTS tables 2009 - 2012 ([MS Excel Spreadsheet](https://www.uktradeinfo.com/Statistics/OverseasTradeStatistics/AboutOverseastradeStatistics/Documents/IDBR_OTS_tables_2009_to_2012.xls))\n",
       "1. IDBR OTS Country data (expert users) 2009 - 2012 ([MS Excel Spreadsheet](https://www.uktradeinfo.com/Statistics/OverseasTradeStatistics/AboutOverseastradeStatistics/Documents/IDBR_OTS_Country_2009_to_2012.xls))\n"
      ],
      "text/plain": [
       "<gssutils.scrape.Scraper at 0x7f6cec4f7978>"
      ]
     },
     "execution_count": 2,
     "metadata": {},
     "output_type": "execute_result"
    }
   ],
   "source": [
    "scraper.select_dataset(title=lambda x: x.startswith('UK Trade in Goods by Business Characteristics'))\n",
    "scraper"
   ]
  },
  {
   "cell_type": "code",
   "execution_count": 3,
   "metadata": {},
   "outputs": [
    {
     "data": {
      "text/plain": [
       "'IDBR OTS tables 2015'"
      ]
     },
     "metadata": {},
     "output_type": "display_data"
    },
    {
     "data": {
      "text/plain": [
       "dict_keys(['Notes and Contents', 'Industry Group', 'Age Group', 'Employee Size', 'Industry_Age', 'Industry_EmployeeSize', 'EmployeeSize_Age', 'Metadata'])"
      ]
     },
     "execution_count": 3,
     "metadata": {},
     "output_type": "execute_result"
    }
   ],
   "source": [
    "idbrs = sorted(\n",
    "    [dist for dist in scraper.distributions if dist.title.startswith('IDBR OTS tables')],\n",
    "    key=lambda d: d.title, reverse=True)\n",
    "idbr = idbrs[0]\n",
    "display(idbr.title)\n",
    "tabs = {tab.name: tab for tab in idbr.as_databaker()}\n",
    "tabs.keys()"
   ]
  },
  {
   "cell_type": "code",
   "execution_count": 4,
   "metadata": {},
   "outputs": [],
   "source": [
    "final_table = pd.DataFrame()"
   ]
  },
  {
   "cell_type": "code",
   "execution_count": 5,
   "metadata": {},
   "outputs": [],
   "source": [
    "%%capture\n",
    "%run \"Business count by Age of Business.ipynb\"\n",
    "final_table = pd.concat([final_table, new_table])\n",
    "\n",
    "%run \"Business count by Employee Size.ipynb\"\n",
    "final_table = pd.concat([final_table, new_table])\n",
    "\n",
    "%run \"Business count by Industry Group.ipynb\"\n",
    "final_table = pd.concat([final_table, new_table])\n",
    "\n",
    "%run \"Employee count for Businesses by Age of Business.ipynb\"\n",
    "final_table = pd.concat([final_table, new_table])\n",
    "\n",
    "%run \"Employee count for Businesses by Employee Size.ipynb\"\n",
    "final_table = pd.concat([final_table, new_table])\n",
    "\n",
    "%run \"Employee count for Businesses by Industry Group.ipynb\"\n",
    "final_table = pd.concat([final_table, new_table])\n",
    "\n",
    "%run \"Total value of UK trade by Age of Business.ipynb\"\n",
    "final_table = pd.concat([final_table, new_table])\n",
    "\n",
    "%run \"Total value of UK trade by Employee Size.ipynb\"\n",
    "final_table = pd.concat([final_table, new_table])\n",
    "\n",
    "%run \"Total value of UK trade by Industry Group.ipynb\"\n",
    "final_table = pd.concat([final_table, new_table])\n",
    "\n",
    "%run \"TRADE IN GOODS STATISTICS -Business Count.ipynb\"\n",
    "final_table = pd.concat([final_table, new_table])\n",
    "\n",
    "%run \"TRADE IN GOODS STATISTICS -Employee Count and age business.ipynb\"\n",
    "final_table = pd.concat([final_table, new_table])\n",
    "\n",
    "%run \"TRADE IN GOODS STATISTICS -Employee Count and age employee count.ipynb\"\n",
    "final_table = pd.concat([final_table, new_table])\n",
    "\n",
    "%run \"TRADE IN GOODS STATISTICS -Employee Count and age.ipynb\"\n",
    "final_table = pd.concat([final_table, new_table])\n",
    "\n",
    "%run \"TRADE IN GOODS STATISTICS -Employee Count.ipynb\"\n",
    "final_table = pd.concat([final_table, new_table])\n",
    "\n",
    "%run \"TRADE IN GOODS STATISTICS -total value of UK Trade.ipynb\"\n",
    "final_table = pd.concat([final_table, new_table])\n",
    "\n",
    "%run \"TRADE IN GOODS STATISTICS_Employee size_Businesses.ipynb\"\n",
    "final_table = pd.concat([final_table, new_table])\n",
    "\n",
    "%run \"TRADE IN GOODS STATISTICS_Employee size_Employee count.ipynb\"\n",
    "final_table = pd.concat([final_table, new_table])\n",
    "\n",
    "%run \"TRADE IN GOODS STATISTICS_Employee size_value.ipynb\"\n",
    "final_table = pd.concat([final_table, new_table])\n"
   ]
  },
  {
   "cell_type": "code",
   "execution_count": 6,
   "metadata": {},
   "outputs": [],
   "source": [
    "final_table.fillna('Total', inplace = True)"
   ]
  },
  {
   "cell_type": "code",
   "execution_count": 7,
   "metadata": {},
   "outputs": [
    {
     "data": {
      "text/html": [
       "<div>\n",
       "<style scoped>\n",
       "    .dataframe tbody tr th:only-of-type {\n",
       "        vertical-align: middle;\n",
       "    }\n",
       "\n",
       "    .dataframe tbody tr th {\n",
       "        vertical-align: top;\n",
       "    }\n",
       "\n",
       "    .dataframe thead th {\n",
       "        text-align: right;\n",
       "    }\n",
       "</style>\n",
       "<table border=\"1\" class=\"dataframe\">\n",
       "  <thead>\n",
       "    <tr style=\"text-align: right;\">\n",
       "      <th></th>\n",
       "      <th>Age of Business</th>\n",
       "      <th>Employment</th>\n",
       "      <th>Flow</th>\n",
       "      <th>Geography</th>\n",
       "      <th>HMRC Industry</th>\n",
       "      <th>Measure Type</th>\n",
       "      <th>Unit</th>\n",
       "      <th>Value</th>\n",
       "      <th>Year</th>\n",
       "    </tr>\n",
       "  </thead>\n",
       "  <tbody>\n",
       "    <tr>\n",
       "      <th>0</th>\n",
       "      <td>0 to 1 years</td>\n",
       "      <td>Total</td>\n",
       "      <td>Export</td>\n",
       "      <td>K02000001</td>\n",
       "      <td>Total</td>\n",
       "      <td>Count</td>\n",
       "      <td>Businesses</td>\n",
       "      <td>10515</td>\n",
       "      <td>2015</td>\n",
       "    </tr>\n",
       "    <tr>\n",
       "      <th>1</th>\n",
       "      <td>0 to 1 years</td>\n",
       "      <td>Total</td>\n",
       "      <td>Import</td>\n",
       "      <td>K02000001</td>\n",
       "      <td>Total</td>\n",
       "      <td>Count</td>\n",
       "      <td>Businesses</td>\n",
       "      <td>21541</td>\n",
       "      <td>2015</td>\n",
       "    </tr>\n",
       "    <tr>\n",
       "      <th>2</th>\n",
       "      <td>2 to 3 years</td>\n",
       "      <td>Total</td>\n",
       "      <td>Export</td>\n",
       "      <td>K02000001</td>\n",
       "      <td>Total</td>\n",
       "      <td>Count</td>\n",
       "      <td>Businesses</td>\n",
       "      <td>13308</td>\n",
       "      <td>2015</td>\n",
       "    </tr>\n",
       "    <tr>\n",
       "      <th>3</th>\n",
       "      <td>2 to 3 years</td>\n",
       "      <td>Total</td>\n",
       "      <td>Import</td>\n",
       "      <td>K02000001</td>\n",
       "      <td>Total</td>\n",
       "      <td>Count</td>\n",
       "      <td>Businesses</td>\n",
       "      <td>22043</td>\n",
       "      <td>2015</td>\n",
       "    </tr>\n",
       "    <tr>\n",
       "      <th>4</th>\n",
       "      <td>4 to 5 years</td>\n",
       "      <td>Total</td>\n",
       "      <td>Export</td>\n",
       "      <td>K02000001</td>\n",
       "      <td>Total</td>\n",
       "      <td>Count</td>\n",
       "      <td>Businesses</td>\n",
       "      <td>12088</td>\n",
       "      <td>2015</td>\n",
       "    </tr>\n",
       "  </tbody>\n",
       "</table>\n",
       "</div>"
      ],
      "text/plain": [
       "  Age of Business Employment    Flow  Geography HMRC Industry Measure Type  \\\n",
       "0    0 to 1 years      Total  Export  K02000001         Total        Count   \n",
       "1    0 to 1 years      Total  Import  K02000001         Total        Count   \n",
       "2    2 to 3 years      Total  Export  K02000001         Total        Count   \n",
       "3    2 to 3 years      Total  Import  K02000001         Total        Count   \n",
       "4    4 to 5 years      Total  Export  K02000001         Total        Count   \n",
       "\n",
       "         Unit  Value  Year  \n",
       "0  Businesses  10515  2015  \n",
       "1  Businesses  21541  2015  \n",
       "2  Businesses  13308  2015  \n",
       "3  Businesses  22043  2015  \n",
       "4  Businesses  12088  2015  "
      ]
     },
     "execution_count": 7,
     "metadata": {},
     "output_type": "execute_result"
    }
   ],
   "source": [
    "final_table.head()"
   ]
  },
  {
   "cell_type": "code",
   "execution_count": 8,
   "metadata": {},
   "outputs": [
    {
     "data": {
      "text/plain": [
       "array(['Total', '0 employees', '1 to 9 employees', '10 to 49 employees',\n",
       "       '50 to 249 employees', '250 + employees', 'Unknown employees',\n",
       "       'Total employees', 'Grand Total employees', 'employees',\n",
       "       'No employees'], dtype=object)"
      ]
     },
     "execution_count": 8,
     "metadata": {},
     "output_type": "execute_result"
    }
   ],
   "source": [
    "final_table['Employment'].unique()"
   ]
  },
  {
   "cell_type": "code",
   "execution_count": 9,
   "metadata": {},
   "outputs": [],
   "source": [
    "final_table['Employment'] = final_table['Employment'].map(\n",
    "    lambda cell: {\n",
    "        '0 employees': 'No employees',\n",
    "        'Total employees': 'Total',\n",
    "        'Grand Total employees': 'Total',\n",
    "        '250 + employees': '250 or more employees',\n",
    "        'Unknown employees': 'Unknown number of employees'\n",
    "    }.get(cell.strip(), cell.strip()))"
   ]
  },
  {
   "cell_type": "code",
   "execution_count": 10,
   "metadata": {
    "scrolled": true
   },
   "outputs": [
    {
     "data": {
      "text/plain": [
       "array(['Export', 'Import'], dtype=object)"
      ]
     },
     "execution_count": 10,
     "metadata": {},
     "output_type": "execute_result"
    }
   ],
   "source": [
    "final_table['Flow'].unique()"
   ]
  },
  {
   "cell_type": "code",
   "execution_count": 11,
   "metadata": {},
   "outputs": [],
   "source": [
    "final_table['Flow'] = final_table['Flow'].map(lambda cell: cell.replace('Export', 'Exports'))\n",
    "final_table['Flow'] = final_table['Flow'].map(lambda cell: cell.replace('Import', 'Imports'))"
   ]
  },
  {
   "cell_type": "code",
   "execution_count": 12,
   "metadata": {},
   "outputs": [
    {
     "data": {
      "text/plain": [
       "array(['Total', 'group-1', 'group-2', 'group-3', 'group-4', 'group-5',\n",
       "       'group-6', 'group-7', 'group-8', 'group-9', 'group-10', 'Unknown'],\n",
       "      dtype=object)"
      ]
     },
     "execution_count": 12,
     "metadata": {},
     "output_type": "execute_result"
    }
   ],
   "source": [
    "final_table['HMRC Industry'].unique()"
   ]
  },
  {
   "cell_type": "code",
   "execution_count": 13,
   "metadata": {},
   "outputs": [],
   "source": [
    "final_table['HMRC Industry'] = final_table['HMRC Industry'].map(lambda cell: cell.replace('Agriculture  Food', 'Agriculture and Food'))"
   ]
  },
  {
   "cell_type": "code",
   "execution_count": 14,
   "metadata": {},
   "outputs": [],
   "source": [
    "final_table['HMRC Industry'] = final_table['HMRC Industry'].map(lambda cell: cell.replace('Mining, Petroleum products  Waste', 'Mining, Petroleum products and Waste'))"
   ]
  },
  {
   "cell_type": "code",
   "execution_count": 15,
   "metadata": {},
   "outputs": [],
   "source": [
    "final_table['HMRC Industry'] = final_table['HMRC Industry'].map(lambda cell: cell.replace('Electronic  Electrical equipment', 'Electronic and Electrical equipment'))"
   ]
  },
  {
   "cell_type": "code",
   "execution_count": 16,
   "metadata": {},
   "outputs": [],
   "source": [
    "final_table['HMRC Industry'] = final_table['HMRC Industry'].map(lambda cell: cell.replace('Machinery  equipment n.e.s', 'Machinery and equipment n.e.s'))"
   ]
  },
  {
   "cell_type": "code",
   "execution_count": 17,
   "metadata": {},
   "outputs": [],
   "source": [
    "final_table['HMRC Industry'] = final_table['HMRC Industry'].map(lambda cell: cell.replace('Aerospace  related machinery', 'Aerospace and related machinery'))"
   ]
  },
  {
   "cell_type": "code",
   "execution_count": 18,
   "metadata": {},
   "outputs": [],
   "source": [
    "final_table['HMRC Industry'] = final_table['HMRC Industry'].map(lambda cell: cell.replace('Total', 'total'))"
   ]
  },
  {
   "cell_type": "code",
   "execution_count": 19,
   "metadata": {},
   "outputs": [],
   "source": [
    "final_table['HMRC Industry'] = final_table['HMRC Industry'].map(lambda cell: cell.replace('Unknown', 'unknown'))"
   ]
  },
  {
   "cell_type": "code",
   "execution_count": 20,
   "metadata": {},
   "outputs": [
    {
     "data": {
      "text/plain": [
       "array(['Businesses', 'Employees', 'GBP Million'], dtype=object)"
      ]
     },
     "execution_count": 20,
     "metadata": {},
     "output_type": "execute_result"
    }
   ],
   "source": [
    "final_table['Unit'] = final_table['Unit'].map(\n",
    "    lambda c: {\n",
    "        '£ Million': 'GBP Million'\n",
    "    }.get(c.strip(), c.strip()))\n",
    "final_table['Unit'].unique()"
   ]
  },
  {
   "cell_type": "code",
   "execution_count": 21,
   "metadata": {},
   "outputs": [
    {
     "data": {
      "text/plain": [
       "array(['Count', 'Total Turnover'], dtype=object)"
      ]
     },
     "execution_count": 21,
     "metadata": {},
     "output_type": "execute_result"
    }
   ],
   "source": [
    "final_table['Measure Type'].unique()"
   ]
  },
  {
   "cell_type": "code",
   "execution_count": 22,
   "metadata": {},
   "outputs": [
    {
     "data": {
      "text/plain": [
       "array(['2015'], dtype=object)"
      ]
     },
     "execution_count": 22,
     "metadata": {},
     "output_type": "execute_result"
    }
   ],
   "source": [
    "final_table['Year'].unique()"
   ]
  },
  {
   "cell_type": "code",
   "execution_count": 23,
   "metadata": {},
   "outputs": [
    {
     "data": {
      "text/plain": [
       "array(['0 to 1 years', '2 to 3 years', '4 to 5 years', '6 to 9 years',\n",
       "       '10 to 20 years', '20 + years', 'Unknown years', 'Total years',\n",
       "       'Total', ' years', '6 to 9  years', 'years'], dtype=object)"
      ]
     },
     "execution_count": 23,
     "metadata": {},
     "output_type": "execute_result"
    }
   ],
   "source": [
    "final_table['Age of Business'].unique()"
   ]
  },
  {
   "cell_type": "code",
   "execution_count": 24,
   "metadata": {},
   "outputs": [],
   "source": [
    "final_table['Age of Business'] = final_table['Age of Business'].map(\n",
    "    lambda cell: {\n",
    "        'Total years': 'Total',\n",
    "        '20 + years': '20+ years',\n",
    "        'Unknown years': 'Unknown',\n",
    "        '6 to 9  years': '6 to 9 years',\n",
    "        'years': 'Total'\n",
    "    }.get(cell.strip(), cell.strip()))"
   ]
  },
  {
   "cell_type": "code",
   "execution_count": 25,
   "metadata": {},
   "outputs": [
    {
     "data": {
      "text/plain": [
       "array(['0 to 1 years', '2 to 3 years', '4 to 5 years', '6 to 9 years',\n",
       "       '10 to 20 years', '20+ years', 'Unknown', 'Total'], dtype=object)"
      ]
     },
     "execution_count": 25,
     "metadata": {},
     "output_type": "execute_result"
    }
   ],
   "source": [
    "final_table['Age of Business'].unique()"
   ]
  },
  {
   "cell_type": "code",
   "execution_count": 26,
   "metadata": {},
   "outputs": [],
   "source": [
    "final_table = final_table[['Geography','Year','Employment','Flow','Age of Business','HMRC Industry','Measure Type','Value','Unit']]\n",
    "final_table.drop_duplicates(inplace=True)"
   ]
  },
  {
   "cell_type": "code",
   "execution_count": 27,
   "metadata": {},
   "outputs": [
    {
     "data": {
      "text/html": [
       "<div>\n",
       "<style scoped>\n",
       "    .dataframe tbody tr th:only-of-type {\n",
       "        vertical-align: middle;\n",
       "    }\n",
       "\n",
       "    .dataframe tbody tr th {\n",
       "        vertical-align: top;\n",
       "    }\n",
       "\n",
       "    .dataframe thead th {\n",
       "        text-align: right;\n",
       "    }\n",
       "</style>\n",
       "<table border=\"1\" class=\"dataframe\">\n",
       "  <thead>\n",
       "    <tr style=\"text-align: right;\">\n",
       "      <th></th>\n",
       "      <th>Geography</th>\n",
       "      <th>Year</th>\n",
       "      <th>Employment</th>\n",
       "      <th>Flow</th>\n",
       "      <th>Age of Business</th>\n",
       "      <th>HMRC Industry</th>\n",
       "      <th>Measure Type</th>\n",
       "      <th>Value</th>\n",
       "      <th>Unit</th>\n",
       "    </tr>\n",
       "  </thead>\n",
       "  <tbody>\n",
       "    <tr>\n",
       "      <th>0</th>\n",
       "      <td>K02000001</td>\n",
       "      <td>2015</td>\n",
       "      <td>Total</td>\n",
       "      <td>Exports</td>\n",
       "      <td>0 to 1 years</td>\n",
       "      <td>total</td>\n",
       "      <td>Count</td>\n",
       "      <td>10515</td>\n",
       "      <td>Businesses</td>\n",
       "    </tr>\n",
       "    <tr>\n",
       "      <th>1</th>\n",
       "      <td>K02000001</td>\n",
       "      <td>2015</td>\n",
       "      <td>Total</td>\n",
       "      <td>Imports</td>\n",
       "      <td>0 to 1 years</td>\n",
       "      <td>total</td>\n",
       "      <td>Count</td>\n",
       "      <td>21541</td>\n",
       "      <td>Businesses</td>\n",
       "    </tr>\n",
       "    <tr>\n",
       "      <th>2</th>\n",
       "      <td>K02000001</td>\n",
       "      <td>2015</td>\n",
       "      <td>Total</td>\n",
       "      <td>Exports</td>\n",
       "      <td>2 to 3 years</td>\n",
       "      <td>total</td>\n",
       "      <td>Count</td>\n",
       "      <td>13308</td>\n",
       "      <td>Businesses</td>\n",
       "    </tr>\n",
       "    <tr>\n",
       "      <th>3</th>\n",
       "      <td>K02000001</td>\n",
       "      <td>2015</td>\n",
       "      <td>Total</td>\n",
       "      <td>Imports</td>\n",
       "      <td>2 to 3 years</td>\n",
       "      <td>total</td>\n",
       "      <td>Count</td>\n",
       "      <td>22043</td>\n",
       "      <td>Businesses</td>\n",
       "    </tr>\n",
       "    <tr>\n",
       "      <th>4</th>\n",
       "      <td>K02000001</td>\n",
       "      <td>2015</td>\n",
       "      <td>Total</td>\n",
       "      <td>Exports</td>\n",
       "      <td>4 to 5 years</td>\n",
       "      <td>total</td>\n",
       "      <td>Count</td>\n",
       "      <td>12088</td>\n",
       "      <td>Businesses</td>\n",
       "    </tr>\n",
       "  </tbody>\n",
       "</table>\n",
       "</div>"
      ],
      "text/plain": [
       "   Geography  Year Employment     Flow Age of Business HMRC Industry  \\\n",
       "0  K02000001  2015      Total  Exports    0 to 1 years         total   \n",
       "1  K02000001  2015      Total  Imports    0 to 1 years         total   \n",
       "2  K02000001  2015      Total  Exports    2 to 3 years         total   \n",
       "3  K02000001  2015      Total  Imports    2 to 3 years         total   \n",
       "4  K02000001  2015      Total  Exports    4 to 5 years         total   \n",
       "\n",
       "  Measure Type  Value        Unit  \n",
       "0        Count  10515  Businesses  \n",
       "1        Count  21541  Businesses  \n",
       "2        Count  13308  Businesses  \n",
       "3        Count  22043  Businesses  \n",
       "4        Count  12088  Businesses  "
      ]
     },
     "execution_count": 27,
     "metadata": {},
     "output_type": "execute_result"
    }
   ],
   "source": [
    "final_table.head()"
   ]
  },
  {
   "cell_type": "code",
   "execution_count": 28,
   "metadata": {},
   "outputs": [
    {
     "data": {
      "text/html": [
       "<div>\n",
       "<style scoped>\n",
       "    .dataframe tbody tr th:only-of-type {\n",
       "        vertical-align: middle;\n",
       "    }\n",
       "\n",
       "    .dataframe tbody tr th {\n",
       "        vertical-align: top;\n",
       "    }\n",
       "\n",
       "    .dataframe thead th {\n",
       "        text-align: right;\n",
       "    }\n",
       "</style>\n",
       "<table border=\"1\" class=\"dataframe\">\n",
       "  <thead>\n",
       "    <tr style=\"text-align: right;\">\n",
       "      <th></th>\n",
       "      <th>Geography</th>\n",
       "      <th>Year</th>\n",
       "      <th>Employment</th>\n",
       "      <th>Flow</th>\n",
       "      <th>Age of Business</th>\n",
       "      <th>HMRC Industry</th>\n",
       "      <th>Measure Type</th>\n",
       "      <th>Value</th>\n",
       "      <th>Unit</th>\n",
       "    </tr>\n",
       "  </thead>\n",
       "  <tbody>\n",
       "    <tr>\n",
       "      <th>117</th>\n",
       "      <td>K02000001</td>\n",
       "      <td>2015</td>\n",
       "      <td>250 or more employees</td>\n",
       "      <td>Imports</td>\n",
       "      <td>Total</td>\n",
       "      <td>group-10</td>\n",
       "      <td>Total Turnover</td>\n",
       "      <td>124350</td>\n",
       "      <td>GBP Million</td>\n",
       "    </tr>\n",
       "    <tr>\n",
       "      <th>118</th>\n",
       "      <td>K02000001</td>\n",
       "      <td>2015</td>\n",
       "      <td>Unknown number of employees</td>\n",
       "      <td>Exports</td>\n",
       "      <td>Total</td>\n",
       "      <td>group-10</td>\n",
       "      <td>Total Turnover</td>\n",
       "      <td>9542</td>\n",
       "      <td>GBP Million</td>\n",
       "    </tr>\n",
       "    <tr>\n",
       "      <th>119</th>\n",
       "      <td>K02000001</td>\n",
       "      <td>2015</td>\n",
       "      <td>Unknown number of employees</td>\n",
       "      <td>Imports</td>\n",
       "      <td>Total</td>\n",
       "      <td>group-10</td>\n",
       "      <td>Total Turnover</td>\n",
       "      <td>4288</td>\n",
       "      <td>GBP Million</td>\n",
       "    </tr>\n",
       "    <tr>\n",
       "      <th>120</th>\n",
       "      <td>K02000001</td>\n",
       "      <td>2015</td>\n",
       "      <td>Unknown number of employees</td>\n",
       "      <td>Exports</td>\n",
       "      <td>Total</td>\n",
       "      <td>unknown</td>\n",
       "      <td>Total Turnover</td>\n",
       "      <td>11160</td>\n",
       "      <td>GBP Million</td>\n",
       "    </tr>\n",
       "    <tr>\n",
       "      <th>121</th>\n",
       "      <td>K02000001</td>\n",
       "      <td>2015</td>\n",
       "      <td>Unknown number of employees</td>\n",
       "      <td>Imports</td>\n",
       "      <td>Total</td>\n",
       "      <td>unknown</td>\n",
       "      <td>Total Turnover</td>\n",
       "      <td>6459</td>\n",
       "      <td>GBP Million</td>\n",
       "    </tr>\n",
       "  </tbody>\n",
       "</table>\n",
       "</div>"
      ],
      "text/plain": [
       "     Geography  Year                   Employment     Flow Age of Business  \\\n",
       "117  K02000001  2015        250 or more employees  Imports           Total   \n",
       "118  K02000001  2015  Unknown number of employees  Exports           Total   \n",
       "119  K02000001  2015  Unknown number of employees  Imports           Total   \n",
       "120  K02000001  2015  Unknown number of employees  Exports           Total   \n",
       "121  K02000001  2015  Unknown number of employees  Imports           Total   \n",
       "\n",
       "    HMRC Industry    Measure Type   Value         Unit  \n",
       "117      group-10  Total Turnover  124350  GBP Million  \n",
       "118      group-10  Total Turnover    9542  GBP Million  \n",
       "119      group-10  Total Turnover    4288  GBP Million  \n",
       "120       unknown  Total Turnover   11160  GBP Million  \n",
       "121       unknown  Total Turnover    6459  GBP Million  "
      ]
     },
     "execution_count": 28,
     "metadata": {},
     "output_type": "execute_result"
    }
   ],
   "source": [
    "final_table.tail()"
   ]
  },
  {
   "cell_type": "code",
   "execution_count": 29,
   "metadata": {},
   "outputs": [],
   "source": [
    "out = Path('out')\n",
    "out.mkdir(exist_ok=True)\n",
    "final_table.to_csv(out / 'observations.csv', index = False)"
   ]
  },
  {
   "cell_type": "code",
   "execution_count": 30,
   "metadata": {},
   "outputs": [],
   "source": [
    "scraper.dataset.family = 'migration'\n",
    "scraper.theme = 'migration'\n",
    "with open(out / 'dataset.trig', 'wb') as metadata:\n",
    "    metadata.write(scraper.generate_trig())"
   ]
  },
  {
   "cell_type": "code",
   "execution_count": null,
   "metadata": {},
   "outputs": [],
   "source": []
  }
 ],
 "metadata": {
  "kernelspec": {
   "display_name": "Python 3",
   "language": "python",
   "name": "python3"
  },
  "language_info": {
   "codemirror_mode": {
    "name": "ipython",
    "version": 3
   },
   "file_extension": ".py",
   "mimetype": "text/x-python",
   "name": "python",
   "nbconvert_exporter": "python",
   "pygments_lexer": "ipython3",
   "version": "3.7.1"
  }
 },
 "nbformat": 4,
 "nbformat_minor": 2
}
