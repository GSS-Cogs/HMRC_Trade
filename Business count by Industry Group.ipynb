{
 "cells": [
  {
   "cell_type": "markdown",
   "metadata": {},
   "source": [
    "Business count by Industry Group"
   ]
  },
  {
   "cell_type": "code",
   "execution_count": 1,
   "metadata": {
    "collapsed": true
   },
   "outputs": [],
   "source": [
    "from gssutils import *\n",
    "if is_interactive():\n",
    "    scraper = Scraper('https://www.uktradeinfo.com/Statistics/OverseasTradeStatistics/AboutOverseastradeStatistics/Pages/OTSReports.aspx')\n",
    "    display(scraper)\n",
    "    scraper.select_dataset(title=lambda x: x.startswith('UK Trade in Goods by Business Characteristics'))\n",
    "    display(scraper)\n",
    "    idbrs = sorted(\n",
    "        [dist for dist in scraper.distributions if dist.title.startswith('IDBR OTS tables')],\n",
    "        key=lambda d: d.title, reverse=True)\n",
    "    idbr = idbrs[0]\n",
    "    display(idbr.title)\n",
    "    tabs = {tab.name: tab for tab in idbr.as_databaker()}\n",
    "    display(tabs.keys())"
   ]
  },
  {
   "cell_type": "code",
   "execution_count": 4,
   "metadata": {
    "collapsed": true
   },
   "outputs": [],
   "source": [
    "tab = tabs['Industry Group']"
   ]
  },
  {
   "cell_type": "code",
   "execution_count": 5,
   "metadata": {},
   "outputs": [
    {
     "data": {
      "text/html": [
       "<div id=\"injblock1001\">\n",
       "<style>\n",
       "table.ex, table.exkey { border: thin black solid }\n",
       "table.ex td, table.ex tr { border: none }\n",
       "table.ex td:hover { border: thin blue solid }\n",
       "table.ex td.excOBS:hover { border: thin red solid }\n",
       "table.ex td.selected { border: thick red solid }\n",
       "</style>\n",
       "\n",
       "\n",
       "\n",
       "<table class=\"ex\">\n",
       "<caption style=\"text-align:center; padding:0px; caption-side:bottom\">Industry Group</caption>\n",
       "<tr><td style=\"font-weight:bold\" title=\"0 0\">TRADE IN GOODS STATISTICS MATCHED WITH REGISTERED BUSINESSES FROM THE INTER-DEPARTMENTAL BUSINESS REGISTER</td><td style=\"font-weight:bold\" title=\"1 0\"></td><td title=\"2 0\"></td><td title=\"3 0\"></td><td title=\"4 0\"></td><td title=\"5 0\"></td><td title=\"6 0\"></td><td title=\"7 0\"></td><td title=\"8 0\"></td></tr>\n",
       "<tr><td title=\"0 1\"></td><td title=\"1 1\"></td><td title=\"2 1\"></td><td title=\"3 1\"></td><td title=\"4 1\"></td><td title=\"5 1\"></td><td title=\"6 1\"></td><td title=\"7 1\"></td><td title=\"8 1\"></td></tr>\n",
       "<tr><td style=\"font-weight:bold\" title=\"0 2\">Release Date 24/11/2016</td><td style=\"font-weight:bold\" title=\"1 2\"></td><td title=\"2 2\"></td><td title=\"3 2\"></td><td title=\"4 2\"></td><td title=\"5 2\"></td><td title=\"6 2\"></td><td title=\"7 2\"></td><td title=\"8 2\"></td></tr>\n",
       "<tr><td title=\"0 3\"></td><td title=\"1 3\"></td><td title=\"2 3\"></td><td title=\"3 3\"></td><td title=\"4 3\"></td><td title=\"5 3\"></td><td title=\"6 3\"></td><td title=\"7 3\"></td><td title=\"8 3\"></td></tr>\n",
       "<tr><td style=\"font-weight:bold\" title=\"0 4\">Total value of UK trade by Industry Group</td><td style=\"font-weight:bold\" title=\"1 4\"></td><td title=\"2 4\"></td><td title=\"3 4\"></td><td title=\"4 4\">£ millions</td><td title=\"5 4\"></td><td title=\"6 4\"></td><td title=\"7 4\"></td><td title=\"8 4\"></td></tr>\n",
       "<tr><td title=\"0 5\"></td><td title=\"1 5\"></td><td style=\"font-weight:bold\" title=\"2 5\">Exports</td><td style=\"font-weight:bold\" title=\"3 5\"></td><td style=\"font-weight:bold\" title=\"4 5\">Imports</td><td title=\"5 5\"></td><td title=\"6 5\"></td><td title=\"7 5\"></td><td title=\"8 5\"></td></tr>\n",
       "<tr><td style=\"font-weight:bold\" title=\"0 6\">Industry Group </td><td style=\"font-weight:bold\" title=\"1 6\"></td><td title=\"2 6\">2015.0</td><td title=\"3 6\"></td><td title=\"4 6\">2015.0</td><td title=\"5 6\"></td><td title=\"6 6\"></td><td title=\"7 6\"></td><td title=\"8 6\"></td></tr>\n",
       "<tr><td style=\"font-weight:bold\" title=\"0 7\"></td><td style=\"font-weight:bold\" title=\"1 7\"></td><td style=\"font-weight:bold\" title=\"2 7\"></td><td style=\"font-weight:bold\" title=\"3 7\"></td><td style=\"font-weight:bold\" title=\"4 7\"></td><td title=\"5 7\"></td><td title=\"6 7\"></td><td title=\"7 7\"></td><td title=\"8 7\"></td></tr>\n",
       "<tr><td title=\"0 8\">Group 1 Agriculture and Food</td><td title=\"1 8\"></td><td title=\"2 8\">15178.0</td><td title=\"3 8\"></td><td title=\"4 8\">18388.0</td><td title=\"5 8\"></td><td title=\"6 8\"></td><td title=\"7 8\"></td><td title=\"8 8\"></td></tr>\n",
       "<tr><td title=\"0 9\">Group 2 Mining, Petroleum products and Waste</td><td title=\"1 9\"></td><td title=\"2 9\">17836.0</td><td title=\"3 9\"></td><td title=\"4 9\">23226.0</td><td title=\"5 9\"></td><td title=\"6 9\"></td><td title=\"7 9\"></td><td title=\"8 9\"></td></tr>\n",
       "<tr><td title=\"0 10\">Group 3 Chemicals</td><td title=\"1 10\"></td><td title=\"2 10\">13564.0</td><td title=\"3 10\"></td><td title=\"4 10\">9467.0</td><td title=\"5 10\"></td><td title=\"6 10\"></td><td title=\"7 10\"></td><td title=\"8 10\"></td></tr>\n",
       "<tr><td title=\"0 11\">Group 4 Pharmaceuticals</td><td title=\"1 11\"></td><td title=\"2 11\">10025.0</td><td title=\"3 11\"></td><td title=\"4 11\">3154.0</td><td title=\"5 11\"></td><td title=\"6 11\"></td><td title=\"7 11\"></td><td title=\"8 11\"></td></tr>\n",
       "<tr><td title=\"0 12\">Group 5 Electronic and Electrical equipment</td><td title=\"1 12\"></td><td title=\"2 12\">17912.0</td><td title=\"3 12\"></td><td title=\"4 12\">13696.0</td><td title=\"5 12\"></td><td title=\"6 12\"></td><td title=\"7 12\"></td><td title=\"8 12\"></td></tr>\n",
       "<tr><td title=\"0 13\">Group 6 Machinery and equipment n.e.s</td><td title=\"1 13\"></td><td title=\"2 13\">15935.0</td><td title=\"3 13\"></td><td title=\"4 13\">8153.0</td><td title=\"5 13\"></td><td title=\"6 13\"></td><td title=\"7 13\"></td><td title=\"8 13\"></td></tr>\n",
       "<tr><td title=\"0 14\">Group 7 Motor vehicles, transport equipment (excluding aerospace)</td><td title=\"1 14\"></td><td title=\"2 14\">26510.0</td><td title=\"3 14\"></td><td title=\"4 14\">24912.0</td><td title=\"5 14\"></td><td title=\"6 14\"></td><td title=\"7 14\"></td><td title=\"8 14\"></td></tr>\n",
       "<tr><td title=\"0 15\">Group 8 Aerospace and related machinery</td><td title=\"1 15\"></td><td title=\"2 15\">20341.0</td><td title=\"3 15\"></td><td title=\"4 15\">8821.0</td><td title=\"5 15\"></td><td title=\"6 15\"></td><td title=\"7 15\"></td><td title=\"8 15\"></td></tr>\n",
       "<tr><td title=\"0 16\">Group 9 Other manufacturing</td><td title=\"1 16\"></td><td title=\"2 16\">14788.0</td><td title=\"3 16\"></td><td title=\"4 16\">12631.0</td><td title=\"5 16\"></td><td title=\"6 16\"></td><td title=\"7 16\"></td><td title=\"8 16\"></td></tr>\n",
       "<tr><td title=\"0 17\">Group 10 Services</td><td title=\"1 17\"></td><td title=\"2 17\">141520.0</td><td title=\"3 17\"></td><td title=\"4 17\">282126.0</td><td title=\"5 17\"></td><td title=\"6 17\"></td><td title=\"7 17\"></td><td title=\"8 17\"></td></tr>\n",
       "<tr><td title=\"0 18\">Unknown</td><td title=\"1 18\"></td><td title=\"2 18\">11160.0</td><td title=\"3 18\"></td><td title=\"4 18\">6459.0</td><td title=\"5 18\"></td><td title=\"6 18\"></td><td title=\"7 18\"></td><td title=\"8 18\"></td></tr>\n",
       "<tr><td title=\"0 19\"></td><td title=\"1 19\"></td><td title=\"2 19\"></td><td title=\"3 19\"></td><td title=\"4 19\"></td><td title=\"5 19\"></td><td title=\"6 19\"></td><td title=\"7 19\"></td><td title=\"8 19\"></td></tr>\n",
       "<tr><td style=\"font-weight:bold\" title=\"0 20\">Total</td><td style=\"font-weight:bold\" title=\"1 20\"></td><td style=\"font-weight:bold\" title=\"2 20\">304768.0</td><td style=\"font-weight:bold\" title=\"3 20\"></td><td style=\"font-weight:bold\" title=\"4 20\">411033.0</td><td title=\"5 20\"></td><td title=\"6 20\"></td><td title=\"7 20\"></td><td title=\"8 20\"></td></tr>\n",
       "<tr><td title=\"0 21\"></td><td title=\"1 21\"></td><td title=\"2 21\"></td><td title=\"3 21\"></td><td title=\"4 21\"></td><td title=\"5 21\"></td><td title=\"6 21\"></td><td title=\"7 21\"></td><td title=\"8 21\"></td></tr>\n",
       "<tr><td title=\"0 22\"></td><td title=\"1 22\"></td><td title=\"2 22\"></td><td title=\"3 22\"></td><td title=\"4 22\"></td><td title=\"5 22\"></td><td title=\"6 22\"></td><td title=\"7 22\"></td><td title=\"8 22\"></td></tr>\n",
       "<tr><td style=\"font-weight:bold\" title=\"0 23\">Business count by Industry Group</td><td style=\"font-weight:bold\" title=\"1 23\"></td><td title=\"2 23\"></td><td title=\"3 23\"></td><td title=\"4 23\">number</td><td title=\"5 23\"></td><td title=\"6 23\"></td><td title=\"7 23\"></td><td title=\"8 23\"></td></tr>\n",
       "<tr><td title=\"0 24\"></td><td title=\"1 24\"></td><td style=\"font-weight:bold\" title=\"2 24\">Exports</td><td style=\"font-weight:bold\" title=\"3 24\"></td><td style=\"font-weight:bold\" title=\"4 24\">Imports</td><td title=\"5 24\"></td><td title=\"6 24\"></td><td title=\"7 24\"></td><td title=\"8 24\"></td></tr>\n",
       "<tr><td style=\"font-weight:bold\" title=\"0 25\">Industry Group </td><td style=\"font-weight:bold\" title=\"1 25\"></td><td title=\"2 25\">2015.0</td><td title=\"3 25\"></td><td title=\"4 25\">2015.0</td><td title=\"5 25\"></td><td title=\"6 25\"></td><td title=\"7 25\"></td><td title=\"8 25\"></td></tr>\n",
       "<tr><td style=\"font-weight:bold\" title=\"0 26\"></td><td style=\"font-weight:bold\" title=\"1 26\"></td><td style=\"font-weight:bold\" title=\"2 26\"></td><td style=\"font-weight:bold\" title=\"3 26\"></td><td style=\"font-weight:bold\" title=\"4 26\"></td><td title=\"5 26\"></td><td title=\"6 26\"></td><td title=\"7 26\"></td><td title=\"8 26\"></td></tr>\n",
       "<tr><td title=\"0 27\">Group 1 Agriculture and Food</td><td title=\"1 27\"></td><td title=\"2 27\">6847.0</td><td title=\"3 27\"></td><td title=\"4 27\">11637.0</td><td title=\"5 27\"></td><td title=\"6 27\"></td><td title=\"7 27\"></td><td title=\"8 27\"></td></tr>\n",
       "<tr><td title=\"0 28\">Group 2 Mining, Petroleum products and Waste</td><td title=\"1 28\"></td><td title=\"2 28\">1700.0</td><td title=\"3 28\"></td><td title=\"4 28\">2067.0</td><td title=\"5 28\"></td><td title=\"6 28\"></td><td title=\"7 28\"></td><td title=\"8 28\"></td></tr>\n",
       "<tr><td title=\"0 29\">Group 3 Chemicals</td><td title=\"1 29\"></td><td title=\"2 29\">1491.0</td><td title=\"3 29\"></td><td title=\"4 29\">1464.0</td><td title=\"5 29\"></td><td title=\"6 29\"></td><td title=\"7 29\"></td><td title=\"8 29\"></td></tr>\n",
       "<tr><td title=\"0 30\">Group 4 Pharmaceuticals</td><td title=\"1 30\"></td><td title=\"2 30\">222.0</td><td title=\"3 30\"></td><td title=\"4 30\">269.0</td><td title=\"5 30\"></td><td title=\"6 30\"></td><td title=\"7 30\"></td><td title=\"8 30\"></td></tr>\n",
       "<tr><td title=\"0 31\">Group 5 Electronic and Electrical equipment</td><td title=\"1 31\"></td><td title=\"2 31\">4107.0</td><td title=\"3 31\"></td><td title=\"4 31\">4289.0</td><td title=\"5 31\"></td><td title=\"6 31\"></td><td title=\"7 31\"></td><td title=\"8 31\"></td></tr>\n",
       "<tr><td title=\"0 32\">Group 6 Machinery and equipment n.e.s</td><td title=\"1 32\"></td><td title=\"2 32\">3391.0</td><td title=\"3 32\"></td><td title=\"4 32\">3323.0</td><td title=\"5 32\"></td><td title=\"6 32\"></td><td title=\"7 32\"></td><td title=\"8 32\"></td></tr>\n",
       "<tr><td title=\"0 33\">Group 7 Motor vehicles, transport equipment (excluding aerospace)</td><td title=\"1 33\"></td><td title=\"2 33\">1298.0</td><td title=\"3 33\"></td><td title=\"4 33\">1370.0</td><td title=\"5 33\"></td><td title=\"6 33\"></td><td title=\"7 33\"></td><td title=\"8 33\"></td></tr>\n",
       "<tr><td title=\"0 34\">Group 8 Aerospace and related machinery</td><td title=\"1 34\"></td><td title=\"2 34\">185.0</td><td title=\"3 34\"></td><td title=\"4 34\">196.0</td><td title=\"5 34\"></td><td title=\"6 34\"></td><td title=\"7 34\"></td><td title=\"8 34\"></td></tr>\n",
       "<tr><td title=\"0 35\">Group 9 Other manufacturing</td><td title=\"1 35\"></td><td title=\"2 35\">13073.0</td><td title=\"3 35\"></td><td title=\"4 35\">13799.0</td><td title=\"5 35\"></td><td title=\"6 35\"></td><td title=\"7 35\"></td><td title=\"8 35\"></td></tr>\n",
       "<tr><td title=\"0 36\">Group 10 Services</td><td title=\"1 36\"></td><td title=\"2 36\">105074.0</td><td title=\"3 36\"></td><td title=\"4 36\">164572.0</td><td title=\"5 36\"></td><td title=\"6 36\"></td><td title=\"7 36\"></td><td title=\"8 36\"></td></tr>\n",
       "<tr><td title=\"0 37\">Unknown</td><td title=\"1 37\"></td><td title=\"2 37\">5970.0</td><td title=\"3 37\"></td><td title=\"4 37\">16316.0</td><td title=\"5 37\"></td><td title=\"6 37\"></td><td title=\"7 37\"></td><td title=\"8 37\"></td></tr>\n",
       "<tr><td title=\"0 38\"></td><td title=\"1 38\"></td><td title=\"2 38\"></td><td title=\"3 38\"></td><td title=\"4 38\"></td><td title=\"5 38\"></td><td title=\"6 38\"></td><td title=\"7 38\"></td><td title=\"8 38\"></td></tr>\n",
       "<tr><td style=\"font-weight:bold\" title=\"0 39\">Total</td><td style=\"font-weight:bold\" title=\"1 39\"></td><td style=\"font-weight:bold\" title=\"2 39\">143358.0</td><td style=\"font-weight:bold\" title=\"3 39\"></td><td style=\"font-weight:bold\" title=\"4 39\">219302.0</td><td title=\"5 39\"></td><td title=\"6 39\"></td><td title=\"7 39\"></td><td title=\"8 39\"></td></tr>\n",
       "<tr><td style=\"font-weight:bold\" title=\"0 40\"></td><td style=\"font-weight:bold\" title=\"1 40\"></td><td style=\"font-weight:bold\" title=\"2 40\"></td><td style=\"font-weight:bold\" title=\"3 40\"></td><td style=\"font-weight:bold\" title=\"4 40\"></td><td title=\"5 40\"></td><td title=\"6 40\"></td><td title=\"7 40\"></td><td title=\"8 40\"></td></tr>\n",
       "<tr><td title=\"0 41\"></td><td title=\"1 41\"></td><td title=\"2 41\"></td><td title=\"3 41\"></td><td title=\"4 41\"></td><td title=\"5 41\"></td><td title=\"6 41\"></td><td title=\"7 41\"></td><td title=\"8 41\"></td></tr>\n",
       "<tr><td style=\"font-weight:bold\" title=\"0 42\">Employee count for Businesses by Industry Group</td><td style=\"font-weight:bold\" title=\"1 42\"></td><td title=\"2 42\"></td><td title=\"3 42\"></td><td title=\"4 42\">number</td><td title=\"5 42\"></td><td title=\"6 42\"></td><td title=\"7 42\"></td><td title=\"8 42\"></td></tr>\n",
       "<tr><td title=\"0 43\"></td><td title=\"1 43\"></td><td style=\"font-weight:bold\" title=\"2 43\">Exports</td><td style=\"font-weight:bold\" title=\"3 43\"></td><td style=\"font-weight:bold\" title=\"4 43\">Imports</td><td title=\"5 43\"></td><td title=\"6 43\"></td><td title=\"7 43\"></td><td title=\"8 43\"></td></tr>\n",
       "<tr><td style=\"font-weight:bold\" title=\"0 44\">Industry Group </td><td style=\"font-weight:bold\" title=\"1 44\"></td><td title=\"2 44\">2015.0</td><td title=\"3 44\"></td><td title=\"4 44\">2015.0</td><td title=\"5 44\"></td><td title=\"6 44\"></td><td title=\"7 44\"></td><td title=\"8 44\"></td></tr>\n",
       "<tr><td style=\"font-weight:bold\" title=\"0 45\"></td><td style=\"font-weight:bold\" title=\"1 45\"></td><td style=\"font-weight:bold\" title=\"2 45\"></td><td style=\"font-weight:bold\" title=\"3 45\"></td><td style=\"font-weight:bold\" title=\"4 45\"></td><td title=\"5 45\"></td><td title=\"6 45\"></td><td title=\"7 45\"></td><td title=\"8 45\"></td></tr>\n",
       "<tr><td title=\"0 46\">Group 1 Agriculture and Food</td><td title=\"1 46\"></td><td title=\"2 46\">484666.0</td><td title=\"3 46\"></td><td title=\"4 46\">558104.0</td><td title=\"5 46\"></td><td title=\"6 46\"></td><td title=\"7 46\"></td><td title=\"8 46\"></td></tr>\n",
       "<tr><td title=\"0 47\">Group 2 Mining, Petroleum products and Waste</td><td title=\"1 47\"></td><td title=\"2 47\">303902.0</td><td title=\"3 47\"></td><td title=\"4 47\">347613.0</td><td title=\"5 47\"></td><td title=\"6 47\"></td><td title=\"7 47\"></td><td title=\"8 47\"></td></tr>\n",
       "<tr><td title=\"0 48\">Group 3 Chemicals</td><td title=\"1 48\"></td><td title=\"2 48\">107612.0</td><td title=\"3 48\"></td><td title=\"4 48\">108389.0</td><td title=\"5 48\"></td><td title=\"6 48\"></td><td title=\"7 48\"></td><td title=\"8 48\"></td></tr>\n",
       "<tr><td title=\"0 49\">Group 4 Pharmaceuticals</td><td title=\"1 49\"></td><td title=\"2 49\">45032.0</td><td title=\"3 49\"></td><td title=\"4 49\">45504.0</td><td title=\"5 49\"></td><td title=\"6 49\"></td><td title=\"7 49\"></td><td title=\"8 49\"></td></tr>\n",
       "<tr><td title=\"0 50\">Group 5 Electronic and Electrical equipment</td><td title=\"1 50\"></td><td title=\"2 50\">182886.0</td><td title=\"3 50\"></td><td title=\"4 50\">184406.0</td><td title=\"5 50\"></td><td title=\"6 50\"></td><td title=\"7 50\"></td><td title=\"8 50\"></td></tr>\n",
       "<tr><td title=\"0 51\">Group 6 Machinery and equipment n.e.s</td><td title=\"1 51\"></td><td title=\"2 51\">162293.0</td><td title=\"3 51\"></td><td title=\"4 51\">162717.0</td><td title=\"5 51\"></td><td title=\"6 51\"></td><td title=\"7 51\"></td><td title=\"8 51\"></td></tr>\n",
       "<tr><td title=\"0 52\">Group 7 Motor vehicles, transport equipment (excluding aerospace)</td><td title=\"1 52\"></td><td title=\"2 52\">152582.0</td><td title=\"3 52\"></td><td title=\"4 52\">155321.0</td><td title=\"5 52\"></td><td title=\"6 52\"></td><td title=\"7 52\"></td><td title=\"8 52\"></td></tr>\n",
       "<tr><td title=\"0 53\">Group 8 Aerospace and related machinery</td><td title=\"1 53\"></td><td title=\"2 53\">96262.0</td><td title=\"3 53\"></td><td title=\"4 53\">96202.0</td><td title=\"5 53\"></td><td title=\"6 53\"></td><td title=\"7 53\"></td><td title=\"8 53\"></td></tr>\n",
       "<tr><td title=\"0 54\">Group 9 Other manufacturing</td><td title=\"1 54\"></td><td title=\"2 54\">492744.0</td><td title=\"3 54\"></td><td title=\"4 54\">514513.0</td><td title=\"5 54\"></td><td title=\"6 54\"></td><td title=\"7 54\"></td><td title=\"8 54\"></td></tr>\n",
       "<tr><td title=\"0 55\">Group 10 Services</td><td title=\"1 55\"></td><td title=\"2 55\">7525464.0</td><td title=\"3 55\"></td><td title=\"4 55\">10181897.0</td><td title=\"5 55\"></td><td title=\"6 55\"></td><td title=\"7 55\"></td><td title=\"8 55\"></td></tr>\n",
       "<tr><td title=\"0 56\">Unknown</td><td title=\"1 56\"></td><td title=\"2 56\">.</td><td title=\"3 56\"></td><td title=\"4 56\">.</td><td title=\"5 56\"></td><td title=\"6 56\"></td><td title=\"7 56\"></td><td title=\"8 56\"></td></tr>\n",
       "<tr><td title=\"0 57\"></td><td title=\"1 57\"></td><td title=\"2 57\"></td><td title=\"3 57\"></td><td title=\"4 57\"></td><td title=\"5 57\"></td><td title=\"6 57\"></td><td title=\"7 57\"></td><td title=\"8 57\"></td></tr>\n",
       "<tr><td style=\"font-weight:bold\" title=\"0 58\">Total8</td><td style=\"font-weight:bold\" title=\"1 58\"></td><td style=\"font-weight:bold\" title=\"2 58\">9553443.0</td><td style=\"font-weight:bold\" title=\"3 58\"></td><td style=\"font-weight:bold\" title=\"4 58\">12354666.0</td><td title=\"5 58\"></td><td title=\"6 58\"></td><td title=\"7 58\"></td><td title=\"8 58\"></td></tr>\n",
       "<tr><td title=\"0 59\"></td><td title=\"1 59\"></td><td title=\"2 59\"></td><td title=\"3 59\"></td><td title=\"4 59\"></td><td title=\"5 59\"></td><td title=\"6 59\"></td><td title=\"7 59\"></td><td title=\"8 59\"></td></tr>\n",
       "<tr><td title=\"0 60\"></td><td title=\"1 60\"></td><td title=\"2 60\"></td><td title=\"3 60\"></td><td title=\"4 60\"></td><td title=\"5 60\"></td><td title=\"6 60\"></td><td title=\"7 60\"></td><td title=\"8 60\"></td></tr>\n",
       "<tr><td title=\"0 61\"></td><td title=\"1 61\"></td><td title=\"2 61\"></td><td title=\"3 61\"></td><td title=\"4 61\">Source: HMRC OTS and ONS IDBR data</td><td title=\"5 61\"></td><td title=\"6 61\"></td><td title=\"7 61\"></td><td title=\"8 61\"></td></tr>\n",
       "<tr><td title=\"0 62\">Notes:</td><td title=\"1 62\"></td><td title=\"2 62\"></td><td title=\"3 62\"></td><td title=\"4 62\"></td><td title=\"5 62\"></td><td title=\"6 62\"></td><td title=\"7 62\"></td><td title=\"8 62\"></td></tr>\n",
       "<tr><td title=\"0 63\">1. These estimates are experimental official statistics. </td><td title=\"1 63\"></td><td title=\"2 63\"></td><td title=\"3 63\"></td><td title=\"4 63\"></td><td title=\"5 63\"></td><td title=\"6 63\"></td><td title=\"7 63\"></td><td title=\"8 63\"></td></tr>\n",
       "<tr><td title=\"0 64\">2. Registered businesses/enterprises are those which are registered for VAT and or EORI</td><td title=\"1 64\"></td><td title=\"2 64\"></td><td title=\"3 64\"></td><td title=\"4 64\"></td><td title=\"5 64\"></td><td title=\"6 64\"></td><td title=\"7 64\"></td><td title=\"8 64\"></td></tr>\n",
       "<tr><td title=\"0 65\">3. Cells with:     .  = Unknown </td><td title=\"1 65\"></td><td title=\"2 65\"></td><td title=\"3 65\"></td><td title=\"4 65\"></td><td title=\"5 65\"></td><td title=\"6 65\"></td><td title=\"7 65\"></td><td title=\"8 65\"></td></tr>\n",
       "<tr><td title=\"0 66\">4. Value of trade are in £ millions</td><td title=\"1 66\"></td><td title=\"2 66\"></td><td title=\"3 66\"></td><td title=\"4 66\"></td><td title=\"5 66\"></td><td title=\"6 66\"></td><td title=\"7 66\"></td><td title=\"8 66\"></td></tr>\n",
       "<tr><td title=\"0 67\">5. Further details of Industry Group, Age and Employee size can be in the Metadata tab</td><td title=\"1 67\"></td><td title=\"2 67\"></td><td title=\"3 67\"></td><td title=\"4 67\"></td><td title=\"5 67\"></td><td title=\"6 67\"></td><td title=\"7 67\"></td><td title=\"8 67\"></td></tr>\n",
       "<tr><td title=\"0 68\">6. Employment sizebands are based on IDBR employment for all variables and represent the employment of the Business</td><td title=\"1 68\"></td><td title=\"2 68\"></td><td title=\"3 68\"></td><td title=\"4 68\"></td><td title=\"5 68\"></td><td title=\"6 68\"></td><td title=\"7 68\"></td><td title=\"8 68\"></td></tr>\n",
       "<tr><td title=\"0 69\">7. Age of a business is defined using the birth date, or registration date, of the business held within the IDBR. Mergers and other changes in structure may require re-registration and therefore affect the validity of this date.</td><td title=\"1 69\"></td><td title=\"2 69\"></td><td title=\"3 69\"></td><td title=\"4 69\"></td><td title=\"5 69\"></td><td title=\"6 69\"></td><td title=\"7 69\"></td><td title=\"8 69\"></td></tr>\n",
       "<tr><td title=\"0 70\">8. Employee count totals exclude the 'Unknown' Industry group, where all employee counts are unknown.</td><td title=\"1 70\"></td><td title=\"2 70\"></td><td title=\"3 70\"></td><td title=\"4 70\"></td><td title=\"5 70\"></td><td title=\"6 70\"></td><td title=\"7 70\"></td><td title=\"8 70\"></td></tr>\n",
       "</table>\n",
       "\n",
       "</div>\n"
      ],
      "text/plain": [
       "<IPython.core.display.HTML object>"
      ]
     },
     "metadata": {},
     "output_type": "display_data"
    }
   ],
   "source": [
    "savepreviewhtml(tab)"
   ]
  },
  {
   "cell_type": "code",
   "execution_count": 6,
   "metadata": {
    "collapsed": true
   },
   "outputs": [],
   "source": [
    "observations = tab.excel_ref('C28').expand(DOWN).expand(RIGHT).is_not_blank()-tab.excel_ref('C27').expand(UP)"
   ]
  },
  {
   "cell_type": "code",
   "execution_count": 7,
   "metadata": {
    "collapsed": true
   },
   "outputs": [],
   "source": [
    "observations = observations - tab.excel_ref('C41').expand(DOWN).expand(RIGHT)"
   ]
  },
  {
   "cell_type": "code",
   "execution_count": 8,
   "metadata": {
    "collapsed": true
   },
   "outputs": [],
   "source": [
    "Industrygroup = tab.excel_ref('A').expand(DOWN) "
   ]
  },
  {
   "cell_type": "code",
   "execution_count": 9,
   "metadata": {
    "collapsed": true
   },
   "outputs": [],
   "source": [
    "Flow = tab.excel_ref('C6').expand(RIGHT)"
   ]
  },
  {
   "cell_type": "code",
   "execution_count": 10,
   "metadata": {
    "collapsed": true
   },
   "outputs": [],
   "source": [
    "Dimensions = [\n",
    "            HDimConst('Geography', 'K02000001'),\n",
    "            HDimConst('Year','2015'),\n",
    "            HDimConst('Unit', 'Businesses'), \n",
    "            HDimConst('Measure Type','Count'),            \n",
    "            HDim(Industrygroup, 'HMRC Industry', DIRECTLY, LEFT),\n",
    "            HDim(Flow, 'Flow', CLOSEST, LEFT)    \n",
    "]"
   ]
  },
  {
   "cell_type": "code",
   "execution_count": 11,
   "metadata": {
    "collapsed": true
   },
   "outputs": [],
   "source": [
    "c1 = ConversionSegment(observations, Dimensions, processTIMEUNIT=True)"
   ]
  },
  {
   "cell_type": "code",
   "execution_count": 12,
   "metadata": {},
   "outputs": [
    {
     "data": {
      "text/html": [
       "<div id=\"injblock1002\">\n",
       "<style>\n",
       "table.ex, table.exkey { border: thin black solid }\n",
       "table.ex td, table.ex tr { border: none }\n",
       "table.ex td:hover { border: thin blue solid }\n",
       "table.ex td.excOBS:hover { border: thin red solid }\n",
       "table.ex td.selected { border: thick red solid }\n",
       "</style>\n",
       "\n",
       "\n",
       "<table class=\"exkey\">\n",
       "<tr><td class=\"xc0\" style=\"background-color:Aqua\">OBS</td><td class=\"xc5\" style=\"background-color:Coral\">HMRC Industry</td><td class=\"xc6\" style=\"background-color:Gold\">Flow</td></tr></table>\n",
       "\n",
       "<table class=\"ex\">\n",
       "<caption style=\"text-align:center; padding:0px; caption-side:bottom\">Industry Group</caption>\n",
       "<tr><td style=\"background-color:Coral;font-weight:bold\" title=\"0 0\">TRADE IN GOODS STATISTICS MATCHED WITH REGISTERED BUSINESSES FROM THE INTER-DEPARTMENTAL BUSINESS REGISTER</td><td style=\"font-weight:bold\" title=\"1 0\"></td><td title=\"2 0\"></td><td title=\"3 0\"></td><td title=\"4 0\"></td><td title=\"5 0\"></td><td title=\"6 0\"></td><td title=\"7 0\"></td><td title=\"8 0\"></td></tr>\n",
       "<tr><td style=\"background-color:Coral\" title=\"0 1\"></td><td title=\"1 1\"></td><td title=\"2 1\"></td><td title=\"3 1\"></td><td title=\"4 1\"></td><td title=\"5 1\"></td><td title=\"6 1\"></td><td title=\"7 1\"></td><td title=\"8 1\"></td></tr>\n",
       "<tr><td style=\"background-color:Coral;font-weight:bold\" title=\"0 2\">Release Date 24/11/2016</td><td style=\"font-weight:bold\" title=\"1 2\"></td><td title=\"2 2\"></td><td title=\"3 2\"></td><td title=\"4 2\"></td><td title=\"5 2\"></td><td title=\"6 2\"></td><td title=\"7 2\"></td><td title=\"8 2\"></td></tr>\n",
       "<tr><td style=\"background-color:Coral\" title=\"0 3\"></td><td title=\"1 3\"></td><td title=\"2 3\"></td><td title=\"3 3\"></td><td title=\"4 3\"></td><td title=\"5 3\"></td><td title=\"6 3\"></td><td title=\"7 3\"></td><td title=\"8 3\"></td></tr>\n",
       "<tr><td style=\"background-color:Coral;font-weight:bold\" title=\"0 4\">Total value of UK trade by Industry Group</td><td style=\"font-weight:bold\" title=\"1 4\"></td><td title=\"2 4\"></td><td title=\"3 4\"></td><td title=\"4 4\">£ millions</td><td title=\"5 4\"></td><td title=\"6 4\"></td><td title=\"7 4\"></td><td title=\"8 4\"></td></tr>\n",
       "<tr><td style=\"background-color:Coral\" title=\"0 5\"></td><td title=\"1 5\"></td><td style=\"background-color:Gold;font-weight:bold\" title=\"2 5\">Exports</td><td style=\"background-color:Gold;font-weight:bold\" title=\"3 5\"></td><td style=\"background-color:Gold;font-weight:bold\" title=\"4 5\">Imports</td><td style=\"background-color:Gold\" title=\"5 5\"></td><td style=\"background-color:Gold\" title=\"6 5\"></td><td style=\"background-color:Gold\" title=\"7 5\"></td><td style=\"background-color:Gold\" title=\"8 5\"></td></tr>\n",
       "<tr><td style=\"background-color:Coral;font-weight:bold\" title=\"0 6\">Industry Group </td><td style=\"font-weight:bold\" title=\"1 6\"></td><td title=\"2 6\">2015.0</td><td title=\"3 6\"></td><td title=\"4 6\">2015.0</td><td title=\"5 6\"></td><td title=\"6 6\"></td><td title=\"7 6\"></td><td title=\"8 6\"></td></tr>\n",
       "<tr><td style=\"background-color:Coral;font-weight:bold\" title=\"0 7\"></td><td style=\"font-weight:bold\" title=\"1 7\"></td><td style=\"font-weight:bold\" title=\"2 7\"></td><td style=\"font-weight:bold\" title=\"3 7\"></td><td style=\"font-weight:bold\" title=\"4 7\"></td><td title=\"5 7\"></td><td title=\"6 7\"></td><td title=\"7 7\"></td><td title=\"8 7\"></td></tr>\n",
       "<tr><td style=\"background-color:Coral\" title=\"0 8\">Group 1 Agriculture and Food</td><td title=\"1 8\"></td><td title=\"2 8\">15178.0</td><td title=\"3 8\"></td><td title=\"4 8\">18388.0</td><td title=\"5 8\"></td><td title=\"6 8\"></td><td title=\"7 8\"></td><td title=\"8 8\"></td></tr>\n",
       "<tr><td style=\"background-color:Coral\" title=\"0 9\">Group 2 Mining, Petroleum products and Waste</td><td title=\"1 9\"></td><td title=\"2 9\">17836.0</td><td title=\"3 9\"></td><td title=\"4 9\">23226.0</td><td title=\"5 9\"></td><td title=\"6 9\"></td><td title=\"7 9\"></td><td title=\"8 9\"></td></tr>\n",
       "<tr><td style=\"background-color:Coral\" title=\"0 10\">Group 3 Chemicals</td><td title=\"1 10\"></td><td title=\"2 10\">13564.0</td><td title=\"3 10\"></td><td title=\"4 10\">9467.0</td><td title=\"5 10\"></td><td title=\"6 10\"></td><td title=\"7 10\"></td><td title=\"8 10\"></td></tr>\n",
       "<tr><td style=\"background-color:Coral\" title=\"0 11\">Group 4 Pharmaceuticals</td><td title=\"1 11\"></td><td title=\"2 11\">10025.0</td><td title=\"3 11\"></td><td title=\"4 11\">3154.0</td><td title=\"5 11\"></td><td title=\"6 11\"></td><td title=\"7 11\"></td><td title=\"8 11\"></td></tr>\n",
       "<tr><td style=\"background-color:Coral\" title=\"0 12\">Group 5 Electronic and Electrical equipment</td><td title=\"1 12\"></td><td title=\"2 12\">17912.0</td><td title=\"3 12\"></td><td title=\"4 12\">13696.0</td><td title=\"5 12\"></td><td title=\"6 12\"></td><td title=\"7 12\"></td><td title=\"8 12\"></td></tr>\n",
       "<tr><td style=\"background-color:Coral\" title=\"0 13\">Group 6 Machinery and equipment n.e.s</td><td title=\"1 13\"></td><td title=\"2 13\">15935.0</td><td title=\"3 13\"></td><td title=\"4 13\">8153.0</td><td title=\"5 13\"></td><td title=\"6 13\"></td><td title=\"7 13\"></td><td title=\"8 13\"></td></tr>\n",
       "<tr><td style=\"background-color:Coral\" title=\"0 14\">Group 7 Motor vehicles, transport equipment (excluding aerospace)</td><td title=\"1 14\"></td><td title=\"2 14\">26510.0</td><td title=\"3 14\"></td><td title=\"4 14\">24912.0</td><td title=\"5 14\"></td><td title=\"6 14\"></td><td title=\"7 14\"></td><td title=\"8 14\"></td></tr>\n",
       "<tr><td style=\"background-color:Coral\" title=\"0 15\">Group 8 Aerospace and related machinery</td><td title=\"1 15\"></td><td title=\"2 15\">20341.0</td><td title=\"3 15\"></td><td title=\"4 15\">8821.0</td><td title=\"5 15\"></td><td title=\"6 15\"></td><td title=\"7 15\"></td><td title=\"8 15\"></td></tr>\n",
       "<tr><td style=\"background-color:Coral\" title=\"0 16\">Group 9 Other manufacturing</td><td title=\"1 16\"></td><td title=\"2 16\">14788.0</td><td title=\"3 16\"></td><td title=\"4 16\">12631.0</td><td title=\"5 16\"></td><td title=\"6 16\"></td><td title=\"7 16\"></td><td title=\"8 16\"></td></tr>\n",
       "<tr><td style=\"background-color:Coral\" title=\"0 17\">Group 10 Services</td><td title=\"1 17\"></td><td title=\"2 17\">141520.0</td><td title=\"3 17\"></td><td title=\"4 17\">282126.0</td><td title=\"5 17\"></td><td title=\"6 17\"></td><td title=\"7 17\"></td><td title=\"8 17\"></td></tr>\n",
       "<tr><td style=\"background-color:Coral\" title=\"0 18\">Unknown</td><td title=\"1 18\"></td><td title=\"2 18\">11160.0</td><td title=\"3 18\"></td><td title=\"4 18\">6459.0</td><td title=\"5 18\"></td><td title=\"6 18\"></td><td title=\"7 18\"></td><td title=\"8 18\"></td></tr>\n",
       "<tr><td style=\"background-color:Coral\" title=\"0 19\"></td><td title=\"1 19\"></td><td title=\"2 19\"></td><td title=\"3 19\"></td><td title=\"4 19\"></td><td title=\"5 19\"></td><td title=\"6 19\"></td><td title=\"7 19\"></td><td title=\"8 19\"></td></tr>\n",
       "<tr><td style=\"background-color:Coral;font-weight:bold\" title=\"0 20\">Total</td><td style=\"font-weight:bold\" title=\"1 20\"></td><td style=\"font-weight:bold\" title=\"2 20\">304768.0</td><td style=\"font-weight:bold\" title=\"3 20\"></td><td style=\"font-weight:bold\" title=\"4 20\">411033.0</td><td title=\"5 20\"></td><td title=\"6 20\"></td><td title=\"7 20\"></td><td title=\"8 20\"></td></tr>\n",
       "<tr><td style=\"background-color:Coral\" title=\"0 21\"></td><td title=\"1 21\"></td><td title=\"2 21\"></td><td title=\"3 21\"></td><td title=\"4 21\"></td><td title=\"5 21\"></td><td title=\"6 21\"></td><td title=\"7 21\"></td><td title=\"8 21\"></td></tr>\n",
       "<tr><td style=\"background-color:Coral\" title=\"0 22\"></td><td title=\"1 22\"></td><td title=\"2 22\"></td><td title=\"3 22\"></td><td title=\"4 22\"></td><td title=\"5 22\"></td><td title=\"6 22\"></td><td title=\"7 22\"></td><td title=\"8 22\"></td></tr>\n",
       "<tr><td style=\"background-color:Coral;font-weight:bold\" title=\"0 23\">Business count by Industry Group</td><td style=\"font-weight:bold\" title=\"1 23\"></td><td title=\"2 23\"></td><td title=\"3 23\"></td><td title=\"4 23\">number</td><td title=\"5 23\"></td><td title=\"6 23\"></td><td title=\"7 23\"></td><td title=\"8 23\"></td></tr>\n",
       "<tr><td style=\"background-color:Coral\" title=\"0 24\"></td><td title=\"1 24\"></td><td style=\"font-weight:bold\" title=\"2 24\">Exports</td><td style=\"font-weight:bold\" title=\"3 24\"></td><td style=\"font-weight:bold\" title=\"4 24\">Imports</td><td title=\"5 24\"></td><td title=\"6 24\"></td><td title=\"7 24\"></td><td title=\"8 24\"></td></tr>\n",
       "<tr><td style=\"background-color:Coral;font-weight:bold\" title=\"0 25\">Industry Group </td><td style=\"font-weight:bold\" title=\"1 25\"></td><td title=\"2 25\">2015.0</td><td title=\"3 25\"></td><td title=\"4 25\">2015.0</td><td title=\"5 25\"></td><td title=\"6 25\"></td><td title=\"7 25\"></td><td title=\"8 25\"></td></tr>\n",
       "<tr><td style=\"background-color:Coral;font-weight:bold\" title=\"0 26\"></td><td style=\"font-weight:bold\" title=\"1 26\"></td><td style=\"font-weight:bold\" title=\"2 26\"></td><td style=\"font-weight:bold\" title=\"3 26\"></td><td style=\"font-weight:bold\" title=\"4 26\"></td><td title=\"5 26\"></td><td title=\"6 26\"></td><td title=\"7 26\"></td><td title=\"8 26\"></td></tr>\n",
       "<tr><td style=\"background-color:Coral\" title=\"0 27\">Group 1 Agriculture and Food</td><td title=\"1 27\"></td><td style=\"background-color:Aqua\" title=\"2 27\">6847.0</td><td title=\"3 27\"></td><td style=\"background-color:Aqua\" title=\"4 27\">11637.0</td><td title=\"5 27\"></td><td title=\"6 27\"></td><td title=\"7 27\"></td><td title=\"8 27\"></td></tr>\n",
       "<tr><td style=\"background-color:Coral\" title=\"0 28\">Group 2 Mining, Petroleum products and Waste</td><td title=\"1 28\"></td><td style=\"background-color:Aqua\" title=\"2 28\">1700.0</td><td title=\"3 28\"></td><td style=\"background-color:Aqua\" title=\"4 28\">2067.0</td><td title=\"5 28\"></td><td title=\"6 28\"></td><td title=\"7 28\"></td><td title=\"8 28\"></td></tr>\n",
       "<tr><td style=\"background-color:Coral\" title=\"0 29\">Group 3 Chemicals</td><td title=\"1 29\"></td><td style=\"background-color:Aqua\" title=\"2 29\">1491.0</td><td title=\"3 29\"></td><td style=\"background-color:Aqua\" title=\"4 29\">1464.0</td><td title=\"5 29\"></td><td title=\"6 29\"></td><td title=\"7 29\"></td><td title=\"8 29\"></td></tr>\n",
       "<tr><td style=\"background-color:Coral\" title=\"0 30\">Group 4 Pharmaceuticals</td><td title=\"1 30\"></td><td style=\"background-color:Aqua\" title=\"2 30\">222.0</td><td title=\"3 30\"></td><td style=\"background-color:Aqua\" title=\"4 30\">269.0</td><td title=\"5 30\"></td><td title=\"6 30\"></td><td title=\"7 30\"></td><td title=\"8 30\"></td></tr>\n",
       "<tr><td style=\"background-color:Coral\" title=\"0 31\">Group 5 Electronic and Electrical equipment</td><td title=\"1 31\"></td><td style=\"background-color:Aqua\" title=\"2 31\">4107.0</td><td title=\"3 31\"></td><td style=\"background-color:Aqua\" title=\"4 31\">4289.0</td><td title=\"5 31\"></td><td title=\"6 31\"></td><td title=\"7 31\"></td><td title=\"8 31\"></td></tr>\n",
       "<tr><td style=\"background-color:Coral\" title=\"0 32\">Group 6 Machinery and equipment n.e.s</td><td title=\"1 32\"></td><td style=\"background-color:Aqua\" title=\"2 32\">3391.0</td><td title=\"3 32\"></td><td style=\"background-color:Aqua\" title=\"4 32\">3323.0</td><td title=\"5 32\"></td><td title=\"6 32\"></td><td title=\"7 32\"></td><td title=\"8 32\"></td></tr>\n",
       "<tr><td style=\"background-color:Coral\" title=\"0 33\">Group 7 Motor vehicles, transport equipment (excluding aerospace)</td><td title=\"1 33\"></td><td style=\"background-color:Aqua\" title=\"2 33\">1298.0</td><td title=\"3 33\"></td><td style=\"background-color:Aqua\" title=\"4 33\">1370.0</td><td title=\"5 33\"></td><td title=\"6 33\"></td><td title=\"7 33\"></td><td title=\"8 33\"></td></tr>\n",
       "<tr><td style=\"background-color:Coral\" title=\"0 34\">Group 8 Aerospace and related machinery</td><td title=\"1 34\"></td><td style=\"background-color:Aqua\" title=\"2 34\">185.0</td><td title=\"3 34\"></td><td style=\"background-color:Aqua\" title=\"4 34\">196.0</td><td title=\"5 34\"></td><td title=\"6 34\"></td><td title=\"7 34\"></td><td title=\"8 34\"></td></tr>\n",
       "<tr><td style=\"background-color:Coral\" title=\"0 35\">Group 9 Other manufacturing</td><td title=\"1 35\"></td><td style=\"background-color:Aqua\" title=\"2 35\">13073.0</td><td title=\"3 35\"></td><td style=\"background-color:Aqua\" title=\"4 35\">13799.0</td><td title=\"5 35\"></td><td title=\"6 35\"></td><td title=\"7 35\"></td><td title=\"8 35\"></td></tr>\n",
       "<tr><td style=\"background-color:Coral\" title=\"0 36\">Group 10 Services</td><td title=\"1 36\"></td><td style=\"background-color:Aqua\" title=\"2 36\">105074.0</td><td title=\"3 36\"></td><td style=\"background-color:Aqua\" title=\"4 36\">164572.0</td><td title=\"5 36\"></td><td title=\"6 36\"></td><td title=\"7 36\"></td><td title=\"8 36\"></td></tr>\n",
       "<tr><td style=\"background-color:Coral\" title=\"0 37\">Unknown</td><td title=\"1 37\"></td><td style=\"background-color:Aqua\" title=\"2 37\">5970.0</td><td title=\"3 37\"></td><td style=\"background-color:Aqua\" title=\"4 37\">16316.0</td><td title=\"5 37\"></td><td title=\"6 37\"></td><td title=\"7 37\"></td><td title=\"8 37\"></td></tr>\n",
       "<tr><td style=\"background-color:Coral\" title=\"0 38\"></td><td title=\"1 38\"></td><td title=\"2 38\"></td><td title=\"3 38\"></td><td title=\"4 38\"></td><td title=\"5 38\"></td><td title=\"6 38\"></td><td title=\"7 38\"></td><td title=\"8 38\"></td></tr>\n",
       "<tr><td style=\"background-color:Coral;font-weight:bold\" title=\"0 39\">Total</td><td style=\"font-weight:bold\" title=\"1 39\"></td><td style=\"background-color:Aqua;font-weight:bold\" title=\"2 39\">143358.0</td><td style=\"font-weight:bold\" title=\"3 39\"></td><td style=\"background-color:Aqua;font-weight:bold\" title=\"4 39\">219302.0</td><td title=\"5 39\"></td><td title=\"6 39\"></td><td title=\"7 39\"></td><td title=\"8 39\"></td></tr>\n",
       "<tr><td style=\"background-color:Coral;font-weight:bold\" title=\"0 40\"></td><td style=\"font-weight:bold\" title=\"1 40\"></td><td style=\"font-weight:bold\" title=\"2 40\"></td><td style=\"font-weight:bold\" title=\"3 40\"></td><td style=\"font-weight:bold\" title=\"4 40\"></td><td title=\"5 40\"></td><td title=\"6 40\"></td><td title=\"7 40\"></td><td title=\"8 40\"></td></tr>\n",
       "<tr><td style=\"background-color:Coral\" title=\"0 41\"></td><td title=\"1 41\"></td><td title=\"2 41\"></td><td title=\"3 41\"></td><td title=\"4 41\"></td><td title=\"5 41\"></td><td title=\"6 41\"></td><td title=\"7 41\"></td><td title=\"8 41\"></td></tr>\n",
       "<tr><td style=\"background-color:Coral;font-weight:bold\" title=\"0 42\">Employee count for Businesses by Industry Group</td><td style=\"font-weight:bold\" title=\"1 42\"></td><td title=\"2 42\"></td><td title=\"3 42\"></td><td title=\"4 42\">number</td><td title=\"5 42\"></td><td title=\"6 42\"></td><td title=\"7 42\"></td><td title=\"8 42\"></td></tr>\n",
       "<tr><td style=\"background-color:Coral\" title=\"0 43\"></td><td title=\"1 43\"></td><td style=\"font-weight:bold\" title=\"2 43\">Exports</td><td style=\"font-weight:bold\" title=\"3 43\"></td><td style=\"font-weight:bold\" title=\"4 43\">Imports</td><td title=\"5 43\"></td><td title=\"6 43\"></td><td title=\"7 43\"></td><td title=\"8 43\"></td></tr>\n",
       "<tr><td style=\"background-color:Coral;font-weight:bold\" title=\"0 44\">Industry Group </td><td style=\"font-weight:bold\" title=\"1 44\"></td><td title=\"2 44\">2015.0</td><td title=\"3 44\"></td><td title=\"4 44\">2015.0</td><td title=\"5 44\"></td><td title=\"6 44\"></td><td title=\"7 44\"></td><td title=\"8 44\"></td></tr>\n",
       "<tr><td style=\"background-color:Coral;font-weight:bold\" title=\"0 45\"></td><td style=\"font-weight:bold\" title=\"1 45\"></td><td style=\"font-weight:bold\" title=\"2 45\"></td><td style=\"font-weight:bold\" title=\"3 45\"></td><td style=\"font-weight:bold\" title=\"4 45\"></td><td title=\"5 45\"></td><td title=\"6 45\"></td><td title=\"7 45\"></td><td title=\"8 45\"></td></tr>\n",
       "<tr><td style=\"background-color:Coral\" title=\"0 46\">Group 1 Agriculture and Food</td><td title=\"1 46\"></td><td title=\"2 46\">484666.0</td><td title=\"3 46\"></td><td title=\"4 46\">558104.0</td><td title=\"5 46\"></td><td title=\"6 46\"></td><td title=\"7 46\"></td><td title=\"8 46\"></td></tr>\n",
       "<tr><td style=\"background-color:Coral\" title=\"0 47\">Group 2 Mining, Petroleum products and Waste</td><td title=\"1 47\"></td><td title=\"2 47\">303902.0</td><td title=\"3 47\"></td><td title=\"4 47\">347613.0</td><td title=\"5 47\"></td><td title=\"6 47\"></td><td title=\"7 47\"></td><td title=\"8 47\"></td></tr>\n",
       "<tr><td style=\"background-color:Coral\" title=\"0 48\">Group 3 Chemicals</td><td title=\"1 48\"></td><td title=\"2 48\">107612.0</td><td title=\"3 48\"></td><td title=\"4 48\">108389.0</td><td title=\"5 48\"></td><td title=\"6 48\"></td><td title=\"7 48\"></td><td title=\"8 48\"></td></tr>\n",
       "<tr><td style=\"background-color:Coral\" title=\"0 49\">Group 4 Pharmaceuticals</td><td title=\"1 49\"></td><td title=\"2 49\">45032.0</td><td title=\"3 49\"></td><td title=\"4 49\">45504.0</td><td title=\"5 49\"></td><td title=\"6 49\"></td><td title=\"7 49\"></td><td title=\"8 49\"></td></tr>\n",
       "<tr><td style=\"background-color:Coral\" title=\"0 50\">Group 5 Electronic and Electrical equipment</td><td title=\"1 50\"></td><td title=\"2 50\">182886.0</td><td title=\"3 50\"></td><td title=\"4 50\">184406.0</td><td title=\"5 50\"></td><td title=\"6 50\"></td><td title=\"7 50\"></td><td title=\"8 50\"></td></tr>\n",
       "<tr><td style=\"background-color:Coral\" title=\"0 51\">Group 6 Machinery and equipment n.e.s</td><td title=\"1 51\"></td><td title=\"2 51\">162293.0</td><td title=\"3 51\"></td><td title=\"4 51\">162717.0</td><td title=\"5 51\"></td><td title=\"6 51\"></td><td title=\"7 51\"></td><td title=\"8 51\"></td></tr>\n",
       "<tr><td style=\"background-color:Coral\" title=\"0 52\">Group 7 Motor vehicles, transport equipment (excluding aerospace)</td><td title=\"1 52\"></td><td title=\"2 52\">152582.0</td><td title=\"3 52\"></td><td title=\"4 52\">155321.0</td><td title=\"5 52\"></td><td title=\"6 52\"></td><td title=\"7 52\"></td><td title=\"8 52\"></td></tr>\n",
       "<tr><td style=\"background-color:Coral\" title=\"0 53\">Group 8 Aerospace and related machinery</td><td title=\"1 53\"></td><td title=\"2 53\">96262.0</td><td title=\"3 53\"></td><td title=\"4 53\">96202.0</td><td title=\"5 53\"></td><td title=\"6 53\"></td><td title=\"7 53\"></td><td title=\"8 53\"></td></tr>\n",
       "<tr><td style=\"background-color:Coral\" title=\"0 54\">Group 9 Other manufacturing</td><td title=\"1 54\"></td><td title=\"2 54\">492744.0</td><td title=\"3 54\"></td><td title=\"4 54\">514513.0</td><td title=\"5 54\"></td><td title=\"6 54\"></td><td title=\"7 54\"></td><td title=\"8 54\"></td></tr>\n",
       "<tr><td style=\"background-color:Coral\" title=\"0 55\">Group 10 Services</td><td title=\"1 55\"></td><td title=\"2 55\">7525464.0</td><td title=\"3 55\"></td><td title=\"4 55\">10181897.0</td><td title=\"5 55\"></td><td title=\"6 55\"></td><td title=\"7 55\"></td><td title=\"8 55\"></td></tr>\n",
       "<tr><td style=\"background-color:Coral\" title=\"0 56\">Unknown</td><td title=\"1 56\"></td><td title=\"2 56\">.</td><td title=\"3 56\"></td><td title=\"4 56\">.</td><td title=\"5 56\"></td><td title=\"6 56\"></td><td title=\"7 56\"></td><td title=\"8 56\"></td></tr>\n",
       "<tr><td style=\"background-color:Coral\" title=\"0 57\"></td><td title=\"1 57\"></td><td title=\"2 57\"></td><td title=\"3 57\"></td><td title=\"4 57\"></td><td title=\"5 57\"></td><td title=\"6 57\"></td><td title=\"7 57\"></td><td title=\"8 57\"></td></tr>\n",
       "<tr><td style=\"background-color:Coral;font-weight:bold\" title=\"0 58\">Total8</td><td style=\"font-weight:bold\" title=\"1 58\"></td><td style=\"font-weight:bold\" title=\"2 58\">9553443.0</td><td style=\"font-weight:bold\" title=\"3 58\"></td><td style=\"font-weight:bold\" title=\"4 58\">12354666.0</td><td title=\"5 58\"></td><td title=\"6 58\"></td><td title=\"7 58\"></td><td title=\"8 58\"></td></tr>\n",
       "<tr><td style=\"background-color:Coral\" title=\"0 59\"></td><td title=\"1 59\"></td><td title=\"2 59\"></td><td title=\"3 59\"></td><td title=\"4 59\"></td><td title=\"5 59\"></td><td title=\"6 59\"></td><td title=\"7 59\"></td><td title=\"8 59\"></td></tr>\n",
       "<tr><td style=\"background-color:Coral\" title=\"0 60\"></td><td title=\"1 60\"></td><td title=\"2 60\"></td><td title=\"3 60\"></td><td title=\"4 60\"></td><td title=\"5 60\"></td><td title=\"6 60\"></td><td title=\"7 60\"></td><td title=\"8 60\"></td></tr>\n",
       "<tr><td style=\"background-color:Coral\" title=\"0 61\"></td><td title=\"1 61\"></td><td title=\"2 61\"></td><td title=\"3 61\"></td><td title=\"4 61\">Source: HMRC OTS and ONS IDBR data</td><td title=\"5 61\"></td><td title=\"6 61\"></td><td title=\"7 61\"></td><td title=\"8 61\"></td></tr>\n",
       "<tr><td style=\"background-color:Coral\" title=\"0 62\">Notes:</td><td title=\"1 62\"></td><td title=\"2 62\"></td><td title=\"3 62\"></td><td title=\"4 62\"></td><td title=\"5 62\"></td><td title=\"6 62\"></td><td title=\"7 62\"></td><td title=\"8 62\"></td></tr>\n",
       "<tr><td style=\"background-color:Coral\" title=\"0 63\">1. These estimates are experimental official statistics. </td><td title=\"1 63\"></td><td title=\"2 63\"></td><td title=\"3 63\"></td><td title=\"4 63\"></td><td title=\"5 63\"></td><td title=\"6 63\"></td><td title=\"7 63\"></td><td title=\"8 63\"></td></tr>\n",
       "<tr><td style=\"background-color:Coral\" title=\"0 64\">2. Registered businesses/enterprises are those which are registered for VAT and or EORI</td><td title=\"1 64\"></td><td title=\"2 64\"></td><td title=\"3 64\"></td><td title=\"4 64\"></td><td title=\"5 64\"></td><td title=\"6 64\"></td><td title=\"7 64\"></td><td title=\"8 64\"></td></tr>\n",
       "<tr><td style=\"background-color:Coral\" title=\"0 65\">3. Cells with:     .  = Unknown </td><td title=\"1 65\"></td><td title=\"2 65\"></td><td title=\"3 65\"></td><td title=\"4 65\"></td><td title=\"5 65\"></td><td title=\"6 65\"></td><td title=\"7 65\"></td><td title=\"8 65\"></td></tr>\n",
       "<tr><td style=\"background-color:Coral\" title=\"0 66\">4. Value of trade are in £ millions</td><td title=\"1 66\"></td><td title=\"2 66\"></td><td title=\"3 66\"></td><td title=\"4 66\"></td><td title=\"5 66\"></td><td title=\"6 66\"></td><td title=\"7 66\"></td><td title=\"8 66\"></td></tr>\n",
       "<tr><td style=\"background-color:Coral\" title=\"0 67\">5. Further details of Industry Group, Age and Employee size can be in the Metadata tab</td><td title=\"1 67\"></td><td title=\"2 67\"></td><td title=\"3 67\"></td><td title=\"4 67\"></td><td title=\"5 67\"></td><td title=\"6 67\"></td><td title=\"7 67\"></td><td title=\"8 67\"></td></tr>\n",
       "<tr><td style=\"background-color:Coral\" title=\"0 68\">6. Employment sizebands are based on IDBR employment for all variables and represent the employment of the Business</td><td title=\"1 68\"></td><td title=\"2 68\"></td><td title=\"3 68\"></td><td title=\"4 68\"></td><td title=\"5 68\"></td><td title=\"6 68\"></td><td title=\"7 68\"></td><td title=\"8 68\"></td></tr>\n",
       "<tr><td style=\"background-color:Coral\" title=\"0 69\">7. Age of a business is defined using the birth date, or registration date, of the business held within the IDBR. Mergers and other changes in structure may require re-registration and therefore affect the validity of this date.</td><td title=\"1 69\"></td><td title=\"2 69\"></td><td title=\"3 69\"></td><td title=\"4 69\"></td><td title=\"5 69\"></td><td title=\"6 69\"></td><td title=\"7 69\"></td><td title=\"8 69\"></td></tr>\n",
       "<tr><td style=\"background-color:Coral\" title=\"0 70\">8. Employee count totals exclude the 'Unknown' Industry group, where all employee counts are unknown.</td><td title=\"1 70\"></td><td title=\"2 70\"></td><td title=\"3 70\"></td><td title=\"4 70\"></td><td title=\"5 70\"></td><td title=\"6 70\"></td><td title=\"7 70\"></td><td title=\"8 70\"></td></tr>\n",
       "</table>\n",
       "\n",
       "</div>\n",
       "\n",
       "<script>\n",
       "var jslookup = {\"2 35\":[0,35,2,5],\"4 28\":[0,28,4,5],\"4 31\":[0,31,4,5],\"2 36\":[0,36,2,5],\"2 39\":[0,39,2,5],\"4 29\":[0,29,4,5],\"2 37\":[0,37,2,5],\"4 30\":[0,30,4,5],\"2 31\":[0,31,2,5],\"4 32\":[0,32,4,5],\"4 36\":[0,36,4,5],\"4 34\":[0,34,4,5],\"4 27\":[0,27,4,5],\"2 30\":[0,30,2,5],\"2 32\":[0,32,2,5],\"2 33\":[0,33,2,5],\"4 39\":[0,39,4,5],\"2 29\":[0,29,2,5],\"2 28\":[0,28,2,5],\"4 37\":[0,37,4,5],\"4 33\":[0,33,4,5],\"2 34\":[0,34,2,5],\"2 27\":[0,27,2,5],\"4 35\":[0,35,4,5]}; \n",
       "var jdividNUM = \"injblock1002\"; \n",
       "var Dclickedcell = null; \n",
       "function clickedcell() \n",
       "{ \n",
       "    Dclickedcell = this; \n",
       "    console.log(\"jjjj\", this); \n",
       "    var rgc = new RegExp('(^|\\b)' + \"selected\".split(' ').join('|') + '(\\b|$)', 'gi'); \n",
       "    Array.prototype.forEach.call(document.querySelectorAll(\"div#\"+jdividNUM+\" table.ex td.selected\"), function(el, i) { \n",
       "        if (el.classList)  el.classList.remove(\"selected\");\n",
       "        else  el.className = el.className.replace(rgc, ' ');\n",
       "    }); \n",
       "    if (this.classList)  this.classList.add(\"selected\");\n",
       "    else this.className += ' ' + \"selected\";\n",
       "\n",
       "    var dimpairs = jslookup[this.title]; \n",
       "    if (dimpairs !== undefined) {\n",
       "        for (var i = 1; i < dimpairs.length; i += 2) {\n",
       "            var row = document.querySelectorAll(\"div#\"+jdividNUM+\" table.ex tr\")[dimpairs[i]]; \n",
       "            var el = row.querySelectorAll(\"td\")[dimpairs[i-1]]; \n",
       "            if (el.classList)  el.classList.add(\"selected\");\n",
       "            else el.className += ' ' + \"selected\";\n",
       "        }\n",
       "    }\n",
       "}\n",
       "Array.prototype.forEach.call(document.querySelectorAll(\"div#\"+jdividNUM+\" table.ex td\"), function(item, i) { item.onclick=clickedcell; }); \n",
       "</script>\n"
      ],
      "text/plain": [
       "<IPython.core.display.HTML object>"
      ]
     },
     "metadata": {},
     "output_type": "display_data"
    }
   ],
   "source": [
    "savepreviewhtml(c1)"
   ]
  },
  {
   "cell_type": "code",
   "execution_count": 13,
   "metadata": {},
   "outputs": [
    {
     "name": "stdout",
     "output_type": "stream",
     "text": [
      "\n"
     ]
    }
   ],
   "source": [
    "new_table = c1.topandas()"
   ]
  },
  {
   "cell_type": "code",
   "execution_count": 14,
   "metadata": {
    "collapsed": true
   },
   "outputs": [],
   "source": [
    "new_table.rename(index= str, columns= {'OBS':'Value'}, inplace = True)"
   ]
  },
  {
   "cell_type": "code",
   "execution_count": 15,
   "metadata": {
    "collapsed": true
   },
   "outputs": [],
   "source": [
    "new_table['Flow'] = new_table['Flow'].str.rstrip('s')"
   ]
  },
  {
   "cell_type": "code",
   "execution_count": 16,
   "metadata": {},
   "outputs": [
    {
     "data": {
      "text/html": [
       "<div>\n",
       "<style scoped>\n",
       "    .dataframe tbody tr th:only-of-type {\n",
       "        vertical-align: middle;\n",
       "    }\n",
       "\n",
       "    .dataframe tbody tr th {\n",
       "        vertical-align: top;\n",
       "    }\n",
       "\n",
       "    .dataframe thead th {\n",
       "        text-align: right;\n",
       "    }\n",
       "</style>\n",
       "<table border=\"1\" class=\"dataframe\">\n",
       "  <thead>\n",
       "    <tr style=\"text-align: right;\">\n",
       "      <th></th>\n",
       "      <th>Value</th>\n",
       "      <th>Geography</th>\n",
       "      <th>Year</th>\n",
       "      <th>Unit</th>\n",
       "      <th>Measure Type</th>\n",
       "      <th>HMRC Industry</th>\n",
       "      <th>Flow</th>\n",
       "    </tr>\n",
       "  </thead>\n",
       "  <tbody>\n",
       "    <tr>\n",
       "      <th>0</th>\n",
       "      <td>6847.0</td>\n",
       "      <td>K02000001</td>\n",
       "      <td>2015</td>\n",
       "      <td>Businesses</td>\n",
       "      <td>Count</td>\n",
       "      <td>Group 1 Agriculture and Food</td>\n",
       "      <td>Export</td>\n",
       "    </tr>\n",
       "    <tr>\n",
       "      <th>1</th>\n",
       "      <td>11637.0</td>\n",
       "      <td>K02000001</td>\n",
       "      <td>2015</td>\n",
       "      <td>Businesses</td>\n",
       "      <td>Count</td>\n",
       "      <td>Group 1 Agriculture and Food</td>\n",
       "      <td>Import</td>\n",
       "    </tr>\n",
       "    <tr>\n",
       "      <th>2</th>\n",
       "      <td>1700.0</td>\n",
       "      <td>K02000001</td>\n",
       "      <td>2015</td>\n",
       "      <td>Businesses</td>\n",
       "      <td>Count</td>\n",
       "      <td>Group 2 Mining, Petroleum products and Waste</td>\n",
       "      <td>Export</td>\n",
       "    </tr>\n",
       "  </tbody>\n",
       "</table>\n",
       "</div>"
      ],
      "text/plain": [
       "     Value  Geography  Year        Unit Measure Type  \\\n",
       "0   6847.0  K02000001  2015  Businesses        Count   \n",
       "1  11637.0  K02000001  2015  Businesses        Count   \n",
       "2   1700.0  K02000001  2015  Businesses        Count   \n",
       "\n",
       "                                  HMRC Industry    Flow  \n",
       "0                  Group 1 Agriculture and Food  Export  \n",
       "1                  Group 1 Agriculture and Food  Import  \n",
       "2  Group 2 Mining, Petroleum products and Waste  Export  "
      ]
     },
     "execution_count": 16,
     "metadata": {},
     "output_type": "execute_result"
    }
   ],
   "source": [
    "new_table.head(3)"
   ]
  },
  {
   "cell_type": "code",
   "execution_count": 17,
   "metadata": {
    "collapsed": true
   },
   "outputs": [],
   "source": [
    "# new_table['HMRC Industry'] = new_table['HMRC Industry'].str.lstrip('Group 0123456789')"
   ]
  },
  {
   "cell_type": "code",
   "execution_count": 18,
   "metadata": {
    "collapsed": true
   },
   "outputs": [],
   "source": [
    "# new_table['HMRC Industry'] = new_table['HMRC Industry'].map(lambda x: str(x)[8:])"
   ]
  },
  {
   "cell_type": "code",
   "execution_count": 19,
   "metadata": {
    "collapsed": true
   },
   "outputs": [],
   "source": [
    "new_table['HMRC Industry'] = new_table['HMRC Industry'].map(lambda x: str(x)[0:8])"
   ]
  },
  {
   "cell_type": "code",
   "execution_count": 20,
   "metadata": {
    "collapsed": true
   },
   "outputs": [],
   "source": [
    "new_table['HMRC Industry'] = new_table['HMRC Industry'].map(lambda cell: cell.replace('Group ', 'group-'))"
   ]
  },
  {
   "cell_type": "code",
   "execution_count": 21,
   "metadata": {
    "collapsed": true
   },
   "outputs": [],
   "source": [
    "new_table['HMRC Industry'] = new_table['HMRC Industry'].str.strip()\n",
    "# new_table['Product'] = new_table['Product'].str.strip()\n",
    "new_table['Year'] = new_table['Year'].str.strip()\n",
    "new_table['Flow'] = new_table['Flow'].str.strip()\n",
    "new_table['Unit'] = new_table['Unit'].str.strip()\n",
    "new_table['Measure Type'] = new_table['Measure Type'].str.strip()\n",
    "new_table['Geography'] = new_table['Geography'].str.strip()"
   ]
  },
  {
   "cell_type": "code",
   "execution_count": 22,
   "metadata": {
    "collapsed": true
   },
   "outputs": [],
   "source": [
    "new_table = new_table[['Geography','Year','HMRC Industry','Flow','Measure Type','Value','Unit']]"
   ]
  },
  {
   "cell_type": "code",
   "execution_count": 23,
   "metadata": {
    "collapsed": true
   },
   "outputs": [],
   "source": [
    "# def user_perc(x):\n",
    "    \n",
    "#     if x.strip(' ') == '':\n",
    "#         return 'NA'\n",
    "# #     else:\n",
    "#         return x\n",
    "    \n",
    "# new_table['HMRC Industry'] = new_table.apply(lambda row: user_perc(row['HMRC Industry']), axis = 1)"
   ]
  },
  {
   "cell_type": "code",
   "execution_count": 24,
   "metadata": {
    "collapsed": true
   },
   "outputs": [],
   "source": [
    "new_table['Value'] = new_table['Value'].astype('int', copy=False)"
   ]
  },
  {
   "cell_type": "code",
   "execution_count": 25,
   "metadata": {
    "scrolled": true
   },
   "outputs": [
    {
     "data": {
      "text/html": [
       "<div>\n",
       "<style scoped>\n",
       "    .dataframe tbody tr th:only-of-type {\n",
       "        vertical-align: middle;\n",
       "    }\n",
       "\n",
       "    .dataframe tbody tr th {\n",
       "        vertical-align: top;\n",
       "    }\n",
       "\n",
       "    .dataframe thead th {\n",
       "        text-align: right;\n",
       "    }\n",
       "</style>\n",
       "<table border=\"1\" class=\"dataframe\">\n",
       "  <thead>\n",
       "    <tr style=\"text-align: right;\">\n",
       "      <th></th>\n",
       "      <th>Geography</th>\n",
       "      <th>Year</th>\n",
       "      <th>HMRC Industry</th>\n",
       "      <th>Flow</th>\n",
       "      <th>Measure Type</th>\n",
       "      <th>Value</th>\n",
       "      <th>Unit</th>\n",
       "    </tr>\n",
       "  </thead>\n",
       "  <tbody>\n",
       "    <tr>\n",
       "      <th>0</th>\n",
       "      <td>K02000001</td>\n",
       "      <td>2015</td>\n",
       "      <td>group-1</td>\n",
       "      <td>Export</td>\n",
       "      <td>Count</td>\n",
       "      <td>6847</td>\n",
       "      <td>Businesses</td>\n",
       "    </tr>\n",
       "    <tr>\n",
       "      <th>1</th>\n",
       "      <td>K02000001</td>\n",
       "      <td>2015</td>\n",
       "      <td>group-1</td>\n",
       "      <td>Import</td>\n",
       "      <td>Count</td>\n",
       "      <td>11637</td>\n",
       "      <td>Businesses</td>\n",
       "    </tr>\n",
       "    <tr>\n",
       "      <th>2</th>\n",
       "      <td>K02000001</td>\n",
       "      <td>2015</td>\n",
       "      <td>group-2</td>\n",
       "      <td>Export</td>\n",
       "      <td>Count</td>\n",
       "      <td>1700</td>\n",
       "      <td>Businesses</td>\n",
       "    </tr>\n",
       "    <tr>\n",
       "      <th>3</th>\n",
       "      <td>K02000001</td>\n",
       "      <td>2015</td>\n",
       "      <td>group-2</td>\n",
       "      <td>Import</td>\n",
       "      <td>Count</td>\n",
       "      <td>2067</td>\n",
       "      <td>Businesses</td>\n",
       "    </tr>\n",
       "    <tr>\n",
       "      <th>4</th>\n",
       "      <td>K02000001</td>\n",
       "      <td>2015</td>\n",
       "      <td>group-3</td>\n",
       "      <td>Export</td>\n",
       "      <td>Count</td>\n",
       "      <td>1491</td>\n",
       "      <td>Businesses</td>\n",
       "    </tr>\n",
       "    <tr>\n",
       "      <th>5</th>\n",
       "      <td>K02000001</td>\n",
       "      <td>2015</td>\n",
       "      <td>group-3</td>\n",
       "      <td>Import</td>\n",
       "      <td>Count</td>\n",
       "      <td>1464</td>\n",
       "      <td>Businesses</td>\n",
       "    </tr>\n",
       "    <tr>\n",
       "      <th>6</th>\n",
       "      <td>K02000001</td>\n",
       "      <td>2015</td>\n",
       "      <td>group-4</td>\n",
       "      <td>Export</td>\n",
       "      <td>Count</td>\n",
       "      <td>222</td>\n",
       "      <td>Businesses</td>\n",
       "    </tr>\n",
       "    <tr>\n",
       "      <th>7</th>\n",
       "      <td>K02000001</td>\n",
       "      <td>2015</td>\n",
       "      <td>group-4</td>\n",
       "      <td>Import</td>\n",
       "      <td>Count</td>\n",
       "      <td>269</td>\n",
       "      <td>Businesses</td>\n",
       "    </tr>\n",
       "    <tr>\n",
       "      <th>8</th>\n",
       "      <td>K02000001</td>\n",
       "      <td>2015</td>\n",
       "      <td>group-5</td>\n",
       "      <td>Export</td>\n",
       "      <td>Count</td>\n",
       "      <td>4107</td>\n",
       "      <td>Businesses</td>\n",
       "    </tr>\n",
       "    <tr>\n",
       "      <th>9</th>\n",
       "      <td>K02000001</td>\n",
       "      <td>2015</td>\n",
       "      <td>group-5</td>\n",
       "      <td>Import</td>\n",
       "      <td>Count</td>\n",
       "      <td>4289</td>\n",
       "      <td>Businesses</td>\n",
       "    </tr>\n",
       "    <tr>\n",
       "      <th>10</th>\n",
       "      <td>K02000001</td>\n",
       "      <td>2015</td>\n",
       "      <td>group-6</td>\n",
       "      <td>Export</td>\n",
       "      <td>Count</td>\n",
       "      <td>3391</td>\n",
       "      <td>Businesses</td>\n",
       "    </tr>\n",
       "    <tr>\n",
       "      <th>11</th>\n",
       "      <td>K02000001</td>\n",
       "      <td>2015</td>\n",
       "      <td>group-6</td>\n",
       "      <td>Import</td>\n",
       "      <td>Count</td>\n",
       "      <td>3323</td>\n",
       "      <td>Businesses</td>\n",
       "    </tr>\n",
       "    <tr>\n",
       "      <th>12</th>\n",
       "      <td>K02000001</td>\n",
       "      <td>2015</td>\n",
       "      <td>group-7</td>\n",
       "      <td>Export</td>\n",
       "      <td>Count</td>\n",
       "      <td>1298</td>\n",
       "      <td>Businesses</td>\n",
       "    </tr>\n",
       "    <tr>\n",
       "      <th>13</th>\n",
       "      <td>K02000001</td>\n",
       "      <td>2015</td>\n",
       "      <td>group-7</td>\n",
       "      <td>Import</td>\n",
       "      <td>Count</td>\n",
       "      <td>1370</td>\n",
       "      <td>Businesses</td>\n",
       "    </tr>\n",
       "    <tr>\n",
       "      <th>14</th>\n",
       "      <td>K02000001</td>\n",
       "      <td>2015</td>\n",
       "      <td>group-8</td>\n",
       "      <td>Export</td>\n",
       "      <td>Count</td>\n",
       "      <td>185</td>\n",
       "      <td>Businesses</td>\n",
       "    </tr>\n",
       "    <tr>\n",
       "      <th>15</th>\n",
       "      <td>K02000001</td>\n",
       "      <td>2015</td>\n",
       "      <td>group-8</td>\n",
       "      <td>Import</td>\n",
       "      <td>Count</td>\n",
       "      <td>196</td>\n",
       "      <td>Businesses</td>\n",
       "    </tr>\n",
       "    <tr>\n",
       "      <th>16</th>\n",
       "      <td>K02000001</td>\n",
       "      <td>2015</td>\n",
       "      <td>group-9</td>\n",
       "      <td>Export</td>\n",
       "      <td>Count</td>\n",
       "      <td>13073</td>\n",
       "      <td>Businesses</td>\n",
       "    </tr>\n",
       "    <tr>\n",
       "      <th>17</th>\n",
       "      <td>K02000001</td>\n",
       "      <td>2015</td>\n",
       "      <td>group-9</td>\n",
       "      <td>Import</td>\n",
       "      <td>Count</td>\n",
       "      <td>13799</td>\n",
       "      <td>Businesses</td>\n",
       "    </tr>\n",
       "    <tr>\n",
       "      <th>18</th>\n",
       "      <td>K02000001</td>\n",
       "      <td>2015</td>\n",
       "      <td>group-10</td>\n",
       "      <td>Export</td>\n",
       "      <td>Count</td>\n",
       "      <td>105074</td>\n",
       "      <td>Businesses</td>\n",
       "    </tr>\n",
       "    <tr>\n",
       "      <th>19</th>\n",
       "      <td>K02000001</td>\n",
       "      <td>2015</td>\n",
       "      <td>group-10</td>\n",
       "      <td>Import</td>\n",
       "      <td>Count</td>\n",
       "      <td>164572</td>\n",
       "      <td>Businesses</td>\n",
       "    </tr>\n",
       "    <tr>\n",
       "      <th>20</th>\n",
       "      <td>K02000001</td>\n",
       "      <td>2015</td>\n",
       "      <td>Unknown</td>\n",
       "      <td>Export</td>\n",
       "      <td>Count</td>\n",
       "      <td>5970</td>\n",
       "      <td>Businesses</td>\n",
       "    </tr>\n",
       "    <tr>\n",
       "      <th>21</th>\n",
       "      <td>K02000001</td>\n",
       "      <td>2015</td>\n",
       "      <td>Unknown</td>\n",
       "      <td>Import</td>\n",
       "      <td>Count</td>\n",
       "      <td>16316</td>\n",
       "      <td>Businesses</td>\n",
       "    </tr>\n",
       "    <tr>\n",
       "      <th>22</th>\n",
       "      <td>K02000001</td>\n",
       "      <td>2015</td>\n",
       "      <td>Total</td>\n",
       "      <td>Export</td>\n",
       "      <td>Count</td>\n",
       "      <td>143358</td>\n",
       "      <td>Businesses</td>\n",
       "    </tr>\n",
       "    <tr>\n",
       "      <th>23</th>\n",
       "      <td>K02000001</td>\n",
       "      <td>2015</td>\n",
       "      <td>Total</td>\n",
       "      <td>Import</td>\n",
       "      <td>Count</td>\n",
       "      <td>219302</td>\n",
       "      <td>Businesses</td>\n",
       "    </tr>\n",
       "  </tbody>\n",
       "</table>\n",
       "</div>"
      ],
      "text/plain": [
       "    Geography  Year HMRC Industry    Flow Measure Type   Value        Unit\n",
       "0   K02000001  2015       group-1  Export        Count    6847  Businesses\n",
       "1   K02000001  2015       group-1  Import        Count   11637  Businesses\n",
       "2   K02000001  2015       group-2  Export        Count    1700  Businesses\n",
       "3   K02000001  2015       group-2  Import        Count    2067  Businesses\n",
       "4   K02000001  2015       group-3  Export        Count    1491  Businesses\n",
       "5   K02000001  2015       group-3  Import        Count    1464  Businesses\n",
       "6   K02000001  2015       group-4  Export        Count     222  Businesses\n",
       "7   K02000001  2015       group-4  Import        Count     269  Businesses\n",
       "8   K02000001  2015       group-5  Export        Count    4107  Businesses\n",
       "9   K02000001  2015       group-5  Import        Count    4289  Businesses\n",
       "10  K02000001  2015       group-6  Export        Count    3391  Businesses\n",
       "11  K02000001  2015       group-6  Import        Count    3323  Businesses\n",
       "12  K02000001  2015       group-7  Export        Count    1298  Businesses\n",
       "13  K02000001  2015       group-7  Import        Count    1370  Businesses\n",
       "14  K02000001  2015       group-8  Export        Count     185  Businesses\n",
       "15  K02000001  2015       group-8  Import        Count     196  Businesses\n",
       "16  K02000001  2015       group-9  Export        Count   13073  Businesses\n",
       "17  K02000001  2015       group-9  Import        Count   13799  Businesses\n",
       "18  K02000001  2015      group-10  Export        Count  105074  Businesses\n",
       "19  K02000001  2015      group-10  Import        Count  164572  Businesses\n",
       "20  K02000001  2015       Unknown  Export        Count    5970  Businesses\n",
       "21  K02000001  2015       Unknown  Import        Count   16316  Businesses\n",
       "22  K02000001  2015         Total  Export        Count  143358  Businesses\n",
       "23  K02000001  2015         Total  Import        Count  219302  Businesses"
      ]
     },
     "execution_count": 25,
     "metadata": {},
     "output_type": "execute_result"
    }
   ],
   "source": [
    "new_table"
   ]
  },
  {
   "cell_type": "code",
   "execution_count": null,
   "metadata": {
    "collapsed": true
   },
   "outputs": [],
   "source": []
  }
 ],
 "metadata": {
  "kernelspec": {
   "display_name": "Python 3",
   "language": "python",
   "name": "python3"
  },
  "language_info": {
   "codemirror_mode": {
    "name": "ipython",
    "version": 3
   },
   "file_extension": ".py",
   "mimetype": "text/x-python",
   "name": "python",
   "nbconvert_exporter": "python",
   "pygments_lexer": "ipython3",
   "version": "3.7.1"
  }
 },
 "nbformat": 4,
 "nbformat_minor": 2
}
