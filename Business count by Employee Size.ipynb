{
 "cells": [
  {
   "cell_type": "markdown",
   "metadata": {},
   "source": [
    "Business count by Employee Size"
   ]
  },
  {
   "cell_type": "code",
   "execution_count": 1,
   "metadata": {
    "collapsed": true
   },
   "outputs": [],
   "source": [
    "from databaker.framework import *\n",
    "import pandas as pd"
   ]
  },
  {
   "cell_type": "code",
   "execution_count": 2,
   "metadata": {
    "collapsed": true
   },
   "outputs": [],
   "source": [
    "import requests\n",
    "from pathlib import Path\n",
    "\n",
    "sourceFolder = Path('in')\n",
    "sourceFolder.mkdir(exist_ok=True)\n",
    "\n",
    "inputURL = 'https://www.uktradeinfo.com/statistics/documents/idbr_ots_tables_2015.xls'\n",
    "inputFile = sourceFolder / 'idbr_ots_tables_2015.xls'\n",
    "if not(inputFile.exists() and inputFile.is_file()):\n",
    "    response = requests.get(inputURL)\n",
    "    with open(inputFile, 'wb') as f:\n",
    "        f.write(response.content)"
   ]
  },
  {
   "cell_type": "code",
   "execution_count": 3,
   "metadata": {},
   "outputs": [
    {
     "name": "stdout",
     "output_type": "stream",
     "text": [
      "Loading in\\idbr_ots_tables_2015.xls which has size 174080 bytes\n",
      "Table names: ['Notes and Contents', 'Industry Group', 'Age Group', 'Employee Size', 'Industry_Age', 'Industry_EmployeeSize', 'EmployeeSize_Age', 'Metadata']\n"
     ]
    }
   ],
   "source": [
    "tab = loadxlstabs(inputFile)"
   ]
  },
  {
   "cell_type": "code",
   "execution_count": 4,
   "metadata": {
    "collapsed": true
   },
   "outputs": [],
   "source": [
    "tab = tab[3]"
   ]
  },
  {
   "cell_type": "code",
   "execution_count": 5,
   "metadata": {},
   "outputs": [
    {
     "data": {
      "text/html": [
       "<div id=\"injblock1001\">\n",
       "<style>\n",
       "table.ex, table.exkey { border: thin black solid }\n",
       "table.ex td, table.ex tr { border: none }\n",
       "table.ex td:hover { border: thin blue solid }\n",
       "table.ex td.excOBS:hover { border: thin red solid }\n",
       "table.ex td.selected { border: thick red solid }\n",
       "</style>\n",
       "\n",
       "\n",
       "\n",
       "<table class=\"ex\">\n",
       "<caption style=\"text-align:center; padding:0px; caption-side:bottom\">Employee Size</caption>\n",
       "<tr><td style=\"font-weight:bold\" title=\"0 0\">TRADE IN GOODS STATISTICS MATCHED WITH REGISTERED BUSINESSES FROM THE INTER-DEPARTMENTAL BUSINESS REGISTER</td><td style=\"font-weight:bold\" title=\"1 0\"></td><td title=\"2 0\"></td><td title=\"3 0\"></td><td title=\"4 0\"></td><td title=\"5 0\"></td><td title=\"6 0\"></td><td title=\"7 0\"></td><td title=\"8 0\"></td></tr>\n",
       "<tr><td title=\"0 1\"></td><td title=\"1 1\"></td><td title=\"2 1\"></td><td title=\"3 1\"></td><td title=\"4 1\"></td><td title=\"5 1\"></td><td title=\"6 1\"></td><td title=\"7 1\"></td><td title=\"8 1\"></td></tr>\n",
       "<tr><td style=\"font-weight:bold\" title=\"0 2\">Release Date 24/11/2016</td><td style=\"font-weight:bold\" title=\"1 2\"></td><td title=\"2 2\"></td><td title=\"3 2\"></td><td title=\"4 2\"></td><td title=\"5 2\"></td><td title=\"6 2\"></td><td title=\"7 2\"></td><td title=\"8 2\"></td></tr>\n",
       "<tr><td title=\"0 3\"></td><td title=\"1 3\"></td><td title=\"2 3\"></td><td title=\"3 3\"></td><td title=\"4 3\"></td><td title=\"5 3\"></td><td title=\"6 3\"></td><td title=\"7 3\"></td><td title=\"8 3\"></td></tr>\n",
       "<tr><td style=\"font-weight:bold\" title=\"0 4\">Total value of UK trade by Employee Size</td><td style=\"font-weight:bold\" title=\"1 4\"></td><td title=\"2 4\"></td><td title=\"3 4\"></td><td title=\"4 4\">£ millions</td><td title=\"5 4\"></td><td title=\"6 4\"></td><td title=\"7 4\"></td><td title=\"8 4\"></td></tr>\n",
       "<tr><td title=\"0 5\"></td><td title=\"1 5\"></td><td style=\"font-weight:bold\" title=\"2 5\">Exports</td><td style=\"font-weight:bold\" title=\"3 5\"></td><td style=\"font-weight:bold\" title=\"4 5\">Imports</td><td title=\"5 5\"></td><td title=\"6 5\"></td><td title=\"7 5\"></td><td title=\"8 5\"></td></tr>\n",
       "<tr><td style=\"font-weight:bold\" title=\"0 6\">Employee Size  </td><td style=\"font-weight:bold\" title=\"1 6\"></td><td title=\"2 6\">2015.0</td><td title=\"3 6\"></td><td title=\"4 6\">2015.0</td><td title=\"5 6\"></td><td title=\"6 6\"></td><td title=\"7 6\"></td><td title=\"8 6\"></td></tr>\n",
       "<tr><td style=\"font-weight:bold\" title=\"0 7\"></td><td style=\"font-weight:bold\" title=\"1 7\"></td><td style=\"font-weight:bold\" title=\"2 7\"></td><td style=\"font-weight:bold\" title=\"3 7\"></td><td style=\"font-weight:bold\" title=\"4 7\"></td><td title=\"5 7\"></td><td title=\"6 7\"></td><td title=\"7 7\"></td><td title=\"8 7\"></td></tr>\n",
       "<tr><td title=\"0 8\">0.0</td><td title=\"1 8\"></td><td title=\"2 8\">26919.0</td><td title=\"3 8\"></td><td title=\"4 8\">44923.0</td><td title=\"5 8\"></td><td title=\"6 8\"></td><td title=\"7 8\"></td><td title=\"8 8\"></td></tr>\n",
       "<tr><td title=\"0 9\">1 to 9</td><td title=\"1 9\"></td><td title=\"2 9\">16369.0</td><td title=\"3 9\"></td><td title=\"4 9\">26778.0</td><td title=\"5 9\"></td><td title=\"6 9\"></td><td title=\"7 9\"></td><td title=\"8 9\"></td></tr>\n",
       "<tr><td title=\"0 10\">10 to 49</td><td title=\"1 10\"></td><td title=\"2 10\">24266.0</td><td title=\"3 10\"></td><td title=\"4 10\">48100.0</td><td title=\"5 10\"></td><td title=\"6 10\"></td><td title=\"7 10\"></td><td title=\"8 10\"></td></tr>\n",
       "<tr><td title=\"0 11\">50 to 249</td><td title=\"1 11\"></td><td title=\"2 11\">42297.0</td><td title=\"3 11\"></td><td title=\"4 11\">65195.0</td><td title=\"5 11\"></td><td title=\"6 11\"></td><td title=\"7 11\"></td><td title=\"8 11\"></td></tr>\n",
       "<tr><td title=\"0 12\">250 +</td><td title=\"1 12\"></td><td title=\"2 12\">173003.0</td><td title=\"3 12\"></td><td title=\"4 12\">213274.0</td><td title=\"5 12\"></td><td title=\"6 12\"></td><td title=\"7 12\"></td><td title=\"8 12\"></td></tr>\n",
       "<tr><td title=\"0 13\">Unknown</td><td title=\"1 13\"></td><td title=\"2 13\">21915.0</td><td title=\"3 13\"></td><td title=\"4 13\">12763.0</td><td title=\"5 13\"></td><td title=\"6 13\"></td><td title=\"7 13\"></td><td title=\"8 13\"></td></tr>\n",
       "<tr><td title=\"0 14\"></td><td title=\"1 14\"></td><td title=\"2 14\"></td><td title=\"3 14\"></td><td title=\"4 14\"></td><td title=\"5 14\"></td><td title=\"6 14\"></td><td title=\"7 14\"></td><td title=\"8 14\"></td></tr>\n",
       "<tr><td style=\"font-weight:bold\" title=\"0 15\">Total</td><td style=\"font-weight:bold\" title=\"1 15\"></td><td style=\"font-weight:bold\" title=\"2 15\">304768.0</td><td style=\"font-weight:bold\" title=\"3 15\"></td><td style=\"font-weight:bold\" title=\"4 15\">411033.0</td><td title=\"5 15\"></td><td title=\"6 15\"></td><td title=\"7 15\"></td><td title=\"8 15\"></td></tr>\n",
       "<tr><td style=\"font-weight:bold\" title=\"0 16\"></td><td style=\"font-weight:bold\" title=\"1 16\"></td><td style=\"font-weight:bold\" title=\"2 16\"></td><td style=\"font-weight:bold\" title=\"3 16\"></td><td style=\"font-weight:bold\" title=\"4 16\"></td><td title=\"5 16\"></td><td title=\"6 16\"></td><td title=\"7 16\"></td><td title=\"8 16\"></td></tr>\n",
       "<tr><td title=\"0 17\"></td><td title=\"1 17\"></td><td title=\"2 17\"></td><td title=\"3 17\"></td><td title=\"4 17\"></td><td title=\"5 17\"></td><td title=\"6 17\"></td><td title=\"7 17\"></td><td title=\"8 17\"></td></tr>\n",
       "<tr><td style=\"font-weight:bold\" title=\"0 18\">Business count by Employee Size</td><td style=\"font-weight:bold\" title=\"1 18\"></td><td title=\"2 18\"></td><td title=\"3 18\"></td><td title=\"4 18\">number</td><td title=\"5 18\"></td><td title=\"6 18\"></td><td title=\"7 18\"></td><td title=\"8 18\"></td></tr>\n",
       "<tr><td title=\"0 19\"></td><td title=\"1 19\"></td><td style=\"font-weight:bold\" title=\"2 19\">Exports</td><td style=\"font-weight:bold\" title=\"3 19\"></td><td style=\"font-weight:bold\" title=\"4 19\">Imports</td><td title=\"5 19\"></td><td title=\"6 19\"></td><td title=\"7 19\"></td><td title=\"8 19\"></td></tr>\n",
       "<tr><td style=\"font-weight:bold\" title=\"0 20\">Employee Size  </td><td style=\"font-weight:bold\" title=\"1 20\"></td><td title=\"2 20\">2015.0</td><td title=\"3 20\"></td><td title=\"4 20\">2015.0</td><td title=\"5 20\"></td><td title=\"6 20\"></td><td title=\"7 20\"></td><td title=\"8 20\"></td></tr>\n",
       "<tr><td style=\"font-weight:bold\" title=\"0 21\"></td><td style=\"font-weight:bold\" title=\"1 21\"></td><td style=\"font-weight:bold\" title=\"2 21\"></td><td style=\"font-weight:bold\" title=\"3 21\"></td><td style=\"font-weight:bold\" title=\"4 21\"></td><td title=\"5 21\"></td><td title=\"6 21\"></td><td title=\"7 21\"></td><td title=\"8 21\"></td></tr>\n",
       "<tr><td title=\"0 22\">0.0</td><td title=\"1 22\"></td><td title=\"2 22\">9156.0</td><td title=\"3 22\"></td><td title=\"4 22\">14983.0</td><td title=\"5 22\"></td><td title=\"6 22\"></td><td title=\"7 22\"></td><td title=\"8 22\"></td></tr>\n",
       "<tr><td title=\"0 23\">1 to 9</td><td title=\"1 23\"></td><td title=\"2 23\">77281.0</td><td title=\"3 23\"></td><td title=\"4 23\">117876.0</td><td title=\"5 23\"></td><td title=\"6 23\"></td><td title=\"7 23\"></td><td title=\"8 23\"></td></tr>\n",
       "<tr><td title=\"0 24\">10 to 49</td><td title=\"1 24\"></td><td title=\"2 24\">33128.0</td><td title=\"3 24\"></td><td title=\"4 24\">45094.0</td><td title=\"5 24\"></td><td title=\"6 24\"></td><td title=\"7 24\"></td><td title=\"8 24\"></td></tr>\n",
       "<tr><td title=\"0 25\">50 to 249</td><td title=\"1 25\"></td><td title=\"2 25\">10579.0</td><td title=\"3 25\"></td><td title=\"4 25\">13566.0</td><td title=\"5 25\"></td><td title=\"6 25\"></td><td title=\"7 25\"></td><td title=\"8 25\"></td></tr>\n",
       "<tr><td title=\"0 26\">250 +</td><td title=\"1 26\"></td><td title=\"2 26\">3468.0</td><td title=\"3 26\"></td><td title=\"4 26\">4446.0</td><td title=\"5 26\"></td><td title=\"6 26\"></td><td title=\"7 26\"></td><td title=\"8 26\"></td></tr>\n",
       "<tr><td title=\"0 27\">Unknown</td><td title=\"1 27\"></td><td title=\"2 27\">9746.0</td><td title=\"3 27\"></td><td title=\"4 27\">23337.0</td><td title=\"5 27\"></td><td title=\"6 27\"></td><td title=\"7 27\"></td><td title=\"8 27\"></td></tr>\n",
       "<tr><td title=\"0 28\"></td><td title=\"1 28\"></td><td title=\"2 28\"></td><td title=\"3 28\"></td><td title=\"4 28\"></td><td title=\"5 28\"></td><td title=\"6 28\"></td><td title=\"7 28\"></td><td title=\"8 28\"></td></tr>\n",
       "<tr><td style=\"font-weight:bold\" title=\"0 29\">Total</td><td style=\"font-weight:bold\" title=\"1 29\"></td><td style=\"font-weight:bold\" title=\"2 29\">143358.0</td><td style=\"font-weight:bold\" title=\"3 29\"></td><td style=\"font-weight:bold\" title=\"4 29\">219302.0</td><td title=\"5 29\"></td><td title=\"6 29\"></td><td title=\"7 29\"></td><td title=\"8 29\"></td></tr>\n",
       "<tr><td title=\"0 30\"></td><td title=\"1 30\"></td><td title=\"2 30\"></td><td title=\"3 30\"></td><td title=\"4 30\"></td><td title=\"5 30\"></td><td title=\"6 30\"></td><td title=\"7 30\"></td><td title=\"8 30\"></td></tr>\n",
       "<tr><td title=\"0 31\"></td><td title=\"1 31\"></td><td title=\"2 31\"></td><td title=\"3 31\"></td><td title=\"4 31\"></td><td title=\"5 31\"></td><td title=\"6 31\"></td><td title=\"7 31\"></td><td title=\"8 31\"></td></tr>\n",
       "<tr><td style=\"font-weight:bold\" title=\"0 32\">Employee count for Businesses by Employee Size</td><td style=\"font-weight:bold\" title=\"1 32\"></td><td title=\"2 32\"></td><td title=\"3 32\"></td><td title=\"4 32\">number</td><td title=\"5 32\"></td><td title=\"6 32\"></td><td title=\"7 32\"></td><td title=\"8 32\"></td></tr>\n",
       "<tr><td title=\"0 33\"></td><td title=\"1 33\"></td><td style=\"font-weight:bold\" title=\"2 33\">Exports</td><td style=\"font-weight:bold\" title=\"3 33\"></td><td style=\"font-weight:bold\" title=\"4 33\">Imports</td><td title=\"5 33\"></td><td title=\"6 33\"></td><td title=\"7 33\"></td><td title=\"8 33\"></td></tr>\n",
       "<tr><td style=\"font-weight:bold\" title=\"0 34\">Employee Size  </td><td style=\"font-weight:bold\" title=\"1 34\"></td><td title=\"2 34\">2015.0</td><td title=\"3 34\"></td><td title=\"4 34\">2015.0</td><td title=\"5 34\"></td><td title=\"6 34\"></td><td title=\"7 34\"></td><td title=\"8 34\"></td></tr>\n",
       "<tr><td style=\"font-weight:bold\" title=\"0 35\"></td><td style=\"font-weight:bold\" title=\"1 35\"></td><td style=\"font-weight:bold\" title=\"2 35\"></td><td style=\"font-weight:bold\" title=\"3 35\"></td><td style=\"font-weight:bold\" title=\"4 35\"></td><td title=\"5 35\"></td><td title=\"6 35\"></td><td title=\"7 35\"></td><td title=\"8 35\"></td></tr>\n",
       "<tr><td title=\"0 36\">0.0</td><td title=\"1 36\"></td><td title=\"2 36\">0.0</td><td title=\"3 36\"></td><td title=\"4 36\">0.0</td><td title=\"5 36\"></td><td title=\"6 36\"></td><td title=\"7 36\"></td><td title=\"8 36\"></td></tr>\n",
       "<tr><td title=\"0 37\">1 to 9</td><td title=\"1 37\"></td><td title=\"2 37\">255501.0</td><td title=\"3 37\"></td><td title=\"4 37\">390305.0</td><td title=\"5 37\"></td><td title=\"6 37\"></td><td title=\"7 37\"></td><td title=\"8 37\"></td></tr>\n",
       "<tr><td title=\"0 38\">10 to 49</td><td title=\"1 38\"></td><td title=\"2 38\">714420.0</td><td title=\"3 38\"></td><td title=\"4 38\">958955.0</td><td title=\"5 38\"></td><td title=\"6 38\"></td><td title=\"7 38\"></td><td title=\"8 38\"></td></tr>\n",
       "<tr><td title=\"0 39\">50 to 249</td><td title=\"1 39\"></td><td title=\"2 39\">1095757.0</td><td title=\"3 39\"></td><td title=\"4 39\">1393998.0</td><td title=\"5 39\"></td><td title=\"6 39\"></td><td title=\"7 39\"></td><td title=\"8 39\"></td></tr>\n",
       "<tr><td title=\"0 40\">250 +</td><td title=\"1 40\"></td><td title=\"2 40\">7487765.0</td><td title=\"3 40\"></td><td title=\"4 40\">9611408.0</td><td title=\"5 40\"></td><td title=\"6 40\"></td><td title=\"7 40\"></td><td title=\"8 40\"></td></tr>\n",
       "<tr><td title=\"0 41\">Unknown</td><td title=\"1 41\"></td><td title=\"2 41\">.</td><td title=\"3 41\"></td><td title=\"4 41\">.</td><td title=\"5 41\"></td><td title=\"6 41\"></td><td title=\"7 41\"></td><td title=\"8 41\"></td></tr>\n",
       "<tr><td title=\"0 42\"></td><td title=\"1 42\"></td><td title=\"2 42\"></td><td title=\"3 42\"></td><td title=\"4 42\"></td><td title=\"5 42\"></td><td title=\"6 42\"></td><td title=\"7 42\"></td><td title=\"8 42\"></td></tr>\n",
       "<tr><td style=\"font-weight:bold\" title=\"0 43\">Total9</td><td style=\"font-weight:bold\" title=\"1 43\"></td><td style=\"font-weight:bold\" title=\"2 43\">9553443.0</td><td style=\"font-weight:bold\" title=\"3 43\"></td><td style=\"font-weight:bold\" title=\"4 43\">12354666.0</td><td title=\"5 43\"></td><td title=\"6 43\"></td><td title=\"7 43\"></td><td title=\"8 43\"></td></tr>\n",
       "<tr><td title=\"0 44\"></td><td title=\"1 44\"></td><td title=\"2 44\"></td><td title=\"3 44\"></td><td title=\"4 44\"></td><td title=\"5 44\"></td><td title=\"6 44\"></td><td title=\"7 44\"></td><td title=\"8 44\"></td></tr>\n",
       "<tr><td title=\"0 45\"></td><td title=\"1 45\"></td><td title=\"2 45\"></td><td title=\"3 45\"></td><td title=\"4 45\"></td><td title=\"5 45\"></td><td title=\"6 45\"></td><td title=\"7 45\"></td><td title=\"8 45\"></td></tr>\n",
       "<tr><td title=\"0 46\"></td><td title=\"1 46\"></td><td title=\"2 46\"></td><td title=\"3 46\"></td><td title=\"4 46\">Source: HMRC OTS and ONS IDBR data</td><td title=\"5 46\"></td><td title=\"6 46\"></td><td title=\"7 46\"></td><td title=\"8 46\"></td></tr>\n",
       "<tr><td title=\"0 47\">Notes:</td><td title=\"1 47\"></td><td title=\"2 47\"></td><td title=\"3 47\"></td><td title=\"4 47\"></td><td title=\"5 47\"></td><td title=\"6 47\"></td><td title=\"7 47\"></td><td title=\"8 47\"></td></tr>\n",
       "<tr><td title=\"0 48\">1. These estimates are experimental official statistics. </td><td title=\"1 48\"></td><td title=\"2 48\"></td><td title=\"3 48\"></td><td title=\"4 48\"></td><td title=\"5 48\"></td><td title=\"6 48\"></td><td title=\"7 48\"></td><td title=\"8 48\"></td></tr>\n",
       "<tr><td title=\"0 49\">2. Registered businesses/enterprises are those which are registered for VAT and or EORI</td><td title=\"1 49\"></td><td title=\"2 49\"></td><td title=\"3 49\"></td><td title=\"4 49\"></td><td title=\"5 49\"></td><td title=\"6 49\"></td><td title=\"7 49\"></td><td title=\"8 49\"></td></tr>\n",
       "<tr><td title=\"0 50\">3. Cells with:      .  = Not Applicable </td><td title=\"1 50\"></td><td title=\"2 50\"></td><td title=\"3 50\"></td><td title=\"4 50\"></td><td title=\"5 50\"></td><td title=\"6 50\"></td><td title=\"7 50\"></td><td title=\"8 50\"></td></tr>\n",
       "<tr><td title=\"0 51\">4. Value of trade are in £ millions</td><td title=\"1 51\"></td><td title=\"2 51\"></td><td title=\"3 51\"></td><td title=\"4 51\"></td><td title=\"5 51\"></td><td title=\"6 51\"></td><td title=\"7 51\"></td><td title=\"8 51\"></td></tr>\n",
       "<tr><td title=\"0 52\">5. Further details of Industry Group, Age and Employee size can be in the Metadata tab</td><td title=\"1 52\"></td><td title=\"2 52\"></td><td title=\"3 52\"></td><td title=\"4 52\"></td><td title=\"5 52\"></td><td title=\"6 52\"></td><td title=\"7 52\"></td><td title=\"8 52\"></td></tr>\n",
       "<tr><td title=\"0 53\">6. Employment sizebands are based on IDBR employment for all variables and represent the employment of the Business</td><td title=\"1 53\"></td><td title=\"2 53\"></td><td title=\"3 53\"></td><td title=\"4 53\"></td><td title=\"5 53\"></td><td title=\"6 53\"></td><td title=\"7 53\"></td><td title=\"8 53\"></td></tr>\n",
       "<tr><td title=\"0 54\">7. Age of a business is defined using the birth date, or registration date, of the business held within the IDBR. Mergers and other changes in structure may require re-registration and therefore affect the validity of this date.</td><td title=\"1 54\"></td><td title=\"2 54\"></td><td title=\"3 54\"></td><td title=\"4 54\"></td><td title=\"5 54\"></td><td title=\"6 54\"></td><td title=\"7 54\"></td><td title=\"8 54\"></td></tr>\n",
       "<tr><td title=\"0 55\">8. The zero employees group can include sole traders and businesses who are required to register for UK VAT due to distance selling regulations.</td><td title=\"1 55\"></td><td title=\"2 55\"></td><td title=\"3 55\"></td><td title=\"4 55\"></td><td title=\"5 55\"></td><td title=\"6 55\"></td><td title=\"7 55\"></td><td title=\"8 55\"></td></tr>\n",
       "<tr><td title=\"0 56\">9. Employee count totals exclude businesses where employee count is unknown.</td><td title=\"1 56\"></td><td title=\"2 56\"></td><td title=\"3 56\"></td><td title=\"4 56\"></td><td title=\"5 56\"></td><td title=\"6 56\"></td><td title=\"7 56\"></td><td title=\"8 56\"></td></tr>\n",
       "</table>\n",
       "\n",
       "</div>\n"
      ],
      "text/plain": [
       "<IPython.core.display.HTML object>"
      ]
     },
     "metadata": {},
     "output_type": "display_data"
    }
   ],
   "source": [
    "savepreviewhtml(tab)"
   ]
  },
  {
   "cell_type": "code",
   "execution_count": 6,
   "metadata": {
    "collapsed": true
   },
   "outputs": [],
   "source": [
    "observations = tab.excel_ref('C23').expand(DOWN).expand(RIGHT).is_not_blank()-tab.excel_ref('C22').expand(UP)"
   ]
  },
  {
   "cell_type": "code",
   "execution_count": 7,
   "metadata": {
    "collapsed": true
   },
   "outputs": [],
   "source": [
    "observations = observations - tab.excel_ref('C31').expand(DOWN).expand(RIGHT)"
   ]
  },
  {
   "cell_type": "code",
   "execution_count": 8,
   "metadata": {
    "collapsed": true
   },
   "outputs": [],
   "source": [
    "Employeesize = tab.excel_ref('A').expand(DOWN)"
   ]
  },
  {
   "cell_type": "code",
   "execution_count": 9,
   "metadata": {
    "collapsed": true
   },
   "outputs": [],
   "source": [
    "Flow = tab.excel_ref('C6').expand(RIGHT)"
   ]
  },
  {
   "cell_type": "code",
   "execution_count": 10,
   "metadata": {
    "collapsed": true
   },
   "outputs": [],
   "source": [
    "Dimensions = [\n",
    "            HDimConst('Geography', 'K02000001'),\n",
    "            HDimConst('Year','2015'),\n",
    "            HDimConst('Unit', 'Count'), \n",
    "            HDimConst('Measure Type','Business'),            \n",
    "            HDim(Employeesize, 'Total Employees', DIRECTLY, LEFT),\n",
    "            HDim(Flow, 'Flow', CLOSEST, LEFT)    \n",
    "]"
   ]
  },
  {
   "cell_type": "code",
   "execution_count": 11,
   "metadata": {
    "collapsed": true
   },
   "outputs": [],
   "source": [
    "c1 = ConversionSegment(observations, Dimensions, processTIMEUNIT=True)"
   ]
  },
  {
   "cell_type": "code",
   "execution_count": 12,
   "metadata": {},
   "outputs": [
    {
     "data": {
      "text/html": [
       "<div id=\"injblock1002\">\n",
       "<style>\n",
       "table.ex, table.exkey { border: thin black solid }\n",
       "table.ex td, table.ex tr { border: none }\n",
       "table.ex td:hover { border: thin blue solid }\n",
       "table.ex td.excOBS:hover { border: thin red solid }\n",
       "table.ex td.selected { border: thick red solid }\n",
       "</style>\n",
       "\n",
       "\n",
       "<table class=\"exkey\">\n",
       "<tr><td class=\"xc0\" style=\"background-color:Aqua\">OBS</td><td class=\"xc5\" style=\"background-color:Coral\">Total Employees</td><td class=\"xc6\" style=\"background-color:Gold\">Flow</td></tr></table>\n",
       "\n",
       "<table class=\"ex\">\n",
       "<caption style=\"text-align:center; padding:0px; caption-side:bottom\">Employee Size</caption>\n",
       "<tr><td style=\"background-color:Coral;font-weight:bold\" title=\"0 0\">TRADE IN GOODS STATISTICS MATCHED WITH REGISTERED BUSINESSES FROM THE INTER-DEPARTMENTAL BUSINESS REGISTER</td><td style=\"font-weight:bold\" title=\"1 0\"></td><td title=\"2 0\"></td><td title=\"3 0\"></td><td title=\"4 0\"></td><td title=\"5 0\"></td><td title=\"6 0\"></td><td title=\"7 0\"></td><td title=\"8 0\"></td></tr>\n",
       "<tr><td style=\"background-color:Coral\" title=\"0 1\"></td><td title=\"1 1\"></td><td title=\"2 1\"></td><td title=\"3 1\"></td><td title=\"4 1\"></td><td title=\"5 1\"></td><td title=\"6 1\"></td><td title=\"7 1\"></td><td title=\"8 1\"></td></tr>\n",
       "<tr><td style=\"background-color:Coral;font-weight:bold\" title=\"0 2\">Release Date 24/11/2016</td><td style=\"font-weight:bold\" title=\"1 2\"></td><td title=\"2 2\"></td><td title=\"3 2\"></td><td title=\"4 2\"></td><td title=\"5 2\"></td><td title=\"6 2\"></td><td title=\"7 2\"></td><td title=\"8 2\"></td></tr>\n",
       "<tr><td style=\"background-color:Coral\" title=\"0 3\"></td><td title=\"1 3\"></td><td title=\"2 3\"></td><td title=\"3 3\"></td><td title=\"4 3\"></td><td title=\"5 3\"></td><td title=\"6 3\"></td><td title=\"7 3\"></td><td title=\"8 3\"></td></tr>\n",
       "<tr><td style=\"background-color:Coral;font-weight:bold\" title=\"0 4\">Total value of UK trade by Employee Size</td><td style=\"font-weight:bold\" title=\"1 4\"></td><td title=\"2 4\"></td><td title=\"3 4\"></td><td title=\"4 4\">£ millions</td><td title=\"5 4\"></td><td title=\"6 4\"></td><td title=\"7 4\"></td><td title=\"8 4\"></td></tr>\n",
       "<tr><td style=\"background-color:Coral\" title=\"0 5\"></td><td title=\"1 5\"></td><td style=\"background-color:Gold;font-weight:bold\" title=\"2 5\">Exports</td><td style=\"background-color:Gold;font-weight:bold\" title=\"3 5\"></td><td style=\"background-color:Gold;font-weight:bold\" title=\"4 5\">Imports</td><td style=\"background-color:Gold\" title=\"5 5\"></td><td style=\"background-color:Gold\" title=\"6 5\"></td><td style=\"background-color:Gold\" title=\"7 5\"></td><td style=\"background-color:Gold\" title=\"8 5\"></td></tr>\n",
       "<tr><td style=\"background-color:Coral;font-weight:bold\" title=\"0 6\">Employee Size  </td><td style=\"font-weight:bold\" title=\"1 6\"></td><td title=\"2 6\">2015.0</td><td title=\"3 6\"></td><td title=\"4 6\">2015.0</td><td title=\"5 6\"></td><td title=\"6 6\"></td><td title=\"7 6\"></td><td title=\"8 6\"></td></tr>\n",
       "<tr><td style=\"background-color:Coral;font-weight:bold\" title=\"0 7\"></td><td style=\"font-weight:bold\" title=\"1 7\"></td><td style=\"font-weight:bold\" title=\"2 7\"></td><td style=\"font-weight:bold\" title=\"3 7\"></td><td style=\"font-weight:bold\" title=\"4 7\"></td><td title=\"5 7\"></td><td title=\"6 7\"></td><td title=\"7 7\"></td><td title=\"8 7\"></td></tr>\n",
       "<tr><td style=\"background-color:Coral\" title=\"0 8\">0.0</td><td title=\"1 8\"></td><td title=\"2 8\">26919.0</td><td title=\"3 8\"></td><td title=\"4 8\">44923.0</td><td title=\"5 8\"></td><td title=\"6 8\"></td><td title=\"7 8\"></td><td title=\"8 8\"></td></tr>\n",
       "<tr><td style=\"background-color:Coral\" title=\"0 9\">1 to 9</td><td title=\"1 9\"></td><td title=\"2 9\">16369.0</td><td title=\"3 9\"></td><td title=\"4 9\">26778.0</td><td title=\"5 9\"></td><td title=\"6 9\"></td><td title=\"7 9\"></td><td title=\"8 9\"></td></tr>\n",
       "<tr><td style=\"background-color:Coral\" title=\"0 10\">10 to 49</td><td title=\"1 10\"></td><td title=\"2 10\">24266.0</td><td title=\"3 10\"></td><td title=\"4 10\">48100.0</td><td title=\"5 10\"></td><td title=\"6 10\"></td><td title=\"7 10\"></td><td title=\"8 10\"></td></tr>\n",
       "<tr><td style=\"background-color:Coral\" title=\"0 11\">50 to 249</td><td title=\"1 11\"></td><td title=\"2 11\">42297.0</td><td title=\"3 11\"></td><td title=\"4 11\">65195.0</td><td title=\"5 11\"></td><td title=\"6 11\"></td><td title=\"7 11\"></td><td title=\"8 11\"></td></tr>\n",
       "<tr><td style=\"background-color:Coral\" title=\"0 12\">250 +</td><td title=\"1 12\"></td><td title=\"2 12\">173003.0</td><td title=\"3 12\"></td><td title=\"4 12\">213274.0</td><td title=\"5 12\"></td><td title=\"6 12\"></td><td title=\"7 12\"></td><td title=\"8 12\"></td></tr>\n",
       "<tr><td style=\"background-color:Coral\" title=\"0 13\">Unknown</td><td title=\"1 13\"></td><td title=\"2 13\">21915.0</td><td title=\"3 13\"></td><td title=\"4 13\">12763.0</td><td title=\"5 13\"></td><td title=\"6 13\"></td><td title=\"7 13\"></td><td title=\"8 13\"></td></tr>\n",
       "<tr><td style=\"background-color:Coral\" title=\"0 14\"></td><td title=\"1 14\"></td><td title=\"2 14\"></td><td title=\"3 14\"></td><td title=\"4 14\"></td><td title=\"5 14\"></td><td title=\"6 14\"></td><td title=\"7 14\"></td><td title=\"8 14\"></td></tr>\n",
       "<tr><td style=\"background-color:Coral;font-weight:bold\" title=\"0 15\">Total</td><td style=\"font-weight:bold\" title=\"1 15\"></td><td style=\"font-weight:bold\" title=\"2 15\">304768.0</td><td style=\"font-weight:bold\" title=\"3 15\"></td><td style=\"font-weight:bold\" title=\"4 15\">411033.0</td><td title=\"5 15\"></td><td title=\"6 15\"></td><td title=\"7 15\"></td><td title=\"8 15\"></td></tr>\n",
       "<tr><td style=\"background-color:Coral;font-weight:bold\" title=\"0 16\"></td><td style=\"font-weight:bold\" title=\"1 16\"></td><td style=\"font-weight:bold\" title=\"2 16\"></td><td style=\"font-weight:bold\" title=\"3 16\"></td><td style=\"font-weight:bold\" title=\"4 16\"></td><td title=\"5 16\"></td><td title=\"6 16\"></td><td title=\"7 16\"></td><td title=\"8 16\"></td></tr>\n",
       "<tr><td style=\"background-color:Coral\" title=\"0 17\"></td><td title=\"1 17\"></td><td title=\"2 17\"></td><td title=\"3 17\"></td><td title=\"4 17\"></td><td title=\"5 17\"></td><td title=\"6 17\"></td><td title=\"7 17\"></td><td title=\"8 17\"></td></tr>\n",
       "<tr><td style=\"background-color:Coral;font-weight:bold\" title=\"0 18\">Business count by Employee Size</td><td style=\"font-weight:bold\" title=\"1 18\"></td><td title=\"2 18\"></td><td title=\"3 18\"></td><td title=\"4 18\">number</td><td title=\"5 18\"></td><td title=\"6 18\"></td><td title=\"7 18\"></td><td title=\"8 18\"></td></tr>\n",
       "<tr><td style=\"background-color:Coral\" title=\"0 19\"></td><td title=\"1 19\"></td><td style=\"font-weight:bold\" title=\"2 19\">Exports</td><td style=\"font-weight:bold\" title=\"3 19\"></td><td style=\"font-weight:bold\" title=\"4 19\">Imports</td><td title=\"5 19\"></td><td title=\"6 19\"></td><td title=\"7 19\"></td><td title=\"8 19\"></td></tr>\n",
       "<tr><td style=\"background-color:Coral;font-weight:bold\" title=\"0 20\">Employee Size  </td><td style=\"font-weight:bold\" title=\"1 20\"></td><td title=\"2 20\">2015.0</td><td title=\"3 20\"></td><td title=\"4 20\">2015.0</td><td title=\"5 20\"></td><td title=\"6 20\"></td><td title=\"7 20\"></td><td title=\"8 20\"></td></tr>\n",
       "<tr><td style=\"background-color:Coral;font-weight:bold\" title=\"0 21\"></td><td style=\"font-weight:bold\" title=\"1 21\"></td><td style=\"font-weight:bold\" title=\"2 21\"></td><td style=\"font-weight:bold\" title=\"3 21\"></td><td style=\"font-weight:bold\" title=\"4 21\"></td><td title=\"5 21\"></td><td title=\"6 21\"></td><td title=\"7 21\"></td><td title=\"8 21\"></td></tr>\n",
       "<tr><td style=\"background-color:Coral\" title=\"0 22\">0.0</td><td title=\"1 22\"></td><td style=\"background-color:Aqua\" title=\"2 22\">9156.0</td><td title=\"3 22\"></td><td style=\"background-color:Aqua\" title=\"4 22\">14983.0</td><td title=\"5 22\"></td><td title=\"6 22\"></td><td title=\"7 22\"></td><td title=\"8 22\"></td></tr>\n",
       "<tr><td style=\"background-color:Coral\" title=\"0 23\">1 to 9</td><td title=\"1 23\"></td><td style=\"background-color:Aqua\" title=\"2 23\">77281.0</td><td title=\"3 23\"></td><td style=\"background-color:Aqua\" title=\"4 23\">117876.0</td><td title=\"5 23\"></td><td title=\"6 23\"></td><td title=\"7 23\"></td><td title=\"8 23\"></td></tr>\n",
       "<tr><td style=\"background-color:Coral\" title=\"0 24\">10 to 49</td><td title=\"1 24\"></td><td style=\"background-color:Aqua\" title=\"2 24\">33128.0</td><td title=\"3 24\"></td><td style=\"background-color:Aqua\" title=\"4 24\">45094.0</td><td title=\"5 24\"></td><td title=\"6 24\"></td><td title=\"7 24\"></td><td title=\"8 24\"></td></tr>\n",
       "<tr><td style=\"background-color:Coral\" title=\"0 25\">50 to 249</td><td title=\"1 25\"></td><td style=\"background-color:Aqua\" title=\"2 25\">10579.0</td><td title=\"3 25\"></td><td style=\"background-color:Aqua\" title=\"4 25\">13566.0</td><td title=\"5 25\"></td><td title=\"6 25\"></td><td title=\"7 25\"></td><td title=\"8 25\"></td></tr>\n",
       "<tr><td style=\"background-color:Coral\" title=\"0 26\">250 +</td><td title=\"1 26\"></td><td style=\"background-color:Aqua\" title=\"2 26\">3468.0</td><td title=\"3 26\"></td><td style=\"background-color:Aqua\" title=\"4 26\">4446.0</td><td title=\"5 26\"></td><td title=\"6 26\"></td><td title=\"7 26\"></td><td title=\"8 26\"></td></tr>\n",
       "<tr><td style=\"background-color:Coral\" title=\"0 27\">Unknown</td><td title=\"1 27\"></td><td style=\"background-color:Aqua\" title=\"2 27\">9746.0</td><td title=\"3 27\"></td><td style=\"background-color:Aqua\" title=\"4 27\">23337.0</td><td title=\"5 27\"></td><td title=\"6 27\"></td><td title=\"7 27\"></td><td title=\"8 27\"></td></tr>\n",
       "<tr><td style=\"background-color:Coral\" title=\"0 28\"></td><td title=\"1 28\"></td><td title=\"2 28\"></td><td title=\"3 28\"></td><td title=\"4 28\"></td><td title=\"5 28\"></td><td title=\"6 28\"></td><td title=\"7 28\"></td><td title=\"8 28\"></td></tr>\n",
       "<tr><td style=\"background-color:Coral;font-weight:bold\" title=\"0 29\">Total</td><td style=\"font-weight:bold\" title=\"1 29\"></td><td style=\"background-color:Aqua;font-weight:bold\" title=\"2 29\">143358.0</td><td style=\"font-weight:bold\" title=\"3 29\"></td><td style=\"background-color:Aqua;font-weight:bold\" title=\"4 29\">219302.0</td><td title=\"5 29\"></td><td title=\"6 29\"></td><td title=\"7 29\"></td><td title=\"8 29\"></td></tr>\n",
       "<tr><td style=\"background-color:Coral\" title=\"0 30\"></td><td title=\"1 30\"></td><td title=\"2 30\"></td><td title=\"3 30\"></td><td title=\"4 30\"></td><td title=\"5 30\"></td><td title=\"6 30\"></td><td title=\"7 30\"></td><td title=\"8 30\"></td></tr>\n",
       "<tr><td style=\"background-color:Coral\" title=\"0 31\"></td><td title=\"1 31\"></td><td title=\"2 31\"></td><td title=\"3 31\"></td><td title=\"4 31\"></td><td title=\"5 31\"></td><td title=\"6 31\"></td><td title=\"7 31\"></td><td title=\"8 31\"></td></tr>\n",
       "<tr><td style=\"background-color:Coral;font-weight:bold\" title=\"0 32\">Employee count for Businesses by Employee Size</td><td style=\"font-weight:bold\" title=\"1 32\"></td><td title=\"2 32\"></td><td title=\"3 32\"></td><td title=\"4 32\">number</td><td title=\"5 32\"></td><td title=\"6 32\"></td><td title=\"7 32\"></td><td title=\"8 32\"></td></tr>\n",
       "<tr><td style=\"background-color:Coral\" title=\"0 33\"></td><td title=\"1 33\"></td><td style=\"font-weight:bold\" title=\"2 33\">Exports</td><td style=\"font-weight:bold\" title=\"3 33\"></td><td style=\"font-weight:bold\" title=\"4 33\">Imports</td><td title=\"5 33\"></td><td title=\"6 33\"></td><td title=\"7 33\"></td><td title=\"8 33\"></td></tr>\n",
       "<tr><td style=\"background-color:Coral;font-weight:bold\" title=\"0 34\">Employee Size  </td><td style=\"font-weight:bold\" title=\"1 34\"></td><td title=\"2 34\">2015.0</td><td title=\"3 34\"></td><td title=\"4 34\">2015.0</td><td title=\"5 34\"></td><td title=\"6 34\"></td><td title=\"7 34\"></td><td title=\"8 34\"></td></tr>\n",
       "<tr><td style=\"background-color:Coral;font-weight:bold\" title=\"0 35\"></td><td style=\"font-weight:bold\" title=\"1 35\"></td><td style=\"font-weight:bold\" title=\"2 35\"></td><td style=\"font-weight:bold\" title=\"3 35\"></td><td style=\"font-weight:bold\" title=\"4 35\"></td><td title=\"5 35\"></td><td title=\"6 35\"></td><td title=\"7 35\"></td><td title=\"8 35\"></td></tr>\n",
       "<tr><td style=\"background-color:Coral\" title=\"0 36\">0.0</td><td title=\"1 36\"></td><td title=\"2 36\">0.0</td><td title=\"3 36\"></td><td title=\"4 36\">0.0</td><td title=\"5 36\"></td><td title=\"6 36\"></td><td title=\"7 36\"></td><td title=\"8 36\"></td></tr>\n",
       "<tr><td style=\"background-color:Coral\" title=\"0 37\">1 to 9</td><td title=\"1 37\"></td><td title=\"2 37\">255501.0</td><td title=\"3 37\"></td><td title=\"4 37\">390305.0</td><td title=\"5 37\"></td><td title=\"6 37\"></td><td title=\"7 37\"></td><td title=\"8 37\"></td></tr>\n",
       "<tr><td style=\"background-color:Coral\" title=\"0 38\">10 to 49</td><td title=\"1 38\"></td><td title=\"2 38\">714420.0</td><td title=\"3 38\"></td><td title=\"4 38\">958955.0</td><td title=\"5 38\"></td><td title=\"6 38\"></td><td title=\"7 38\"></td><td title=\"8 38\"></td></tr>\n",
       "<tr><td style=\"background-color:Coral\" title=\"0 39\">50 to 249</td><td title=\"1 39\"></td><td title=\"2 39\">1095757.0</td><td title=\"3 39\"></td><td title=\"4 39\">1393998.0</td><td title=\"5 39\"></td><td title=\"6 39\"></td><td title=\"7 39\"></td><td title=\"8 39\"></td></tr>\n",
       "<tr><td style=\"background-color:Coral\" title=\"0 40\">250 +</td><td title=\"1 40\"></td><td title=\"2 40\">7487765.0</td><td title=\"3 40\"></td><td title=\"4 40\">9611408.0</td><td title=\"5 40\"></td><td title=\"6 40\"></td><td title=\"7 40\"></td><td title=\"8 40\"></td></tr>\n",
       "<tr><td style=\"background-color:Coral\" title=\"0 41\">Unknown</td><td title=\"1 41\"></td><td title=\"2 41\">.</td><td title=\"3 41\"></td><td title=\"4 41\">.</td><td title=\"5 41\"></td><td title=\"6 41\"></td><td title=\"7 41\"></td><td title=\"8 41\"></td></tr>\n",
       "<tr><td style=\"background-color:Coral\" title=\"0 42\"></td><td title=\"1 42\"></td><td title=\"2 42\"></td><td title=\"3 42\"></td><td title=\"4 42\"></td><td title=\"5 42\"></td><td title=\"6 42\"></td><td title=\"7 42\"></td><td title=\"8 42\"></td></tr>\n",
       "<tr><td style=\"background-color:Coral;font-weight:bold\" title=\"0 43\">Total9</td><td style=\"font-weight:bold\" title=\"1 43\"></td><td style=\"font-weight:bold\" title=\"2 43\">9553443.0</td><td style=\"font-weight:bold\" title=\"3 43\"></td><td style=\"font-weight:bold\" title=\"4 43\">12354666.0</td><td title=\"5 43\"></td><td title=\"6 43\"></td><td title=\"7 43\"></td><td title=\"8 43\"></td></tr>\n",
       "<tr><td style=\"background-color:Coral\" title=\"0 44\"></td><td title=\"1 44\"></td><td title=\"2 44\"></td><td title=\"3 44\"></td><td title=\"4 44\"></td><td title=\"5 44\"></td><td title=\"6 44\"></td><td title=\"7 44\"></td><td title=\"8 44\"></td></tr>\n",
       "<tr><td style=\"background-color:Coral\" title=\"0 45\"></td><td title=\"1 45\"></td><td title=\"2 45\"></td><td title=\"3 45\"></td><td title=\"4 45\"></td><td title=\"5 45\"></td><td title=\"6 45\"></td><td title=\"7 45\"></td><td title=\"8 45\"></td></tr>\n",
       "<tr><td style=\"background-color:Coral\" title=\"0 46\"></td><td title=\"1 46\"></td><td title=\"2 46\"></td><td title=\"3 46\"></td><td title=\"4 46\">Source: HMRC OTS and ONS IDBR data</td><td title=\"5 46\"></td><td title=\"6 46\"></td><td title=\"7 46\"></td><td title=\"8 46\"></td></tr>\n",
       "<tr><td style=\"background-color:Coral\" title=\"0 47\">Notes:</td><td title=\"1 47\"></td><td title=\"2 47\"></td><td title=\"3 47\"></td><td title=\"4 47\"></td><td title=\"5 47\"></td><td title=\"6 47\"></td><td title=\"7 47\"></td><td title=\"8 47\"></td></tr>\n",
       "<tr><td style=\"background-color:Coral\" title=\"0 48\">1. These estimates are experimental official statistics. </td><td title=\"1 48\"></td><td title=\"2 48\"></td><td title=\"3 48\"></td><td title=\"4 48\"></td><td title=\"5 48\"></td><td title=\"6 48\"></td><td title=\"7 48\"></td><td title=\"8 48\"></td></tr>\n",
       "<tr><td style=\"background-color:Coral\" title=\"0 49\">2. Registered businesses/enterprises are those which are registered for VAT and or EORI</td><td title=\"1 49\"></td><td title=\"2 49\"></td><td title=\"3 49\"></td><td title=\"4 49\"></td><td title=\"5 49\"></td><td title=\"6 49\"></td><td title=\"7 49\"></td><td title=\"8 49\"></td></tr>\n",
       "<tr><td style=\"background-color:Coral\" title=\"0 50\">3. Cells with:      .  = Not Applicable </td><td title=\"1 50\"></td><td title=\"2 50\"></td><td title=\"3 50\"></td><td title=\"4 50\"></td><td title=\"5 50\"></td><td title=\"6 50\"></td><td title=\"7 50\"></td><td title=\"8 50\"></td></tr>\n",
       "<tr><td style=\"background-color:Coral\" title=\"0 51\">4. Value of trade are in £ millions</td><td title=\"1 51\"></td><td title=\"2 51\"></td><td title=\"3 51\"></td><td title=\"4 51\"></td><td title=\"5 51\"></td><td title=\"6 51\"></td><td title=\"7 51\"></td><td title=\"8 51\"></td></tr>\n",
       "<tr><td style=\"background-color:Coral\" title=\"0 52\">5. Further details of Industry Group, Age and Employee size can be in the Metadata tab</td><td title=\"1 52\"></td><td title=\"2 52\"></td><td title=\"3 52\"></td><td title=\"4 52\"></td><td title=\"5 52\"></td><td title=\"6 52\"></td><td title=\"7 52\"></td><td title=\"8 52\"></td></tr>\n",
       "<tr><td style=\"background-color:Coral\" title=\"0 53\">6. Employment sizebands are based on IDBR employment for all variables and represent the employment of the Business</td><td title=\"1 53\"></td><td title=\"2 53\"></td><td title=\"3 53\"></td><td title=\"4 53\"></td><td title=\"5 53\"></td><td title=\"6 53\"></td><td title=\"7 53\"></td><td title=\"8 53\"></td></tr>\n",
       "<tr><td style=\"background-color:Coral\" title=\"0 54\">7. Age of a business is defined using the birth date, or registration date, of the business held within the IDBR. Mergers and other changes in structure may require re-registration and therefore affect the validity of this date.</td><td title=\"1 54\"></td><td title=\"2 54\"></td><td title=\"3 54\"></td><td title=\"4 54\"></td><td title=\"5 54\"></td><td title=\"6 54\"></td><td title=\"7 54\"></td><td title=\"8 54\"></td></tr>\n",
       "<tr><td style=\"background-color:Coral\" title=\"0 55\">8. The zero employees group can include sole traders and businesses who are required to register for UK VAT due to distance selling regulations.</td><td title=\"1 55\"></td><td title=\"2 55\"></td><td title=\"3 55\"></td><td title=\"4 55\"></td><td title=\"5 55\"></td><td title=\"6 55\"></td><td title=\"7 55\"></td><td title=\"8 55\"></td></tr>\n",
       "<tr><td style=\"background-color:Coral\" title=\"0 56\">9. Employee count totals exclude businesses where employee count is unknown.</td><td title=\"1 56\"></td><td title=\"2 56\"></td><td title=\"3 56\"></td><td title=\"4 56\"></td><td title=\"5 56\"></td><td title=\"6 56\"></td><td title=\"7 56\"></td><td title=\"8 56\"></td></tr>\n",
       "</table>\n",
       "\n",
       "</div>\n",
       "\n",
       "<script>\n",
       "var jslookup = {\"4 23\":[0,23,4,5],\"2 25\":[0,25,2,5],\"2 22\":[0,22,2,5],\"4 22\":[0,22,4,5],\"2 23\":[0,23,2,5],\"2 26\":[0,26,2,5],\"2 27\":[0,27,2,5],\"2 24\":[0,24,2,5],\"2 29\":[0,29,2,5],\"4 29\":[0,29,4,5],\"4 24\":[0,24,4,5],\"4 26\":[0,26,4,5],\"4 25\":[0,25,4,5],\"4 27\":[0,27,4,5]}; \n",
       "var jdividNUM = \"injblock1002\"; \n",
       "var Dclickedcell = null; \n",
       "function clickedcell() \n",
       "{ \n",
       "    Dclickedcell = this; \n",
       "    console.log(\"jjjj\", this); \n",
       "    var rgc = new RegExp('(^|\\b)' + \"selected\".split(' ').join('|') + '(\\b|$)', 'gi'); \n",
       "    Array.prototype.forEach.call(document.querySelectorAll(\"div#\"+jdividNUM+\" table.ex td.selected\"), function(el, i) { \n",
       "        if (el.classList)  el.classList.remove(\"selected\");\n",
       "        else  el.className = el.className.replace(rgc, ' ');\n",
       "    }); \n",
       "    if (this.classList)  this.classList.add(\"selected\");\n",
       "    else this.className += ' ' + \"selected\";\n",
       "\n",
       "    var dimpairs = jslookup[this.title]; \n",
       "    if (dimpairs !== undefined) {\n",
       "        for (var i = 1; i < dimpairs.length; i += 2) {\n",
       "            var row = document.querySelectorAll(\"div#\"+jdividNUM+\" table.ex tr\")[dimpairs[i]]; \n",
       "            var el = row.querySelectorAll(\"td\")[dimpairs[i-1]]; \n",
       "            if (el.classList)  el.classList.add(\"selected\");\n",
       "            else el.className += ' ' + \"selected\";\n",
       "        }\n",
       "    }\n",
       "}\n",
       "Array.prototype.forEach.call(document.querySelectorAll(\"div#\"+jdividNUM+\" table.ex td\"), function(item, i) { item.onclick=clickedcell; }); \n",
       "</script>\n"
      ],
      "text/plain": [
       "<IPython.core.display.HTML object>"
      ]
     },
     "metadata": {},
     "output_type": "display_data"
    }
   ],
   "source": [
    "savepreviewhtml(c1)"
   ]
  },
  {
   "cell_type": "code",
   "execution_count": 13,
   "metadata": {},
   "outputs": [
    {
     "name": "stdout",
     "output_type": "stream",
     "text": [
      "\n"
     ]
    }
   ],
   "source": [
    "new_table = c1.topandas()"
   ]
  },
  {
   "cell_type": "code",
   "execution_count": 14,
   "metadata": {
    "collapsed": true
   },
   "outputs": [],
   "source": [
    "new_table.rename(index= str, columns= {'OBS':'Value'}, inplace = True)"
   ]
  },
  {
   "cell_type": "code",
   "execution_count": 15,
   "metadata": {
    "collapsed": true
   },
   "outputs": [],
   "source": [
    "new_table['Value'] = new_table['Value'].astype('int', copy=False)"
   ]
  },
  {
   "cell_type": "code",
   "execution_count": 16,
   "metadata": {
    "collapsed": true
   },
   "outputs": [],
   "source": [
    "new_table['Total Employees'] = new_table['Total Employees'].str.strip()\n",
    "new_table['Year'] = new_table['Year'].str.strip()\n",
    "new_table['Flow'] = new_table['Flow'].str.strip()\n",
    "new_table['Unit'] = new_table['Unit'].str.strip()\n",
    "new_table['Measure Type'] = new_table['Measure Type'].str.strip()\n",
    "new_table['Geography'] = new_table['Geography'].str.strip()"
   ]
  },
  {
   "cell_type": "code",
   "execution_count": 17,
   "metadata": {
    "collapsed": true
   },
   "outputs": [],
   "source": [
    "new_table = new_table[['Geography','Year','Total Employees','Flow','Measure Type','Value','Unit']]"
   ]
  },
  {
   "cell_type": "code",
   "execution_count": 18,
   "metadata": {
    "scrolled": true
   },
   "outputs": [
    {
     "data": {
      "text/html": [
       "<div>\n",
       "<style scoped>\n",
       "    .dataframe tbody tr th:only-of-type {\n",
       "        vertical-align: middle;\n",
       "    }\n",
       "\n",
       "    .dataframe tbody tr th {\n",
       "        vertical-align: top;\n",
       "    }\n",
       "\n",
       "    .dataframe thead th {\n",
       "        text-align: right;\n",
       "    }\n",
       "</style>\n",
       "<table border=\"1\" class=\"dataframe\">\n",
       "  <thead>\n",
       "    <tr style=\"text-align: right;\">\n",
       "      <th></th>\n",
       "      <th>Geography</th>\n",
       "      <th>Year</th>\n",
       "      <th>Total Employees</th>\n",
       "      <th>Flow</th>\n",
       "      <th>Measure Type</th>\n",
       "      <th>Value</th>\n",
       "      <th>Unit</th>\n",
       "    </tr>\n",
       "  </thead>\n",
       "  <tbody>\n",
       "    <tr>\n",
       "      <th>0</th>\n",
       "      <td>K02000001</td>\n",
       "      <td>2015</td>\n",
       "      <td>0.0</td>\n",
       "      <td>Exports</td>\n",
       "      <td>Business</td>\n",
       "      <td>9156</td>\n",
       "      <td>Count</td>\n",
       "    </tr>\n",
       "    <tr>\n",
       "      <th>1</th>\n",
       "      <td>K02000001</td>\n",
       "      <td>2015</td>\n",
       "      <td>0.0</td>\n",
       "      <td>Imports</td>\n",
       "      <td>Business</td>\n",
       "      <td>14983</td>\n",
       "      <td>Count</td>\n",
       "    </tr>\n",
       "    <tr>\n",
       "      <th>2</th>\n",
       "      <td>K02000001</td>\n",
       "      <td>2015</td>\n",
       "      <td>1 to 9</td>\n",
       "      <td>Exports</td>\n",
       "      <td>Business</td>\n",
       "      <td>77281</td>\n",
       "      <td>Count</td>\n",
       "    </tr>\n",
       "    <tr>\n",
       "      <th>3</th>\n",
       "      <td>K02000001</td>\n",
       "      <td>2015</td>\n",
       "      <td>1 to 9</td>\n",
       "      <td>Imports</td>\n",
       "      <td>Business</td>\n",
       "      <td>117876</td>\n",
       "      <td>Count</td>\n",
       "    </tr>\n",
       "  </tbody>\n",
       "</table>\n",
       "</div>"
      ],
      "text/plain": [
       "   Geography  Year Total Employees     Flow Measure Type   Value   Unit\n",
       "0  K02000001  2015             0.0  Exports     Business    9156  Count\n",
       "1  K02000001  2015             0.0  Imports     Business   14983  Count\n",
       "2  K02000001  2015          1 to 9  Exports     Business   77281  Count\n",
       "3  K02000001  2015          1 to 9  Imports     Business  117876  Count"
      ]
     },
     "execution_count": 18,
     "metadata": {},
     "output_type": "execute_result"
    }
   ],
   "source": [
    "new_table.head(4)"
   ]
  },
  {
   "cell_type": "code",
   "execution_count": 19,
   "metadata": {},
   "outputs": [
    {
     "data": {
      "text/html": [
       "<div>\n",
       "<style scoped>\n",
       "    .dataframe tbody tr th:only-of-type {\n",
       "        vertical-align: middle;\n",
       "    }\n",
       "\n",
       "    .dataframe tbody tr th {\n",
       "        vertical-align: top;\n",
       "    }\n",
       "\n",
       "    .dataframe thead th {\n",
       "        text-align: right;\n",
       "    }\n",
       "</style>\n",
       "<table border=\"1\" class=\"dataframe\">\n",
       "  <thead>\n",
       "    <tr style=\"text-align: right;\">\n",
       "      <th></th>\n",
       "      <th>Geography</th>\n",
       "      <th>Year</th>\n",
       "      <th>Total Employees</th>\n",
       "      <th>Flow</th>\n",
       "      <th>Measure Type</th>\n",
       "      <th>Value</th>\n",
       "      <th>Unit</th>\n",
       "    </tr>\n",
       "  </thead>\n",
       "  <tbody>\n",
       "    <tr>\n",
       "      <th>10</th>\n",
       "      <td>K02000001</td>\n",
       "      <td>2015</td>\n",
       "      <td>Unknown</td>\n",
       "      <td>Exports</td>\n",
       "      <td>Business</td>\n",
       "      <td>9746</td>\n",
       "      <td>Count</td>\n",
       "    </tr>\n",
       "    <tr>\n",
       "      <th>11</th>\n",
       "      <td>K02000001</td>\n",
       "      <td>2015</td>\n",
       "      <td>Unknown</td>\n",
       "      <td>Imports</td>\n",
       "      <td>Business</td>\n",
       "      <td>23337</td>\n",
       "      <td>Count</td>\n",
       "    </tr>\n",
       "    <tr>\n",
       "      <th>12</th>\n",
       "      <td>K02000001</td>\n",
       "      <td>2015</td>\n",
       "      <td>Total</td>\n",
       "      <td>Exports</td>\n",
       "      <td>Business</td>\n",
       "      <td>143358</td>\n",
       "      <td>Count</td>\n",
       "    </tr>\n",
       "    <tr>\n",
       "      <th>13</th>\n",
       "      <td>K02000001</td>\n",
       "      <td>2015</td>\n",
       "      <td>Total</td>\n",
       "      <td>Imports</td>\n",
       "      <td>Business</td>\n",
       "      <td>219302</td>\n",
       "      <td>Count</td>\n",
       "    </tr>\n",
       "  </tbody>\n",
       "</table>\n",
       "</div>"
      ],
      "text/plain": [
       "    Geography  Year Total Employees     Flow Measure Type   Value   Unit\n",
       "10  K02000001  2015         Unknown  Exports     Business    9746  Count\n",
       "11  K02000001  2015         Unknown  Imports     Business   23337  Count\n",
       "12  K02000001  2015           Total  Exports     Business  143358  Count\n",
       "13  K02000001  2015           Total  Imports     Business  219302  Count"
      ]
     },
     "execution_count": 19,
     "metadata": {},
     "output_type": "execute_result"
    }
   ],
   "source": [
    "new_table.tail(4)"
   ]
  },
  {
   "cell_type": "code",
   "execution_count": 20,
   "metadata": {
    "collapsed": true
   },
   "outputs": [],
   "source": [
    "out = Path('out')\n",
    "out.mkdir(exist_ok=True)\n",
    "new_table.to_csv(out / 'BusinesscountbyEmployeeSize.csv', index = False)"
   ]
  },
  {
   "cell_type": "code",
   "execution_count": null,
   "metadata": {
    "collapsed": true
   },
   "outputs": [],
   "source": []
  }
 ],
 "metadata": {
  "kernelspec": {
   "display_name": "Python 3",
   "language": "python",
   "name": "python3"
  },
  "language_info": {
   "codemirror_mode": {
    "name": "ipython",
    "version": 3
   },
   "file_extension": ".py",
   "mimetype": "text/x-python",
   "name": "python",
   "nbconvert_exporter": "python",
   "pygments_lexer": "ipython3",
   "version": "3.6.3"
  }
 },
 "nbformat": 4,
 "nbformat_minor": 2
}
