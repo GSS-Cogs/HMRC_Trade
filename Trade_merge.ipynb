{
 "cells": [
  {
   "cell_type": "code",
   "execution_count": 1,
   "metadata": {
    "collapsed": true
   },
   "outputs": [],
   "source": [
    "from databaker.framework import *\n",
    "import pandas as pd "
   ]
  },
  {
   "cell_type": "code",
   "execution_count": 2,
   "metadata": {
    "collapsed": true
   },
   "outputs": [],
   "source": [
    "final_table = pd.DataFrame()"
   ]
  },
  {
   "cell_type": "code",
   "execution_count": 3,
   "metadata": {
    "collapsed": true
   },
   "outputs": [],
   "source": [
    "%%capture\n",
    "%run \"Business count by Age of Business.ipynb\"\n",
    "final_table = pd.concat([final_table, new_table])\n",
    "\n",
    "%run \"Business count by Employee Size.ipynb\"\n",
    "final_table = pd.concat([final_table, new_table])\n",
    "\n",
    "%run\"Business count by Industry Group.ipynb\"\n",
    "final_table = pd.concat([final_table, new_table])\n",
    "\n",
    "%run \"Employee count for Businesses by Age of Business.ipynb\"\n",
    "final_table = pd.concat([final_table, new_table])\n",
    "\n",
    "%run \"Employee count for Businesses by Employee Size.ipynb\"\n",
    "final_table = pd.concat([final_table, new_table])\n",
    "\n",
    "%run \"Employee count for Businesses by Industry Group.ipynb\"\n",
    "final_table = pd.concat([final_table, new_table])\n",
    "\n",
    "%run \"Total value of UK trade by Age of Business.ipynb\"\n",
    "final_table = pd.concat([final_table, new_table])\n",
    "\n",
    "%run \"Total value of UK trade by Employee Size.ipynb\"\n",
    "final_table = pd.concat([final_table, new_table])\n",
    "\n",
    "%run \"Total value of UK trade by Industry Group.ipynb\"\n",
    "final_table = pd.concat([final_table, new_table])\n",
    "\n",
    "%run \"TRADE IN GOODS STATISTICS -Business Count.ipynb\"\n",
    "final_table = pd.concat([final_table, new_table])\n",
    "\n",
    "%run \"TRADE IN GOODS STATISTICS -Employee Count and age business.ipynb\"\n",
    "final_table = pd.concat([final_table, new_table])\n",
    "\n",
    "%run \"TRADE IN GOODS STATISTICS -Employee Count and age employee count.ipynb\"\n",
    "final_table = pd.concat([final_table, new_table])\n",
    "\n",
    "%run \"TRADE IN GOODS STATISTICS -Employee Count and age.ipynb\"\n",
    "final_table = pd.concat([final_table, new_table])\n",
    "\n",
    "%run \"TRADE IN GOODS STATISTICS -Employee Count.ipynb\"\n",
    "final_table = pd.concat([final_table, new_table])\n",
    "\n",
    "%run \"TRADE IN GOODS STATISTICS -total value of UK Trade.ipynb\"\n",
    "final_table = pd.concat([final_table, new_table])\n",
    "\n",
    "%run \"TRADE IN GOODS STATISTICS_Employee size_Businesses.ipynb\"\n",
    "final_table = pd.concat([final_table, new_table])\n",
    "\n",
    "%run \"TRADE IN GOODS STATISTICS_Employee size_Employee count.ipynb\"\n",
    "final_table = pd.concat([final_table, new_table])\n",
    "\n",
    "%run \"TRADE IN GOODS STATISTICS_Employee size_value.ipynb\"\n",
    "final_table = pd.concat([final_table, new_table])\n"
   ]
  },
  {
   "cell_type": "code",
   "execution_count": 4,
   "metadata": {
    "collapsed": true
   },
   "outputs": [],
   "source": [
    "final_table.fillna('Total', inplace = True)"
   ]
  },
  {
   "cell_type": "code",
   "execution_count": 5,
   "metadata": {},
   "outputs": [
    {
     "data": {
      "text/html": [
       "<div>\n",
       "<style scoped>\n",
       "    .dataframe tbody tr th:only-of-type {\n",
       "        vertical-align: middle;\n",
       "    }\n",
       "\n",
       "    .dataframe tbody tr th {\n",
       "        vertical-align: top;\n",
       "    }\n",
       "\n",
       "    .dataframe thead th {\n",
       "        text-align: right;\n",
       "    }\n",
       "</style>\n",
       "<table border=\"1\" class=\"dataframe\">\n",
       "  <thead>\n",
       "    <tr style=\"text-align: right;\">\n",
       "      <th></th>\n",
       "      <th>Age of Business</th>\n",
       "      <th>Employment</th>\n",
       "      <th>Flow</th>\n",
       "      <th>Geography</th>\n",
       "      <th>HMRC Industry</th>\n",
       "      <th>Measure Type</th>\n",
       "      <th>Unit</th>\n",
       "      <th>Value</th>\n",
       "      <th>Year</th>\n",
       "    </tr>\n",
       "  </thead>\n",
       "  <tbody>\n",
       "    <tr>\n",
       "      <th>0</th>\n",
       "      <td>0 to 1 years</td>\n",
       "      <td>Total</td>\n",
       "      <td>Export</td>\n",
       "      <td>K02000001</td>\n",
       "      <td>Total</td>\n",
       "      <td>Count</td>\n",
       "      <td>Businesses</td>\n",
       "      <td>10515</td>\n",
       "      <td>2015</td>\n",
       "    </tr>\n",
       "    <tr>\n",
       "      <th>1</th>\n",
       "      <td>0 to 1 years</td>\n",
       "      <td>Total</td>\n",
       "      <td>Import</td>\n",
       "      <td>K02000001</td>\n",
       "      <td>Total</td>\n",
       "      <td>Count</td>\n",
       "      <td>Businesses</td>\n",
       "      <td>21541</td>\n",
       "      <td>2015</td>\n",
       "    </tr>\n",
       "    <tr>\n",
       "      <th>2</th>\n",
       "      <td>2 to 3 years</td>\n",
       "      <td>Total</td>\n",
       "      <td>Export</td>\n",
       "      <td>K02000001</td>\n",
       "      <td>Total</td>\n",
       "      <td>Count</td>\n",
       "      <td>Businesses</td>\n",
       "      <td>13308</td>\n",
       "      <td>2015</td>\n",
       "    </tr>\n",
       "    <tr>\n",
       "      <th>3</th>\n",
       "      <td>2 to 3 years</td>\n",
       "      <td>Total</td>\n",
       "      <td>Import</td>\n",
       "      <td>K02000001</td>\n",
       "      <td>Total</td>\n",
       "      <td>Count</td>\n",
       "      <td>Businesses</td>\n",
       "      <td>22043</td>\n",
       "      <td>2015</td>\n",
       "    </tr>\n",
       "    <tr>\n",
       "      <th>4</th>\n",
       "      <td>4 to 5 years</td>\n",
       "      <td>Total</td>\n",
       "      <td>Export</td>\n",
       "      <td>K02000001</td>\n",
       "      <td>Total</td>\n",
       "      <td>Count</td>\n",
       "      <td>Businesses</td>\n",
       "      <td>12088</td>\n",
       "      <td>2015</td>\n",
       "    </tr>\n",
       "  </tbody>\n",
       "</table>\n",
       "</div>"
      ],
      "text/plain": [
       "  Age of Business Employment    Flow  Geography HMRC Industry Measure Type  \\\n",
       "0    0 to 1 years      Total  Export  K02000001         Total        Count   \n",
       "1    0 to 1 years      Total  Import  K02000001         Total        Count   \n",
       "2    2 to 3 years      Total  Export  K02000001         Total        Count   \n",
       "3    2 to 3 years      Total  Import  K02000001         Total        Count   \n",
       "4    4 to 5 years      Total  Export  K02000001         Total        Count   \n",
       "\n",
       "         Unit  Value  Year  \n",
       "0  Businesses  10515  2015  \n",
       "1  Businesses  21541  2015  \n",
       "2  Businesses  13308  2015  \n",
       "3  Businesses  22043  2015  \n",
       "4  Businesses  12088  2015  "
      ]
     },
     "execution_count": 5,
     "metadata": {},
     "output_type": "execute_result"
    }
   ],
   "source": [
    "final_table.head()"
   ]
  },
  {
   "cell_type": "code",
   "execution_count": 6,
   "metadata": {},
   "outputs": [
    {
     "data": {
      "text/plain": [
       "array(['Total', '0 employees', '1 to 9 employees', '10 to 49 employees',\n",
       "       '50 to 249 employees', '250 + employees', 'Unknown employees',\n",
       "       'Total employees', 'Grand Total employees', 'employees'], dtype=object)"
      ]
     },
     "execution_count": 6,
     "metadata": {},
     "output_type": "execute_result"
    }
   ],
   "source": [
    "final_table['Employment'].unique()"
   ]
  },
  {
   "cell_type": "code",
   "execution_count": 7,
   "metadata": {
    "collapsed": true
   },
   "outputs": [],
   "source": [
    "def user_perc(x):\n",
    "    \n",
    "    if str(x) == 'employees':\n",
    "        return 'Total employees'\n",
    "    else:\n",
    "        return x\n",
    "    \n",
    "final_table['Employment'] = final_table.apply(lambda row: user_perc(row['Employment']), axis = 1)\n"
   ]
  },
  {
   "cell_type": "code",
   "execution_count": 8,
   "metadata": {
    "collapsed": true
   },
   "outputs": [],
   "source": [
    "final_table['Employment'] = final_table['Employment'].map(lambda cell: cell.replace('Grand Total employees', 'Total employees'))"
   ]
  },
  {
   "cell_type": "code",
   "execution_count": 9,
   "metadata": {
    "scrolled": true
   },
   "outputs": [
    {
     "data": {
      "text/plain": [
       "array(['Export', 'Import'], dtype=object)"
      ]
     },
     "execution_count": 9,
     "metadata": {},
     "output_type": "execute_result"
    }
   ],
   "source": [
    "final_table['Flow'].unique()"
   ]
  },
  {
   "cell_type": "code",
   "execution_count": 10,
   "metadata": {
    "collapsed": true
   },
   "outputs": [],
   "source": [
    "final_table['Flow'] = final_table['Flow'].map(lambda cell: cell.replace('Export', 'Exports'))\n",
    "final_table['Flow'] = final_table['Flow'].map(lambda cell: cell.replace('Import', 'Imports'))"
   ]
  },
  {
   "cell_type": "code",
   "execution_count": 11,
   "metadata": {},
   "outputs": [
    {
     "data": {
      "text/plain": [
       "array(['Total', 'group-1', 'group-2', 'group-3', 'group-4', 'group-5',\n",
       "       'group-6', 'group-7', 'group-8', 'group-9', 'group-10', 'Unknown'], dtype=object)"
      ]
     },
     "execution_count": 11,
     "metadata": {},
     "output_type": "execute_result"
    }
   ],
   "source": [
    "final_table['HMRC Industry'].unique()"
   ]
  },
  {
   "cell_type": "code",
   "execution_count": 12,
   "metadata": {
    "collapsed": true
   },
   "outputs": [],
   "source": [
    "final_table['HMRC Industry'] = final_table['HMRC Industry'].map(lambda cell: cell.replace('Agriculture  Food', 'Agriculture and Food'))"
   ]
  },
  {
   "cell_type": "code",
   "execution_count": 13,
   "metadata": {
    "collapsed": true
   },
   "outputs": [],
   "source": [
    "final_table['HMRC Industry'] = final_table['HMRC Industry'].map(lambda cell: cell.replace('Mining, Petroleum products  Waste', 'Mining, Petroleum products and Waste'))"
   ]
  },
  {
   "cell_type": "code",
   "execution_count": 14,
   "metadata": {
    "collapsed": true
   },
   "outputs": [],
   "source": [
    "final_table['HMRC Industry'] = final_table['HMRC Industry'].map(lambda cell: cell.replace('Electronic  Electrical equipment', 'Electronic and Electrical equipment'))"
   ]
  },
  {
   "cell_type": "code",
   "execution_count": 15,
   "metadata": {
    "collapsed": true
   },
   "outputs": [],
   "source": [
    "final_table['HMRC Industry'] = final_table['HMRC Industry'].map(lambda cell: cell.replace('Machinery  equipment n.e.s', 'Machinery and equipment n.e.s'))"
   ]
  },
  {
   "cell_type": "code",
   "execution_count": 16,
   "metadata": {
    "collapsed": true
   },
   "outputs": [],
   "source": [
    "final_table['HMRC Industry'] = final_table['HMRC Industry'].map(lambda cell: cell.replace('Aerospace  related machinery', 'Aerospace and related machinery'))"
   ]
  },
  {
   "cell_type": "code",
   "execution_count": 17,
   "metadata": {
    "collapsed": true
   },
   "outputs": [],
   "source": [
    "final_table['HMRC Industry'] = final_table['HMRC Industry'].map(lambda cell: cell.replace('Total', 'total'))"
   ]
  },
  {
   "cell_type": "code",
   "execution_count": 18,
   "metadata": {
    "collapsed": true
   },
   "outputs": [],
   "source": [
    "final_table['HMRC Industry'] = final_table['HMRC Industry'].map(lambda cell: cell.replace('Unknown', 'unknown'))"
   ]
  },
  {
   "cell_type": "code",
   "execution_count": 19,
   "metadata": {},
   "outputs": [
    {
     "data": {
      "text/plain": [
       "array(['Businesses', 'Employees', '£ Million'], dtype=object)"
      ]
     },
     "execution_count": 19,
     "metadata": {},
     "output_type": "execute_result"
    }
   ],
   "source": [
    "final_table['Unit'].unique()"
   ]
  },
  {
   "cell_type": "code",
   "execution_count": 20,
   "metadata": {},
   "outputs": [
    {
     "data": {
      "text/plain": [
       "array(['Count', 'Total Turnover'], dtype=object)"
      ]
     },
     "execution_count": 20,
     "metadata": {},
     "output_type": "execute_result"
    }
   ],
   "source": [
    "final_table['Measure Type'].unique()"
   ]
  },
  {
   "cell_type": "code",
   "execution_count": 21,
   "metadata": {},
   "outputs": [
    {
     "data": {
      "text/plain": [
       "array(['2015'], dtype=object)"
      ]
     },
     "execution_count": 21,
     "metadata": {},
     "output_type": "execute_result"
    }
   ],
   "source": [
    "final_table['Year'].unique()"
   ]
  },
  {
   "cell_type": "code",
   "execution_count": 22,
   "metadata": {},
   "outputs": [
    {
     "data": {
      "text/plain": [
       "array(['0 to 1 years', '2 to 3 years', '4 to 5 years', '6 to 9 years',\n",
       "       '10 to 20 years', '20 + years', 'Unknown years', 'Total years',\n",
       "       'Total', ' years', '6 to 9  years', 'years'], dtype=object)"
      ]
     },
     "execution_count": 22,
     "metadata": {},
     "output_type": "execute_result"
    }
   ],
   "source": [
    "final_table['Age of Business'].unique()"
   ]
  },
  {
   "cell_type": "code",
   "execution_count": 23,
   "metadata": {
    "collapsed": true
   },
   "outputs": [],
   "source": [
    "final_table['Age of Business'] = final_table['Age of Business'].map(lambda cell: cell.replace('Total years', 'total'))"
   ]
  },
  {
   "cell_type": "code",
   "execution_count": 24,
   "metadata": {
    "collapsed": true
   },
   "outputs": [],
   "source": [
    "final_table['Age of Business'] = final_table['Age of Business'].map(lambda cell: cell.replace('Unknown years', 'unknown'))"
   ]
  },
  {
   "cell_type": "code",
   "execution_count": 25,
   "metadata": {
    "collapsed": true
   },
   "outputs": [],
   "source": [
    "def user_perc2(x):\n",
    "    \n",
    "    if str(x) == '6 to 9  years':\n",
    "        return '6 to 9 years'\n",
    "    else:\n",
    "        return x.strip()\n",
    "    \n",
    "final_table['Age of Business'] = final_table.apply(lambda row: user_perc2(row['Age of Business']), axis = 1)"
   ]
  },
  {
   "cell_type": "code",
   "execution_count": 26,
   "metadata": {},
   "outputs": [
    {
     "data": {
      "text/plain": [
       "array(['0 to 1 years', '2 to 3 years', '4 to 5 years', '6 to 9 years',\n",
       "       '10 to 20 years', '20 + years', 'unknown', 'total', 'Total', 'years'], dtype=object)"
      ]
     },
     "execution_count": 26,
     "metadata": {},
     "output_type": "execute_result"
    }
   ],
   "source": [
    "final_table['Age of Business'].unique()"
   ]
  },
  {
   "cell_type": "code",
   "execution_count": 27,
   "metadata": {
    "collapsed": true
   },
   "outputs": [],
   "source": [
    "final_table = final_table[['Geography','Year','Employment','Flow','Age of Business','HMRC Industry','Measure Type','Value','Unit']]"
   ]
  },
  {
   "cell_type": "code",
   "execution_count": 28,
   "metadata": {},
   "outputs": [
    {
     "data": {
      "text/html": [
       "<div>\n",
       "<style scoped>\n",
       "    .dataframe tbody tr th:only-of-type {\n",
       "        vertical-align: middle;\n",
       "    }\n",
       "\n",
       "    .dataframe tbody tr th {\n",
       "        vertical-align: top;\n",
       "    }\n",
       "\n",
       "    .dataframe thead th {\n",
       "        text-align: right;\n",
       "    }\n",
       "</style>\n",
       "<table border=\"1\" class=\"dataframe\">\n",
       "  <thead>\n",
       "    <tr style=\"text-align: right;\">\n",
       "      <th></th>\n",
       "      <th>Geography</th>\n",
       "      <th>Year</th>\n",
       "      <th>Employment</th>\n",
       "      <th>Flow</th>\n",
       "      <th>Age of Business</th>\n",
       "      <th>HMRC Industry</th>\n",
       "      <th>Measure Type</th>\n",
       "      <th>Value</th>\n",
       "      <th>Unit</th>\n",
       "    </tr>\n",
       "  </thead>\n",
       "  <tbody>\n",
       "    <tr>\n",
       "      <th>0</th>\n",
       "      <td>K02000001</td>\n",
       "      <td>2015</td>\n",
       "      <td>Total</td>\n",
       "      <td>Exports</td>\n",
       "      <td>0 to 1 years</td>\n",
       "      <td>total</td>\n",
       "      <td>Count</td>\n",
       "      <td>10515</td>\n",
       "      <td>Businesses</td>\n",
       "    </tr>\n",
       "    <tr>\n",
       "      <th>1</th>\n",
       "      <td>K02000001</td>\n",
       "      <td>2015</td>\n",
       "      <td>Total</td>\n",
       "      <td>Imports</td>\n",
       "      <td>0 to 1 years</td>\n",
       "      <td>total</td>\n",
       "      <td>Count</td>\n",
       "      <td>21541</td>\n",
       "      <td>Businesses</td>\n",
       "    </tr>\n",
       "    <tr>\n",
       "      <th>2</th>\n",
       "      <td>K02000001</td>\n",
       "      <td>2015</td>\n",
       "      <td>Total</td>\n",
       "      <td>Exports</td>\n",
       "      <td>2 to 3 years</td>\n",
       "      <td>total</td>\n",
       "      <td>Count</td>\n",
       "      <td>13308</td>\n",
       "      <td>Businesses</td>\n",
       "    </tr>\n",
       "    <tr>\n",
       "      <th>3</th>\n",
       "      <td>K02000001</td>\n",
       "      <td>2015</td>\n",
       "      <td>Total</td>\n",
       "      <td>Imports</td>\n",
       "      <td>2 to 3 years</td>\n",
       "      <td>total</td>\n",
       "      <td>Count</td>\n",
       "      <td>22043</td>\n",
       "      <td>Businesses</td>\n",
       "    </tr>\n",
       "    <tr>\n",
       "      <th>4</th>\n",
       "      <td>K02000001</td>\n",
       "      <td>2015</td>\n",
       "      <td>Total</td>\n",
       "      <td>Exports</td>\n",
       "      <td>4 to 5 years</td>\n",
       "      <td>total</td>\n",
       "      <td>Count</td>\n",
       "      <td>12088</td>\n",
       "      <td>Businesses</td>\n",
       "    </tr>\n",
       "  </tbody>\n",
       "</table>\n",
       "</div>"
      ],
      "text/plain": [
       "   Geography  Year Employment     Flow Age of Business HMRC Industry  \\\n",
       "0  K02000001  2015      Total  Exports    0 to 1 years         total   \n",
       "1  K02000001  2015      Total  Imports    0 to 1 years         total   \n",
       "2  K02000001  2015      Total  Exports    2 to 3 years         total   \n",
       "3  K02000001  2015      Total  Imports    2 to 3 years         total   \n",
       "4  K02000001  2015      Total  Exports    4 to 5 years         total   \n",
       "\n",
       "  Measure Type  Value        Unit  \n",
       "0        Count  10515  Businesses  \n",
       "1        Count  21541  Businesses  \n",
       "2        Count  13308  Businesses  \n",
       "3        Count  22043  Businesses  \n",
       "4        Count  12088  Businesses  "
      ]
     },
     "execution_count": 28,
     "metadata": {},
     "output_type": "execute_result"
    }
   ],
   "source": [
    "final_table.head()"
   ]
  },
  {
   "cell_type": "code",
   "execution_count": 29,
   "metadata": {},
   "outputs": [
    {
     "data": {
      "text/html": [
       "<div>\n",
       "<style scoped>\n",
       "    .dataframe tbody tr th:only-of-type {\n",
       "        vertical-align: middle;\n",
       "    }\n",
       "\n",
       "    .dataframe tbody tr th {\n",
       "        vertical-align: top;\n",
       "    }\n",
       "\n",
       "    .dataframe thead th {\n",
       "        text-align: right;\n",
       "    }\n",
       "</style>\n",
       "<table border=\"1\" class=\"dataframe\">\n",
       "  <thead>\n",
       "    <tr style=\"text-align: right;\">\n",
       "      <th></th>\n",
       "      <th>Geography</th>\n",
       "      <th>Year</th>\n",
       "      <th>Employment</th>\n",
       "      <th>Flow</th>\n",
       "      <th>Age of Business</th>\n",
       "      <th>HMRC Industry</th>\n",
       "      <th>Measure Type</th>\n",
       "      <th>Value</th>\n",
       "      <th>Unit</th>\n",
       "    </tr>\n",
       "  </thead>\n",
       "  <tbody>\n",
       "    <tr>\n",
       "      <th>119</th>\n",
       "      <td>K02000001</td>\n",
       "      <td>2015</td>\n",
       "      <td>Unknown employees</td>\n",
       "      <td>Imports</td>\n",
       "      <td>Total</td>\n",
       "      <td>group-10</td>\n",
       "      <td>Total Turnover</td>\n",
       "      <td>4288</td>\n",
       "      <td>£ Million</td>\n",
       "    </tr>\n",
       "    <tr>\n",
       "      <th>120</th>\n",
       "      <td>K02000001</td>\n",
       "      <td>2015</td>\n",
       "      <td>Unknown employees</td>\n",
       "      <td>Exports</td>\n",
       "      <td>Total</td>\n",
       "      <td>unknown</td>\n",
       "      <td>Total Turnover</td>\n",
       "      <td>11160</td>\n",
       "      <td>£ Million</td>\n",
       "    </tr>\n",
       "    <tr>\n",
       "      <th>121</th>\n",
       "      <td>K02000001</td>\n",
       "      <td>2015</td>\n",
       "      <td>Unknown employees</td>\n",
       "      <td>Imports</td>\n",
       "      <td>Total</td>\n",
       "      <td>unknown</td>\n",
       "      <td>Total Turnover</td>\n",
       "      <td>6459</td>\n",
       "      <td>£ Million</td>\n",
       "    </tr>\n",
       "    <tr>\n",
       "      <th>122</th>\n",
       "      <td>K02000001</td>\n",
       "      <td>2015</td>\n",
       "      <td>Total employees</td>\n",
       "      <td>Exports</td>\n",
       "      <td>Total</td>\n",
       "      <td>total</td>\n",
       "      <td>Total Turnover</td>\n",
       "      <td>304768</td>\n",
       "      <td>£ Million</td>\n",
       "    </tr>\n",
       "    <tr>\n",
       "      <th>123</th>\n",
       "      <td>K02000001</td>\n",
       "      <td>2015</td>\n",
       "      <td>Total employees</td>\n",
       "      <td>Imports</td>\n",
       "      <td>Total</td>\n",
       "      <td>total</td>\n",
       "      <td>Total Turnover</td>\n",
       "      <td>411033</td>\n",
       "      <td>£ Million</td>\n",
       "    </tr>\n",
       "  </tbody>\n",
       "</table>\n",
       "</div>"
      ],
      "text/plain": [
       "     Geography  Year         Employment     Flow Age of Business  \\\n",
       "119  K02000001  2015  Unknown employees  Imports           Total   \n",
       "120  K02000001  2015  Unknown employees  Exports           Total   \n",
       "121  K02000001  2015  Unknown employees  Imports           Total   \n",
       "122  K02000001  2015    Total employees  Exports           Total   \n",
       "123  K02000001  2015    Total employees  Imports           Total   \n",
       "\n",
       "    HMRC Industry    Measure Type   Value       Unit  \n",
       "119      group-10  Total Turnover    4288  £ Million  \n",
       "120       unknown  Total Turnover   11160  £ Million  \n",
       "121       unknown  Total Turnover    6459  £ Million  \n",
       "122         total  Total Turnover  304768  £ Million  \n",
       "123         total  Total Turnover  411033  £ Million  "
      ]
     },
     "execution_count": 29,
     "metadata": {},
     "output_type": "execute_result"
    }
   ],
   "source": [
    "final_table.tail()"
   ]
  },
  {
   "cell_type": "code",
   "execution_count": 30,
   "metadata": {
    "collapsed": true
   },
   "outputs": [],
   "source": [
    "out = Path('out')\n",
    "out.mkdir(exist_ok=True)\n",
    "final_table.to_csv(out / 'Businesscharacteristics.csv', index = False)"
   ]
  },
  {
   "cell_type": "code",
   "execution_count": null,
   "metadata": {
    "collapsed": true
   },
   "outputs": [],
   "source": []
  }
 ],
 "metadata": {
  "kernelspec": {
   "display_name": "Python 3",
   "language": "python",
   "name": "python3"
  },
  "language_info": {
   "codemirror_mode": {
    "name": "ipython",
    "version": 3
   },
   "file_extension": ".py",
   "mimetype": "text/x-python",
   "name": "python",
   "nbconvert_exporter": "python",
   "pygments_lexer": "ipython3",
   "version": "3.6.3"
  }
 },
 "nbformat": 4,
 "nbformat_minor": 2
}
