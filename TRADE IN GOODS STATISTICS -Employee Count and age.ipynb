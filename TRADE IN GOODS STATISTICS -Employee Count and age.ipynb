{
 "cells": [
  {
   "cell_type": "markdown",
   "metadata": {},
   "source": [
    "TRADE IN GOODS STATISTICS:Employee Count and age"
   ]
  },
  {
   "cell_type": "code",
   "execution_count": 1,
   "metadata": {
    "collapsed": true
   },
   "outputs": [],
   "source": [
    "from databaker.framework import *\n",
    "import pandas as pd"
   ]
  },
  {
   "cell_type": "code",
   "execution_count": 2,
   "metadata": {
    "collapsed": true
   },
   "outputs": [],
   "source": [
    "import requests\n",
    "from pathlib import Path\n",
    "\n",
    "sourceFolder = Path('in')\n",
    "sourceFolder.mkdir(exist_ok=True)\n",
    "\n",
    "inputURL = 'https://www.uktradeinfo.com/statistics/documents/idbr_ots_tables_2015.xls'\n",
    "inputFile = sourceFolder / 'idbr_ots_tables_2015.xls'\n",
    "if not(inputFile.exists() and inputFile.is_file()):\n",
    "    response = requests.get(inputURL)\n",
    "    with open(inputFile, 'wb') as f:\n",
    "        f.write(response.content)"
   ]
  },
  {
   "cell_type": "code",
   "execution_count": 3,
   "metadata": {},
   "outputs": [
    {
     "name": "stdout",
     "output_type": "stream",
     "text": [
      "Loading in\\idbr_ots_tables_2015.xls which has size 174080 bytes\n",
      "Table names: ['Notes and Contents', 'Industry Group', 'Age Group', 'Employee Size', 'Industry_Age', 'Industry_EmployeeSize', 'EmployeeSize_Age', 'Metadata']\n"
     ]
    }
   ],
   "source": [
    "tab = loadxlstabs(inputFile)"
   ]
  },
  {
   "cell_type": "code",
   "execution_count": 4,
   "metadata": {},
   "outputs": [],
   "source": [
    "tab = tab[6]"
   ]
  },
  {
   "cell_type": "code",
   "execution_count": 5,
   "metadata": {},
   "outputs": [
    {
     "data": {
      "text/html": [
       "<div id=\"injblock1001\">\n",
       "<style>\n",
       "table.ex, table.exkey { border: thin black solid }\n",
       "table.ex td, table.ex tr { border: none }\n",
       "table.ex td:hover { border: thin blue solid }\n",
       "table.ex td.excOBS:hover { border: thin red solid }\n",
       "table.ex td.selected { border: thick red solid }\n",
       "</style>\n",
       "\n",
       "\n",
       "\n",
       "<table class=\"ex\">\n",
       "<caption style=\"text-align:center; padding:0px; caption-side:bottom\">EmployeeSize_Age</caption>\n",
       "<tr><td style=\"font-weight:bold\" title=\"0 0\">TRADE IN GOODS STATISTICS MATCHED WITH REGISTERED BUSINESSES FROM THE INTER-DEPARTMENTAL BUSINESS REGISTER</td><td title=\"1 0\"></td><td title=\"2 0\"></td><td title=\"3 0\"></td><td title=\"4 0\"></td><td title=\"5 0\"></td><td title=\"6 0\"></td><td title=\"7 0\"></td><td title=\"8 0\"></td><td title=\"9 0\"></td><td title=\"10 0\"></td><td title=\"11 0\"></td><td title=\"12 0\"></td><td title=\"13 0\"></td><td title=\"14 0\"></td><td title=\"15 0\"></td><td title=\"16 0\"></td><td title=\"17 0\"></td><td title=\"18 0\"></td><td title=\"19 0\"></td><td title=\"20 0\"></td><td title=\"21 0\"></td></tr>\n",
       "<tr><td title=\"0 1\"></td><td title=\"1 1\"></td><td title=\"2 1\"></td><td title=\"3 1\"></td><td title=\"4 1\"></td><td title=\"5 1\"></td><td title=\"6 1\"></td><td title=\"7 1\"></td><td title=\"8 1\"></td><td title=\"9 1\"></td><td title=\"10 1\"></td><td title=\"11 1\"></td><td title=\"12 1\"></td><td title=\"13 1\"></td><td title=\"14 1\"></td><td title=\"15 1\"></td><td title=\"16 1\"></td><td title=\"17 1\"></td><td title=\"18 1\"></td><td title=\"19 1\"></td><td title=\"20 1\"></td><td title=\"21 1\"></td></tr>\n",
       "<tr><td style=\"font-weight:bold\" title=\"0 2\">Release Date 24/11/2016</td><td title=\"1 2\"></td><td title=\"2 2\"></td><td title=\"3 2\"></td><td title=\"4 2\"></td><td title=\"5 2\"></td><td title=\"6 2\"></td><td title=\"7 2\"></td><td title=\"8 2\"></td><td title=\"9 2\"></td><td title=\"10 2\"></td><td title=\"11 2\"></td><td title=\"12 2\"></td><td title=\"13 2\"></td><td title=\"14 2\"></td><td title=\"15 2\"></td><td title=\"16 2\"></td><td title=\"17 2\"></td><td title=\"18 2\"></td><td title=\"19 2\"></td><td title=\"20 2\"></td><td title=\"21 2\"></td></tr>\n",
       "<tr><td title=\"0 3\"></td><td title=\"1 3\"></td><td title=\"2 3\"></td><td title=\"3 3\"></td><td title=\"4 3\"></td><td title=\"5 3\"></td><td title=\"6 3\"></td><td title=\"7 3\"></td><td title=\"8 3\"></td><td title=\"9 3\"></td><td title=\"10 3\"></td><td title=\"11 3\"></td><td title=\"12 3\"></td><td title=\"13 3\"></td><td title=\"14 3\"></td><td title=\"15 3\"></td><td title=\"16 3\"></td><td title=\"17 3\"></td><td title=\"18 3\"></td><td title=\"19 3\"></td><td title=\"20 3\"></td><td title=\"21 3\"></td></tr>\n",
       "<tr><td style=\"font-weight:bold\" title=\"0 4\">Total value of UK Trade, Business count and Employee Count, by Employee Size group and Age for Imports and Exports</td><td title=\"1 4\"></td><td title=\"2 4\"></td><td title=\"3 4\"></td><td title=\"4 4\"></td><td title=\"5 4\"></td><td title=\"6 4\"></td><td title=\"7 4\"></td><td title=\"8 4\"></td><td title=\"9 4\"></td><td title=\"10 4\"></td><td title=\"11 4\"></td><td title=\"12 4\"></td><td title=\"13 4\"></td><td title=\"14 4\"></td><td title=\"15 4\"></td><td title=\"16 4\"></td><td title=\"17 4\"></td><td title=\"18 4\"></td><td title=\"19 4\"></td><td title=\"20 4\"></td><td title=\"21 4\"></td></tr>\n",
       "<tr><td title=\"0 5\"></td><td title=\"1 5\"></td><td title=\"2 5\"></td><td style=\"font-weight:bold\" title=\"3 5\">Exports</td><td style=\"font-weight:bold\" title=\"4 5\"></td><td style=\"font-weight:bold\" title=\"5 5\"></td><td title=\"6 5\"></td><td style=\"font-weight:bold\" title=\"7 5\">Imports</td><td style=\"font-weight:bold\" title=\"8 5\"></td><td style=\"font-weight:bold\" title=\"9 5\"></td><td title=\"10 5\"></td><td title=\"11 5\"></td><td title=\"12 5\"></td><td title=\"13 5\"></td><td title=\"14 5\"></td><td title=\"15 5\"></td><td title=\"16 5\"></td><td title=\"17 5\"></td><td title=\"18 5\"></td><td title=\"19 5\"></td><td title=\"20 5\"></td><td title=\"21 5\"></td></tr>\n",
       "<tr><td title=\"0 6\"></td><td title=\"1 6\"></td><td title=\"2 6\"></td><td title=\"3 6\">2015.0</td><td title=\"4 6\"></td><td title=\"5 6\"></td><td title=\"6 6\"></td><td title=\"7 6\">2015.0</td><td title=\"8 6\"></td><td title=\"9 6\"></td><td title=\"10 6\"></td><td title=\"11 6\"></td><td title=\"12 6\"></td><td title=\"13 6\"></td><td title=\"14 6\"></td><td title=\"15 6\"></td><td title=\"16 6\"></td><td title=\"17 6\"></td><td title=\"18 6\"></td><td title=\"19 6\"></td><td title=\"20 6\"></td><td title=\"21 6\"></td></tr>\n",
       "<tr><td style=\"font-weight:bold\" title=\"0 7\">Employees</td><td style=\"font-weight:bold\" title=\"1 7\">Age (years)</td><td title=\"2 7\"></td><td title=\"3 7\">Value £ m</td><td title=\"4 7\">Business Count</td><td title=\"5 7\">Employee Count</td><td title=\"6 7\"></td><td title=\"7 7\">Value £ m</td><td title=\"8 7\">Business Count</td><td title=\"9 7\">Employee Count</td><td title=\"10 7\"></td><td title=\"11 7\"></td><td title=\"12 7\"></td><td title=\"13 7\"></td><td title=\"14 7\"></td><td title=\"15 7\"></td><td title=\"16 7\"></td><td title=\"17 7\"></td><td title=\"18 7\"></td><td title=\"19 7\"></td><td title=\"20 7\"></td><td title=\"21 7\"></td></tr>\n",
       "<tr><td title=\"0 8\"></td><td title=\"1 8\"></td><td title=\"2 8\"></td><td title=\"3 8\"></td><td title=\"4 8\"></td><td title=\"5 8\"></td><td title=\"6 8\"></td><td title=\"7 8\"></td><td title=\"8 8\"></td><td title=\"9 8\"></td><td title=\"10 8\"></td><td title=\"11 8\"></td><td title=\"12 8\"></td><td title=\"13 8\"></td><td title=\"14 8\"></td><td title=\"15 8\"></td><td title=\"16 8\"></td><td title=\"17 8\"></td><td title=\"18 8\"></td><td title=\"19 8\"></td><td title=\"20 8\"></td><td title=\"21 8\"></td></tr>\n",
       "<tr><td title=\"0 9\">0.0</td><td title=\"1 9\">0 to 1</td><td title=\"2 9\"></td><td title=\"3 9\">1052.0</td><td title=\"4 9\">1083.0</td><td title=\"5 9\">0.0</td><td title=\"6 9\"></td><td title=\"7 9\">2348.0</td><td title=\"8 9\">2615.0</td><td title=\"9 9\">0.0</td><td title=\"10 9\"></td><td title=\"11 9\"></td><td title=\"12 9\"></td><td title=\"13 9\"></td><td title=\"14 9\"></td><td title=\"15 9\"></td><td title=\"16 9\"></td><td title=\"17 9\"></td><td title=\"18 9\"></td><td title=\"19 9\"></td><td title=\"20 9\"></td><td title=\"21 9\"></td></tr>\n",
       "<tr><td title=\"0 10\"></td><td title=\"1 10\">2 to 3</td><td title=\"2 10\"></td><td title=\"3 10\">1909.0</td><td title=\"4 10\">1123.0</td><td title=\"5 10\">0.0</td><td title=\"6 10\"></td><td title=\"7 10\">3828.0</td><td title=\"8 10\">2036.0</td><td title=\"9 10\">0.0</td><td title=\"10 10\"></td><td title=\"11 10\"></td><td title=\"12 10\"></td><td title=\"13 10\"></td><td title=\"14 10\"></td><td title=\"15 10\"></td><td title=\"16 10\"></td><td title=\"17 10\"></td><td title=\"18 10\"></td><td title=\"19 10\"></td><td title=\"20 10\"></td><td title=\"21 10\"></td></tr>\n",
       "<tr><td title=\"0 11\"></td><td title=\"1 11\">4 to 5</td><td title=\"2 11\"></td><td title=\"3 11\">S</td><td title=\"4 11\">S</td><td title=\"5 11\">0.0</td><td title=\"6 11\"></td><td title=\"7 11\">9711.0</td><td title=\"8 11\">1460.0</td><td title=\"9 11\">0.0</td><td title=\"10 11\"></td><td title=\"11 11\"></td><td title=\"12 11\"></td><td title=\"13 11\"></td><td title=\"14 11\"></td><td title=\"15 11\"></td><td title=\"16 11\"></td><td title=\"17 11\"></td><td title=\"18 11\"></td><td title=\"19 11\"></td><td title=\"20 11\"></td><td title=\"21 11\"></td></tr>\n",
       "<tr><td title=\"0 12\"></td><td title=\"1 12\">6 to 9 </td><td title=\"2 12\"></td><td title=\"3 12\">5813.0</td><td title=\"4 12\">1467.0</td><td title=\"5 12\">0.0</td><td title=\"6 12\"></td><td title=\"7 12\">9080.0</td><td title=\"8 12\">2228.0</td><td title=\"9 12\">0.0</td><td title=\"10 12\"></td><td title=\"11 12\"></td><td title=\"12 12\"></td><td title=\"13 12\"></td><td title=\"14 12\"></td><td title=\"15 12\"></td><td title=\"16 12\"></td><td title=\"17 12\"></td><td title=\"18 12\"></td><td title=\"19 12\"></td><td title=\"20 12\"></td><td title=\"21 12\"></td></tr>\n",
       "<tr><td title=\"0 13\"></td><td title=\"1 13\">10 to 20</td><td title=\"2 13\"></td><td title=\"3 13\">8585.0</td><td title=\"4 13\">2221.0</td><td title=\"5 13\">0.0</td><td title=\"6 13\"></td><td title=\"7 13\">13515.0</td><td title=\"8 13\">3344.0</td><td title=\"9 13\">0.0</td><td title=\"10 13\"></td><td title=\"11 13\"></td><td title=\"12 13\"></td><td title=\"13 13\"></td><td title=\"14 13\"></td><td title=\"15 13\"></td><td title=\"16 13\"></td><td title=\"17 13\"></td><td title=\"18 13\"></td><td title=\"19 13\"></td><td title=\"20 13\"></td><td title=\"21 13\"></td></tr>\n",
       "<tr><td title=\"0 14\"></td><td title=\"1 14\">20 +</td><td title=\"2 14\"></td><td title=\"3 14\">4125.0</td><td title=\"4 14\">2329.0</td><td title=\"5 14\">0.0</td><td title=\"6 14\"></td><td title=\"7 14\">6435.0</td><td title=\"8 14\">3201.0</td><td title=\"9 14\">0.0</td><td title=\"10 14\"></td><td title=\"11 14\"></td><td title=\"12 14\"></td><td title=\"13 14\"></td><td title=\"14 14\"></td><td title=\"15 14\"></td><td title=\"16 14\"></td><td title=\"17 14\"></td><td title=\"18 14\"></td><td title=\"19 14\"></td><td title=\"20 14\"></td><td title=\"21 14\"></td></tr>\n",
       "<tr><td title=\"0 15\"></td><td title=\"1 15\">Unknown</td><td title=\"2 15\"></td><td title=\"3 15\">S</td><td title=\"4 15\">S</td><td title=\"5 15\">0.0</td><td title=\"6 15\"></td><td title=\"7 15\">6.0</td><td title=\"8 15\">99.0</td><td title=\"9 15\">0.0</td><td title=\"10 15\"></td><td title=\"11 15\"></td><td title=\"12 15\"></td><td title=\"13 15\"></td><td title=\"14 15\"></td><td title=\"15 15\"></td><td title=\"16 15\"></td><td title=\"17 15\"></td><td title=\"18 15\"></td><td title=\"19 15\"></td><td title=\"20 15\"></td><td title=\"21 15\"></td></tr>\n",
       "<tr><td title=\"0 16\"></td><td title=\"1 16\"></td><td title=\"2 16\"></td><td title=\"3 16\"></td><td title=\"4 16\"></td><td title=\"5 16\"></td><td title=\"6 16\"></td><td title=\"7 16\"></td><td title=\"8 16\"></td><td title=\"9 16\"></td><td title=\"10 16\"></td><td title=\"11 16\"></td><td title=\"12 16\"></td><td title=\"13 16\"></td><td title=\"14 16\"></td><td title=\"15 16\"></td><td title=\"16 16\"></td><td title=\"17 16\"></td><td title=\"18 16\"></td><td title=\"19 16\"></td><td title=\"20 16\"></td><td title=\"21 16\"></td></tr>\n",
       "<tr><td title=\"0 17\">1 to 9</td><td title=\"1 17\">0 to 1</td><td title=\"2 17\"></td><td title=\"3 17\">1223.0</td><td title=\"4 17\">8087.0</td><td title=\"5 17\">17196.0</td><td title=\"6 17\"></td><td title=\"7 17\">2182.0</td><td title=\"8 17\">16455.0</td><td title=\"9 17\">36528.0</td><td title=\"10 17\"></td><td title=\"11 17\"></td><td title=\"12 17\"></td><td title=\"13 17\"></td><td title=\"14 17\"></td><td title=\"15 17\"></td><td title=\"16 17\"></td><td title=\"17 17\"></td><td title=\"18 17\"></td><td title=\"19 17\"></td><td title=\"20 17\"></td><td title=\"21 17\"></td></tr>\n",
       "<tr><td title=\"0 18\"></td><td title=\"1 18\">2 to 3</td><td title=\"2 18\"></td><td title=\"3 18\">1639.0</td><td title=\"4 18\">10135.0</td><td title=\"5 18\">25662.0</td><td title=\"6 18\"></td><td title=\"7 18\">2666.0</td><td title=\"8 18\">16504.0</td><td title=\"9 18\">44179.0</td><td title=\"10 18\"></td><td title=\"11 18\"></td><td title=\"12 18\"></td><td title=\"13 18\"></td><td title=\"14 18\"></td><td title=\"15 18\"></td><td title=\"16 18\"></td><td title=\"17 18\"></td><td title=\"18 18\"></td><td title=\"19 18\"></td><td title=\"20 18\"></td><td title=\"21 18\"></td></tr>\n",
       "<tr><td title=\"0 19\"></td><td title=\"1 19\">4 to 5</td><td title=\"2 19\"></td><td title=\"3 19\">1227.0</td><td title=\"4 19\">8680.0</td><td title=\"5 19\">24864.0</td><td title=\"6 19\"></td><td title=\"7 19\">2327.0</td><td title=\"8 19\">13115.0</td><td title=\"9 19\">39580.0</td><td title=\"10 19\"></td><td title=\"11 19\"></td><td title=\"12 19\"></td><td title=\"13 19\"></td><td title=\"14 19\"></td><td title=\"15 19\"></td><td title=\"16 19\"></td><td title=\"17 19\"></td><td title=\"18 19\"></td><td title=\"19 19\"></td><td title=\"20 19\"></td><td title=\"21 19\"></td></tr>\n",
       "<tr><td title=\"0 20\"></td><td title=\"1 20\">6 to 9 </td><td title=\"2 20\"></td><td title=\"3 20\">2413.0</td><td title=\"4 20\">13016.0</td><td title=\"5 20\">41981.0</td><td title=\"6 20\"></td><td title=\"7 20\">4059.0</td><td title=\"8 20\">18927.0</td><td title=\"9 20\">62786.0</td><td title=\"10 20\"></td><td title=\"11 20\"></td><td title=\"12 20\"></td><td title=\"13 20\"></td><td title=\"14 20\"></td><td title=\"15 20\"></td><td title=\"16 20\"></td><td title=\"17 20\"></td><td title=\"18 20\"></td><td title=\"19 20\"></td><td title=\"20 20\"></td><td title=\"21 20\"></td></tr>\n",
       "<tr><td title=\"0 21\"></td><td title=\"1 21\">10 to 20</td><td title=\"2 21\"></td><td title=\"3 21\">3670.0</td><td title=\"4 21\">20301.0</td><td title=\"5 21\">73933.0</td><td title=\"6 21\"></td><td title=\"7 21\">6838.0</td><td title=\"8 21\">28008.0</td><td title=\"9 21\">103406.0</td><td title=\"10 21\"></td><td title=\"11 21\"></td><td title=\"12 21\"></td><td title=\"13 21\"></td><td title=\"14 21\"></td><td title=\"15 21\"></td><td title=\"16 21\"></td><td title=\"17 21\"></td><td title=\"18 21\"></td><td title=\"19 21\"></td><td title=\"20 21\"></td><td title=\"21 21\"></td></tr>\n",
       "<tr><td title=\"0 22\"></td><td title=\"1 22\">20 +</td><td title=\"2 22\"></td><td title=\"3 22\">6158.0</td><td title=\"4 22\">16757.0</td><td title=\"5 22\">71109.0</td><td title=\"6 22\"></td><td title=\"7 22\">8578.0</td><td title=\"8 22\">23290.0</td><td title=\"9 22\">100360.0</td><td title=\"10 22\"></td><td title=\"11 22\"></td><td title=\"12 22\"></td><td title=\"13 22\"></td><td title=\"14 22\"></td><td title=\"15 22\"></td><td title=\"16 22\"></td><td title=\"17 22\"></td><td title=\"18 22\"></td><td title=\"19 22\"></td><td title=\"20 22\"></td><td title=\"21 22\"></td></tr>\n",
       "<tr><td title=\"0 23\"></td><td title=\"1 23\">Unknown</td><td title=\"2 23\"></td><td title=\"3 23\">39.0</td><td title=\"4 23\">305.0</td><td title=\"5 23\">756.0</td><td title=\"6 23\"></td><td title=\"7 23\">129.0</td><td title=\"8 23\">1577.0</td><td title=\"9 23\">3466.0</td><td title=\"10 23\"></td><td title=\"11 23\"></td><td title=\"12 23\"></td><td title=\"13 23\"></td><td title=\"14 23\"></td><td title=\"15 23\"></td><td title=\"16 23\"></td><td title=\"17 23\"></td><td title=\"18 23\"></td><td title=\"19 23\"></td><td title=\"20 23\"></td><td title=\"21 23\"></td></tr>\n",
       "<tr><td title=\"0 24\"></td><td title=\"1 24\"></td><td title=\"2 24\"></td><td title=\"3 24\"></td><td title=\"4 24\"></td><td title=\"5 24\"></td><td title=\"6 24\"></td><td title=\"7 24\"></td><td title=\"8 24\"></td><td title=\"9 24\"></td><td title=\"10 24\"></td><td title=\"11 24\"></td><td title=\"12 24\"></td><td title=\"13 24\"></td><td title=\"14 24\"></td><td title=\"15 24\"></td><td title=\"16 24\"></td><td title=\"17 24\"></td><td title=\"18 24\"></td><td title=\"19 24\"></td><td title=\"20 24\"></td><td title=\"21 24\"></td></tr>\n",
       "<tr><td title=\"0 25\">10 to 49</td><td title=\"1 25\">0 to 1</td><td title=\"2 25\"></td><td title=\"3 25\">930.0</td><td title=\"4 25\">914.0</td><td title=\"5 25\">19182.0</td><td title=\"6 25\"></td><td title=\"7 25\">2902.0</td><td title=\"8 25\">1811.0</td><td title=\"9 25\">36091.0</td><td title=\"10 25\"></td><td title=\"11 25\"></td><td title=\"12 25\"></td><td title=\"13 25\"></td><td title=\"14 25\"></td><td title=\"15 25\"></td><td title=\"16 25\"></td><td title=\"17 25\"></td><td title=\"18 25\"></td><td title=\"19 25\"></td><td title=\"20 25\"></td><td title=\"21 25\"></td></tr>\n",
       "<tr><td title=\"0 26\"></td><td title=\"1 26\">2 to 3</td><td title=\"2 26\"></td><td title=\"3 26\">918.0</td><td title=\"4 26\">1497.0</td><td title=\"5 26\">30074.0</td><td title=\"6 26\"></td><td title=\"7 26\">1702.0</td><td title=\"8 26\">2675.0</td><td title=\"9 26\">53335.0</td><td title=\"10 26\"></td><td title=\"11 26\"></td><td title=\"12 26\"></td><td title=\"13 26\"></td><td title=\"14 26\"></td><td title=\"15 26\"></td><td title=\"16 26\"></td><td title=\"17 26\"></td><td title=\"18 26\"></td><td title=\"19 26\"></td><td title=\"20 26\"></td><td title=\"21 26\"></td></tr>\n",
       "<tr><td title=\"0 27\"></td><td title=\"1 27\">4 to 5</td><td title=\"2 27\"></td><td title=\"3 27\">1265.0</td><td title=\"4 27\">1853.0</td><td title=\"5 27\">37384.0</td><td title=\"6 27\"></td><td title=\"7 27\">2364.0</td><td title=\"8 27\">2953.0</td><td title=\"9 27\">59070.0</td><td title=\"10 27\"></td><td title=\"11 27\"></td><td title=\"12 27\"></td><td title=\"13 27\"></td><td title=\"14 27\"></td><td title=\"15 27\"></td><td title=\"16 27\"></td><td title=\"17 27\"></td><td title=\"18 27\"></td><td title=\"19 27\"></td><td title=\"20 27\"></td><td title=\"21 27\"></td></tr>\n",
       "<tr><td title=\"0 28\"></td><td title=\"1 28\">6 to 9 </td><td title=\"2 28\"></td><td title=\"3 28\">2968.0</td><td title=\"4 28\">4118.0</td><td title=\"5 28\">85890.0</td><td title=\"6 28\"></td><td title=\"7 28\">5531.0</td><td title=\"8 28\">5926.0</td><td title=\"9 28\">121575.0</td><td title=\"10 28\"></td><td title=\"11 28\"></td><td title=\"12 28\"></td><td title=\"13 28\"></td><td title=\"14 28\"></td><td title=\"15 28\"></td><td title=\"16 28\"></td><td title=\"17 28\"></td><td title=\"18 28\"></td><td title=\"19 28\"></td><td title=\"20 28\"></td><td title=\"21 28\"></td></tr>\n",
       "<tr><td title=\"0 29\"></td><td title=\"1 29\">10 to 20</td><td title=\"2 29\"></td><td title=\"3 29\">7361.0</td><td title=\"4 29\">9943.0</td><td title=\"5 29\">210989.0</td><td title=\"6 29\"></td><td title=\"7 29\">14246.0</td><td title=\"8 29\">13036.0</td><td title=\"9 29\">274616.0</td><td title=\"10 29\"></td><td title=\"11 29\"></td><td title=\"12 29\"></td><td title=\"13 29\"></td><td title=\"14 29\"></td><td title=\"15 29\"></td><td title=\"16 29\"></td><td title=\"17 29\"></td><td title=\"18 29\"></td><td title=\"19 29\"></td><td title=\"20 29\"></td><td title=\"21 29\"></td></tr>\n",
       "<tr><td title=\"0 30\"></td><td title=\"1 30\">20 +</td><td title=\"2 30\"></td><td title=\"3 30\">10709.0</td><td title=\"4 30\">14698.0</td><td title=\"5 30\">328545.0</td><td title=\"6 30\"></td><td title=\"7 30\">21243.0</td><td title=\"8 30\">18491.0</td><td title=\"9 30\">409948.0</td><td title=\"10 30\"></td><td title=\"11 30\"></td><td title=\"12 30\"></td><td title=\"13 30\"></td><td title=\"14 30\"></td><td title=\"15 30\"></td><td title=\"16 30\"></td><td title=\"17 30\"></td><td title=\"18 30\"></td><td title=\"19 30\"></td><td title=\"20 30\"></td><td title=\"21 30\"></td></tr>\n",
       "<tr><td title=\"0 31\"></td><td title=\"1 31\">Unknown</td><td title=\"2 31\"></td><td title=\"3 31\">115.0</td><td title=\"4 31\">105.0</td><td title=\"5 31\">2356.0</td><td title=\"6 31\"></td><td title=\"7 31\">111.0</td><td title=\"8 31\">202.0</td><td title=\"9 31\">4320.0</td><td title=\"10 31\"></td><td title=\"11 31\"></td><td title=\"12 31\"></td><td title=\"13 31\"></td><td title=\"14 31\"></td><td title=\"15 31\"></td><td title=\"16 31\"></td><td title=\"17 31\"></td><td title=\"18 31\"></td><td title=\"19 31\"></td><td title=\"20 31\"></td><td title=\"21 31\"></td></tr>\n",
       "<tr><td title=\"0 32\"></td><td title=\"1 32\"></td><td title=\"2 32\"></td><td title=\"3 32\"></td><td title=\"4 32\"></td><td title=\"5 32\"></td><td title=\"6 32\"></td><td title=\"7 32\"></td><td title=\"8 32\"></td><td title=\"9 32\"></td><td title=\"10 32\"></td><td title=\"11 32\"></td><td title=\"12 32\"></td><td title=\"13 32\"></td><td title=\"14 32\"></td><td title=\"15 32\"></td><td title=\"16 32\"></td><td title=\"17 32\"></td><td title=\"18 32\"></td><td title=\"19 32\"></td><td title=\"20 32\"></td><td title=\"21 32\"></td></tr>\n",
       "<tr><td title=\"0 33\">50 to 249</td><td title=\"1 33\">0 to 1</td><td title=\"2 33\"></td><td title=\"3 33\">S</td><td title=\"4 33\">S</td><td title=\"5 33\">S</td><td title=\"6 33\"></td><td title=\"7 33\">S</td><td title=\"8 33\">S</td><td title=\"9 33\">S</td><td title=\"10 33\"></td><td title=\"11 33\"></td><td title=\"12 33\"></td><td title=\"13 33\"></td><td title=\"14 33\"></td><td title=\"15 33\"></td><td title=\"16 33\"></td><td title=\"17 33\"></td><td title=\"18 33\"></td><td title=\"19 33\"></td><td title=\"20 33\"></td><td title=\"21 33\"></td></tr>\n",
       "<tr><td title=\"0 34\"></td><td title=\"1 34\">2 to 3</td><td title=\"2 34\"></td><td title=\"3 34\">2016.0</td><td title=\"4 34\">425.0</td><td title=\"5 34\">44590.0</td><td title=\"6 34\"></td><td title=\"7 34\">2750.0</td><td title=\"8 34\">653.0</td><td title=\"9 34\">66618.0</td><td title=\"10 34\"></td><td title=\"11 34\"></td><td title=\"12 34\"></td><td title=\"13 34\"></td><td title=\"14 34\"></td><td title=\"15 34\"></td><td title=\"16 34\"></td><td title=\"17 34\"></td><td title=\"18 34\"></td><td title=\"19 34\"></td><td title=\"20 34\"></td><td title=\"21 34\"></td></tr>\n",
       "<tr><td title=\"0 35\"></td><td title=\"1 35\">4 to 5</td><td title=\"2 35\"></td><td title=\"3 35\">2136.0</td><td title=\"4 35\">502.0</td><td title=\"5 35\">52755.0</td><td title=\"6 35\"></td><td title=\"7 35\">2116.0</td><td title=\"8 35\">698.0</td><td title=\"9 35\">70852.0</td><td title=\"10 35\"></td><td title=\"11 35\"></td><td title=\"12 35\"></td><td title=\"13 35\"></td><td title=\"14 35\"></td><td title=\"15 35\"></td><td title=\"16 35\"></td><td title=\"17 35\"></td><td title=\"18 35\"></td><td title=\"19 35\"></td><td title=\"20 35\"></td><td title=\"21 35\"></td></tr>\n",
       "<tr><td title=\"0 36\"></td><td title=\"1 36\">6 to 9 </td><td title=\"2 36\"></td><td title=\"3 36\">4941.0</td><td title=\"4 36\">1173.0</td><td title=\"5 36\">121869.0</td><td title=\"6 36\"></td><td title=\"7 36\">7606.0</td><td title=\"8 36\">1544.0</td><td title=\"9 36\">157644.0</td><td title=\"10 36\"></td><td title=\"11 36\"></td><td title=\"12 36\"></td><td title=\"13 36\"></td><td title=\"14 36\"></td><td title=\"15 36\"></td><td title=\"16 36\"></td><td title=\"17 36\"></td><td title=\"18 36\"></td><td title=\"19 36\"></td><td title=\"20 36\"></td><td title=\"21 36\"></td></tr>\n",
       "<tr><td title=\"0 37\"></td><td title=\"1 37\">10 to 20</td><td title=\"2 37\"></td><td title=\"3 37\">11270.0</td><td title=\"4 37\">2877.0</td><td title=\"5 37\">299606.0</td><td title=\"6 37\"></td><td title=\"7 37\">16579.0</td><td title=\"8 37\">3635.0</td><td title=\"9 37\">379256.0</td><td title=\"10 37\"></td><td title=\"11 37\"></td><td title=\"12 37\"></td><td title=\"13 37\"></td><td title=\"14 37\"></td><td title=\"15 37\"></td><td title=\"16 37\"></td><td title=\"17 37\"></td><td title=\"18 37\"></td><td title=\"19 37\"></td><td title=\"20 37\"></td><td title=\"21 37\"></td></tr>\n",
       "<tr><td title=\"0 38\"></td><td title=\"1 38\">20 +</td><td title=\"2 38\"></td><td title=\"3 38\">20935.0</td><td title=\"4 38\">5220.0</td><td title=\"5 38\">536470.0</td><td title=\"6 38\"></td><td title=\"7 38\">34031.0</td><td title=\"8 38\">6474.0</td><td title=\"9 38\">660404.0</td><td title=\"10 38\"></td><td title=\"11 38\"></td><td title=\"12 38\"></td><td title=\"13 38\"></td><td title=\"14 38\"></td><td title=\"15 38\"></td><td title=\"16 38\"></td><td title=\"17 38\"></td><td title=\"18 38\"></td><td title=\"19 38\"></td><td title=\"20 38\"></td><td title=\"21 38\"></td></tr>\n",
       "<tr><td title=\"0 39\"></td><td title=\"1 39\">Unknown</td><td title=\"2 39\"></td><td title=\"3 39\">S</td><td title=\"4 39\">S</td><td title=\"5 39\">S</td><td title=\"6 39\"></td><td title=\"7 39\">S</td><td title=\"8 39\">S</td><td title=\"9 39\">S</td><td title=\"10 39\"></td><td title=\"11 39\"></td><td title=\"12 39\"></td><td title=\"13 39\"></td><td title=\"14 39\"></td><td title=\"15 39\"></td><td title=\"16 39\"></td><td title=\"17 39\"></td><td title=\"18 39\"></td><td title=\"19 39\"></td><td title=\"20 39\"></td><td title=\"21 39\"></td></tr>\n",
       "<tr><td title=\"0 40\"></td><td title=\"1 40\"></td><td title=\"2 40\"></td><td title=\"3 40\"></td><td title=\"4 40\"></td><td title=\"5 40\"></td><td title=\"6 40\"></td><td title=\"7 40\"></td><td title=\"8 40\"></td><td title=\"9 40\"></td><td title=\"10 40\"></td><td title=\"11 40\"></td><td title=\"12 40\"></td><td title=\"13 40\"></td><td title=\"14 40\"></td><td title=\"15 40\"></td><td title=\"16 40\"></td><td title=\"17 40\"></td><td title=\"18 40\"></td><td title=\"19 40\"></td><td title=\"20 40\"></td><td title=\"21 40\"></td></tr>\n",
       "<tr><td title=\"0 41\">250 +</td><td title=\"1 41\">0 to 1</td><td title=\"2 41\"></td><td title=\"3 41\">S</td><td title=\"4 41\">S</td><td title=\"5 41\">S</td><td title=\"6 41\"></td><td title=\"7 41\">S</td><td title=\"8 41\">S</td><td title=\"9 41\">S</td><td title=\"10 41\"></td><td title=\"11 41\"></td><td title=\"12 41\"></td><td title=\"13 41\"></td><td title=\"14 41\"></td><td title=\"15 41\"></td><td title=\"16 41\"></td><td title=\"17 41\"></td><td title=\"18 41\"></td><td title=\"19 41\"></td><td title=\"20 41\"></td><td title=\"21 41\"></td></tr>\n",
       "<tr><td title=\"0 42\"></td><td title=\"1 42\">2 to 3</td><td title=\"2 42\"></td><td title=\"3 42\">1644.0</td><td title=\"4 42\">128.0</td><td title=\"5 42\">149709.0</td><td title=\"6 42\"></td><td title=\"7 42\">9489.0</td><td title=\"8 42\">175.0</td><td title=\"9 42\">237736.0</td><td title=\"10 42\"></td><td title=\"11 42\"></td><td title=\"12 42\"></td><td title=\"13 42\"></td><td title=\"14 42\"></td><td title=\"15 42\"></td><td title=\"16 42\"></td><td title=\"17 42\"></td><td title=\"18 42\"></td><td title=\"19 42\"></td><td title=\"20 42\"></td><td title=\"21 42\"></td></tr>\n",
       "<tr><td title=\"0 43\"></td><td title=\"1 43\">4 to 5</td><td title=\"2 43\"></td><td title=\"3 43\">S</td><td title=\"4 43\">S</td><td title=\"5 43\">148535.0</td><td title=\"6 43\"></td><td title=\"7 43\">5230.0</td><td title=\"8 43\">204.0</td><td title=\"9 43\">223579.0</td><td title=\"10 43\"></td><td title=\"11 43\"></td><td title=\"12 43\"></td><td title=\"13 43\"></td><td title=\"14 43\"></td><td title=\"15 43\"></td><td title=\"16 43\"></td><td title=\"17 43\"></td><td title=\"18 43\"></td><td title=\"19 43\"></td><td title=\"20 43\"></td><td title=\"21 43\"></td></tr>\n",
       "<tr><td title=\"0 44\"></td><td title=\"1 44\">6 to 9 </td><td title=\"2 44\"></td><td title=\"3 44\">22353.0</td><td title=\"4 44\">362.0</td><td title=\"5 44\">475904.0</td><td title=\"6 44\"></td><td title=\"7 44\">14819.0</td><td title=\"8 44\">492.0</td><td title=\"9 44\">690551.0</td><td title=\"10 44\"></td><td title=\"11 44\"></td><td title=\"12 44\"></td><td title=\"13 44\"></td><td title=\"14 44\"></td><td title=\"15 44\"></td><td title=\"16 44\"></td><td title=\"17 44\"></td><td title=\"18 44\"></td><td title=\"19 44\"></td><td title=\"20 44\"></td><td title=\"21 44\"></td></tr>\n",
       "<tr><td title=\"0 45\"></td><td title=\"1 45\">10 to 20</td><td title=\"2 45\"></td><td title=\"3 45\">34458.0</td><td title=\"4 45\">950.0</td><td title=\"5 45\">1312586.0</td><td title=\"6 45\"></td><td title=\"7 45\">38736.0</td><td title=\"8 45\">1173.0</td><td title=\"9 45\">1693860.0</td><td title=\"10 45\"></td><td title=\"11 45\"></td><td title=\"12 45\"></td><td title=\"13 45\"></td><td title=\"14 45\"></td><td title=\"15 45\"></td><td title=\"16 45\"></td><td title=\"17 45\"></td><td title=\"18 45\"></td><td title=\"19 45\"></td><td title=\"20 45\"></td><td title=\"21 45\"></td></tr>\n",
       "<tr><td title=\"0 46\"></td><td title=\"1 46\">20 +</td><td title=\"2 46\"></td><td title=\"3 46\">103507.0</td><td title=\"4 46\">1769.0</td><td title=\"5 46\">5142865.0</td><td title=\"6 46\"></td><td title=\"7 46\">138620.0</td><td title=\"8 46\">2203.0</td><td title=\"9 46\">6350620.0</td><td title=\"10 46\"></td><td title=\"11 46\"></td><td title=\"12 46\"></td><td title=\"13 46\"></td><td title=\"14 46\"></td><td title=\"15 46\"></td><td title=\"16 46\"></td><td title=\"17 46\"></td><td title=\"18 46\"></td><td title=\"19 46\"></td><td title=\"20 46\"></td><td title=\"21 46\"></td></tr>\n",
       "<tr><td title=\"0 47\"></td><td title=\"1 47\">Unknown</td><td title=\"2 47\"></td><td title=\"3 47\">S</td><td title=\"4 47\">S</td><td title=\"5 47\">S</td><td title=\"6 47\"></td><td title=\"7 47\">S</td><td title=\"8 47\">S</td><td title=\"9 47\">S</td><td title=\"10 47\"></td><td title=\"11 47\"></td><td title=\"12 47\"></td><td title=\"13 47\"></td><td title=\"14 47\"></td><td title=\"15 47\"></td><td title=\"16 47\"></td><td title=\"17 47\"></td><td title=\"18 47\"></td><td title=\"19 47\"></td><td title=\"20 47\"></td><td title=\"21 47\"></td></tr>\n",
       "<tr><td title=\"0 48\"></td><td title=\"1 48\"></td><td title=\"2 48\"></td><td title=\"3 48\"></td><td title=\"4 48\"></td><td title=\"5 48\"></td><td title=\"6 48\"></td><td title=\"7 48\"></td><td title=\"8 48\"></td><td title=\"9 48\"></td><td title=\"10 48\"></td><td title=\"11 48\"></td><td title=\"12 48\"></td><td title=\"13 48\"></td><td title=\"14 48\"></td><td title=\"15 48\"></td><td title=\"16 48\"></td><td title=\"17 48\"></td><td title=\"18 48\"></td><td title=\"19 48\"></td><td title=\"20 48\"></td><td title=\"21 48\"></td></tr>\n",
       "<tr><td title=\"0 49\">Unknown</td><td title=\"1 49\">Unknown</td><td title=\"2 49\"></td><td title=\"3 49\">21915.0</td><td title=\"4 49\">9746.0</td><td title=\"5 49\">.</td><td title=\"6 49\"></td><td title=\"7 49\">12763.0</td><td title=\"8 49\">23337.0</td><td title=\"9 49\">.</td><td title=\"10 49\"></td><td title=\"11 49\"></td><td title=\"12 49\"></td><td title=\"13 49\"></td><td title=\"14 49\"></td><td title=\"15 49\"></td><td title=\"16 49\"></td><td title=\"17 49\"></td><td title=\"18 49\"></td><td title=\"19 49\"></td><td title=\"20 49\"></td><td title=\"21 49\"></td></tr>\n",
       "<tr><td title=\"0 50\"></td><td title=\"1 50\"></td><td title=\"2 50\"></td><td title=\"3 50\"></td><td title=\"4 50\"></td><td title=\"5 50\"></td><td title=\"6 50\"></td><td title=\"7 50\"></td><td title=\"8 50\"></td><td title=\"9 50\"></td><td title=\"10 50\"></td><td title=\"11 50\"></td><td title=\"12 50\"></td><td title=\"13 50\"></td><td title=\"14 50\"></td><td title=\"15 50\"></td><td title=\"16 50\"></td><td title=\"17 50\"></td><td title=\"18 50\"></td><td title=\"19 50\"></td><td title=\"20 50\"></td><td title=\"21 50\"></td></tr>\n",
       "<tr><td style=\"font-weight:bold\" title=\"0 51\">Grand Total9</td><td style=\"font-weight:bold\" title=\"1 51\"></td><td style=\"font-weight:bold\" title=\"2 51\"></td><td style=\"font-weight:bold\" title=\"3 51\">304768.0</td><td style=\"font-weight:bold\" title=\"4 51\">143358.0</td><td style=\"font-weight:bold\" title=\"5 51\">9553443.0</td><td title=\"6 51\"></td><td style=\"font-weight:bold\" title=\"7 51\">411033.0</td><td style=\"font-weight:bold\" title=\"8 51\">219302.0</td><td style=\"font-weight:bold\" title=\"9 51\">12354666.0</td><td title=\"10 51\"></td><td title=\"11 51\"></td><td title=\"12 51\"></td><td title=\"13 51\"></td><td title=\"14 51\"></td><td title=\"15 51\"></td><td title=\"16 51\"></td><td title=\"17 51\"></td><td title=\"18 51\"></td><td title=\"19 51\"></td><td title=\"20 51\"></td><td title=\"21 51\"></td></tr>\n",
       "<tr><td title=\"0 52\"></td><td title=\"1 52\"></td><td title=\"2 52\"></td><td title=\"3 52\"></td><td title=\"4 52\"></td><td title=\"5 52\"></td><td title=\"6 52\"></td><td title=\"7 52\"></td><td title=\"8 52\"></td><td title=\"9 52\"></td><td title=\"10 52\"></td><td title=\"11 52\"></td><td title=\"12 52\"></td><td title=\"13 52\"></td><td title=\"14 52\"></td><td title=\"15 52\"></td><td title=\"16 52\"></td><td title=\"17 52\"></td><td title=\"18 52\"></td><td title=\"19 52\"></td><td title=\"20 52\"></td><td title=\"21 52\"></td></tr>\n",
       "<tr><td title=\"0 53\"></td><td title=\"1 53\"></td><td title=\"2 53\"></td><td title=\"3 53\"></td><td title=\"4 53\"></td><td title=\"5 53\"></td><td title=\"6 53\"></td><td title=\"7 53\"></td><td title=\"8 53\"></td><td title=\"9 53\"></td><td title=\"10 53\"></td><td title=\"11 53\"></td><td title=\"12 53\"></td><td title=\"13 53\"></td><td title=\"14 53\"></td><td title=\"15 53\"></td><td title=\"16 53\"></td><td title=\"17 53\"></td><td title=\"18 53\"></td><td title=\"19 53\"></td><td title=\"20 53\"></td><td title=\"21 53\"></td></tr>\n",
       "<tr><td title=\"0 54\"></td><td title=\"1 54\"></td><td title=\"2 54\"></td><td title=\"3 54\"></td><td title=\"4 54\"></td><td title=\"5 54\"></td><td title=\"6 54\"></td><td title=\"7 54\"></td><td title=\"8 54\"></td><td title=\"9 54\"></td><td title=\"10 54\"></td><td title=\"11 54\"></td><td title=\"12 54\"></td><td title=\"13 54\"></td><td title=\"14 54\"></td><td title=\"15 54\"></td><td title=\"16 54\"></td><td title=\"17 54\"></td><td title=\"18 54\"></td><td title=\"19 54\"></td><td title=\"20 54\"></td><td title=\"21 54\"></td></tr>\n",
       "<tr><td title=\"0 55\">Notes:</td><td title=\"1 55\"></td><td title=\"2 55\"></td><td title=\"3 55\"></td><td title=\"4 55\"></td><td title=\"5 55\"></td><td title=\"6 55\"></td><td title=\"7 55\"></td><td title=\"8 55\"></td><td title=\"9 55\"></td><td title=\"10 55\"></td><td title=\"11 55\"></td><td title=\"12 55\"></td><td title=\"13 55\"></td><td title=\"14 55\"></td><td title=\"15 55\"></td><td title=\"16 55\"></td><td title=\"17 55\"></td><td title=\"18 55\"></td><td title=\"19 55\"></td><td title=\"20 55\"></td><td title=\"21 55\"></td></tr>\n",
       "<tr><td title=\"0 56\">1. These estimates are experimental official statistics. </td><td title=\"1 56\"></td><td title=\"2 56\"></td><td title=\"3 56\"></td><td title=\"4 56\"></td><td title=\"5 56\"></td><td title=\"6 56\"></td><td title=\"7 56\"></td><td title=\"8 56\"></td><td title=\"9 56\"></td><td title=\"10 56\"></td><td title=\"11 56\"></td><td title=\"12 56\"></td><td title=\"13 56\"></td><td title=\"14 56\"></td><td title=\"15 56\"></td><td title=\"16 56\"></td><td title=\"17 56\"></td><td title=\"18 56\"></td><td title=\"19 56\"></td><td title=\"20 56\"></td><td title=\"21 56\"></td></tr>\n",
       "<tr><td title=\"0 57\">2. Registered businesses are those which are registered for VAT and or EORI</td><td title=\"1 57\"></td><td title=\"2 57\"></td><td title=\"3 57\"></td><td title=\"4 57\"></td><td title=\"5 57\"></td><td title=\"6 57\"></td><td title=\"7 57\"></td><td title=\"8 57\"></td><td title=\"9 57\"></td><td title=\"10 57\"></td><td title=\"11 57\"></td><td title=\"12 57\"></td><td title=\"13 57\"></td><td title=\"14 57\"></td><td title=\"15 57\"></td><td title=\"16 57\"></td><td title=\"17 57\"></td><td title=\"18 57\"></td><td title=\"19 57\"></td><td title=\"20 57\"></td><td title=\"21 57\"></td></tr>\n",
       "<tr><td title=\"0 58\">3. Cells with:   S = Suppressed    .  = Not Applicable </td><td title=\"1 58\"></td><td title=\"2 58\"></td><td title=\"3 58\"></td><td title=\"4 58\"></td><td title=\"5 58\"></td><td title=\"6 58\"></td><td title=\"7 58\"></td><td title=\"8 58\"></td><td title=\"9 58\"></td><td title=\"10 58\"></td><td title=\"11 58\"></td><td title=\"12 58\"></td><td title=\"13 58\"></td><td title=\"14 58\"></td><td title=\"15 58\"></td><td title=\"16 58\"></td><td title=\"17 58\"></td><td title=\"18 58\"></td><td title=\"19 58\"></td><td title=\"20 58\"></td><td title=\"21 58\"></td></tr>\n",
       "<tr><td title=\"0 59\">4. Value of trade are in £ millions</td><td title=\"1 59\"></td><td title=\"2 59\"></td><td title=\"3 59\"></td><td title=\"4 59\"></td><td title=\"5 59\"></td><td title=\"6 59\"></td><td title=\"7 59\"></td><td title=\"8 59\"></td><td title=\"9 59\"></td><td title=\"10 59\"></td><td title=\"11 59\"></td><td title=\"12 59\"></td><td title=\"13 59\"></td><td title=\"14 59\"></td><td title=\"15 59\"></td><td title=\"16 59\"></td><td title=\"17 59\"></td><td title=\"18 59\"></td><td title=\"19 59\"></td><td title=\"20 59\"></td><td title=\"21 59\"></td></tr>\n",
       "<tr><td title=\"0 60\">5. Further details of Industry Group, Age and Employee size can be in the Metadata tab</td><td title=\"1 60\"></td><td title=\"2 60\"></td><td title=\"3 60\"></td><td title=\"4 60\"></td><td title=\"5 60\"></td><td title=\"6 60\"></td><td title=\"7 60\"></td><td title=\"8 60\"></td><td title=\"9 60\"></td><td title=\"10 60\"></td><td title=\"11 60\"></td><td title=\"12 60\"></td><td title=\"13 60\"></td><td title=\"14 60\"></td><td title=\"15 60\"></td><td title=\"16 60\"></td><td title=\"17 60\"></td><td title=\"18 60\"></td><td title=\"19 60\"></td><td title=\"20 60\"></td><td title=\"21 60\"></td></tr>\n",
       "<tr><td title=\"0 61\">6. Employment sizebands are based on IDBR employment for all variables and represent the employment of the Business</td><td title=\"1 61\"></td><td title=\"2 61\"></td><td title=\"3 61\"></td><td title=\"4 61\"></td><td title=\"5 61\"></td><td title=\"6 61\"></td><td title=\"7 61\"></td><td title=\"8 61\"></td><td title=\"9 61\"></td><td title=\"10 61\"></td><td title=\"11 61\"></td><td title=\"12 61\"></td><td title=\"13 61\"></td><td title=\"14 61\"></td><td title=\"15 61\"></td><td title=\"16 61\"></td><td title=\"17 61\"></td><td title=\"18 61\"></td><td title=\"19 61\"></td><td title=\"20 61\"></td><td title=\"21 61\"></td></tr>\n",
       "<tr><td title=\"0 62\">7. Age of a business is defined using the birth date, or registration date, of the business held within the IDBR. Mergers and other changes in structure may require re-registration and therefore affect the validity of this date.</td><td title=\"1 62\"></td><td title=\"2 62\"></td><td title=\"3 62\"></td><td title=\"4 62\"></td><td title=\"5 62\"></td><td title=\"6 62\"></td><td title=\"7 62\"></td><td title=\"8 62\"></td><td title=\"9 62\"></td><td title=\"10 62\"></td><td title=\"11 62\"></td><td title=\"12 62\"></td><td title=\"13 62\"></td><td title=\"14 62\"></td><td title=\"15 62\"></td><td title=\"16 62\"></td><td title=\"17 62\"></td><td title=\"18 62\"></td><td title=\"19 62\"></td><td title=\"20 62\"></td><td title=\"21 62\"></td></tr>\n",
       "<tr><td title=\"0 63\">8.The zero employees group can include sole traders and businesses who are required to register for UK VAT due to distance selling regulations.</td><td title=\"1 63\"></td><td title=\"2 63\"></td><td title=\"3 63\"></td><td title=\"4 63\"></td><td title=\"5 63\"></td><td title=\"6 63\"></td><td title=\"7 63\"></td><td title=\"8 63\"></td><td title=\"9 63\"></td><td title=\"10 63\"></td><td title=\"11 63\"></td><td title=\"12 63\"></td><td title=\"13 63\"></td><td title=\"14 63\"></td><td title=\"15 63\"></td><td title=\"16 63\"></td><td title=\"17 63\"></td><td title=\"18 63\"></td><td title=\"19 63\"></td><td title=\"20 63\"></td><td title=\"21 63\"></td></tr>\n",
       "<tr><td title=\"0 64\">9. Employee count totals exclude businesses where employee count is unknown.</td><td title=\"1 64\"></td><td title=\"2 64\"></td><td title=\"3 64\"></td><td title=\"4 64\"></td><td title=\"5 64\"></td><td title=\"6 64\"></td><td title=\"7 64\"></td><td title=\"8 64\"></td><td title=\"9 64\"></td><td title=\"10 64\"></td><td title=\"11 64\"></td><td title=\"12 64\"></td><td title=\"13 64\"></td><td title=\"14 64\"></td><td title=\"15 64\"></td><td title=\"16 64\"></td><td title=\"17 64\"></td><td title=\"18 64\"></td><td title=\"19 64\"></td><td title=\"20 64\"></td><td title=\"21 64\"></td></tr>\n",
       "</table>\n",
       "\n",
       "</div>\n"
      ],
      "text/plain": [
       "<IPython.core.display.HTML object>"
      ]
     },
     "metadata": {},
     "output_type": "display_data"
    }
   ],
   "source": [
    "savepreviewhtml(tab)"
   ]
  },
  {
   "cell_type": "code",
   "execution_count": 6,
   "metadata": {
    "collapsed": true
   },
   "outputs": [],
   "source": [
    "observations = tab.excel_ref('D10').expand(DOWN).expand(RIGHT).is_not_blank() "
   ]
  },
  {
   "cell_type": "code",
   "execution_count": 7,
   "metadata": {
    "collapsed": true
   },
   "outputs": [],
   "source": [
    "observations = observations - tab.excel_ref('E10').expand(DOWN).is_not_blank()"
   ]
  },
  {
   "cell_type": "code",
   "execution_count": 8,
   "metadata": {},
   "outputs": [],
   "source": [
    "observations = observations - tab.excel_ref('F10').expand(DOWN).is_not_blank()"
   ]
  },
  {
   "cell_type": "code",
   "execution_count": 9,
   "metadata": {
    "collapsed": true
   },
   "outputs": [],
   "source": [
    "observations = observations - tab.excel_ref('J10').expand(DOWN).is_not_blank()"
   ]
  },
  {
   "cell_type": "code",
   "execution_count": 10,
   "metadata": {
    "collapsed": true
   },
   "outputs": [],
   "source": [
    "observations = observations - tab.excel_ref('I10').expand(DOWN).is_not_blank()"
   ]
  },
  {
   "cell_type": "code",
   "execution_count": 11,
   "metadata": {},
   "outputs": [],
   "source": [
    "totalemployees = tab.excel_ref('A10').expand(DOWN).is_not_blank()"
   ]
  },
  {
   "cell_type": "code",
   "execution_count": 12,
   "metadata": {
    "collapsed": true
   },
   "outputs": [],
   "source": [
    "age = tab.excel_ref('B10').expand(DOWN)"
   ]
  },
  {
   "cell_type": "code",
   "execution_count": 13,
   "metadata": {
    "collapsed": true
   },
   "outputs": [],
   "source": [
    "Flow = tab.excel_ref('D6').expand(RIGHT).is_not_blank()"
   ]
  },
  {
   "cell_type": "code",
   "execution_count": 14,
   "metadata": {
    "collapsed": true
   },
   "outputs": [],
   "source": [
    "Dimensions = [\n",
    "            HDimConst('Geography', 'K02000001'),\n",
    "            HDimConst('Year','2015'),\n",
    "            HDimConst('Unit', '£ Millions'), \n",
    "            HDimConst('Measure Type','GBP Total'),            \n",
    "            HDim(totalemployees, 'Total Employees', CLOSEST, ABOVE),\n",
    "            HDim(Flow, 'Flow', CLOSEST, LEFT),\n",
    "            HDim(age, 'Employees Age(Yrs)', DIRECTLY, LEFT)\n",
    "]"
   ]
  },
  {
   "cell_type": "code",
   "execution_count": 15,
   "metadata": {
    "collapsed": true
   },
   "outputs": [],
   "source": [
    "c1 = ConversionSegment(observations, Dimensions, processTIMEUNIT=True)"
   ]
  },
  {
   "cell_type": "code",
   "execution_count": 16,
   "metadata": {},
   "outputs": [
    {
     "data": {
      "text/html": [
       "<div id=\"injblock1002\">\n",
       "<style>\n",
       "table.ex, table.exkey { border: thin black solid }\n",
       "table.ex td, table.ex tr { border: none }\n",
       "table.ex td:hover { border: thin blue solid }\n",
       "table.ex td.excOBS:hover { border: thin red solid }\n",
       "table.ex td.selected { border: thick red solid }\n",
       "</style>\n",
       "\n",
       "\n",
       "<table class=\"exkey\">\n",
       "<tr><td class=\"xc0\" style=\"background-color:Aqua\">OBS</td><td class=\"xc5\" style=\"background-color:Coral\">Total Employees</td><td class=\"xc6\" style=\"background-color:Gold\">Flow</td><td class=\"xc7\" style=\"background-color:Lime\">Employees Age(Yrs)</td></tr></table>\n",
       "\n",
       "<table class=\"ex\">\n",
       "<caption style=\"text-align:center; padding:0px; caption-side:bottom\">EmployeeSize_Age</caption>\n",
       "<tr><td style=\"font-weight:bold\" title=\"0 0\">TRADE IN GOODS STATISTICS MATCHED WITH REGISTERED BUSINESSES FROM THE INTER-DEPARTMENTAL BUSINESS REGISTER</td><td title=\"1 0\"></td><td title=\"2 0\"></td><td title=\"3 0\"></td><td title=\"4 0\"></td><td title=\"5 0\"></td><td title=\"6 0\"></td><td title=\"7 0\"></td><td title=\"8 0\"></td><td title=\"9 0\"></td><td title=\"10 0\"></td><td title=\"11 0\"></td><td title=\"12 0\"></td><td title=\"13 0\"></td><td title=\"14 0\"></td><td title=\"15 0\"></td><td title=\"16 0\"></td><td title=\"17 0\"></td><td title=\"18 0\"></td><td title=\"19 0\"></td><td title=\"20 0\"></td><td title=\"21 0\"></td></tr>\n",
       "<tr><td title=\"0 1\"></td><td title=\"1 1\"></td><td title=\"2 1\"></td><td title=\"3 1\"></td><td title=\"4 1\"></td><td title=\"5 1\"></td><td title=\"6 1\"></td><td title=\"7 1\"></td><td title=\"8 1\"></td><td title=\"9 1\"></td><td title=\"10 1\"></td><td title=\"11 1\"></td><td title=\"12 1\"></td><td title=\"13 1\"></td><td title=\"14 1\"></td><td title=\"15 1\"></td><td title=\"16 1\"></td><td title=\"17 1\"></td><td title=\"18 1\"></td><td title=\"19 1\"></td><td title=\"20 1\"></td><td title=\"21 1\"></td></tr>\n",
       "<tr><td style=\"font-weight:bold\" title=\"0 2\">Release Date 24/11/2016</td><td title=\"1 2\"></td><td title=\"2 2\"></td><td title=\"3 2\"></td><td title=\"4 2\"></td><td title=\"5 2\"></td><td title=\"6 2\"></td><td title=\"7 2\"></td><td title=\"8 2\"></td><td title=\"9 2\"></td><td title=\"10 2\"></td><td title=\"11 2\"></td><td title=\"12 2\"></td><td title=\"13 2\"></td><td title=\"14 2\"></td><td title=\"15 2\"></td><td title=\"16 2\"></td><td title=\"17 2\"></td><td title=\"18 2\"></td><td title=\"19 2\"></td><td title=\"20 2\"></td><td title=\"21 2\"></td></tr>\n",
       "<tr><td title=\"0 3\"></td><td title=\"1 3\"></td><td title=\"2 3\"></td><td title=\"3 3\"></td><td title=\"4 3\"></td><td title=\"5 3\"></td><td title=\"6 3\"></td><td title=\"7 3\"></td><td title=\"8 3\"></td><td title=\"9 3\"></td><td title=\"10 3\"></td><td title=\"11 3\"></td><td title=\"12 3\"></td><td title=\"13 3\"></td><td title=\"14 3\"></td><td title=\"15 3\"></td><td title=\"16 3\"></td><td title=\"17 3\"></td><td title=\"18 3\"></td><td title=\"19 3\"></td><td title=\"20 3\"></td><td title=\"21 3\"></td></tr>\n",
       "<tr><td style=\"font-weight:bold\" title=\"0 4\">Total value of UK Trade, Business count and Employee Count, by Employee Size group and Age for Imports and Exports</td><td title=\"1 4\"></td><td title=\"2 4\"></td><td title=\"3 4\"></td><td title=\"4 4\"></td><td title=\"5 4\"></td><td title=\"6 4\"></td><td title=\"7 4\"></td><td title=\"8 4\"></td><td title=\"9 4\"></td><td title=\"10 4\"></td><td title=\"11 4\"></td><td title=\"12 4\"></td><td title=\"13 4\"></td><td title=\"14 4\"></td><td title=\"15 4\"></td><td title=\"16 4\"></td><td title=\"17 4\"></td><td title=\"18 4\"></td><td title=\"19 4\"></td><td title=\"20 4\"></td><td title=\"21 4\"></td></tr>\n",
       "<tr><td title=\"0 5\"></td><td title=\"1 5\"></td><td title=\"2 5\"></td><td style=\"background-color:Gold;font-weight:bold\" title=\"3 5\">Exports</td><td style=\"font-weight:bold\" title=\"4 5\"></td><td style=\"font-weight:bold\" title=\"5 5\"></td><td title=\"6 5\"></td><td style=\"background-color:Gold;font-weight:bold\" title=\"7 5\">Imports</td><td style=\"font-weight:bold\" title=\"8 5\"></td><td style=\"font-weight:bold\" title=\"9 5\"></td><td title=\"10 5\"></td><td title=\"11 5\"></td><td title=\"12 5\"></td><td title=\"13 5\"></td><td title=\"14 5\"></td><td title=\"15 5\"></td><td title=\"16 5\"></td><td title=\"17 5\"></td><td title=\"18 5\"></td><td title=\"19 5\"></td><td title=\"20 5\"></td><td title=\"21 5\"></td></tr>\n",
       "<tr><td title=\"0 6\"></td><td title=\"1 6\"></td><td title=\"2 6\"></td><td title=\"3 6\">2015.0</td><td title=\"4 6\"></td><td title=\"5 6\"></td><td title=\"6 6\"></td><td title=\"7 6\">2015.0</td><td title=\"8 6\"></td><td title=\"9 6\"></td><td title=\"10 6\"></td><td title=\"11 6\"></td><td title=\"12 6\"></td><td title=\"13 6\"></td><td title=\"14 6\"></td><td title=\"15 6\"></td><td title=\"16 6\"></td><td title=\"17 6\"></td><td title=\"18 6\"></td><td title=\"19 6\"></td><td title=\"20 6\"></td><td title=\"21 6\"></td></tr>\n",
       "<tr><td style=\"font-weight:bold\" title=\"0 7\">Employees</td><td style=\"font-weight:bold\" title=\"1 7\">Age (years)</td><td title=\"2 7\"></td><td title=\"3 7\">Value £ m</td><td title=\"4 7\">Business Count</td><td title=\"5 7\">Employee Count</td><td title=\"6 7\"></td><td title=\"7 7\">Value £ m</td><td title=\"8 7\">Business Count</td><td title=\"9 7\">Employee Count</td><td title=\"10 7\"></td><td title=\"11 7\"></td><td title=\"12 7\"></td><td title=\"13 7\"></td><td title=\"14 7\"></td><td title=\"15 7\"></td><td title=\"16 7\"></td><td title=\"17 7\"></td><td title=\"18 7\"></td><td title=\"19 7\"></td><td title=\"20 7\"></td><td title=\"21 7\"></td></tr>\n",
       "<tr><td title=\"0 8\"></td><td title=\"1 8\"></td><td title=\"2 8\"></td><td title=\"3 8\"></td><td title=\"4 8\"></td><td title=\"5 8\"></td><td title=\"6 8\"></td><td title=\"7 8\"></td><td title=\"8 8\"></td><td title=\"9 8\"></td><td title=\"10 8\"></td><td title=\"11 8\"></td><td title=\"12 8\"></td><td title=\"13 8\"></td><td title=\"14 8\"></td><td title=\"15 8\"></td><td title=\"16 8\"></td><td title=\"17 8\"></td><td title=\"18 8\"></td><td title=\"19 8\"></td><td title=\"20 8\"></td><td title=\"21 8\"></td></tr>\n",
       "<tr><td style=\"background-color:Coral\" title=\"0 9\">0.0</td><td style=\"background-color:Lime\" title=\"1 9\">0 to 1</td><td title=\"2 9\"></td><td style=\"background-color:Aqua\" title=\"3 9\">1052.0</td><td title=\"4 9\">1083.0</td><td title=\"5 9\">0.0</td><td title=\"6 9\"></td><td style=\"background-color:Aqua\" title=\"7 9\">2348.0</td><td title=\"8 9\">2615.0</td><td title=\"9 9\">0.0</td><td title=\"10 9\"></td><td title=\"11 9\"></td><td title=\"12 9\"></td><td title=\"13 9\"></td><td title=\"14 9\"></td><td title=\"15 9\"></td><td title=\"16 9\"></td><td title=\"17 9\"></td><td title=\"18 9\"></td><td title=\"19 9\"></td><td title=\"20 9\"></td><td title=\"21 9\"></td></tr>\n",
       "<tr><td title=\"0 10\"></td><td style=\"background-color:Lime\" title=\"1 10\">2 to 3</td><td title=\"2 10\"></td><td style=\"background-color:Aqua\" title=\"3 10\">1909.0</td><td title=\"4 10\">1123.0</td><td title=\"5 10\">0.0</td><td title=\"6 10\"></td><td style=\"background-color:Aqua\" title=\"7 10\">3828.0</td><td title=\"8 10\">2036.0</td><td title=\"9 10\">0.0</td><td title=\"10 10\"></td><td title=\"11 10\"></td><td title=\"12 10\"></td><td title=\"13 10\"></td><td title=\"14 10\"></td><td title=\"15 10\"></td><td title=\"16 10\"></td><td title=\"17 10\"></td><td title=\"18 10\"></td><td title=\"19 10\"></td><td title=\"20 10\"></td><td title=\"21 10\"></td></tr>\n",
       "<tr><td title=\"0 11\"></td><td style=\"background-color:Lime\" title=\"1 11\">4 to 5</td><td title=\"2 11\"></td><td style=\"background-color:Aqua\" title=\"3 11\">S</td><td title=\"4 11\">S</td><td title=\"5 11\">0.0</td><td title=\"6 11\"></td><td style=\"background-color:Aqua\" title=\"7 11\">9711.0</td><td title=\"8 11\">1460.0</td><td title=\"9 11\">0.0</td><td title=\"10 11\"></td><td title=\"11 11\"></td><td title=\"12 11\"></td><td title=\"13 11\"></td><td title=\"14 11\"></td><td title=\"15 11\"></td><td title=\"16 11\"></td><td title=\"17 11\"></td><td title=\"18 11\"></td><td title=\"19 11\"></td><td title=\"20 11\"></td><td title=\"21 11\"></td></tr>\n",
       "<tr><td title=\"0 12\"></td><td style=\"background-color:Lime\" title=\"1 12\">6 to 9 </td><td title=\"2 12\"></td><td style=\"background-color:Aqua\" title=\"3 12\">5813.0</td><td title=\"4 12\">1467.0</td><td title=\"5 12\">0.0</td><td title=\"6 12\"></td><td style=\"background-color:Aqua\" title=\"7 12\">9080.0</td><td title=\"8 12\">2228.0</td><td title=\"9 12\">0.0</td><td title=\"10 12\"></td><td title=\"11 12\"></td><td title=\"12 12\"></td><td title=\"13 12\"></td><td title=\"14 12\"></td><td title=\"15 12\"></td><td title=\"16 12\"></td><td title=\"17 12\"></td><td title=\"18 12\"></td><td title=\"19 12\"></td><td title=\"20 12\"></td><td title=\"21 12\"></td></tr>\n",
       "<tr><td title=\"0 13\"></td><td style=\"background-color:Lime\" title=\"1 13\">10 to 20</td><td title=\"2 13\"></td><td style=\"background-color:Aqua\" title=\"3 13\">8585.0</td><td title=\"4 13\">2221.0</td><td title=\"5 13\">0.0</td><td title=\"6 13\"></td><td style=\"background-color:Aqua\" title=\"7 13\">13515.0</td><td title=\"8 13\">3344.0</td><td title=\"9 13\">0.0</td><td title=\"10 13\"></td><td title=\"11 13\"></td><td title=\"12 13\"></td><td title=\"13 13\"></td><td title=\"14 13\"></td><td title=\"15 13\"></td><td title=\"16 13\"></td><td title=\"17 13\"></td><td title=\"18 13\"></td><td title=\"19 13\"></td><td title=\"20 13\"></td><td title=\"21 13\"></td></tr>\n",
       "<tr><td title=\"0 14\"></td><td style=\"background-color:Lime\" title=\"1 14\">20 +</td><td title=\"2 14\"></td><td style=\"background-color:Aqua\" title=\"3 14\">4125.0</td><td title=\"4 14\">2329.0</td><td title=\"5 14\">0.0</td><td title=\"6 14\"></td><td style=\"background-color:Aqua\" title=\"7 14\">6435.0</td><td title=\"8 14\">3201.0</td><td title=\"9 14\">0.0</td><td title=\"10 14\"></td><td title=\"11 14\"></td><td title=\"12 14\"></td><td title=\"13 14\"></td><td title=\"14 14\"></td><td title=\"15 14\"></td><td title=\"16 14\"></td><td title=\"17 14\"></td><td title=\"18 14\"></td><td title=\"19 14\"></td><td title=\"20 14\"></td><td title=\"21 14\"></td></tr>\n",
       "<tr><td title=\"0 15\"></td><td style=\"background-color:Lime\" title=\"1 15\">Unknown</td><td title=\"2 15\"></td><td style=\"background-color:Aqua\" title=\"3 15\">S</td><td title=\"4 15\">S</td><td title=\"5 15\">0.0</td><td title=\"6 15\"></td><td style=\"background-color:Aqua\" title=\"7 15\">6.0</td><td title=\"8 15\">99.0</td><td title=\"9 15\">0.0</td><td title=\"10 15\"></td><td title=\"11 15\"></td><td title=\"12 15\"></td><td title=\"13 15\"></td><td title=\"14 15\"></td><td title=\"15 15\"></td><td title=\"16 15\"></td><td title=\"17 15\"></td><td title=\"18 15\"></td><td title=\"19 15\"></td><td title=\"20 15\"></td><td title=\"21 15\"></td></tr>\n",
       "<tr><td title=\"0 16\"></td><td style=\"background-color:Lime\" title=\"1 16\"></td><td title=\"2 16\"></td><td title=\"3 16\"></td><td title=\"4 16\"></td><td title=\"5 16\"></td><td title=\"6 16\"></td><td title=\"7 16\"></td><td title=\"8 16\"></td><td title=\"9 16\"></td><td title=\"10 16\"></td><td title=\"11 16\"></td><td title=\"12 16\"></td><td title=\"13 16\"></td><td title=\"14 16\"></td><td title=\"15 16\"></td><td title=\"16 16\"></td><td title=\"17 16\"></td><td title=\"18 16\"></td><td title=\"19 16\"></td><td title=\"20 16\"></td><td title=\"21 16\"></td></tr>\n",
       "<tr><td style=\"background-color:Coral\" title=\"0 17\">1 to 9</td><td style=\"background-color:Lime\" title=\"1 17\">0 to 1</td><td title=\"2 17\"></td><td style=\"background-color:Aqua\" title=\"3 17\">1223.0</td><td title=\"4 17\">8087.0</td><td title=\"5 17\">17196.0</td><td title=\"6 17\"></td><td style=\"background-color:Aqua\" title=\"7 17\">2182.0</td><td title=\"8 17\">16455.0</td><td title=\"9 17\">36528.0</td><td title=\"10 17\"></td><td title=\"11 17\"></td><td title=\"12 17\"></td><td title=\"13 17\"></td><td title=\"14 17\"></td><td title=\"15 17\"></td><td title=\"16 17\"></td><td title=\"17 17\"></td><td title=\"18 17\"></td><td title=\"19 17\"></td><td title=\"20 17\"></td><td title=\"21 17\"></td></tr>\n",
       "<tr><td title=\"0 18\"></td><td style=\"background-color:Lime\" title=\"1 18\">2 to 3</td><td title=\"2 18\"></td><td style=\"background-color:Aqua\" title=\"3 18\">1639.0</td><td title=\"4 18\">10135.0</td><td title=\"5 18\">25662.0</td><td title=\"6 18\"></td><td style=\"background-color:Aqua\" title=\"7 18\">2666.0</td><td title=\"8 18\">16504.0</td><td title=\"9 18\">44179.0</td><td title=\"10 18\"></td><td title=\"11 18\"></td><td title=\"12 18\"></td><td title=\"13 18\"></td><td title=\"14 18\"></td><td title=\"15 18\"></td><td title=\"16 18\"></td><td title=\"17 18\"></td><td title=\"18 18\"></td><td title=\"19 18\"></td><td title=\"20 18\"></td><td title=\"21 18\"></td></tr>\n",
       "<tr><td title=\"0 19\"></td><td style=\"background-color:Lime\" title=\"1 19\">4 to 5</td><td title=\"2 19\"></td><td style=\"background-color:Aqua\" title=\"3 19\">1227.0</td><td title=\"4 19\">8680.0</td><td title=\"5 19\">24864.0</td><td title=\"6 19\"></td><td style=\"background-color:Aqua\" title=\"7 19\">2327.0</td><td title=\"8 19\">13115.0</td><td title=\"9 19\">39580.0</td><td title=\"10 19\"></td><td title=\"11 19\"></td><td title=\"12 19\"></td><td title=\"13 19\"></td><td title=\"14 19\"></td><td title=\"15 19\"></td><td title=\"16 19\"></td><td title=\"17 19\"></td><td title=\"18 19\"></td><td title=\"19 19\"></td><td title=\"20 19\"></td><td title=\"21 19\"></td></tr>\n",
       "<tr><td title=\"0 20\"></td><td style=\"background-color:Lime\" title=\"1 20\">6 to 9 </td><td title=\"2 20\"></td><td style=\"background-color:Aqua\" title=\"3 20\">2413.0</td><td title=\"4 20\">13016.0</td><td title=\"5 20\">41981.0</td><td title=\"6 20\"></td><td style=\"background-color:Aqua\" title=\"7 20\">4059.0</td><td title=\"8 20\">18927.0</td><td title=\"9 20\">62786.0</td><td title=\"10 20\"></td><td title=\"11 20\"></td><td title=\"12 20\"></td><td title=\"13 20\"></td><td title=\"14 20\"></td><td title=\"15 20\"></td><td title=\"16 20\"></td><td title=\"17 20\"></td><td title=\"18 20\"></td><td title=\"19 20\"></td><td title=\"20 20\"></td><td title=\"21 20\"></td></tr>\n",
       "<tr><td title=\"0 21\"></td><td style=\"background-color:Lime\" title=\"1 21\">10 to 20</td><td title=\"2 21\"></td><td style=\"background-color:Aqua\" title=\"3 21\">3670.0</td><td title=\"4 21\">20301.0</td><td title=\"5 21\">73933.0</td><td title=\"6 21\"></td><td style=\"background-color:Aqua\" title=\"7 21\">6838.0</td><td title=\"8 21\">28008.0</td><td title=\"9 21\">103406.0</td><td title=\"10 21\"></td><td title=\"11 21\"></td><td title=\"12 21\"></td><td title=\"13 21\"></td><td title=\"14 21\"></td><td title=\"15 21\"></td><td title=\"16 21\"></td><td title=\"17 21\"></td><td title=\"18 21\"></td><td title=\"19 21\"></td><td title=\"20 21\"></td><td title=\"21 21\"></td></tr>\n",
       "<tr><td title=\"0 22\"></td><td style=\"background-color:Lime\" title=\"1 22\">20 +</td><td title=\"2 22\"></td><td style=\"background-color:Aqua\" title=\"3 22\">6158.0</td><td title=\"4 22\">16757.0</td><td title=\"5 22\">71109.0</td><td title=\"6 22\"></td><td style=\"background-color:Aqua\" title=\"7 22\">8578.0</td><td title=\"8 22\">23290.0</td><td title=\"9 22\">100360.0</td><td title=\"10 22\"></td><td title=\"11 22\"></td><td title=\"12 22\"></td><td title=\"13 22\"></td><td title=\"14 22\"></td><td title=\"15 22\"></td><td title=\"16 22\"></td><td title=\"17 22\"></td><td title=\"18 22\"></td><td title=\"19 22\"></td><td title=\"20 22\"></td><td title=\"21 22\"></td></tr>\n",
       "<tr><td title=\"0 23\"></td><td style=\"background-color:Lime\" title=\"1 23\">Unknown</td><td title=\"2 23\"></td><td style=\"background-color:Aqua\" title=\"3 23\">39.0</td><td title=\"4 23\">305.0</td><td title=\"5 23\">756.0</td><td title=\"6 23\"></td><td style=\"background-color:Aqua\" title=\"7 23\">129.0</td><td title=\"8 23\">1577.0</td><td title=\"9 23\">3466.0</td><td title=\"10 23\"></td><td title=\"11 23\"></td><td title=\"12 23\"></td><td title=\"13 23\"></td><td title=\"14 23\"></td><td title=\"15 23\"></td><td title=\"16 23\"></td><td title=\"17 23\"></td><td title=\"18 23\"></td><td title=\"19 23\"></td><td title=\"20 23\"></td><td title=\"21 23\"></td></tr>\n",
       "<tr><td title=\"0 24\"></td><td style=\"background-color:Lime\" title=\"1 24\"></td><td title=\"2 24\"></td><td title=\"3 24\"></td><td title=\"4 24\"></td><td title=\"5 24\"></td><td title=\"6 24\"></td><td title=\"7 24\"></td><td title=\"8 24\"></td><td title=\"9 24\"></td><td title=\"10 24\"></td><td title=\"11 24\"></td><td title=\"12 24\"></td><td title=\"13 24\"></td><td title=\"14 24\"></td><td title=\"15 24\"></td><td title=\"16 24\"></td><td title=\"17 24\"></td><td title=\"18 24\"></td><td title=\"19 24\"></td><td title=\"20 24\"></td><td title=\"21 24\"></td></tr>\n",
       "<tr><td style=\"background-color:Coral\" title=\"0 25\">10 to 49</td><td style=\"background-color:Lime\" title=\"1 25\">0 to 1</td><td title=\"2 25\"></td><td style=\"background-color:Aqua\" title=\"3 25\">930.0</td><td title=\"4 25\">914.0</td><td title=\"5 25\">19182.0</td><td title=\"6 25\"></td><td style=\"background-color:Aqua\" title=\"7 25\">2902.0</td><td title=\"8 25\">1811.0</td><td title=\"9 25\">36091.0</td><td title=\"10 25\"></td><td title=\"11 25\"></td><td title=\"12 25\"></td><td title=\"13 25\"></td><td title=\"14 25\"></td><td title=\"15 25\"></td><td title=\"16 25\"></td><td title=\"17 25\"></td><td title=\"18 25\"></td><td title=\"19 25\"></td><td title=\"20 25\"></td><td title=\"21 25\"></td></tr>\n",
       "<tr><td title=\"0 26\"></td><td style=\"background-color:Lime\" title=\"1 26\">2 to 3</td><td title=\"2 26\"></td><td style=\"background-color:Aqua\" title=\"3 26\">918.0</td><td title=\"4 26\">1497.0</td><td title=\"5 26\">30074.0</td><td title=\"6 26\"></td><td style=\"background-color:Aqua\" title=\"7 26\">1702.0</td><td title=\"8 26\">2675.0</td><td title=\"9 26\">53335.0</td><td title=\"10 26\"></td><td title=\"11 26\"></td><td title=\"12 26\"></td><td title=\"13 26\"></td><td title=\"14 26\"></td><td title=\"15 26\"></td><td title=\"16 26\"></td><td title=\"17 26\"></td><td title=\"18 26\"></td><td title=\"19 26\"></td><td title=\"20 26\"></td><td title=\"21 26\"></td></tr>\n",
       "<tr><td title=\"0 27\"></td><td style=\"background-color:Lime\" title=\"1 27\">4 to 5</td><td title=\"2 27\"></td><td style=\"background-color:Aqua\" title=\"3 27\">1265.0</td><td title=\"4 27\">1853.0</td><td title=\"5 27\">37384.0</td><td title=\"6 27\"></td><td style=\"background-color:Aqua\" title=\"7 27\">2364.0</td><td title=\"8 27\">2953.0</td><td title=\"9 27\">59070.0</td><td title=\"10 27\"></td><td title=\"11 27\"></td><td title=\"12 27\"></td><td title=\"13 27\"></td><td title=\"14 27\"></td><td title=\"15 27\"></td><td title=\"16 27\"></td><td title=\"17 27\"></td><td title=\"18 27\"></td><td title=\"19 27\"></td><td title=\"20 27\"></td><td title=\"21 27\"></td></tr>\n",
       "<tr><td title=\"0 28\"></td><td style=\"background-color:Lime\" title=\"1 28\">6 to 9 </td><td title=\"2 28\"></td><td style=\"background-color:Aqua\" title=\"3 28\">2968.0</td><td title=\"4 28\">4118.0</td><td title=\"5 28\">85890.0</td><td title=\"6 28\"></td><td style=\"background-color:Aqua\" title=\"7 28\">5531.0</td><td title=\"8 28\">5926.0</td><td title=\"9 28\">121575.0</td><td title=\"10 28\"></td><td title=\"11 28\"></td><td title=\"12 28\"></td><td title=\"13 28\"></td><td title=\"14 28\"></td><td title=\"15 28\"></td><td title=\"16 28\"></td><td title=\"17 28\"></td><td title=\"18 28\"></td><td title=\"19 28\"></td><td title=\"20 28\"></td><td title=\"21 28\"></td></tr>\n",
       "<tr><td title=\"0 29\"></td><td style=\"background-color:Lime\" title=\"1 29\">10 to 20</td><td title=\"2 29\"></td><td style=\"background-color:Aqua\" title=\"3 29\">7361.0</td><td title=\"4 29\">9943.0</td><td title=\"5 29\">210989.0</td><td title=\"6 29\"></td><td style=\"background-color:Aqua\" title=\"7 29\">14246.0</td><td title=\"8 29\">13036.0</td><td title=\"9 29\">274616.0</td><td title=\"10 29\"></td><td title=\"11 29\"></td><td title=\"12 29\"></td><td title=\"13 29\"></td><td title=\"14 29\"></td><td title=\"15 29\"></td><td title=\"16 29\"></td><td title=\"17 29\"></td><td title=\"18 29\"></td><td title=\"19 29\"></td><td title=\"20 29\"></td><td title=\"21 29\"></td></tr>\n",
       "<tr><td title=\"0 30\"></td><td style=\"background-color:Lime\" title=\"1 30\">20 +</td><td title=\"2 30\"></td><td style=\"background-color:Aqua\" title=\"3 30\">10709.0</td><td title=\"4 30\">14698.0</td><td title=\"5 30\">328545.0</td><td title=\"6 30\"></td><td style=\"background-color:Aqua\" title=\"7 30\">21243.0</td><td title=\"8 30\">18491.0</td><td title=\"9 30\">409948.0</td><td title=\"10 30\"></td><td title=\"11 30\"></td><td title=\"12 30\"></td><td title=\"13 30\"></td><td title=\"14 30\"></td><td title=\"15 30\"></td><td title=\"16 30\"></td><td title=\"17 30\"></td><td title=\"18 30\"></td><td title=\"19 30\"></td><td title=\"20 30\"></td><td title=\"21 30\"></td></tr>\n",
       "<tr><td title=\"0 31\"></td><td style=\"background-color:Lime\" title=\"1 31\">Unknown</td><td title=\"2 31\"></td><td style=\"background-color:Aqua\" title=\"3 31\">115.0</td><td title=\"4 31\">105.0</td><td title=\"5 31\">2356.0</td><td title=\"6 31\"></td><td style=\"background-color:Aqua\" title=\"7 31\">111.0</td><td title=\"8 31\">202.0</td><td title=\"9 31\">4320.0</td><td title=\"10 31\"></td><td title=\"11 31\"></td><td title=\"12 31\"></td><td title=\"13 31\"></td><td title=\"14 31\"></td><td title=\"15 31\"></td><td title=\"16 31\"></td><td title=\"17 31\"></td><td title=\"18 31\"></td><td title=\"19 31\"></td><td title=\"20 31\"></td><td title=\"21 31\"></td></tr>\n",
       "<tr><td title=\"0 32\"></td><td style=\"background-color:Lime\" title=\"1 32\"></td><td title=\"2 32\"></td><td title=\"3 32\"></td><td title=\"4 32\"></td><td title=\"5 32\"></td><td title=\"6 32\"></td><td title=\"7 32\"></td><td title=\"8 32\"></td><td title=\"9 32\"></td><td title=\"10 32\"></td><td title=\"11 32\"></td><td title=\"12 32\"></td><td title=\"13 32\"></td><td title=\"14 32\"></td><td title=\"15 32\"></td><td title=\"16 32\"></td><td title=\"17 32\"></td><td title=\"18 32\"></td><td title=\"19 32\"></td><td title=\"20 32\"></td><td title=\"21 32\"></td></tr>\n",
       "<tr><td style=\"background-color:Coral\" title=\"0 33\">50 to 249</td><td style=\"background-color:Lime\" title=\"1 33\">0 to 1</td><td title=\"2 33\"></td><td style=\"background-color:Aqua\" title=\"3 33\">S</td><td title=\"4 33\">S</td><td title=\"5 33\">S</td><td title=\"6 33\"></td><td style=\"background-color:Aqua\" title=\"7 33\">S</td><td title=\"8 33\">S</td><td title=\"9 33\">S</td><td title=\"10 33\"></td><td title=\"11 33\"></td><td title=\"12 33\"></td><td title=\"13 33\"></td><td title=\"14 33\"></td><td title=\"15 33\"></td><td title=\"16 33\"></td><td title=\"17 33\"></td><td title=\"18 33\"></td><td title=\"19 33\"></td><td title=\"20 33\"></td><td title=\"21 33\"></td></tr>\n",
       "<tr><td title=\"0 34\"></td><td style=\"background-color:Lime\" title=\"1 34\">2 to 3</td><td title=\"2 34\"></td><td style=\"background-color:Aqua\" title=\"3 34\">2016.0</td><td title=\"4 34\">425.0</td><td title=\"5 34\">44590.0</td><td title=\"6 34\"></td><td style=\"background-color:Aqua\" title=\"7 34\">2750.0</td><td title=\"8 34\">653.0</td><td title=\"9 34\">66618.0</td><td title=\"10 34\"></td><td title=\"11 34\"></td><td title=\"12 34\"></td><td title=\"13 34\"></td><td title=\"14 34\"></td><td title=\"15 34\"></td><td title=\"16 34\"></td><td title=\"17 34\"></td><td title=\"18 34\"></td><td title=\"19 34\"></td><td title=\"20 34\"></td><td title=\"21 34\"></td></tr>\n",
       "<tr><td title=\"0 35\"></td><td style=\"background-color:Lime\" title=\"1 35\">4 to 5</td><td title=\"2 35\"></td><td style=\"background-color:Aqua\" title=\"3 35\">2136.0</td><td title=\"4 35\">502.0</td><td title=\"5 35\">52755.0</td><td title=\"6 35\"></td><td style=\"background-color:Aqua\" title=\"7 35\">2116.0</td><td title=\"8 35\">698.0</td><td title=\"9 35\">70852.0</td><td title=\"10 35\"></td><td title=\"11 35\"></td><td title=\"12 35\"></td><td title=\"13 35\"></td><td title=\"14 35\"></td><td title=\"15 35\"></td><td title=\"16 35\"></td><td title=\"17 35\"></td><td title=\"18 35\"></td><td title=\"19 35\"></td><td title=\"20 35\"></td><td title=\"21 35\"></td></tr>\n",
       "<tr><td title=\"0 36\"></td><td style=\"background-color:Lime\" title=\"1 36\">6 to 9 </td><td title=\"2 36\"></td><td style=\"background-color:Aqua\" title=\"3 36\">4941.0</td><td title=\"4 36\">1173.0</td><td title=\"5 36\">121869.0</td><td title=\"6 36\"></td><td style=\"background-color:Aqua\" title=\"7 36\">7606.0</td><td title=\"8 36\">1544.0</td><td title=\"9 36\">157644.0</td><td title=\"10 36\"></td><td title=\"11 36\"></td><td title=\"12 36\"></td><td title=\"13 36\"></td><td title=\"14 36\"></td><td title=\"15 36\"></td><td title=\"16 36\"></td><td title=\"17 36\"></td><td title=\"18 36\"></td><td title=\"19 36\"></td><td title=\"20 36\"></td><td title=\"21 36\"></td></tr>\n",
       "<tr><td title=\"0 37\"></td><td style=\"background-color:Lime\" title=\"1 37\">10 to 20</td><td title=\"2 37\"></td><td style=\"background-color:Aqua\" title=\"3 37\">11270.0</td><td title=\"4 37\">2877.0</td><td title=\"5 37\">299606.0</td><td title=\"6 37\"></td><td style=\"background-color:Aqua\" title=\"7 37\">16579.0</td><td title=\"8 37\">3635.0</td><td title=\"9 37\">379256.0</td><td title=\"10 37\"></td><td title=\"11 37\"></td><td title=\"12 37\"></td><td title=\"13 37\"></td><td title=\"14 37\"></td><td title=\"15 37\"></td><td title=\"16 37\"></td><td title=\"17 37\"></td><td title=\"18 37\"></td><td title=\"19 37\"></td><td title=\"20 37\"></td><td title=\"21 37\"></td></tr>\n",
       "<tr><td title=\"0 38\"></td><td style=\"background-color:Lime\" title=\"1 38\">20 +</td><td title=\"2 38\"></td><td style=\"background-color:Aqua\" title=\"3 38\">20935.0</td><td title=\"4 38\">5220.0</td><td title=\"5 38\">536470.0</td><td title=\"6 38\"></td><td style=\"background-color:Aqua\" title=\"7 38\">34031.0</td><td title=\"8 38\">6474.0</td><td title=\"9 38\">660404.0</td><td title=\"10 38\"></td><td title=\"11 38\"></td><td title=\"12 38\"></td><td title=\"13 38\"></td><td title=\"14 38\"></td><td title=\"15 38\"></td><td title=\"16 38\"></td><td title=\"17 38\"></td><td title=\"18 38\"></td><td title=\"19 38\"></td><td title=\"20 38\"></td><td title=\"21 38\"></td></tr>\n",
       "<tr><td title=\"0 39\"></td><td style=\"background-color:Lime\" title=\"1 39\">Unknown</td><td title=\"2 39\"></td><td style=\"background-color:Aqua\" title=\"3 39\">S</td><td title=\"4 39\">S</td><td title=\"5 39\">S</td><td title=\"6 39\"></td><td style=\"background-color:Aqua\" title=\"7 39\">S</td><td title=\"8 39\">S</td><td title=\"9 39\">S</td><td title=\"10 39\"></td><td title=\"11 39\"></td><td title=\"12 39\"></td><td title=\"13 39\"></td><td title=\"14 39\"></td><td title=\"15 39\"></td><td title=\"16 39\"></td><td title=\"17 39\"></td><td title=\"18 39\"></td><td title=\"19 39\"></td><td title=\"20 39\"></td><td title=\"21 39\"></td></tr>\n",
       "<tr><td title=\"0 40\"></td><td style=\"background-color:Lime\" title=\"1 40\"></td><td title=\"2 40\"></td><td title=\"3 40\"></td><td title=\"4 40\"></td><td title=\"5 40\"></td><td title=\"6 40\"></td><td title=\"7 40\"></td><td title=\"8 40\"></td><td title=\"9 40\"></td><td title=\"10 40\"></td><td title=\"11 40\"></td><td title=\"12 40\"></td><td title=\"13 40\"></td><td title=\"14 40\"></td><td title=\"15 40\"></td><td title=\"16 40\"></td><td title=\"17 40\"></td><td title=\"18 40\"></td><td title=\"19 40\"></td><td title=\"20 40\"></td><td title=\"21 40\"></td></tr>\n",
       "<tr><td style=\"background-color:Coral\" title=\"0 41\">250 +</td><td style=\"background-color:Lime\" title=\"1 41\">0 to 1</td><td title=\"2 41\"></td><td style=\"background-color:Aqua\" title=\"3 41\">S</td><td title=\"4 41\">S</td><td title=\"5 41\">S</td><td title=\"6 41\"></td><td style=\"background-color:Aqua\" title=\"7 41\">S</td><td title=\"8 41\">S</td><td title=\"9 41\">S</td><td title=\"10 41\"></td><td title=\"11 41\"></td><td title=\"12 41\"></td><td title=\"13 41\"></td><td title=\"14 41\"></td><td title=\"15 41\"></td><td title=\"16 41\"></td><td title=\"17 41\"></td><td title=\"18 41\"></td><td title=\"19 41\"></td><td title=\"20 41\"></td><td title=\"21 41\"></td></tr>\n",
       "<tr><td title=\"0 42\"></td><td style=\"background-color:Lime\" title=\"1 42\">2 to 3</td><td title=\"2 42\"></td><td style=\"background-color:Aqua\" title=\"3 42\">1644.0</td><td title=\"4 42\">128.0</td><td title=\"5 42\">149709.0</td><td title=\"6 42\"></td><td style=\"background-color:Aqua\" title=\"7 42\">9489.0</td><td title=\"8 42\">175.0</td><td title=\"9 42\">237736.0</td><td title=\"10 42\"></td><td title=\"11 42\"></td><td title=\"12 42\"></td><td title=\"13 42\"></td><td title=\"14 42\"></td><td title=\"15 42\"></td><td title=\"16 42\"></td><td title=\"17 42\"></td><td title=\"18 42\"></td><td title=\"19 42\"></td><td title=\"20 42\"></td><td title=\"21 42\"></td></tr>\n",
       "<tr><td title=\"0 43\"></td><td style=\"background-color:Lime\" title=\"1 43\">4 to 5</td><td title=\"2 43\"></td><td style=\"background-color:Aqua\" title=\"3 43\">S</td><td title=\"4 43\">S</td><td title=\"5 43\">148535.0</td><td title=\"6 43\"></td><td style=\"background-color:Aqua\" title=\"7 43\">5230.0</td><td title=\"8 43\">204.0</td><td title=\"9 43\">223579.0</td><td title=\"10 43\"></td><td title=\"11 43\"></td><td title=\"12 43\"></td><td title=\"13 43\"></td><td title=\"14 43\"></td><td title=\"15 43\"></td><td title=\"16 43\"></td><td title=\"17 43\"></td><td title=\"18 43\"></td><td title=\"19 43\"></td><td title=\"20 43\"></td><td title=\"21 43\"></td></tr>\n",
       "<tr><td title=\"0 44\"></td><td style=\"background-color:Lime\" title=\"1 44\">6 to 9 </td><td title=\"2 44\"></td><td style=\"background-color:Aqua\" title=\"3 44\">22353.0</td><td title=\"4 44\">362.0</td><td title=\"5 44\">475904.0</td><td title=\"6 44\"></td><td style=\"background-color:Aqua\" title=\"7 44\">14819.0</td><td title=\"8 44\">492.0</td><td title=\"9 44\">690551.0</td><td title=\"10 44\"></td><td title=\"11 44\"></td><td title=\"12 44\"></td><td title=\"13 44\"></td><td title=\"14 44\"></td><td title=\"15 44\"></td><td title=\"16 44\"></td><td title=\"17 44\"></td><td title=\"18 44\"></td><td title=\"19 44\"></td><td title=\"20 44\"></td><td title=\"21 44\"></td></tr>\n",
       "<tr><td title=\"0 45\"></td><td style=\"background-color:Lime\" title=\"1 45\">10 to 20</td><td title=\"2 45\"></td><td style=\"background-color:Aqua\" title=\"3 45\">34458.0</td><td title=\"4 45\">950.0</td><td title=\"5 45\">1312586.0</td><td title=\"6 45\"></td><td style=\"background-color:Aqua\" title=\"7 45\">38736.0</td><td title=\"8 45\">1173.0</td><td title=\"9 45\">1693860.0</td><td title=\"10 45\"></td><td title=\"11 45\"></td><td title=\"12 45\"></td><td title=\"13 45\"></td><td title=\"14 45\"></td><td title=\"15 45\"></td><td title=\"16 45\"></td><td title=\"17 45\"></td><td title=\"18 45\"></td><td title=\"19 45\"></td><td title=\"20 45\"></td><td title=\"21 45\"></td></tr>\n",
       "<tr><td title=\"0 46\"></td><td style=\"background-color:Lime\" title=\"1 46\">20 +</td><td title=\"2 46\"></td><td style=\"background-color:Aqua\" title=\"3 46\">103507.0</td><td title=\"4 46\">1769.0</td><td title=\"5 46\">5142865.0</td><td title=\"6 46\"></td><td style=\"background-color:Aqua\" title=\"7 46\">138620.0</td><td title=\"8 46\">2203.0</td><td title=\"9 46\">6350620.0</td><td title=\"10 46\"></td><td title=\"11 46\"></td><td title=\"12 46\"></td><td title=\"13 46\"></td><td title=\"14 46\"></td><td title=\"15 46\"></td><td title=\"16 46\"></td><td title=\"17 46\"></td><td title=\"18 46\"></td><td title=\"19 46\"></td><td title=\"20 46\"></td><td title=\"21 46\"></td></tr>\n",
       "<tr><td title=\"0 47\"></td><td style=\"background-color:Lime\" title=\"1 47\">Unknown</td><td title=\"2 47\"></td><td style=\"background-color:Aqua\" title=\"3 47\">S</td><td title=\"4 47\">S</td><td title=\"5 47\">S</td><td title=\"6 47\"></td><td style=\"background-color:Aqua\" title=\"7 47\">S</td><td title=\"8 47\">S</td><td title=\"9 47\">S</td><td title=\"10 47\"></td><td title=\"11 47\"></td><td title=\"12 47\"></td><td title=\"13 47\"></td><td title=\"14 47\"></td><td title=\"15 47\"></td><td title=\"16 47\"></td><td title=\"17 47\"></td><td title=\"18 47\"></td><td title=\"19 47\"></td><td title=\"20 47\"></td><td title=\"21 47\"></td></tr>\n",
       "<tr><td title=\"0 48\"></td><td style=\"background-color:Lime\" title=\"1 48\"></td><td title=\"2 48\"></td><td title=\"3 48\"></td><td title=\"4 48\"></td><td title=\"5 48\"></td><td title=\"6 48\"></td><td title=\"7 48\"></td><td title=\"8 48\"></td><td title=\"9 48\"></td><td title=\"10 48\"></td><td title=\"11 48\"></td><td title=\"12 48\"></td><td title=\"13 48\"></td><td title=\"14 48\"></td><td title=\"15 48\"></td><td title=\"16 48\"></td><td title=\"17 48\"></td><td title=\"18 48\"></td><td title=\"19 48\"></td><td title=\"20 48\"></td><td title=\"21 48\"></td></tr>\n",
       "<tr><td style=\"background-color:Coral\" title=\"0 49\">Unknown</td><td style=\"background-color:Lime\" title=\"1 49\">Unknown</td><td title=\"2 49\"></td><td style=\"background-color:Aqua\" title=\"3 49\">21915.0</td><td title=\"4 49\">9746.0</td><td title=\"5 49\">.</td><td title=\"6 49\"></td><td style=\"background-color:Aqua\" title=\"7 49\">12763.0</td><td title=\"8 49\">23337.0</td><td title=\"9 49\">.</td><td title=\"10 49\"></td><td title=\"11 49\"></td><td title=\"12 49\"></td><td title=\"13 49\"></td><td title=\"14 49\"></td><td title=\"15 49\"></td><td title=\"16 49\"></td><td title=\"17 49\"></td><td title=\"18 49\"></td><td title=\"19 49\"></td><td title=\"20 49\"></td><td title=\"21 49\"></td></tr>\n",
       "<tr><td title=\"0 50\"></td><td style=\"background-color:Lime\" title=\"1 50\"></td><td title=\"2 50\"></td><td title=\"3 50\"></td><td title=\"4 50\"></td><td title=\"5 50\"></td><td title=\"6 50\"></td><td title=\"7 50\"></td><td title=\"8 50\"></td><td title=\"9 50\"></td><td title=\"10 50\"></td><td title=\"11 50\"></td><td title=\"12 50\"></td><td title=\"13 50\"></td><td title=\"14 50\"></td><td title=\"15 50\"></td><td title=\"16 50\"></td><td title=\"17 50\"></td><td title=\"18 50\"></td><td title=\"19 50\"></td><td title=\"20 50\"></td><td title=\"21 50\"></td></tr>\n",
       "<tr><td style=\"background-color:Coral;font-weight:bold\" title=\"0 51\">Grand Total9</td><td style=\"background-color:Lime;font-weight:bold\" title=\"1 51\"></td><td style=\"font-weight:bold\" title=\"2 51\"></td><td style=\"background-color:Aqua;font-weight:bold\" title=\"3 51\">304768.0</td><td style=\"font-weight:bold\" title=\"4 51\">143358.0</td><td style=\"font-weight:bold\" title=\"5 51\">9553443.0</td><td title=\"6 51\"></td><td style=\"background-color:Aqua;font-weight:bold\" title=\"7 51\">411033.0</td><td style=\"font-weight:bold\" title=\"8 51\">219302.0</td><td style=\"font-weight:bold\" title=\"9 51\">12354666.0</td><td title=\"10 51\"></td><td title=\"11 51\"></td><td title=\"12 51\"></td><td title=\"13 51\"></td><td title=\"14 51\"></td><td title=\"15 51\"></td><td title=\"16 51\"></td><td title=\"17 51\"></td><td title=\"18 51\"></td><td title=\"19 51\"></td><td title=\"20 51\"></td><td title=\"21 51\"></td></tr>\n",
       "<tr><td title=\"0 52\"></td><td style=\"background-color:Lime\" title=\"1 52\"></td><td title=\"2 52\"></td><td title=\"3 52\"></td><td title=\"4 52\"></td><td title=\"5 52\"></td><td title=\"6 52\"></td><td title=\"7 52\"></td><td title=\"8 52\"></td><td title=\"9 52\"></td><td title=\"10 52\"></td><td title=\"11 52\"></td><td title=\"12 52\"></td><td title=\"13 52\"></td><td title=\"14 52\"></td><td title=\"15 52\"></td><td title=\"16 52\"></td><td title=\"17 52\"></td><td title=\"18 52\"></td><td title=\"19 52\"></td><td title=\"20 52\"></td><td title=\"21 52\"></td></tr>\n",
       "<tr><td title=\"0 53\"></td><td style=\"background-color:Lime\" title=\"1 53\"></td><td title=\"2 53\"></td><td title=\"3 53\"></td><td title=\"4 53\"></td><td title=\"5 53\"></td><td title=\"6 53\"></td><td title=\"7 53\"></td><td title=\"8 53\"></td><td title=\"9 53\"></td><td title=\"10 53\"></td><td title=\"11 53\"></td><td title=\"12 53\"></td><td title=\"13 53\"></td><td title=\"14 53\"></td><td title=\"15 53\"></td><td title=\"16 53\"></td><td title=\"17 53\"></td><td title=\"18 53\"></td><td title=\"19 53\"></td><td title=\"20 53\"></td><td title=\"21 53\"></td></tr>\n",
       "<tr><td title=\"0 54\"></td><td style=\"background-color:Lime\" title=\"1 54\"></td><td title=\"2 54\"></td><td title=\"3 54\"></td><td title=\"4 54\"></td><td title=\"5 54\"></td><td title=\"6 54\"></td><td title=\"7 54\"></td><td title=\"8 54\"></td><td title=\"9 54\"></td><td title=\"10 54\"></td><td title=\"11 54\"></td><td title=\"12 54\"></td><td title=\"13 54\"></td><td title=\"14 54\"></td><td title=\"15 54\"></td><td title=\"16 54\"></td><td title=\"17 54\"></td><td title=\"18 54\"></td><td title=\"19 54\"></td><td title=\"20 54\"></td><td title=\"21 54\"></td></tr>\n",
       "<tr><td style=\"background-color:Coral\" title=\"0 55\">Notes:</td><td style=\"background-color:Lime\" title=\"1 55\"></td><td title=\"2 55\"></td><td title=\"3 55\"></td><td title=\"4 55\"></td><td title=\"5 55\"></td><td title=\"6 55\"></td><td title=\"7 55\"></td><td title=\"8 55\"></td><td title=\"9 55\"></td><td title=\"10 55\"></td><td title=\"11 55\"></td><td title=\"12 55\"></td><td title=\"13 55\"></td><td title=\"14 55\"></td><td title=\"15 55\"></td><td title=\"16 55\"></td><td title=\"17 55\"></td><td title=\"18 55\"></td><td title=\"19 55\"></td><td title=\"20 55\"></td><td title=\"21 55\"></td></tr>\n",
       "<tr><td style=\"background-color:Coral\" title=\"0 56\">1. These estimates are experimental official statistics. </td><td style=\"background-color:Lime\" title=\"1 56\"></td><td title=\"2 56\"></td><td title=\"3 56\"></td><td title=\"4 56\"></td><td title=\"5 56\"></td><td title=\"6 56\"></td><td title=\"7 56\"></td><td title=\"8 56\"></td><td title=\"9 56\"></td><td title=\"10 56\"></td><td title=\"11 56\"></td><td title=\"12 56\"></td><td title=\"13 56\"></td><td title=\"14 56\"></td><td title=\"15 56\"></td><td title=\"16 56\"></td><td title=\"17 56\"></td><td title=\"18 56\"></td><td title=\"19 56\"></td><td title=\"20 56\"></td><td title=\"21 56\"></td></tr>\n",
       "<tr><td style=\"background-color:Coral\" title=\"0 57\">2. Registered businesses are those which are registered for VAT and or EORI</td><td style=\"background-color:Lime\" title=\"1 57\"></td><td title=\"2 57\"></td><td title=\"3 57\"></td><td title=\"4 57\"></td><td title=\"5 57\"></td><td title=\"6 57\"></td><td title=\"7 57\"></td><td title=\"8 57\"></td><td title=\"9 57\"></td><td title=\"10 57\"></td><td title=\"11 57\"></td><td title=\"12 57\"></td><td title=\"13 57\"></td><td title=\"14 57\"></td><td title=\"15 57\"></td><td title=\"16 57\"></td><td title=\"17 57\"></td><td title=\"18 57\"></td><td title=\"19 57\"></td><td title=\"20 57\"></td><td title=\"21 57\"></td></tr>\n",
       "<tr><td style=\"background-color:Coral\" title=\"0 58\">3. Cells with:   S = Suppressed    .  = Not Applicable </td><td style=\"background-color:Lime\" title=\"1 58\"></td><td title=\"2 58\"></td><td title=\"3 58\"></td><td title=\"4 58\"></td><td title=\"5 58\"></td><td title=\"6 58\"></td><td title=\"7 58\"></td><td title=\"8 58\"></td><td title=\"9 58\"></td><td title=\"10 58\"></td><td title=\"11 58\"></td><td title=\"12 58\"></td><td title=\"13 58\"></td><td title=\"14 58\"></td><td title=\"15 58\"></td><td title=\"16 58\"></td><td title=\"17 58\"></td><td title=\"18 58\"></td><td title=\"19 58\"></td><td title=\"20 58\"></td><td title=\"21 58\"></td></tr>\n",
       "<tr><td style=\"background-color:Coral\" title=\"0 59\">4. Value of trade are in £ millions</td><td style=\"background-color:Lime\" title=\"1 59\"></td><td title=\"2 59\"></td><td title=\"3 59\"></td><td title=\"4 59\"></td><td title=\"5 59\"></td><td title=\"6 59\"></td><td title=\"7 59\"></td><td title=\"8 59\"></td><td title=\"9 59\"></td><td title=\"10 59\"></td><td title=\"11 59\"></td><td title=\"12 59\"></td><td title=\"13 59\"></td><td title=\"14 59\"></td><td title=\"15 59\"></td><td title=\"16 59\"></td><td title=\"17 59\"></td><td title=\"18 59\"></td><td title=\"19 59\"></td><td title=\"20 59\"></td><td title=\"21 59\"></td></tr>\n",
       "<tr><td style=\"background-color:Coral\" title=\"0 60\">5. Further details of Industry Group, Age and Employee size can be in the Metadata tab</td><td style=\"background-color:Lime\" title=\"1 60\"></td><td title=\"2 60\"></td><td title=\"3 60\"></td><td title=\"4 60\"></td><td title=\"5 60\"></td><td title=\"6 60\"></td><td title=\"7 60\"></td><td title=\"8 60\"></td><td title=\"9 60\"></td><td title=\"10 60\"></td><td title=\"11 60\"></td><td title=\"12 60\"></td><td title=\"13 60\"></td><td title=\"14 60\"></td><td title=\"15 60\"></td><td title=\"16 60\"></td><td title=\"17 60\"></td><td title=\"18 60\"></td><td title=\"19 60\"></td><td title=\"20 60\"></td><td title=\"21 60\"></td></tr>\n",
       "<tr><td style=\"background-color:Coral\" title=\"0 61\">6. Employment sizebands are based on IDBR employment for all variables and represent the employment of the Business</td><td style=\"background-color:Lime\" title=\"1 61\"></td><td title=\"2 61\"></td><td title=\"3 61\"></td><td title=\"4 61\"></td><td title=\"5 61\"></td><td title=\"6 61\"></td><td title=\"7 61\"></td><td title=\"8 61\"></td><td title=\"9 61\"></td><td title=\"10 61\"></td><td title=\"11 61\"></td><td title=\"12 61\"></td><td title=\"13 61\"></td><td title=\"14 61\"></td><td title=\"15 61\"></td><td title=\"16 61\"></td><td title=\"17 61\"></td><td title=\"18 61\"></td><td title=\"19 61\"></td><td title=\"20 61\"></td><td title=\"21 61\"></td></tr>\n",
       "<tr><td style=\"background-color:Coral\" title=\"0 62\">7. Age of a business is defined using the birth date, or registration date, of the business held within the IDBR. Mergers and other changes in structure may require re-registration and therefore affect the validity of this date.</td><td style=\"background-color:Lime\" title=\"1 62\"></td><td title=\"2 62\"></td><td title=\"3 62\"></td><td title=\"4 62\"></td><td title=\"5 62\"></td><td title=\"6 62\"></td><td title=\"7 62\"></td><td title=\"8 62\"></td><td title=\"9 62\"></td><td title=\"10 62\"></td><td title=\"11 62\"></td><td title=\"12 62\"></td><td title=\"13 62\"></td><td title=\"14 62\"></td><td title=\"15 62\"></td><td title=\"16 62\"></td><td title=\"17 62\"></td><td title=\"18 62\"></td><td title=\"19 62\"></td><td title=\"20 62\"></td><td title=\"21 62\"></td></tr>\n",
       "<tr><td style=\"background-color:Coral\" title=\"0 63\">8.The zero employees group can include sole traders and businesses who are required to register for UK VAT due to distance selling regulations.</td><td style=\"background-color:Lime\" title=\"1 63\"></td><td title=\"2 63\"></td><td title=\"3 63\"></td><td title=\"4 63\"></td><td title=\"5 63\"></td><td title=\"6 63\"></td><td title=\"7 63\"></td><td title=\"8 63\"></td><td title=\"9 63\"></td><td title=\"10 63\"></td><td title=\"11 63\"></td><td title=\"12 63\"></td><td title=\"13 63\"></td><td title=\"14 63\"></td><td title=\"15 63\"></td><td title=\"16 63\"></td><td title=\"17 63\"></td><td title=\"18 63\"></td><td title=\"19 63\"></td><td title=\"20 63\"></td><td title=\"21 63\"></td></tr>\n",
       "<tr><td style=\"background-color:Coral\" title=\"0 64\">9. Employee count totals exclude businesses where employee count is unknown.</td><td style=\"background-color:Lime\" title=\"1 64\"></td><td title=\"2 64\"></td><td title=\"3 64\"></td><td title=\"4 64\"></td><td title=\"5 64\"></td><td title=\"6 64\"></td><td title=\"7 64\"></td><td title=\"8 64\"></td><td title=\"9 64\"></td><td title=\"10 64\"></td><td title=\"11 64\"></td><td title=\"12 64\"></td><td title=\"13 64\"></td><td title=\"14 64\"></td><td title=\"15 64\"></td><td title=\"16 64\"></td><td title=\"17 64\"></td><td title=\"18 64\"></td><td title=\"19 64\"></td><td title=\"20 64\"></td><td title=\"21 64\"></td></tr>\n",
       "</table>\n",
       "\n",
       "</div>\n",
       "\n",
       "<script>\n",
       "var jslookup = {\"7 22\":[0,17,7,5,1,22],\"7 15\":[0,9,7,5,1,15],\"3 28\":[0,25,3,5,1,28],\"3 51\":[0,51,3,5,1,51],\"3 36\":[0,33,3,5,1,36],\"7 12\":[0,9,7,5,1,12],\"7 41\":[0,41,7,5,1,41],\"3 13\":[0,9,3,5,1,13],\"7 30\":[0,25,7,5,1,30],\"7 36\":[0,33,7,5,1,36],\"3 42\":[0,41,3,5,1,42],\"3 12\":[0,9,3,5,1,12],\"3 49\":[0,49,3,5,1,49],\"7 25\":[0,25,7,5,1,25],\"3 25\":[0,25,3,5,1,25],\"7 26\":[0,25,7,5,1,26],\"7 17\":[0,17,7,5,1,17],\"7 28\":[0,25,7,5,1,28],\"3 38\":[0,33,3,5,1,38],\"7 21\":[0,17,7,5,1,21],\"7 14\":[0,9,7,5,1,14],\"3 22\":[0,17,3,5,1,22],\"3 31\":[0,25,3,5,1,31],\"7 27\":[0,25,7,5,1,27],\"7 35\":[0,33,7,5,1,35],\"7 11\":[0,9,7,5,1,11],\"3 21\":[0,17,3,5,1,21],\"3 17\":[0,17,3,5,1,17],\"3 37\":[0,33,3,5,1,37],\"3 15\":[0,9,3,5,1,15],\"7 23\":[0,17,7,5,1,23],\"3 35\":[0,33,3,5,1,35],\"7 44\":[0,41,7,5,1,44],\"3 46\":[0,41,3,5,1,46],\"7 49\":[0,49,7,5,1,49],\"7 9\":[0,9,7,5,1,9],\"7 46\":[0,41,7,5,1,46],\"3 11\":[0,9,3,5,1,11],\"7 31\":[0,25,7,5,1,31],\"3 27\":[0,25,3,5,1,27],\"7 18\":[0,17,7,5,1,18],\"3 47\":[0,41,3,5,1,47],\"3 20\":[0,17,3,5,1,20],\"3 29\":[0,25,3,5,1,29],\"3 45\":[0,41,3,5,1,45],\"7 43\":[0,41,7,5,1,43],\"3 30\":[0,25,3,5,1,30],\"3 26\":[0,25,3,5,1,26],\"3 41\":[0,41,3,5,1,41],\"7 19\":[0,17,7,5,1,19],\"3 18\":[0,17,3,5,1,18],\"7 33\":[0,33,7,5,1,33],\"7 45\":[0,41,7,5,1,45],\"3 43\":[0,41,3,5,1,43],\"7 47\":[0,41,7,5,1,47],\"7 51\":[0,51,7,5,1,51],\"7 34\":[0,33,7,5,1,34],\"3 39\":[0,33,3,5,1,39],\"7 38\":[0,33,7,5,1,38],\"7 42\":[0,41,7,5,1,42],\"7 10\":[0,9,7,5,1,10],\"3 19\":[0,17,3,5,1,19],\"3 34\":[0,33,3,5,1,34],\"3 14\":[0,9,3,5,1,14],\"3 23\":[0,17,3,5,1,23],\"3 33\":[0,33,3,5,1,33],\"3 10\":[0,9,3,5,1,10],\"3 44\":[0,41,3,5,1,44],\"7 13\":[0,9,7,5,1,13],\"7 20\":[0,17,7,5,1,20],\"7 29\":[0,25,7,5,1,29],\"7 37\":[0,33,7,5,1,37],\"3 9\":[0,9,3,5,1,9],\"7 39\":[0,33,7,5,1,39]}; \n",
       "var jdividNUM = \"injblock1002\"; \n",
       "var Dclickedcell = null; \n",
       "function clickedcell() \n",
       "{ \n",
       "    Dclickedcell = this; \n",
       "    console.log(\"jjjj\", this); \n",
       "    var rgc = new RegExp('(^|\\b)' + \"selected\".split(' ').join('|') + '(\\b|$)', 'gi'); \n",
       "    Array.prototype.forEach.call(document.querySelectorAll(\"div#\"+jdividNUM+\" table.ex td.selected\"), function(el, i) { \n",
       "        if (el.classList)  el.classList.remove(\"selected\");\n",
       "        else  el.className = el.className.replace(rgc, ' ');\n",
       "    }); \n",
       "    if (this.classList)  this.classList.add(\"selected\");\n",
       "    else this.className += ' ' + \"selected\";\n",
       "\n",
       "    var dimpairs = jslookup[this.title]; \n",
       "    if (dimpairs !== undefined) {\n",
       "        for (var i = 1; i < dimpairs.length; i += 2) {\n",
       "            var row = document.querySelectorAll(\"div#\"+jdividNUM+\" table.ex tr\")[dimpairs[i]]; \n",
       "            var el = row.querySelectorAll(\"td\")[dimpairs[i-1]]; \n",
       "            if (el.classList)  el.classList.add(\"selected\");\n",
       "            else el.className += ' ' + \"selected\";\n",
       "        }\n",
       "    }\n",
       "}\n",
       "Array.prototype.forEach.call(document.querySelectorAll(\"div#\"+jdividNUM+\" table.ex td\"), function(item, i) { item.onclick=clickedcell; }); \n",
       "</script>\n"
      ],
      "text/plain": [
       "<IPython.core.display.HTML object>"
      ]
     },
     "metadata": {},
     "output_type": "display_data"
    }
   ],
   "source": [
    "savepreviewhtml(c1)"
   ]
  },
  {
   "cell_type": "code",
   "execution_count": 17,
   "metadata": {},
   "outputs": [
    {
     "name": "stdout",
     "output_type": "stream",
     "text": [
      "\n"
     ]
    }
   ],
   "source": [
    "new_table = c1.topandas()"
   ]
  },
  {
   "cell_type": "code",
   "execution_count": 18,
   "metadata": {
    "collapsed": true
   },
   "outputs": [],
   "source": [
    "new_table.rename(index= str, columns= {'OBS':'Value'}, inplace = True)"
   ]
  },
  {
   "cell_type": "code",
   "execution_count": 19,
   "metadata": {},
   "outputs": [
    {
     "data": {
      "text/html": [
       "<div>\n",
       "<style scoped>\n",
       "    .dataframe tbody tr th:only-of-type {\n",
       "        vertical-align: middle;\n",
       "    }\n",
       "\n",
       "    .dataframe tbody tr th {\n",
       "        vertical-align: top;\n",
       "    }\n",
       "\n",
       "    .dataframe thead th {\n",
       "        text-align: right;\n",
       "    }\n",
       "</style>\n",
       "<table border=\"1\" class=\"dataframe\">\n",
       "  <thead>\n",
       "    <tr style=\"text-align: right;\">\n",
       "      <th></th>\n",
       "      <th>Value</th>\n",
       "      <th>DATAMARKER</th>\n",
       "      <th>Geography</th>\n",
       "      <th>Year</th>\n",
       "      <th>Unit</th>\n",
       "      <th>Measure Type</th>\n",
       "      <th>Total Employees</th>\n",
       "      <th>Flow</th>\n",
       "      <th>Employees Age(Yrs)</th>\n",
       "    </tr>\n",
       "  </thead>\n",
       "  <tbody>\n",
       "    <tr>\n",
       "      <th>0</th>\n",
       "      <td>1052</td>\n",
       "      <td>NaN</td>\n",
       "      <td>K02000001</td>\n",
       "      <td>2015</td>\n",
       "      <td>£ Millions</td>\n",
       "      <td>GBP Total</td>\n",
       "      <td>0.0</td>\n",
       "      <td>Exports</td>\n",
       "      <td>0 to 1</td>\n",
       "    </tr>\n",
       "    <tr>\n",
       "      <th>1</th>\n",
       "      <td>2348</td>\n",
       "      <td>NaN</td>\n",
       "      <td>K02000001</td>\n",
       "      <td>2015</td>\n",
       "      <td>£ Millions</td>\n",
       "      <td>GBP Total</td>\n",
       "      <td>0.0</td>\n",
       "      <td>Imports</td>\n",
       "      <td>0 to 1</td>\n",
       "    </tr>\n",
       "    <tr>\n",
       "      <th>2</th>\n",
       "      <td>1909</td>\n",
       "      <td>NaN</td>\n",
       "      <td>K02000001</td>\n",
       "      <td>2015</td>\n",
       "      <td>£ Millions</td>\n",
       "      <td>GBP Total</td>\n",
       "      <td>0.0</td>\n",
       "      <td>Exports</td>\n",
       "      <td>2 to 3</td>\n",
       "    </tr>\n",
       "    <tr>\n",
       "      <th>3</th>\n",
       "      <td>3828</td>\n",
       "      <td>NaN</td>\n",
       "      <td>K02000001</td>\n",
       "      <td>2015</td>\n",
       "      <td>£ Millions</td>\n",
       "      <td>GBP Total</td>\n",
       "      <td>0.0</td>\n",
       "      <td>Imports</td>\n",
       "      <td>2 to 3</td>\n",
       "    </tr>\n",
       "    <tr>\n",
       "      <th>4</th>\n",
       "      <td></td>\n",
       "      <td>S</td>\n",
       "      <td>K02000001</td>\n",
       "      <td>2015</td>\n",
       "      <td>£ Millions</td>\n",
       "      <td>GBP Total</td>\n",
       "      <td>0.0</td>\n",
       "      <td>Exports</td>\n",
       "      <td>4 to 5</td>\n",
       "    </tr>\n",
       "  </tbody>\n",
       "</table>\n",
       "</div>"
      ],
      "text/plain": [
       "  Value DATAMARKER  Geography  Year        Unit Measure Type Total Employees  \\\n",
       "0  1052        NaN  K02000001  2015  £ Millions    GBP Total             0.0   \n",
       "1  2348        NaN  K02000001  2015  £ Millions    GBP Total             0.0   \n",
       "2  1909        NaN  K02000001  2015  £ Millions    GBP Total             0.0   \n",
       "3  3828        NaN  K02000001  2015  £ Millions    GBP Total             0.0   \n",
       "4                S  K02000001  2015  £ Millions    GBP Total             0.0   \n",
       "\n",
       "      Flow Employees Age(Yrs)  \n",
       "0  Exports             0 to 1  \n",
       "1  Imports             0 to 1  \n",
       "2  Exports             2 to 3  \n",
       "3  Imports             2 to 3  \n",
       "4  Exports             4 to 5  "
      ]
     },
     "execution_count": 19,
     "metadata": {},
     "output_type": "execute_result"
    }
   ],
   "source": [
    "new_table.head(5)"
   ]
  },
  {
   "cell_type": "code",
   "execution_count": 21,
   "metadata": {
    "collapsed": true
   },
   "outputs": [],
   "source": [
    "new_table['Total Employees'] = new_table['Total Employees'].str.strip()\n",
    "new_table['Year'] = new_table['Year'].str.strip()\n",
    "new_table['Flow'] = new_table['Flow'].str.strip()\n",
    "new_table['Unit'] = new_table['Unit'].str.strip()\n",
    "new_table['Measure Type'] = new_table['Measure Type'].str.strip()\n",
    "new_table['Geography'] = new_table['Geography'].str.strip()\n",
    "new_table['Employees Age(Yrs)'] = new_table['Employees Age(Yrs)'].str.strip()"
   ]
  },
  {
   "cell_type": "code",
   "execution_count": 22,
   "metadata": {
    "collapsed": true
   },
   "outputs": [],
   "source": [
    "new_table = new_table[['Geography','Year','Total Employees','Flow','Employees Age(Yrs)','Measure Type','Value','Unit']]"
   ]
  },
  {
   "cell_type": "code",
   "execution_count": 23,
   "metadata": {},
   "outputs": [
    {
     "name": "stderr",
     "output_type": "stream",
     "text": [
      "C:\\ProgramData\\Anaconda3\\lib\\site-packages\\ipykernel_launcher.py:1: SettingWithCopyWarning: \n",
      "A value is trying to be set on a copy of a slice from a DataFrame.\n",
      "Try using .loc[row_indexer,col_indexer] = value instead\n",
      "\n",
      "See the caveats in the documentation: http://pandas.pydata.org/pandas-docs/stable/indexing.html#indexing-view-versus-copy\n",
      "  \"\"\"Entry point for launching an IPython kernel.\n"
     ]
    }
   ],
   "source": [
    "new_table['Total Employees'] = new_table['Total Employees'].map(lambda cell:cell.replace('Grand Total9', 'Grand Total'))\n"
   ]
  },
  {
   "cell_type": "code",
   "execution_count": 24,
   "metadata": {
    "collapsed": true
   },
   "outputs": [],
   "source": [
    "new_table = new_table[new_table['Value'] != '']"
   ]
  },
  {
   "cell_type": "code",
   "execution_count": 25,
   "metadata": {
    "collapsed": true
   },
   "outputs": [],
   "source": [
    "new_table = new_table[new_table['Value'] != 'S']"
   ]
  },
  {
   "cell_type": "code",
   "execution_count": 26,
   "metadata": {
    "collapsed": true
   },
   "outputs": [],
   "source": [
    "def user_perc(x):\n",
    "    \n",
    "    if x.strip(' ') == '':\n",
    "        return 'NA'\n",
    "    else:\n",
    "        return x\n",
    "    \n",
    "new_table['Employees Age(Yrs)'] = new_table.apply(lambda row: user_perc(row['Employees Age(Yrs)']), axis = 1)"
   ]
  },
  {
   "cell_type": "code",
   "execution_count": 27,
   "metadata": {
    "scrolled": true
   },
   "outputs": [
    {
     "data": {
      "text/html": [
       "<div>\n",
       "<style scoped>\n",
       "    .dataframe tbody tr th:only-of-type {\n",
       "        vertical-align: middle;\n",
       "    }\n",
       "\n",
       "    .dataframe tbody tr th {\n",
       "        vertical-align: top;\n",
       "    }\n",
       "\n",
       "    .dataframe thead th {\n",
       "        text-align: right;\n",
       "    }\n",
       "</style>\n",
       "<table border=\"1\" class=\"dataframe\">\n",
       "  <thead>\n",
       "    <tr style=\"text-align: right;\">\n",
       "      <th></th>\n",
       "      <th>Geography</th>\n",
       "      <th>Year</th>\n",
       "      <th>Total Employees</th>\n",
       "      <th>Flow</th>\n",
       "      <th>Employees Age(Yrs)</th>\n",
       "      <th>Measure Type</th>\n",
       "      <th>Value</th>\n",
       "      <th>Unit</th>\n",
       "    </tr>\n",
       "  </thead>\n",
       "  <tbody>\n",
       "    <tr>\n",
       "      <th>0</th>\n",
       "      <td>K02000001</td>\n",
       "      <td>2015</td>\n",
       "      <td>0.0</td>\n",
       "      <td>Exports</td>\n",
       "      <td>0 to 1</td>\n",
       "      <td>GBP Total</td>\n",
       "      <td>1052</td>\n",
       "      <td>£ Millions</td>\n",
       "    </tr>\n",
       "    <tr>\n",
       "      <th>1</th>\n",
       "      <td>K02000001</td>\n",
       "      <td>2015</td>\n",
       "      <td>0.0</td>\n",
       "      <td>Imports</td>\n",
       "      <td>0 to 1</td>\n",
       "      <td>GBP Total</td>\n",
       "      <td>2348</td>\n",
       "      <td>£ Millions</td>\n",
       "    </tr>\n",
       "    <tr>\n",
       "      <th>2</th>\n",
       "      <td>K02000001</td>\n",
       "      <td>2015</td>\n",
       "      <td>0.0</td>\n",
       "      <td>Exports</td>\n",
       "      <td>2 to 3</td>\n",
       "      <td>GBP Total</td>\n",
       "      <td>1909</td>\n",
       "      <td>£ Millions</td>\n",
       "    </tr>\n",
       "    <tr>\n",
       "      <th>3</th>\n",
       "      <td>K02000001</td>\n",
       "      <td>2015</td>\n",
       "      <td>0.0</td>\n",
       "      <td>Imports</td>\n",
       "      <td>2 to 3</td>\n",
       "      <td>GBP Total</td>\n",
       "      <td>3828</td>\n",
       "      <td>£ Millions</td>\n",
       "    </tr>\n",
       "  </tbody>\n",
       "</table>\n",
       "</div>"
      ],
      "text/plain": [
       "   Geography  Year Total Employees     Flow Employees Age(Yrs) Measure Type  \\\n",
       "0  K02000001  2015             0.0  Exports             0 to 1    GBP Total   \n",
       "1  K02000001  2015             0.0  Imports             0 to 1    GBP Total   \n",
       "2  K02000001  2015             0.0  Exports             2 to 3    GBP Total   \n",
       "3  K02000001  2015             0.0  Imports             2 to 3    GBP Total   \n",
       "\n",
       "  Value        Unit  \n",
       "0  1052  £ Millions  \n",
       "1  2348  £ Millions  \n",
       "2  1909  £ Millions  \n",
       "3  3828  £ Millions  "
      ]
     },
     "execution_count": 27,
     "metadata": {},
     "output_type": "execute_result"
    }
   ],
   "source": [
    "new_table.head(4)"
   ]
  },
  {
   "cell_type": "code",
   "execution_count": 28,
   "metadata": {},
   "outputs": [
    {
     "data": {
      "text/html": [
       "<div>\n",
       "<style scoped>\n",
       "    .dataframe tbody tr th:only-of-type {\n",
       "        vertical-align: middle;\n",
       "    }\n",
       "\n",
       "    .dataframe tbody tr th {\n",
       "        vertical-align: top;\n",
       "    }\n",
       "\n",
       "    .dataframe thead th {\n",
       "        text-align: right;\n",
       "    }\n",
       "</style>\n",
       "<table border=\"1\" class=\"dataframe\">\n",
       "  <thead>\n",
       "    <tr style=\"text-align: right;\">\n",
       "      <th></th>\n",
       "      <th>Geography</th>\n",
       "      <th>Year</th>\n",
       "      <th>Total Employees</th>\n",
       "      <th>Flow</th>\n",
       "      <th>Employees Age(Yrs)</th>\n",
       "      <th>Measure Type</th>\n",
       "      <th>Value</th>\n",
       "      <th>Unit</th>\n",
       "    </tr>\n",
       "  </thead>\n",
       "  <tbody>\n",
       "    <tr>\n",
       "      <th>70</th>\n",
       "      <td>K02000001</td>\n",
       "      <td>2015</td>\n",
       "      <td>Unknown</td>\n",
       "      <td>Exports</td>\n",
       "      <td>Unknown</td>\n",
       "      <td>GBP Total</td>\n",
       "      <td>21915</td>\n",
       "      <td>£ Millions</td>\n",
       "    </tr>\n",
       "    <tr>\n",
       "      <th>71</th>\n",
       "      <td>K02000001</td>\n",
       "      <td>2015</td>\n",
       "      <td>Unknown</td>\n",
       "      <td>Imports</td>\n",
       "      <td>Unknown</td>\n",
       "      <td>GBP Total</td>\n",
       "      <td>12763</td>\n",
       "      <td>£ Millions</td>\n",
       "    </tr>\n",
       "    <tr>\n",
       "      <th>72</th>\n",
       "      <td>K02000001</td>\n",
       "      <td>2015</td>\n",
       "      <td>Grand Total</td>\n",
       "      <td>Exports</td>\n",
       "      <td>NA</td>\n",
       "      <td>GBP Total</td>\n",
       "      <td>304768</td>\n",
       "      <td>£ Millions</td>\n",
       "    </tr>\n",
       "    <tr>\n",
       "      <th>73</th>\n",
       "      <td>K02000001</td>\n",
       "      <td>2015</td>\n",
       "      <td>Grand Total</td>\n",
       "      <td>Imports</td>\n",
       "      <td>NA</td>\n",
       "      <td>GBP Total</td>\n",
       "      <td>411033</td>\n",
       "      <td>£ Millions</td>\n",
       "    </tr>\n",
       "  </tbody>\n",
       "</table>\n",
       "</div>"
      ],
      "text/plain": [
       "    Geography  Year Total Employees     Flow Employees Age(Yrs) Measure Type  \\\n",
       "70  K02000001  2015         Unknown  Exports            Unknown    GBP Total   \n",
       "71  K02000001  2015         Unknown  Imports            Unknown    GBP Total   \n",
       "72  K02000001  2015     Grand Total  Exports                 NA    GBP Total   \n",
       "73  K02000001  2015     Grand Total  Imports                 NA    GBP Total   \n",
       "\n",
       "     Value        Unit  \n",
       "70   21915  £ Millions  \n",
       "71   12763  £ Millions  \n",
       "72  304768  £ Millions  \n",
       "73  411033  £ Millions  "
      ]
     },
     "execution_count": 28,
     "metadata": {},
     "output_type": "execute_result"
    }
   ],
   "source": [
    "new_table.tail(4)"
   ]
  },
  {
   "cell_type": "code",
   "execution_count": 29,
   "metadata": {
    "collapsed": true
   },
   "outputs": [],
   "source": [
    "out = Path('out')\n",
    "out.mkdir(exist_ok=True)\n",
    "new_table.to_csv(out / 'employeecountagevalue.csv', index = False)"
   ]
  },
  {
   "cell_type": "code",
   "execution_count": null,
   "metadata": {
    "collapsed": true
   },
   "outputs": [],
   "source": []
  }
 ],
 "metadata": {
  "kernelspec": {
   "display_name": "Python 3",
   "language": "python",
   "name": "python3"
  },
  "language_info": {
   "codemirror_mode": {
    "name": "ipython",
    "version": 3
   },
   "file_extension": ".py",
   "mimetype": "text/x-python",
   "name": "python",
   "nbconvert_exporter": "python",
   "pygments_lexer": "ipython3",
   "version": "3.6.3"
  }
 },
 "nbformat": 4,
 "nbformat_minor": 2
}
